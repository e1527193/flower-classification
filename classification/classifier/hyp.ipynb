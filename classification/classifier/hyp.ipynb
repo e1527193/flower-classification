{
 "cells": [
  {
   "cell_type": "markdown",
   "id": "5eca6897-e43c-4358-9281-ab6b1ece871a",
   "metadata": {},
   "source": [
    "# Local Hyperparameter Optimization\n",
    "\n",
    "This notebook is similar to the `classifier_hyp` notebook, but it runs the hyperparameter optimization locally instead of on Google Colab. The definitive version is the Google Colab one because we run many more iterations and parameter combinations there due to GPU availability."
   ]
  },
  {
   "cell_type": "code",
   "execution_count": 1,
   "id": "747ddcf2",
   "metadata": {},
   "outputs": [
    {
     "name": "stderr",
     "output_type": "stream",
     "text": [
      "\u001b[34m\u001b[1mwandb\u001b[0m: Currently logged in as: \u001b[33me1527193\u001b[0m (\u001b[33mflower-classification\u001b[0m). Use \u001b[1m`wandb login --relogin`\u001b[0m to force relogin\n"
     ]
    },
    {
     "data": {
      "text/plain": [
       "True"
      ]
     },
     "execution_count": 1,
     "metadata": {},
     "output_type": "execute_result"
    }
   ],
   "source": [
    "import wandb\n",
    "\n",
    "wandb.login()"
   ]
  },
  {
   "cell_type": "code",
   "execution_count": 2,
   "id": "c37343d6",
   "metadata": {},
   "outputs": [],
   "source": [
    "import torch\n",
    "import torch.optim as optim\n",
    "import torch.nn.functional as F\n",
    "import torch.nn as nn\n",
    "from torchvision import datasets, transforms\n",
    "from torchvision.models import resnet50, ResNet50_Weights\n",
    "from torch.utils.data import Dataset, DataLoader, random_split, SubsetRandomSampler\n",
    "import numpy as np\n",
    "import os\n",
    "import time\n",
    "import copy\n",
    "import random\n",
    "from sklearn import metrics\n",
    "\n",
    "torch.manual_seed(42)\n",
    "np.random.seed(42)\n",
    "\n",
    "device = torch.device(\"cuda\" if torch.cuda.is_available() else \"cpu\")"
   ]
  },
  {
   "cell_type": "code",
   "execution_count": 3,
   "id": "17b25dc7",
   "metadata": {},
   "outputs": [],
   "source": [
    "def build_dataset(batch_size):    \n",
    "    data_transforms = {\n",
    "        'train': transforms.Compose([\n",
    "            transforms.RandomResizedCrop(224),\n",
    "            transforms.RandomHorizontalFlip(),\n",
    "            transforms.ToTensor(),\n",
    "            transforms.Normalize([0.485, 0.456, 0.406], [0.229, 0.224, 0.225])\n",
    "        ]),\n",
    "        'test': transforms.Compose([\n",
    "            transforms.Resize(256),\n",
    "            transforms.CenterCrop(224),\n",
    "            transforms.ToTensor(),\n",
    "            transforms.Normalize([0.485, 0.456, 0.406], [0.229, 0.224, 0.225])\n",
    "        ]),\n",
    "    }\n",
    "\n",
    "    data_dir = 'plantsdata'\n",
    "    dataset = datasets.ImageFolder(os.path.join(data_dir))\n",
    "\n",
    "    # 90/10 split\n",
    "    train_dataset, test_dataset = random_split(dataset, [0.9, 0.1])\n",
    "\n",
    "    train_dataset.dataset.transform = data_transforms['train']\n",
    "    test_dataset.dataset.transform = data_transforms['test']\n",
    "\n",
    "    train_loader = torch.utils.data.DataLoader(train_dataset, batch_size=batch_size,\n",
    "                                               shuffle=True, num_workers=4)\n",
    "    test_loader = torch.utils.data.DataLoader(test_dataset, batch_size=batch_size,\n",
    "                                             shuffle=True, num_workers=4)\n",
    "\n",
    "    dataloaders = {'train': train_loader, 'test': test_loader}\n",
    "    dataset_size = len(dataset)\n",
    "    dataset_sizes = {'train': len(train_dataset), 'test': len(test_dataset)}\n",
    "    class_names = dataset.classes\n",
    "\n",
    "    return (dataloaders, dataset_sizes)\n",
    "\n",
    "def build_network():\n",
    "    network = resnet50(weights=ResNet50_Weights.DEFAULT)\n",
    "    num_ftrs = network.fc.in_features\n",
    "\n",
    "    # Add linear layer with number of classes\n",
    "    network.fc = nn.Linear(num_ftrs, 2)\n",
    "\n",
    "    return network.to(device)\n",
    "\n",
    "def build_optimizer(network, optimizer, learning_rate, beta_one, beta_two, eps):\n",
    "    if optimizer == \"sgd\":\n",
    "        optimizer = optim.SGD(network.parameters(),\n",
    "                              lr=learning_rate, momentum=0.9)\n",
    "    elif optimizer == \"adam\":\n",
    "        optimizer = optim.Adam(network.parameters(),\n",
    "                               lr=learning_rate,\n",
    "                               betas=(beta_one, beta_two),\n",
    "                               eps=eps)\n",
    "    return optimizer\n",
    "\n",
    "def train_epoch(network, loader, optimizer, criterion, scheduler, dataset_sizes):\n",
    "    network.train()\n",
    "    running_loss = 0.0\n",
    "    running_corrects = 0\n",
    "    for _, (data, target) in enumerate(loader):\n",
    "        data, target = data.to(device), target.to(device)\n",
    "        optimizer.zero_grad()\n",
    "\n",
    "        # ➡ Forward pass\n",
    "        #loss = F.nll_loss(network(data), target)\n",
    "        with torch.set_grad_enabled(True):\n",
    "            outputs = network(data)\n",
    "            _, preds = torch.max(outputs, 1)\n",
    "            loss = criterion(outputs, target)\n",
    "        \n",
    "        #cumu_loss += loss.item()\n",
    "        \n",
    "        running_loss += loss.item() * data.size(0)\n",
    "        running_corrects += torch.sum(preds == target.data)\n",
    "\n",
    "        # ⬅ Backward pass + weight update\n",
    "        loss.backward()\n",
    "        optimizer.step()\n",
    "\n",
    "        wandb.log({'train/batch_loss': loss.item()})\n",
    "\n",
    "    scheduler.step()\n",
    "\n",
    "    epoch_loss = running_loss / dataset_sizes['train']\n",
    "    epoch_acc = running_corrects.double() / dataset_sizes['train']\n",
    "    \n",
    "    return (epoch_loss, epoch_acc)\n",
    "\n",
    "def test(network, loader, optimizer, criterion, dataset_sizes):\n",
    "    network.eval()\n",
    "    confusion = torch.empty([0, 1])\n",
    "    confusion = confusion.to(device)\n",
    "    running_loss = 0.0\n",
    "    test_corrects = 0\n",
    "    for _, (data, target) in enumerate(loader):\n",
    "        data, target = data.to(device), target.to(device)\n",
    "        optimizer.zero_grad()\n",
    "\n",
    "        # ➡ Forward pass\n",
    "        with torch.set_grad_enabled(False):\n",
    "            outputs = network(data)\n",
    "            _, preds = torch.max(outputs, 1)\n",
    "            loss = criterion(outputs, target)\n",
    "\n",
    "        running_loss += loss.item() * data.size(0)\n",
    "        test_corrects += torch.sum(preds == target.data)\n",
    "        \n",
    "        confusion = torch.cat((confusion, preds[:, None] / target.data[:, None]))\n",
    "\n",
    "    tp = torch.sum(confusion == 1).item()\n",
    "    fp = torch.sum(confusion == float('inf')).item()\n",
    "    tn = torch.sum(torch.isnan(confusion)).item()\n",
    "    fn = torch.sum(confusion == 0).item()\n",
    "    \n",
    "    precision = tp / (tp + fp)\n",
    "    recall = tp / (tp + fn)\n",
    "    f = 2 * ((precision * recall) / (precision + recall))\n",
    "    \n",
    "    epoch_loss = running_loss / dataset_sizes['test']\n",
    "    epoch_acc = test_corrects.double() / dataset_sizes['test']\n",
    "    \n",
    "    return (epoch_loss, epoch_acc, precision, recall, f)"
   ]
  },
  {
   "cell_type": "code",
   "execution_count": 4,
   "id": "5eff68bf",
   "metadata": {},
   "outputs": [],
   "source": [
    "def train(config=None):\n",
    "    # Initialize a new wandb run\n",
    "    with wandb.init(config=config):\n",
    "        # If called by wandb.agent, as below,\n",
    "        # this config will be set by Sweep Controller\n",
    "        config = wandb.config\n",
    "\n",
    "        (dataloaders, dataset_sizes) = build_dataset(config.batch_size)\n",
    "        network = build_network()\n",
    "        optimizer = build_optimizer(network, config.optimizer, config.learning_rate, config.beta_one,\n",
    "                                    config.beta_two, config.eps)\n",
    "        criterion = nn.CrossEntropyLoss()\n",
    "        # Decay LR by a factor of 0.1 every 7 epochs\n",
    "        exp_lr_scheduler = optim.lr_scheduler.StepLR(optimizer, config.step_size, config.gamma)\n",
    "\n",
    "        for epoch in range(config.epochs):            \n",
    "            (epoch_loss, epoch_acc) = train_epoch(network, dataloaders['train'], optimizer,\n",
    "                                                  criterion, exp_lr_scheduler,\n",
    "                                                  dataset_sizes)\n",
    "            wandb.log({\"epoch\": epoch, 'train/epoch_loss': epoch_loss, 'train/epoch_acc': epoch_acc})\n",
    "            \n",
    "            (test_loss, test_acc, test_precision, test_recall, test_f) = test(network, dataloaders['test'],\n",
    "                                                                              optimizer, criterion,\n",
    "                                                                              dataset_sizes)\n",
    "            wandb.log({'test/epoch_loss': test_loss, 'test/epoch_acc': test_acc,\n",
    "                       'test/precision': test_precision, 'test/recall': test_recall,\n",
    "                       'test/f1-score': test_f})"
   ]
  },
  {
   "cell_type": "code",
   "execution_count": 5,
   "id": "732a83df",
   "metadata": {},
   "outputs": [],
   "source": [
    "sweep_config = {\n",
    "    'method': 'random'\n",
    "}\n",
    "\n",
    "metric = {\n",
    "    'name': 'test/epoch_acc',\n",
    "    'goal': 'maximize'   \n",
    "}\n",
    "\n",
    "sweep_config['metric'] = metric\n",
    "\n",
    "parameters_dict = {\n",
    "    'optimizer': {\n",
    "        'values': ['adam', 'sgd']\n",
    "    },\n",
    "}\n",
    "\n",
    "sweep_config['parameters'] = parameters_dict\n",
    "\n",
    "parameters_dict.update({\n",
    "    'epochs': {\n",
    "        'value': 10},\n",
    "    'batch_size': {\n",
    "        'values': [4, 8]},\n",
    "    'learning_rate': {\n",
    "        'values': [0.1, 0.01, 0.003, 0.001, 0.0003, 0.0001]},\n",
    "    'step_size': {\n",
    "        'values': [2, 3, 5, 7]},\n",
    "    'gamma': {\n",
    "        'values': [0.1, 0.5]},\n",
    "    'beta_one': {\n",
    "        'values': [0.9, 0.99]},\n",
    "    'beta_two': {\n",
    "        'values': [0.5, 0.9, 0.99, 0.999]},\n",
    "    'eps': {\n",
    "        'values': [1e-08, 0.1, 1]}\n",
    "})"
   ]
  },
  {
   "cell_type": "code",
   "execution_count": 6,
   "id": "9a01fef6",
   "metadata": {},
   "outputs": [
    {
     "name": "stdout",
     "output_type": "stream",
     "text": [
      "Create sweep with ID: eqwnoagh\n",
      "Sweep URL: https://wandb.ai/flower-classification/pytorch-sweeps-demo/sweeps/eqwnoagh\n"
     ]
    }
   ],
   "source": [
    "sweep_id = wandb.sweep(sweep_config, project=\"pytorch-sweeps-demo\")"
   ]
  },
  {
   "cell_type": "code",
   "execution_count": 7,
   "id": "e80d1730",
   "metadata": {
    "scrolled": true
   },
   "outputs": [
    {
     "name": "stderr",
     "output_type": "stream",
     "text": [
      "\u001b[34m\u001b[1mwandb\u001b[0m: Agent Starting Run: znahtehx with config:\n",
      "\u001b[34m\u001b[1mwandb\u001b[0m: \tbatch_size: 4\n",
      "\u001b[34m\u001b[1mwandb\u001b[0m: \tbeta_one: 0.9\n",
      "\u001b[34m\u001b[1mwandb\u001b[0m: \tbeta_two: 0.5\n",
      "\u001b[34m\u001b[1mwandb\u001b[0m: \tepochs: 10\n",
      "\u001b[34m\u001b[1mwandb\u001b[0m: \teps: 1\n",
      "\u001b[34m\u001b[1mwandb\u001b[0m: \tgamma: 0.1\n",
      "\u001b[34m\u001b[1mwandb\u001b[0m: \tlearning_rate: 0.001\n",
      "\u001b[34m\u001b[1mwandb\u001b[0m: \toptimizer: adam\n",
      "\u001b[34m\u001b[1mwandb\u001b[0m: \tstep_size: 2\n"
     ]
    },
    {
     "data": {
      "text/html": [
       "Tracking run with wandb version 0.13.11"
      ],
      "text/plain": [
       "<IPython.core.display.HTML object>"
      ]
     },
     "metadata": {},
     "output_type": "display_data"
    },
    {
     "data": {
      "text/html": [
       "Run data is saved locally in <code>/home/zenon/Documents/master-thesis/classification/classifier/wandb/run-20230313_210021-znahtehx</code>"
      ],
      "text/plain": [
       "<IPython.core.display.HTML object>"
      ]
     },
     "metadata": {},
     "output_type": "display_data"
    },
    {
     "data": {
      "text/html": [
       "Syncing run <strong><a href='https://wandb.ai/flower-classification/pytorch-sweeps-demo/runs/znahtehx' target=\"_blank\">sparkling-sweep-1</a></strong> to <a href='https://wandb.ai/flower-classification/pytorch-sweeps-demo' target=\"_blank\">Weights & Biases</a> (<a href='https://wandb.me/run' target=\"_blank\">docs</a>)<br/>Sweep page: <a href='https://wandb.ai/flower-classification/pytorch-sweeps-demo/sweeps/eqwnoagh' target=\"_blank\">https://wandb.ai/flower-classification/pytorch-sweeps-demo/sweeps/eqwnoagh</a>"
      ],
      "text/plain": [
       "<IPython.core.display.HTML object>"
      ]
     },
     "metadata": {},
     "output_type": "display_data"
    },
    {
     "data": {
      "text/html": [
       " View project at <a href='https://wandb.ai/flower-classification/pytorch-sweeps-demo' target=\"_blank\">https://wandb.ai/flower-classification/pytorch-sweeps-demo</a>"
      ],
      "text/plain": [
       "<IPython.core.display.HTML object>"
      ]
     },
     "metadata": {},
     "output_type": "display_data"
    },
    {
     "data": {
      "text/html": [
       " View sweep at <a href='https://wandb.ai/flower-classification/pytorch-sweeps-demo/sweeps/eqwnoagh' target=\"_blank\">https://wandb.ai/flower-classification/pytorch-sweeps-demo/sweeps/eqwnoagh</a>"
      ],
      "text/plain": [
       "<IPython.core.display.HTML object>"
      ]
     },
     "metadata": {},
     "output_type": "display_data"
    },
    {
     "data": {
      "text/html": [
       " View run at <a href='https://wandb.ai/flower-classification/pytorch-sweeps-demo/runs/znahtehx' target=\"_blank\">https://wandb.ai/flower-classification/pytorch-sweeps-demo/runs/znahtehx</a>"
      ],
      "text/plain": [
       "<IPython.core.display.HTML object>"
      ]
     },
     "metadata": {},
     "output_type": "display_data"
    },
    {
     "data": {
      "text/html": [
       "Waiting for W&B process to finish... <strong style=\"color:green\">(success).</strong>"
      ],
      "text/plain": [
       "<IPython.core.display.HTML object>"
      ]
     },
     "metadata": {},
     "output_type": "display_data"
    },
    {
     "data": {
      "application/vnd.jupyter.widget-view+json": {
       "model_id": "bb4b99390e384bd5912f1133277e4a65",
       "version_major": 2,
       "version_minor": 0
      },
      "text/plain": [
       "VBox(children=(Label(value='0.003 MB of 0.027 MB uploaded (0.000 MB deduped)\\r'), FloatProgress(value=0.127552…"
      ]
     },
     "metadata": {},
     "output_type": "display_data"
    },
    {
     "data": {
      "text/html": [
       "<style>\n",
       "    table.wandb td:nth-child(1) { padding: 0 10px; text-align: left ; width: auto;} td:nth-child(2) {text-align: left ; width: 100%}\n",
       "    .wandb-row { display: flex; flex-direction: row; flex-wrap: wrap; justify-content: flex-start; width: 100% }\n",
       "    .wandb-col { display: flex; flex-direction: column; flex-basis: 100%; flex: 1; padding: 10px; }\n",
       "    </style>\n",
       "<div class=\"wandb-row\"><div class=\"wandb-col\"><h3>Run history:</h3><br/><table class=\"wandb\"><tr><td>epoch</td><td>▁▂▃▃▄▅▆▆▇█</td></tr><tr><td>test/epoch_acc</td><td>▁▂▅▆▅▇▄▇▃█</td></tr><tr><td>test/epoch_loss</td><td>█▃▂▂▃▂▂▁▂▂</td></tr><tr><td>test/f1-score</td><td>▁▃▅▆▄▆▄▇▃█</td></tr><tr><td>test/precision</td><td>▁▁▃▅▆▇▄█▃▇</td></tr><tr><td>test/recall</td><td>▁▆▇▆▁▄▃▄▃█</td></tr><tr><td>train/batch_loss</td><td>█▇▆▆▆▆▅▄▄▃▅▅█▆▃█▆▇▂▆▅▅▁▃▆▄▃██▅▆▄▆▅▄▂▂▇▇▆</td></tr><tr><td>train/epoch_acc</td><td>▁▆▇▇▇███▇█</td></tr><tr><td>train/epoch_loss</td><td>█▄▂▂▂▁▁▁▂▁</td></tr></table><br/></div><div class=\"wandb-col\"><h3>Run summary:</h3><br/><table class=\"wandb\"><tr><td>epoch</td><td>9</td></tr><tr><td>test/epoch_acc</td><td>0.85556</td></tr><tr><td>test/epoch_loss</td><td>0.6166</td></tr><tr><td>test/f1-score</td><td>0.86022</td></tr><tr><td>test/precision</td><td>0.81633</td></tr><tr><td>test/recall</td><td>0.90909</td></tr><tr><td>train/batch_loss</td><td>0.66533</td></tr><tr><td>train/epoch_acc</td><td>0.75676</td></tr><tr><td>train/epoch_loss</td><td>0.61072</td></tr></table><br/></div></div>"
      ],
      "text/plain": [
       "<IPython.core.display.HTML object>"
      ]
     },
     "metadata": {},
     "output_type": "display_data"
    },
    {
     "data": {
      "text/html": [
       " View run <strong style=\"color:#cdcd00\">sparkling-sweep-1</strong> at: <a href='https://wandb.ai/flower-classification/pytorch-sweeps-demo/runs/znahtehx' target=\"_blank\">https://wandb.ai/flower-classification/pytorch-sweeps-demo/runs/znahtehx</a><br/>Synced 5 W&B file(s), 0 media file(s), 0 artifact file(s) and 0 other file(s)"
      ],
      "text/plain": [
       "<IPython.core.display.HTML object>"
      ]
     },
     "metadata": {},
     "output_type": "display_data"
    },
    {
     "data": {
      "text/html": [
       "Find logs at: <code>./wandb/run-20230313_210021-znahtehx/logs</code>"
      ],
      "text/plain": [
       "<IPython.core.display.HTML object>"
      ]
     },
     "metadata": {},
     "output_type": "display_data"
    },
    {
     "name": "stderr",
     "output_type": "stream",
     "text": [
      "\u001b[34m\u001b[1mwandb\u001b[0m: Agent Starting Run: qutqx8ux with config:\n",
      "\u001b[34m\u001b[1mwandb\u001b[0m: \tbatch_size: 4\n",
      "\u001b[34m\u001b[1mwandb\u001b[0m: \tbeta_one: 0.9\n",
      "\u001b[34m\u001b[1mwandb\u001b[0m: \tbeta_two: 0.9\n",
      "\u001b[34m\u001b[1mwandb\u001b[0m: \tepochs: 10\n",
      "\u001b[34m\u001b[1mwandb\u001b[0m: \teps: 1e-08\n",
      "\u001b[34m\u001b[1mwandb\u001b[0m: \tgamma: 0.1\n",
      "\u001b[34m\u001b[1mwandb\u001b[0m: \tlearning_rate: 0.1\n",
      "\u001b[34m\u001b[1mwandb\u001b[0m: \toptimizer: sgd\n",
      "\u001b[34m\u001b[1mwandb\u001b[0m: \tstep_size: 2\n"
     ]
    },
    {
     "data": {
      "text/html": [
       "Tracking run with wandb version 0.13.11"
      ],
      "text/plain": [
       "<IPython.core.display.HTML object>"
      ]
     },
     "metadata": {},
     "output_type": "display_data"
    },
    {
     "data": {
      "text/html": [
       "Run data is saved locally in <code>/home/zenon/Documents/master-thesis/classification/classifier/wandb/run-20230313_210951-qutqx8ux</code>"
      ],
      "text/plain": [
       "<IPython.core.display.HTML object>"
      ]
     },
     "metadata": {},
     "output_type": "display_data"
    },
    {
     "data": {
      "text/html": [
       "Syncing run <strong><a href='https://wandb.ai/flower-classification/pytorch-sweeps-demo/runs/qutqx8ux' target=\"_blank\">stoic-sweep-2</a></strong> to <a href='https://wandb.ai/flower-classification/pytorch-sweeps-demo' target=\"_blank\">Weights & Biases</a> (<a href='https://wandb.me/run' target=\"_blank\">docs</a>)<br/>Sweep page: <a href='https://wandb.ai/flower-classification/pytorch-sweeps-demo/sweeps/eqwnoagh' target=\"_blank\">https://wandb.ai/flower-classification/pytorch-sweeps-demo/sweeps/eqwnoagh</a>"
      ],
      "text/plain": [
       "<IPython.core.display.HTML object>"
      ]
     },
     "metadata": {},
     "output_type": "display_data"
    },
    {
     "data": {
      "text/html": [
       " View project at <a href='https://wandb.ai/flower-classification/pytorch-sweeps-demo' target=\"_blank\">https://wandb.ai/flower-classification/pytorch-sweeps-demo</a>"
      ],
      "text/plain": [
       "<IPython.core.display.HTML object>"
      ]
     },
     "metadata": {},
     "output_type": "display_data"
    },
    {
     "data": {
      "text/html": [
       " View sweep at <a href='https://wandb.ai/flower-classification/pytorch-sweeps-demo/sweeps/eqwnoagh' target=\"_blank\">https://wandb.ai/flower-classification/pytorch-sweeps-demo/sweeps/eqwnoagh</a>"
      ],
      "text/plain": [
       "<IPython.core.display.HTML object>"
      ]
     },
     "metadata": {},
     "output_type": "display_data"
    },
    {
     "data": {
      "text/html": [
       " View run at <a href='https://wandb.ai/flower-classification/pytorch-sweeps-demo/runs/qutqx8ux' target=\"_blank\">https://wandb.ai/flower-classification/pytorch-sweeps-demo/runs/qutqx8ux</a>"
      ],
      "text/plain": [
       "<IPython.core.display.HTML object>"
      ]
     },
     "metadata": {},
     "output_type": "display_data"
    },
    {
     "data": {
      "text/html": [
       "Waiting for W&B process to finish... <strong style=\"color:green\">(success).</strong>"
      ],
      "text/plain": [
       "<IPython.core.display.HTML object>"
      ]
     },
     "metadata": {},
     "output_type": "display_data"
    },
    {
     "data": {
      "application/vnd.jupyter.widget-view+json": {
       "model_id": "acea58027ff945afa7cd0132f556317c",
       "version_major": 2,
       "version_minor": 0
      },
      "text/plain": [
       "VBox(children=(Label(value='0.004 MB of 0.027 MB uploaded (0.000 MB deduped)\\r'), FloatProgress(value=0.129798…"
      ]
     },
     "metadata": {},
     "output_type": "display_data"
    },
    {
     "data": {
      "text/html": [
       "<style>\n",
       "    table.wandb td:nth-child(1) { padding: 0 10px; text-align: left ; width: auto;} td:nth-child(2) {text-align: left ; width: 100%}\n",
       "    .wandb-row { display: flex; flex-direction: row; flex-wrap: wrap; justify-content: flex-start; width: 100% }\n",
       "    .wandb-col { display: flex; flex-direction: column; flex-basis: 100%; flex: 1; padding: 10px; }\n",
       "    </style>\n",
       "<div class=\"wandb-row\"><div class=\"wandb-col\"><h3>Run history:</h3><br/><table class=\"wandb\"><tr><td>epoch</td><td>▁▂▃▃▄▅▆▆▇█</td></tr><tr><td>test/epoch_acc</td><td>▁▂▁▆▆█▇▆▃▅</td></tr><tr><td>test/epoch_loss</td><td>█▅▃▁▁▁▁▂▂▂</td></tr><tr><td>test/f1-score</td><td>▄▁▆█▇███▆▇</td></tr><tr><td>test/precision</td><td>▁▃▁▅▆█▆▅▃▄</td></tr><tr><td>test/recall</td><td>▅▁██▆▆██▆█</td></tr><tr><td>train/batch_loss</td><td>▄▁▃█▃▇▅▁▄▄▅▃▃▂▂▅▅▂▂▅▃▃▅▄▂▃▃▂▄▃▃▆▅▂▂▄▅▁▂▂</td></tr><tr><td>train/epoch_acc</td><td>▁▃▄▇▆▇█▇▇█</td></tr><tr><td>train/epoch_loss</td><td>█▄▃▂▂▁▁▁▁▁</td></tr></table><br/></div><div class=\"wandb-col\"><h3>Run summary:</h3><br/><table class=\"wandb\"><tr><td>epoch</td><td>9</td></tr><tr><td>test/epoch_acc</td><td>0.7</td></tr><tr><td>test/epoch_loss</td><td>0.55412</td></tr><tr><td>test/f1-score</td><td>0.71579</td></tr><tr><td>test/precision</td><td>0.59649</td></tr><tr><td>test/recall</td><td>0.89474</td></tr><tr><td>train/batch_loss</td><td>0.78966</td></tr><tr><td>train/epoch_acc</td><td>0.66585</td></tr><tr><td>train/epoch_loss</td><td>0.61866</td></tr></table><br/></div></div>"
      ],
      "text/plain": [
       "<IPython.core.display.HTML object>"
      ]
     },
     "metadata": {},
     "output_type": "display_data"
    },
    {
     "data": {
      "text/html": [
       " View run <strong style=\"color:#cdcd00\">stoic-sweep-2</strong> at: <a href='https://wandb.ai/flower-classification/pytorch-sweeps-demo/runs/qutqx8ux' target=\"_blank\">https://wandb.ai/flower-classification/pytorch-sweeps-demo/runs/qutqx8ux</a><br/>Synced 5 W&B file(s), 0 media file(s), 0 artifact file(s) and 0 other file(s)"
      ],
      "text/plain": [
       "<IPython.core.display.HTML object>"
      ]
     },
     "metadata": {},
     "output_type": "display_data"
    },
    {
     "data": {
      "text/html": [
       "Find logs at: <code>./wandb/run-20230313_210951-qutqx8ux/logs</code>"
      ],
      "text/plain": [
       "<IPython.core.display.HTML object>"
      ]
     },
     "metadata": {},
     "output_type": "display_data"
    },
    {
     "name": "stderr",
     "output_type": "stream",
     "text": [
      "\u001b[34m\u001b[1mwandb\u001b[0m: Agent Starting Run: 9j8etw77 with config:\n",
      "\u001b[34m\u001b[1mwandb\u001b[0m: \tbatch_size: 8\n",
      "\u001b[34m\u001b[1mwandb\u001b[0m: \tbeta_one: 0.99\n",
      "\u001b[34m\u001b[1mwandb\u001b[0m: \tbeta_two: 0.5\n",
      "\u001b[34m\u001b[1mwandb\u001b[0m: \tepochs: 10\n",
      "\u001b[34m\u001b[1mwandb\u001b[0m: \teps: 0.1\n",
      "\u001b[34m\u001b[1mwandb\u001b[0m: \tgamma: 0.1\n",
      "\u001b[34m\u001b[1mwandb\u001b[0m: \tlearning_rate: 0.0001\n",
      "\u001b[34m\u001b[1mwandb\u001b[0m: \toptimizer: adam\n",
      "\u001b[34m\u001b[1mwandb\u001b[0m: \tstep_size: 2\n"
     ]
    },
    {
     "data": {
      "text/html": [
       "Tracking run with wandb version 0.13.11"
      ],
      "text/plain": [
       "<IPython.core.display.HTML object>"
      ]
     },
     "metadata": {},
     "output_type": "display_data"
    },
    {
     "data": {
      "text/html": [
       "Run data is saved locally in <code>/home/zenon/Documents/master-thesis/classification/classifier/wandb/run-20230313_211850-9j8etw77</code>"
      ],
      "text/plain": [
       "<IPython.core.display.HTML object>"
      ]
     },
     "metadata": {},
     "output_type": "display_data"
    },
    {
     "data": {
      "text/html": [
       "Syncing run <strong><a href='https://wandb.ai/flower-classification/pytorch-sweeps-demo/runs/9j8etw77' target=\"_blank\">hopeful-sweep-3</a></strong> to <a href='https://wandb.ai/flower-classification/pytorch-sweeps-demo' target=\"_blank\">Weights & Biases</a> (<a href='https://wandb.me/run' target=\"_blank\">docs</a>)<br/>Sweep page: <a href='https://wandb.ai/flower-classification/pytorch-sweeps-demo/sweeps/eqwnoagh' target=\"_blank\">https://wandb.ai/flower-classification/pytorch-sweeps-demo/sweeps/eqwnoagh</a>"
      ],
      "text/plain": [
       "<IPython.core.display.HTML object>"
      ]
     },
     "metadata": {},
     "output_type": "display_data"
    },
    {
     "data": {
      "text/html": [
       " View project at <a href='https://wandb.ai/flower-classification/pytorch-sweeps-demo' target=\"_blank\">https://wandb.ai/flower-classification/pytorch-sweeps-demo</a>"
      ],
      "text/plain": [
       "<IPython.core.display.HTML object>"
      ]
     },
     "metadata": {},
     "output_type": "display_data"
    },
    {
     "data": {
      "text/html": [
       " View sweep at <a href='https://wandb.ai/flower-classification/pytorch-sweeps-demo/sweeps/eqwnoagh' target=\"_blank\">https://wandb.ai/flower-classification/pytorch-sweeps-demo/sweeps/eqwnoagh</a>"
      ],
      "text/plain": [
       "<IPython.core.display.HTML object>"
      ]
     },
     "metadata": {},
     "output_type": "display_data"
    },
    {
     "data": {
      "text/html": [
       " View run at <a href='https://wandb.ai/flower-classification/pytorch-sweeps-demo/runs/9j8etw77' target=\"_blank\">https://wandb.ai/flower-classification/pytorch-sweeps-demo/runs/9j8etw77</a>"
      ],
      "text/plain": [
       "<IPython.core.display.HTML object>"
      ]
     },
     "metadata": {},
     "output_type": "display_data"
    },
    {
     "data": {
      "text/html": [
       "Waiting for W&B process to finish... <strong style=\"color:green\">(success).</strong>"
      ],
      "text/plain": [
       "<IPython.core.display.HTML object>"
      ]
     },
     "metadata": {},
     "output_type": "display_data"
    },
    {
     "data": {
      "application/vnd.jupyter.widget-view+json": {
       "model_id": "221cf6c293624e52a4c9c607f0f81dec",
       "version_major": 2,
       "version_minor": 0
      },
      "text/plain": [
       "VBox(children=(Label(value='0.003 MB of 0.027 MB uploaded (0.000 MB deduped)\\r'), FloatProgress(value=0.127348…"
      ]
     },
     "metadata": {},
     "output_type": "display_data"
    },
    {
     "data": {
      "text/html": [
       "<style>\n",
       "    table.wandb td:nth-child(1) { padding: 0 10px; text-align: left ; width: auto;} td:nth-child(2) {text-align: left ; width: 100%}\n",
       "    .wandb-row { display: flex; flex-direction: row; flex-wrap: wrap; justify-content: flex-start; width: 100% }\n",
       "    .wandb-col { display: flex; flex-direction: column; flex-basis: 100%; flex: 1; padding: 10px; }\n",
       "    </style>\n",
       "<div class=\"wandb-row\"><div class=\"wandb-col\"><h3>Run history:</h3><br/><table class=\"wandb\"><tr><td>epoch</td><td>▁▂▃▃▄▅▆▆▇█</td></tr><tr><td>test/epoch_acc</td><td>▁█▇▇▇▆▆▆▆▆</td></tr><tr><td>test/epoch_loss</td><td>█▂▃▁▂▂▂▁▁▁</td></tr><tr><td>test/f1-score</td><td>▁█▆▇▇▅▆▅▅▅</td></tr><tr><td>test/precision</td><td>▁█▇█▇▆▆▇▇▇</td></tr><tr><td>test/recall</td><td>▄█▄▁█▁▄▁▁▁</td></tr><tr><td>train/batch_loss</td><td>▄▆██▄▃▃▅▂▃▄▅▃▄▂▃▁▁▁▄▂▃▄▁▄▂▂▁▁▃▃▄▂▂▂▅▂▃▃▄</td></tr><tr><td>train/epoch_acc</td><td>▁▅█▇▇███▇▇</td></tr><tr><td>train/epoch_loss</td><td>█▄▂▂▁▁▁▁▂▂</td></tr></table><br/></div><div class=\"wandb-col\"><h3>Run summary:</h3><br/><table class=\"wandb\"><tr><td>epoch</td><td>9</td></tr><tr><td>test/epoch_acc</td><td>0.75556</td></tr><tr><td>test/epoch_loss</td><td>0.6144</td></tr><tr><td>test/f1-score</td><td>0.76087</td></tr><tr><td>test/precision</td><td>0.67308</td></tr><tr><td>test/recall</td><td>0.875</td></tr><tr><td>train/batch_loss</td><td>0.65108</td></tr><tr><td>train/epoch_acc</td><td>0.7543</td></tr><tr><td>train/epoch_loss</td><td>0.62678</td></tr></table><br/></div></div>"
      ],
      "text/plain": [
       "<IPython.core.display.HTML object>"
      ]
     },
     "metadata": {},
     "output_type": "display_data"
    },
    {
     "data": {
      "text/html": [
       " View run <strong style=\"color:#cdcd00\">hopeful-sweep-3</strong> at: <a href='https://wandb.ai/flower-classification/pytorch-sweeps-demo/runs/9j8etw77' target=\"_blank\">https://wandb.ai/flower-classification/pytorch-sweeps-demo/runs/9j8etw77</a><br/>Synced 5 W&B file(s), 0 media file(s), 0 artifact file(s) and 0 other file(s)"
      ],
      "text/plain": [
       "<IPython.core.display.HTML object>"
      ]
     },
     "metadata": {},
     "output_type": "display_data"
    },
    {
     "data": {
      "text/html": [
       "Find logs at: <code>./wandb/run-20230313_211850-9j8etw77/logs</code>"
      ],
      "text/plain": [
       "<IPython.core.display.HTML object>"
      ]
     },
     "metadata": {},
     "output_type": "display_data"
    },
    {
     "name": "stderr",
     "output_type": "stream",
     "text": [
      "\u001b[34m\u001b[1mwandb\u001b[0m: Agent Starting Run: k23a02gb with config:\n",
      "\u001b[34m\u001b[1mwandb\u001b[0m: \tbatch_size: 8\n",
      "\u001b[34m\u001b[1mwandb\u001b[0m: \tbeta_one: 0.9\n",
      "\u001b[34m\u001b[1mwandb\u001b[0m: \tbeta_two: 0.99\n",
      "\u001b[34m\u001b[1mwandb\u001b[0m: \tepochs: 10\n",
      "\u001b[34m\u001b[1mwandb\u001b[0m: \teps: 1e-08\n",
      "\u001b[34m\u001b[1mwandb\u001b[0m: \tgamma: 0.1\n",
      "\u001b[34m\u001b[1mwandb\u001b[0m: \tlearning_rate: 0.0003\n",
      "\u001b[34m\u001b[1mwandb\u001b[0m: \toptimizer: sgd\n",
      "\u001b[34m\u001b[1mwandb\u001b[0m: \tstep_size: 5\n"
     ]
    },
    {
     "data": {
      "text/html": [
       "Tracking run with wandb version 0.13.11"
      ],
      "text/plain": [
       "<IPython.core.display.HTML object>"
      ]
     },
     "metadata": {},
     "output_type": "display_data"
    },
    {
     "data": {
      "text/html": [
       "Run data is saved locally in <code>/home/zenon/Documents/master-thesis/classification/classifier/wandb/run-20230313_212648-k23a02gb</code>"
      ],
      "text/plain": [
       "<IPython.core.display.HTML object>"
      ]
     },
     "metadata": {},
     "output_type": "display_data"
    },
    {
     "data": {
      "text/html": [
       "Syncing run <strong><a href='https://wandb.ai/flower-classification/pytorch-sweeps-demo/runs/k23a02gb' target=\"_blank\">dulcet-sweep-4</a></strong> to <a href='https://wandb.ai/flower-classification/pytorch-sweeps-demo' target=\"_blank\">Weights & Biases</a> (<a href='https://wandb.me/run' target=\"_blank\">docs</a>)<br/>Sweep page: <a href='https://wandb.ai/flower-classification/pytorch-sweeps-demo/sweeps/eqwnoagh' target=\"_blank\">https://wandb.ai/flower-classification/pytorch-sweeps-demo/sweeps/eqwnoagh</a>"
      ],
      "text/plain": [
       "<IPython.core.display.HTML object>"
      ]
     },
     "metadata": {},
     "output_type": "display_data"
    },
    {
     "data": {
      "text/html": [
       " View project at <a href='https://wandb.ai/flower-classification/pytorch-sweeps-demo' target=\"_blank\">https://wandb.ai/flower-classification/pytorch-sweeps-demo</a>"
      ],
      "text/plain": [
       "<IPython.core.display.HTML object>"
      ]
     },
     "metadata": {},
     "output_type": "display_data"
    },
    {
     "data": {
      "text/html": [
       " View sweep at <a href='https://wandb.ai/flower-classification/pytorch-sweeps-demo/sweeps/eqwnoagh' target=\"_blank\">https://wandb.ai/flower-classification/pytorch-sweeps-demo/sweeps/eqwnoagh</a>"
      ],
      "text/plain": [
       "<IPython.core.display.HTML object>"
      ]
     },
     "metadata": {},
     "output_type": "display_data"
    },
    {
     "data": {
      "text/html": [
       " View run at <a href='https://wandb.ai/flower-classification/pytorch-sweeps-demo/runs/k23a02gb' target=\"_blank\">https://wandb.ai/flower-classification/pytorch-sweeps-demo/runs/k23a02gb</a>"
      ],
      "text/plain": [
       "<IPython.core.display.HTML object>"
      ]
     },
     "metadata": {},
     "output_type": "display_data"
    },
    {
     "data": {
      "text/html": [
       "Waiting for W&B process to finish... <strong style=\"color:green\">(success).</strong>"
      ],
      "text/plain": [
       "<IPython.core.display.HTML object>"
      ]
     },
     "metadata": {},
     "output_type": "display_data"
    },
    {
     "data": {
      "text/html": [
       "<style>\n",
       "    table.wandb td:nth-child(1) { padding: 0 10px; text-align: left ; width: auto;} td:nth-child(2) {text-align: left ; width: 100%}\n",
       "    .wandb-row { display: flex; flex-direction: row; flex-wrap: wrap; justify-content: flex-start; width: 100% }\n",
       "    .wandb-col { display: flex; flex-direction: column; flex-basis: 100%; flex: 1; padding: 10px; }\n",
       "    </style>\n",
       "<div class=\"wandb-row\"><div class=\"wandb-col\"><h3>Run history:</h3><br/><table class=\"wandb\"><tr><td>epoch</td><td>▁▂▃▃▄▅▆▆▇█</td></tr><tr><td>test/epoch_acc</td><td>▅▁▂▅▇▄▅▇█▇</td></tr><tr><td>test/epoch_loss</td><td>█▆▄▂▁▂▂▁▁▁</td></tr><tr><td>test/f1-score</td><td>▆▁▂▅▇▃▅▇█▇</td></tr><tr><td>test/precision</td><td>▁▁▄▅▇▆█▇█▆</td></tr><tr><td>test/recall</td><td>█▁▁▅▆▂▃▆▆▅</td></tr><tr><td>train/batch_loss</td><td>█▇▇▇▇▇▇▆▆▄▆▇▆▆▅▆▄▃▃▃▁▄▃▃▄▃▂▄▂▁▂▃▇▁▃▄▃▄▆▄</td></tr><tr><td>train/epoch_acc</td><td>▁▅▆▆▇█▇█▇█</td></tr><tr><td>train/epoch_loss</td><td>█▆▄▃▂▁▂▁▂▁</td></tr></table><br/></div><div class=\"wandb-col\"><h3>Run summary:</h3><br/><table class=\"wandb\"><tr><td>epoch</td><td>9</td></tr><tr><td>test/epoch_acc</td><td>0.88889</td></tr><tr><td>test/epoch_loss</td><td>0.30289</td></tr><tr><td>test/f1-score</td><td>0.86486</td></tr><tr><td>test/precision</td><td>0.91429</td></tr><tr><td>test/recall</td><td>0.82051</td></tr><tr><td>train/batch_loss</td><td>0.27111</td></tr><tr><td>train/epoch_acc</td><td>0.89681</td></tr><tr><td>train/epoch_loss</td><td>0.28549</td></tr></table><br/></div></div>"
      ],
      "text/plain": [
       "<IPython.core.display.HTML object>"
      ]
     },
     "metadata": {},
     "output_type": "display_data"
    },
    {
     "data": {
      "text/html": [
       " View run <strong style=\"color:#cdcd00\">dulcet-sweep-4</strong> at: <a href='https://wandb.ai/flower-classification/pytorch-sweeps-demo/runs/k23a02gb' target=\"_blank\">https://wandb.ai/flower-classification/pytorch-sweeps-demo/runs/k23a02gb</a><br/>Synced 5 W&B file(s), 0 media file(s), 0 artifact file(s) and 0 other file(s)"
      ],
      "text/plain": [
       "<IPython.core.display.HTML object>"
      ]
     },
     "metadata": {},
     "output_type": "display_data"
    },
    {
     "data": {
      "text/html": [
       "Find logs at: <code>./wandb/run-20230313_212648-k23a02gb/logs</code>"
      ],
      "text/plain": [
       "<IPython.core.display.HTML object>"
      ]
     },
     "metadata": {},
     "output_type": "display_data"
    },
    {
     "name": "stderr",
     "output_type": "stream",
     "text": [
      "\u001b[34m\u001b[1mwandb\u001b[0m: Agent Starting Run: 265qnj0c with config:\n",
      "\u001b[34m\u001b[1mwandb\u001b[0m: \tbatch_size: 8\n",
      "\u001b[34m\u001b[1mwandb\u001b[0m: \tbeta_one: 0.99\n",
      "\u001b[34m\u001b[1mwandb\u001b[0m: \tbeta_two: 0.99\n",
      "\u001b[34m\u001b[1mwandb\u001b[0m: \tepochs: 10\n",
      "\u001b[34m\u001b[1mwandb\u001b[0m: \teps: 1e-08\n",
      "\u001b[34m\u001b[1mwandb\u001b[0m: \tgamma: 0.5\n",
      "\u001b[34m\u001b[1mwandb\u001b[0m: \tlearning_rate: 0.001\n",
      "\u001b[34m\u001b[1mwandb\u001b[0m: \toptimizer: sgd\n",
      "\u001b[34m\u001b[1mwandb\u001b[0m: \tstep_size: 3\n"
     ]
    },
    {
     "data": {
      "text/html": [
       "Tracking run with wandb version 0.13.11"
      ],
      "text/plain": [
       "<IPython.core.display.HTML object>"
      ]
     },
     "metadata": {},
     "output_type": "display_data"
    },
    {
     "data": {
      "text/html": [
       "Run data is saved locally in <code>/home/zenon/Documents/master-thesis/classification/classifier/wandb/run-20230313_213431-265qnj0c</code>"
      ],
      "text/plain": [
       "<IPython.core.display.HTML object>"
      ]
     },
     "metadata": {},
     "output_type": "display_data"
    },
    {
     "data": {
      "text/html": [
       "Syncing run <strong><a href='https://wandb.ai/flower-classification/pytorch-sweeps-demo/runs/265qnj0c' target=\"_blank\">hearty-sweep-5</a></strong> to <a href='https://wandb.ai/flower-classification/pytorch-sweeps-demo' target=\"_blank\">Weights & Biases</a> (<a href='https://wandb.me/run' target=\"_blank\">docs</a>)<br/>Sweep page: <a href='https://wandb.ai/flower-classification/pytorch-sweeps-demo/sweeps/eqwnoagh' target=\"_blank\">https://wandb.ai/flower-classification/pytorch-sweeps-demo/sweeps/eqwnoagh</a>"
      ],
      "text/plain": [
       "<IPython.core.display.HTML object>"
      ]
     },
     "metadata": {},
     "output_type": "display_data"
    },
    {
     "data": {
      "text/html": [
       " View project at <a href='https://wandb.ai/flower-classification/pytorch-sweeps-demo' target=\"_blank\">https://wandb.ai/flower-classification/pytorch-sweeps-demo</a>"
      ],
      "text/plain": [
       "<IPython.core.display.HTML object>"
      ]
     },
     "metadata": {},
     "output_type": "display_data"
    },
    {
     "data": {
      "text/html": [
       " View sweep at <a href='https://wandb.ai/flower-classification/pytorch-sweeps-demo/sweeps/eqwnoagh' target=\"_blank\">https://wandb.ai/flower-classification/pytorch-sweeps-demo/sweeps/eqwnoagh</a>"
      ],
      "text/plain": [
       "<IPython.core.display.HTML object>"
      ]
     },
     "metadata": {},
     "output_type": "display_data"
    },
    {
     "data": {
      "text/html": [
       " View run at <a href='https://wandb.ai/flower-classification/pytorch-sweeps-demo/runs/265qnj0c' target=\"_blank\">https://wandb.ai/flower-classification/pytorch-sweeps-demo/runs/265qnj0c</a>"
      ],
      "text/plain": [
       "<IPython.core.display.HTML object>"
      ]
     },
     "metadata": {},
     "output_type": "display_data"
    },
    {
     "data": {
      "text/html": [
       "Waiting for W&B process to finish... <strong style=\"color:green\">(success).</strong>"
      ],
      "text/plain": [
       "<IPython.core.display.HTML object>"
      ]
     },
     "metadata": {},
     "output_type": "display_data"
    },
    {
     "data": {
      "application/vnd.jupyter.widget-view+json": {
       "model_id": "4f68d0e4fc994f12bdfba68bd75d2d3f",
       "version_major": 2,
       "version_minor": 0
      },
      "text/plain": [
       "VBox(children=(Label(value='0.010 MB of 0.027 MB uploaded (0.000 MB deduped)\\r'), FloatProgress(value=0.369539…"
      ]
     },
     "metadata": {},
     "output_type": "display_data"
    },
    {
     "data": {
      "text/html": [
       "<style>\n",
       "    table.wandb td:nth-child(1) { padding: 0 10px; text-align: left ; width: auto;} td:nth-child(2) {text-align: left ; width: 100%}\n",
       "    .wandb-row { display: flex; flex-direction: row; flex-wrap: wrap; justify-content: flex-start; width: 100% }\n",
       "    .wandb-col { display: flex; flex-direction: column; flex-basis: 100%; flex: 1; padding: 10px; }\n",
       "    </style>\n",
       "<div class=\"wandb-row\"><div class=\"wandb-col\"><h3>Run history:</h3><br/><table class=\"wandb\"><tr><td>epoch</td><td>▁▂▃▃▄▅▆▆▇█</td></tr><tr><td>test/epoch_acc</td><td>▁▅▄▆▇█▇▇▆▆</td></tr><tr><td>test/epoch_loss</td><td>█▅▄▃▃▁▂▃▂▁</td></tr><tr><td>test/f1-score</td><td>▁▅▄▆▇██▇▆▇</td></tr><tr><td>test/precision</td><td>███▄▁▂▁▅▁▁</td></tr><tr><td>test/recall</td><td>▁▄▄▅▇██▇▆▇</td></tr><tr><td>train/batch_loss</td><td>██▇▇▅▅▃▆▂▃▂▂▂▂▄▄▂▂▂▂▄▁▂▅▃▁▁▁▂▆▂▃▃▁▁▁▂▂▁▂</td></tr><tr><td>train/epoch_acc</td><td>▁▅▆▇▇█████</td></tr><tr><td>train/epoch_loss</td><td>█▅▄▂▂▁▁▁▁▁</td></tr></table><br/></div><div class=\"wandb-col\"><h3>Run summary:</h3><br/><table class=\"wandb\"><tr><td>epoch</td><td>9</td></tr><tr><td>test/epoch_acc</td><td>0.88889</td></tr><tr><td>test/epoch_loss</td><td>0.26007</td></tr><tr><td>test/f1-score</td><td>0.8913</td></tr><tr><td>test/precision</td><td>0.95349</td></tr><tr><td>test/recall</td><td>0.83673</td></tr><tr><td>train/batch_loss</td><td>0.01167</td></tr><tr><td>train/epoch_acc</td><td>0.98034</td></tr><tr><td>train/epoch_loss</td><td>0.08153</td></tr></table><br/></div></div>"
      ],
      "text/plain": [
       "<IPython.core.display.HTML object>"
      ]
     },
     "metadata": {},
     "output_type": "display_data"
    },
    {
     "data": {
      "text/html": [
       " View run <strong style=\"color:#cdcd00\">hearty-sweep-5</strong> at: <a href='https://wandb.ai/flower-classification/pytorch-sweeps-demo/runs/265qnj0c' target=\"_blank\">https://wandb.ai/flower-classification/pytorch-sweeps-demo/runs/265qnj0c</a><br/>Synced 5 W&B file(s), 0 media file(s), 0 artifact file(s) and 0 other file(s)"
      ],
      "text/plain": [
       "<IPython.core.display.HTML object>"
      ]
     },
     "metadata": {},
     "output_type": "display_data"
    },
    {
     "data": {
      "text/html": [
       "Find logs at: <code>./wandb/run-20230313_213431-265qnj0c/logs</code>"
      ],
      "text/plain": [
       "<IPython.core.display.HTML object>"
      ]
     },
     "metadata": {},
     "output_type": "display_data"
    },
    {
     "name": "stderr",
     "output_type": "stream",
     "text": [
      "\u001b[34m\u001b[1mwandb\u001b[0m: Agent Starting Run: eg199ue9 with config:\n",
      "\u001b[34m\u001b[1mwandb\u001b[0m: \tbatch_size: 4\n",
      "\u001b[34m\u001b[1mwandb\u001b[0m: \tbeta_one: 0.9\n",
      "\u001b[34m\u001b[1mwandb\u001b[0m: \tbeta_two: 0.9\n",
      "\u001b[34m\u001b[1mwandb\u001b[0m: \tepochs: 10\n",
      "\u001b[34m\u001b[1mwandb\u001b[0m: \teps: 1\n",
      "\u001b[34m\u001b[1mwandb\u001b[0m: \tgamma: 0.5\n",
      "\u001b[34m\u001b[1mwandb\u001b[0m: \tlearning_rate: 0.01\n",
      "\u001b[34m\u001b[1mwandb\u001b[0m: \toptimizer: adam\n",
      "\u001b[34m\u001b[1mwandb\u001b[0m: \tstep_size: 3\n"
     ]
    },
    {
     "data": {
      "text/html": [
       "Tracking run with wandb version 0.13.11"
      ],
      "text/plain": [
       "<IPython.core.display.HTML object>"
      ]
     },
     "metadata": {},
     "output_type": "display_data"
    },
    {
     "data": {
      "text/html": [
       "Run data is saved locally in <code>/home/zenon/Documents/master-thesis/classification/classifier/wandb/run-20230313_214215-eg199ue9</code>"
      ],
      "text/plain": [
       "<IPython.core.display.HTML object>"
      ]
     },
     "metadata": {},
     "output_type": "display_data"
    },
    {
     "data": {
      "text/html": [
       "Syncing run <strong><a href='https://wandb.ai/flower-classification/pytorch-sweeps-demo/runs/eg199ue9' target=\"_blank\">smart-sweep-6</a></strong> to <a href='https://wandb.ai/flower-classification/pytorch-sweeps-demo' target=\"_blank\">Weights & Biases</a> (<a href='https://wandb.me/run' target=\"_blank\">docs</a>)<br/>Sweep page: <a href='https://wandb.ai/flower-classification/pytorch-sweeps-demo/sweeps/eqwnoagh' target=\"_blank\">https://wandb.ai/flower-classification/pytorch-sweeps-demo/sweeps/eqwnoagh</a>"
      ],
      "text/plain": [
       "<IPython.core.display.HTML object>"
      ]
     },
     "metadata": {},
     "output_type": "display_data"
    },
    {
     "data": {
      "text/html": [
       " View project at <a href='https://wandb.ai/flower-classification/pytorch-sweeps-demo' target=\"_blank\">https://wandb.ai/flower-classification/pytorch-sweeps-demo</a>"
      ],
      "text/plain": [
       "<IPython.core.display.HTML object>"
      ]
     },
     "metadata": {},
     "output_type": "display_data"
    },
    {
     "data": {
      "text/html": [
       " View sweep at <a href='https://wandb.ai/flower-classification/pytorch-sweeps-demo/sweeps/eqwnoagh' target=\"_blank\">https://wandb.ai/flower-classification/pytorch-sweeps-demo/sweeps/eqwnoagh</a>"
      ],
      "text/plain": [
       "<IPython.core.display.HTML object>"
      ]
     },
     "metadata": {},
     "output_type": "display_data"
    },
    {
     "data": {
      "text/html": [
       " View run at <a href='https://wandb.ai/flower-classification/pytorch-sweeps-demo/runs/eg199ue9' target=\"_blank\">https://wandb.ai/flower-classification/pytorch-sweeps-demo/runs/eg199ue9</a>"
      ],
      "text/plain": [
       "<IPython.core.display.HTML object>"
      ]
     },
     "metadata": {},
     "output_type": "display_data"
    },
    {
     "data": {
      "text/html": [
       "Waiting for W&B process to finish... <strong style=\"color:green\">(success).</strong>"
      ],
      "text/plain": [
       "<IPython.core.display.HTML object>"
      ]
     },
     "metadata": {},
     "output_type": "display_data"
    },
    {
     "data": {
      "application/vnd.jupyter.widget-view+json": {
       "model_id": "77222c4a821846208ce165385b4c6092",
       "version_major": 2,
       "version_minor": 0
      },
      "text/plain": [
       "VBox(children=(Label(value='0.003 MB of 0.027 MB uploaded (0.000 MB deduped)\\r'), FloatProgress(value=0.127718…"
      ]
     },
     "metadata": {},
     "output_type": "display_data"
    },
    {
     "data": {
      "text/html": [
       "<style>\n",
       "    table.wandb td:nth-child(1) { padding: 0 10px; text-align: left ; width: auto;} td:nth-child(2) {text-align: left ; width: 100%}\n",
       "    .wandb-row { display: flex; flex-direction: row; flex-wrap: wrap; justify-content: flex-start; width: 100% }\n",
       "    .wandb-col { display: flex; flex-direction: column; flex-basis: 100%; flex: 1; padding: 10px; }\n",
       "    </style>\n",
       "<div class=\"wandb-row\"><div class=\"wandb-col\"><h3>Run history:</h3><br/><table class=\"wandb\"><tr><td>epoch</td><td>▁▂▃▃▄▅▆▆▇█</td></tr><tr><td>test/epoch_acc</td><td>▇▆▆▁▅▆▃▃▃█</td></tr><tr><td>test/epoch_loss</td><td>█▄▃▄▄▅▂▄▃▁</td></tr><tr><td>test/f1-score</td><td>▇▆▆▁▅▆▄▃▄█</td></tr><tr><td>test/precision</td><td>▅▂█▃▁▂▁▄▁▅</td></tr><tr><td>test/recall</td><td>▇▇▅▁▆▇▅▃▅█</td></tr><tr><td>train/batch_loss</td><td>▆▆▆▆▃▂▂▄▂▂▁▃▂█▂▁▂▅▄▁▁▂▁▁▅▁▁▃▂▂▄▁▁▁▁▁▁▁▁▁</td></tr><tr><td>train/epoch_acc</td><td>▁▄▆▇▇▇████</td></tr><tr><td>train/epoch_loss</td><td>█▅▄▃▂▂▁▁▁▁</td></tr></table><br/></div><div class=\"wandb-col\"><h3>Run summary:</h3><br/><table class=\"wandb\"><tr><td>epoch</td><td>9</td></tr><tr><td>test/epoch_acc</td><td>0.9</td></tr><tr><td>test/epoch_loss</td><td>0.22746</td></tr><tr><td>test/f1-score</td><td>0.89655</td></tr><tr><td>test/precision</td><td>0.92857</td></tr><tr><td>test/recall</td><td>0.86667</td></tr><tr><td>train/batch_loss</td><td>0.13858</td></tr><tr><td>train/epoch_acc</td><td>0.98403</td></tr><tr><td>train/epoch_loss</td><td>0.07075</td></tr></table><br/></div></div>"
      ],
      "text/plain": [
       "<IPython.core.display.HTML object>"
      ]
     },
     "metadata": {},
     "output_type": "display_data"
    },
    {
     "data": {
      "text/html": [
       " View run <strong style=\"color:#cdcd00\">smart-sweep-6</strong> at: <a href='https://wandb.ai/flower-classification/pytorch-sweeps-demo/runs/eg199ue9' target=\"_blank\">https://wandb.ai/flower-classification/pytorch-sweeps-demo/runs/eg199ue9</a><br/>Synced 5 W&B file(s), 0 media file(s), 0 artifact file(s) and 0 other file(s)"
      ],
      "text/plain": [
       "<IPython.core.display.HTML object>"
      ]
     },
     "metadata": {},
     "output_type": "display_data"
    },
    {
     "data": {
      "text/html": [
       "Find logs at: <code>./wandb/run-20230313_214215-eg199ue9/logs</code>"
      ],
      "text/plain": [
       "<IPython.core.display.HTML object>"
      ]
     },
     "metadata": {},
     "output_type": "display_data"
    },
    {
     "name": "stderr",
     "output_type": "stream",
     "text": [
      "\u001b[34m\u001b[1mwandb\u001b[0m: Agent Starting Run: vdaaitvt with config:\n",
      "\u001b[34m\u001b[1mwandb\u001b[0m: \tbatch_size: 8\n",
      "\u001b[34m\u001b[1mwandb\u001b[0m: \tbeta_one: 0.99\n",
      "\u001b[34m\u001b[1mwandb\u001b[0m: \tbeta_two: 0.5\n",
      "\u001b[34m\u001b[1mwandb\u001b[0m: \tepochs: 10\n",
      "\u001b[34m\u001b[1mwandb\u001b[0m: \teps: 1\n",
      "\u001b[34m\u001b[1mwandb\u001b[0m: \tgamma: 0.1\n",
      "\u001b[34m\u001b[1mwandb\u001b[0m: \tlearning_rate: 0.0001\n",
      "\u001b[34m\u001b[1mwandb\u001b[0m: \toptimizer: sgd\n",
      "\u001b[34m\u001b[1mwandb\u001b[0m: \tstep_size: 7\n"
     ]
    },
    {
     "data": {
      "text/html": [
       "Tracking run with wandb version 0.13.11"
      ],
      "text/plain": [
       "<IPython.core.display.HTML object>"
      ]
     },
     "metadata": {},
     "output_type": "display_data"
    },
    {
     "data": {
      "text/html": [
       "Run data is saved locally in <code>/home/zenon/Documents/master-thesis/classification/classifier/wandb/run-20230313_215145-vdaaitvt</code>"
      ],
      "text/plain": [
       "<IPython.core.display.HTML object>"
      ]
     },
     "metadata": {},
     "output_type": "display_data"
    },
    {
     "data": {
      "text/html": [
       "Syncing run <strong><a href='https://wandb.ai/flower-classification/pytorch-sweeps-demo/runs/vdaaitvt' target=\"_blank\">glorious-sweep-7</a></strong> to <a href='https://wandb.ai/flower-classification/pytorch-sweeps-demo' target=\"_blank\">Weights & Biases</a> (<a href='https://wandb.me/run' target=\"_blank\">docs</a>)<br/>Sweep page: <a href='https://wandb.ai/flower-classification/pytorch-sweeps-demo/sweeps/eqwnoagh' target=\"_blank\">https://wandb.ai/flower-classification/pytorch-sweeps-demo/sweeps/eqwnoagh</a>"
      ],
      "text/plain": [
       "<IPython.core.display.HTML object>"
      ]
     },
     "metadata": {},
     "output_type": "display_data"
    },
    {
     "data": {
      "text/html": [
       " View project at <a href='https://wandb.ai/flower-classification/pytorch-sweeps-demo' target=\"_blank\">https://wandb.ai/flower-classification/pytorch-sweeps-demo</a>"
      ],
      "text/plain": [
       "<IPython.core.display.HTML object>"
      ]
     },
     "metadata": {},
     "output_type": "display_data"
    },
    {
     "data": {
      "text/html": [
       " View sweep at <a href='https://wandb.ai/flower-classification/pytorch-sweeps-demo/sweeps/eqwnoagh' target=\"_blank\">https://wandb.ai/flower-classification/pytorch-sweeps-demo/sweeps/eqwnoagh</a>"
      ],
      "text/plain": [
       "<IPython.core.display.HTML object>"
      ]
     },
     "metadata": {},
     "output_type": "display_data"
    },
    {
     "data": {
      "text/html": [
       " View run at <a href='https://wandb.ai/flower-classification/pytorch-sweeps-demo/runs/vdaaitvt' target=\"_blank\">https://wandb.ai/flower-classification/pytorch-sweeps-demo/runs/vdaaitvt</a>"
      ],
      "text/plain": [
       "<IPython.core.display.HTML object>"
      ]
     },
     "metadata": {},
     "output_type": "display_data"
    },
    {
     "data": {
      "text/html": [
       "Waiting for W&B process to finish... <strong style=\"color:green\">(success).</strong>"
      ],
      "text/plain": [
       "<IPython.core.display.HTML object>"
      ]
     },
     "metadata": {},
     "output_type": "display_data"
    },
    {
     "data": {
      "application/vnd.jupyter.widget-view+json": {
       "model_id": "16d2f2fc96774dcbaba181d48d444fc9",
       "version_major": 2,
       "version_minor": 0
      },
      "text/plain": [
       "VBox(children=(Label(value='0.003 MB of 0.003 MB uploaded (0.000 MB deduped)\\r'), FloatProgress(value=1.0, max…"
      ]
     },
     "metadata": {},
     "output_type": "display_data"
    },
    {
     "data": {
      "text/html": [
       "<style>\n",
       "    table.wandb td:nth-child(1) { padding: 0 10px; text-align: left ; width: auto;} td:nth-child(2) {text-align: left ; width: 100%}\n",
       "    .wandb-row { display: flex; flex-direction: row; flex-wrap: wrap; justify-content: flex-start; width: 100% }\n",
       "    .wandb-col { display: flex; flex-direction: column; flex-basis: 100%; flex: 1; padding: 10px; }\n",
       "    </style>\n",
       "<div class=\"wandb-row\"><div class=\"wandb-col\"><h3>Run history:</h3><br/><table class=\"wandb\"><tr><td>epoch</td><td>▁▂▃▃▄▅▆▆▇█</td></tr><tr><td>test/epoch_acc</td><td>▁▄▆██▇▇▇▇▆</td></tr><tr><td>test/epoch_loss</td><td>█▇▆▄▃▂▁▁▁▁</td></tr><tr><td>test/f1-score</td><td>▁▄▆█▇▆▆▆▆▃</td></tr><tr><td>test/precision</td><td>▁▃▄▆▇▇▇███</td></tr><tr><td>test/recall</td><td>▇▇██▆▅▅▄▄▁</td></tr><tr><td>train/batch_loss</td><td>▇▇▇▆▇▆▆▆▆▅▆▅▆▆▆▇▅▅▄▅█▅▃▄▅▃▅▇▃▅▅▅▅▂▄▁▅▄▄▅</td></tr><tr><td>train/epoch_acc</td><td>▁▄▆▇▇███▇█</td></tr><tr><td>train/epoch_loss</td><td>█▇▆▅▄▃▂▁▂▁</td></tr></table><br/></div><div class=\"wandb-col\"><h3>Run summary:</h3><br/><table class=\"wandb\"><tr><td>epoch</td><td>9</td></tr><tr><td>test/epoch_acc</td><td>0.77778</td></tr><tr><td>test/epoch_loss</td><td>0.47685</td></tr><tr><td>test/f1-score</td><td>0.72222</td></tr><tr><td>test/precision</td><td>0.83871</td></tr><tr><td>test/recall</td><td>0.63415</td></tr><tr><td>train/batch_loss</td><td>0.37919</td></tr><tr><td>train/epoch_acc</td><td>0.82924</td></tr><tr><td>train/epoch_loss</td><td>0.45283</td></tr></table><br/></div></div>"
      ],
      "text/plain": [
       "<IPython.core.display.HTML object>"
      ]
     },
     "metadata": {},
     "output_type": "display_data"
    },
    {
     "data": {
      "text/html": [
       " View run <strong style=\"color:#cdcd00\">glorious-sweep-7</strong> at: <a href='https://wandb.ai/flower-classification/pytorch-sweeps-demo/runs/vdaaitvt' target=\"_blank\">https://wandb.ai/flower-classification/pytorch-sweeps-demo/runs/vdaaitvt</a><br/>Synced 5 W&B file(s), 0 media file(s), 0 artifact file(s) and 0 other file(s)"
      ],
      "text/plain": [
       "<IPython.core.display.HTML object>"
      ]
     },
     "metadata": {},
     "output_type": "display_data"
    },
    {
     "data": {
      "text/html": [
       "Find logs at: <code>./wandb/run-20230313_215145-vdaaitvt/logs</code>"
      ],
      "text/plain": [
       "<IPython.core.display.HTML object>"
      ]
     },
     "metadata": {},
     "output_type": "display_data"
    },
    {
     "name": "stderr",
     "output_type": "stream",
     "text": [
      "\u001b[34m\u001b[1mwandb\u001b[0m: Agent Starting Run: 16v61zix with config:\n",
      "\u001b[34m\u001b[1mwandb\u001b[0m: \tbatch_size: 8\n",
      "\u001b[34m\u001b[1mwandb\u001b[0m: \tbeta_one: 0.9\n",
      "\u001b[34m\u001b[1mwandb\u001b[0m: \tbeta_two: 0.99\n",
      "\u001b[34m\u001b[1mwandb\u001b[0m: \tepochs: 10\n",
      "\u001b[34m\u001b[1mwandb\u001b[0m: \teps: 1\n",
      "\u001b[34m\u001b[1mwandb\u001b[0m: \tgamma: 0.1\n",
      "\u001b[34m\u001b[1mwandb\u001b[0m: \tlearning_rate: 0.003\n",
      "\u001b[34m\u001b[1mwandb\u001b[0m: \toptimizer: sgd\n",
      "\u001b[34m\u001b[1mwandb\u001b[0m: \tstep_size: 5\n"
     ]
    },
    {
     "data": {
      "text/html": [
       "Tracking run with wandb version 0.13.11"
      ],
      "text/plain": [
       "<IPython.core.display.HTML object>"
      ]
     },
     "metadata": {},
     "output_type": "display_data"
    },
    {
     "data": {
      "text/html": [
       "Run data is saved locally in <code>/home/zenon/Documents/master-thesis/classification/classifier/wandb/run-20230313_215930-16v61zix</code>"
      ],
      "text/plain": [
       "<IPython.core.display.HTML object>"
      ]
     },
     "metadata": {},
     "output_type": "display_data"
    },
    {
     "data": {
      "text/html": [
       "Syncing run <strong><a href='https://wandb.ai/flower-classification/pytorch-sweeps-demo/runs/16v61zix' target=\"_blank\">elated-sweep-8</a></strong> to <a href='https://wandb.ai/flower-classification/pytorch-sweeps-demo' target=\"_blank\">Weights & Biases</a> (<a href='https://wandb.me/run' target=\"_blank\">docs</a>)<br/>Sweep page: <a href='https://wandb.ai/flower-classification/pytorch-sweeps-demo/sweeps/eqwnoagh' target=\"_blank\">https://wandb.ai/flower-classification/pytorch-sweeps-demo/sweeps/eqwnoagh</a>"
      ],
      "text/plain": [
       "<IPython.core.display.HTML object>"
      ]
     },
     "metadata": {},
     "output_type": "display_data"
    },
    {
     "data": {
      "text/html": [
       " View project at <a href='https://wandb.ai/flower-classification/pytorch-sweeps-demo' target=\"_blank\">https://wandb.ai/flower-classification/pytorch-sweeps-demo</a>"
      ],
      "text/plain": [
       "<IPython.core.display.HTML object>"
      ]
     },
     "metadata": {},
     "output_type": "display_data"
    },
    {
     "data": {
      "text/html": [
       " View sweep at <a href='https://wandb.ai/flower-classification/pytorch-sweeps-demo/sweeps/eqwnoagh' target=\"_blank\">https://wandb.ai/flower-classification/pytorch-sweeps-demo/sweeps/eqwnoagh</a>"
      ],
      "text/plain": [
       "<IPython.core.display.HTML object>"
      ]
     },
     "metadata": {},
     "output_type": "display_data"
    },
    {
     "data": {
      "text/html": [
       " View run at <a href='https://wandb.ai/flower-classification/pytorch-sweeps-demo/runs/16v61zix' target=\"_blank\">https://wandb.ai/flower-classification/pytorch-sweeps-demo/runs/16v61zix</a>"
      ],
      "text/plain": [
       "<IPython.core.display.HTML object>"
      ]
     },
     "metadata": {},
     "output_type": "display_data"
    },
    {
     "data": {
      "text/html": [
       "Waiting for W&B process to finish... <strong style=\"color:green\">(success).</strong>"
      ],
      "text/plain": [
       "<IPython.core.display.HTML object>"
      ]
     },
     "metadata": {},
     "output_type": "display_data"
    },
    {
     "data": {
      "application/vnd.jupyter.widget-view+json": {
       "model_id": "275f61520cf1419c9104636f4bd34994",
       "version_major": 2,
       "version_minor": 0
      },
      "text/plain": [
       "VBox(children=(Label(value='0.003 MB of 0.027 MB uploaded (0.000 MB deduped)\\r'), FloatProgress(value=0.127347…"
      ]
     },
     "metadata": {},
     "output_type": "display_data"
    },
    {
     "data": {
      "text/html": [
       "<style>\n",
       "    table.wandb td:nth-child(1) { padding: 0 10px; text-align: left ; width: auto;} td:nth-child(2) {text-align: left ; width: 100%}\n",
       "    .wandb-row { display: flex; flex-direction: row; flex-wrap: wrap; justify-content: flex-start; width: 100% }\n",
       "    .wandb-col { display: flex; flex-direction: column; flex-basis: 100%; flex: 1; padding: 10px; }\n",
       "    </style>\n",
       "<div class=\"wandb-row\"><div class=\"wandb-col\"><h3>Run history:</h3><br/><table class=\"wandb\"><tr><td>epoch</td><td>▁▂▃▃▄▅▆▆▇█</td></tr><tr><td>test/epoch_acc</td><td>▅▅▅██▁▅▅▁▁</td></tr><tr><td>test/epoch_loss</td><td>█▁▂▅▃▅▄▄▄▂</td></tr><tr><td>test/f1-score</td><td>▄▄▄█▇▁▄▄▁▁</td></tr><tr><td>test/precision</td><td>▃▅▃▁█▃▃▃▁▁</td></tr><tr><td>test/recall</td><td>▃▁▃█▁▁▃▃▃▃</td></tr><tr><td>train/batch_loss</td><td>█▆▇▇▂▂▅▆▄▆▂▁▁▁▁▁▁▁▂▁▁▁▁▁▁▁▁▁▁▁▁▁▂▁▁▁▂▁▁▁</td></tr><tr><td>train/epoch_acc</td><td>▁▅▇▇▇█████</td></tr><tr><td>train/epoch_loss</td><td>█▅▂▂▂▁▁▁▁▁</td></tr></table><br/></div><div class=\"wandb-col\"><h3>Run summary:</h3><br/><table class=\"wandb\"><tr><td>epoch</td><td>9</td></tr><tr><td>test/epoch_acc</td><td>0.92222</td></tr><tr><td>test/epoch_loss</td><td>0.16872</td></tr><tr><td>test/f1-score</td><td>0.92135</td></tr><tr><td>test/precision</td><td>0.91111</td></tr><tr><td>test/recall</td><td>0.93182</td></tr><tr><td>train/batch_loss</td><td>0.00228</td></tr><tr><td>train/epoch_acc</td><td>0.99877</td></tr><tr><td>train/epoch_loss</td><td>0.02303</td></tr></table><br/></div></div>"
      ],
      "text/plain": [
       "<IPython.core.display.HTML object>"
      ]
     },
     "metadata": {},
     "output_type": "display_data"
    },
    {
     "data": {
      "text/html": [
       " View run <strong style=\"color:#cdcd00\">elated-sweep-8</strong> at: <a href='https://wandb.ai/flower-classification/pytorch-sweeps-demo/runs/16v61zix' target=\"_blank\">https://wandb.ai/flower-classification/pytorch-sweeps-demo/runs/16v61zix</a><br/>Synced 5 W&B file(s), 0 media file(s), 0 artifact file(s) and 0 other file(s)"
      ],
      "text/plain": [
       "<IPython.core.display.HTML object>"
      ]
     },
     "metadata": {},
     "output_type": "display_data"
    },
    {
     "data": {
      "text/html": [
       "Find logs at: <code>./wandb/run-20230313_215930-16v61zix/logs</code>"
      ],
      "text/plain": [
       "<IPython.core.display.HTML object>"
      ]
     },
     "metadata": {},
     "output_type": "display_data"
    },
    {
     "name": "stderr",
     "output_type": "stream",
     "text": [
      "\u001b[34m\u001b[1mwandb\u001b[0m: Agent Starting Run: gy76rrgz with config:\n",
      "\u001b[34m\u001b[1mwandb\u001b[0m: \tbatch_size: 8\n",
      "\u001b[34m\u001b[1mwandb\u001b[0m: \tbeta_one: 0.9\n",
      "\u001b[34m\u001b[1mwandb\u001b[0m: \tbeta_two: 0.999\n",
      "\u001b[34m\u001b[1mwandb\u001b[0m: \tepochs: 10\n",
      "\u001b[34m\u001b[1mwandb\u001b[0m: \teps: 1\n",
      "\u001b[34m\u001b[1mwandb\u001b[0m: \tgamma: 0.5\n",
      "\u001b[34m\u001b[1mwandb\u001b[0m: \tlearning_rate: 0.003\n",
      "\u001b[34m\u001b[1mwandb\u001b[0m: \toptimizer: adam\n",
      "\u001b[34m\u001b[1mwandb\u001b[0m: \tstep_size: 3\n"
     ]
    },
    {
     "data": {
      "text/html": [
       "Tracking run with wandb version 0.13.11"
      ],
      "text/plain": [
       "<IPython.core.display.HTML object>"
      ]
     },
     "metadata": {},
     "output_type": "display_data"
    },
    {
     "data": {
      "text/html": [
       "Run data is saved locally in <code>/home/zenon/Documents/master-thesis/classification/classifier/wandb/run-20230313_220712-gy76rrgz</code>"
      ],
      "text/plain": [
       "<IPython.core.display.HTML object>"
      ]
     },
     "metadata": {},
     "output_type": "display_data"
    },
    {
     "data": {
      "text/html": [
       "Syncing run <strong><a href='https://wandb.ai/flower-classification/pytorch-sweeps-demo/runs/gy76rrgz' target=\"_blank\">major-sweep-9</a></strong> to <a href='https://wandb.ai/flower-classification/pytorch-sweeps-demo' target=\"_blank\">Weights & Biases</a> (<a href='https://wandb.me/run' target=\"_blank\">docs</a>)<br/>Sweep page: <a href='https://wandb.ai/flower-classification/pytorch-sweeps-demo/sweeps/eqwnoagh' target=\"_blank\">https://wandb.ai/flower-classification/pytorch-sweeps-demo/sweeps/eqwnoagh</a>"
      ],
      "text/plain": [
       "<IPython.core.display.HTML object>"
      ]
     },
     "metadata": {},
     "output_type": "display_data"
    },
    {
     "data": {
      "text/html": [
       " View project at <a href='https://wandb.ai/flower-classification/pytorch-sweeps-demo' target=\"_blank\">https://wandb.ai/flower-classification/pytorch-sweeps-demo</a>"
      ],
      "text/plain": [
       "<IPython.core.display.HTML object>"
      ]
     },
     "metadata": {},
     "output_type": "display_data"
    },
    {
     "data": {
      "text/html": [
       " View sweep at <a href='https://wandb.ai/flower-classification/pytorch-sweeps-demo/sweeps/eqwnoagh' target=\"_blank\">https://wandb.ai/flower-classification/pytorch-sweeps-demo/sweeps/eqwnoagh</a>"
      ],
      "text/plain": [
       "<IPython.core.display.HTML object>"
      ]
     },
     "metadata": {},
     "output_type": "display_data"
    },
    {
     "data": {
      "text/html": [
       " View run at <a href='https://wandb.ai/flower-classification/pytorch-sweeps-demo/runs/gy76rrgz' target=\"_blank\">https://wandb.ai/flower-classification/pytorch-sweeps-demo/runs/gy76rrgz</a>"
      ],
      "text/plain": [
       "<IPython.core.display.HTML object>"
      ]
     },
     "metadata": {},
     "output_type": "display_data"
    },
    {
     "data": {
      "text/html": [
       "Waiting for W&B process to finish... <strong style=\"color:green\">(success).</strong>"
      ],
      "text/plain": [
       "<IPython.core.display.HTML object>"
      ]
     },
     "metadata": {},
     "output_type": "display_data"
    },
    {
     "data": {
      "application/vnd.jupyter.widget-view+json": {
       "model_id": "859091dc42c94f2eb2732a64c9afc414",
       "version_major": 2,
       "version_minor": 0
      },
      "text/plain": [
       "VBox(children=(Label(value='0.003 MB of 0.027 MB uploaded (0.000 MB deduped)\\r'), FloatProgress(value=0.127052…"
      ]
     },
     "metadata": {},
     "output_type": "display_data"
    },
    {
     "data": {
      "text/html": [
       "<style>\n",
       "    table.wandb td:nth-child(1) { padding: 0 10px; text-align: left ; width: auto;} td:nth-child(2) {text-align: left ; width: 100%}\n",
       "    .wandb-row { display: flex; flex-direction: row; flex-wrap: wrap; justify-content: flex-start; width: 100% }\n",
       "    .wandb-col { display: flex; flex-direction: column; flex-basis: 100%; flex: 1; padding: 10px; }\n",
       "    </style>\n",
       "<div class=\"wandb-row\"><div class=\"wandb-col\"><h3>Run history:</h3><br/><table class=\"wandb\"><tr><td>epoch</td><td>▁▂▃▃▄▅▆▆▇█</td></tr><tr><td>test/epoch_acc</td><td>▃▃▁▃▃▆▆█▆▃</td></tr><tr><td>test/epoch_loss</td><td>█▆▄▃▂▂▁▁▁▁</td></tr><tr><td>test/f1-score</td><td>▄▃▁▃▃▆▆█▆▃</td></tr><tr><td>test/precision</td><td>▁█▇███████</td></tr><tr><td>test/recall</td><td>▆▃▁▃▃▆▆█▆▃</td></tr><tr><td>train/batch_loss</td><td>█▇██▇▆▇▃▅▃▇▄▄▄▃▆▃▅▃▅▃▁▇▅▃▄▄▆▂▅▂▂▃▁▁▂▂▁▃▁</td></tr><tr><td>train/epoch_acc</td><td>▁▅▅▆▇▇▇▇██</td></tr><tr><td>train/epoch_loss</td><td>█▆▅▃▃▂▂▂▁▁</td></tr></table><br/></div><div class=\"wandb-col\"><h3>Run summary:</h3><br/><table class=\"wandb\"><tr><td>epoch</td><td>9</td></tr><tr><td>test/epoch_acc</td><td>0.88889</td></tr><tr><td>test/epoch_loss</td><td>0.26282</td></tr><tr><td>test/f1-score</td><td>0.87179</td></tr><tr><td>test/precision</td><td>0.97143</td></tr><tr><td>test/recall</td><td>0.7907</td></tr><tr><td>train/batch_loss</td><td>0.1486</td></tr><tr><td>train/epoch_acc</td><td>0.88698</td></tr><tr><td>train/epoch_loss</td><td>0.31064</td></tr></table><br/></div></div>"
      ],
      "text/plain": [
       "<IPython.core.display.HTML object>"
      ]
     },
     "metadata": {},
     "output_type": "display_data"
    },
    {
     "data": {
      "text/html": [
       " View run <strong style=\"color:#cdcd00\">major-sweep-9</strong> at: <a href='https://wandb.ai/flower-classification/pytorch-sweeps-demo/runs/gy76rrgz' target=\"_blank\">https://wandb.ai/flower-classification/pytorch-sweeps-demo/runs/gy76rrgz</a><br/>Synced 5 W&B file(s), 0 media file(s), 0 artifact file(s) and 0 other file(s)"
      ],
      "text/plain": [
       "<IPython.core.display.HTML object>"
      ]
     },
     "metadata": {},
     "output_type": "display_data"
    },
    {
     "data": {
      "text/html": [
       "Find logs at: <code>./wandb/run-20230313_220712-gy76rrgz/logs</code>"
      ],
      "text/plain": [
       "<IPython.core.display.HTML object>"
      ]
     },
     "metadata": {},
     "output_type": "display_data"
    },
    {
     "name": "stderr",
     "output_type": "stream",
     "text": [
      "\u001b[34m\u001b[1mwandb\u001b[0m: Agent Starting Run: 4dx2f0j8 with config:\n",
      "\u001b[34m\u001b[1mwandb\u001b[0m: \tbatch_size: 4\n",
      "\u001b[34m\u001b[1mwandb\u001b[0m: \tbeta_one: 0.9\n",
      "\u001b[34m\u001b[1mwandb\u001b[0m: \tbeta_two: 0.99\n",
      "\u001b[34m\u001b[1mwandb\u001b[0m: \tepochs: 10\n",
      "\u001b[34m\u001b[1mwandb\u001b[0m: \teps: 1e-08\n",
      "\u001b[34m\u001b[1mwandb\u001b[0m: \tgamma: 0.1\n",
      "\u001b[34m\u001b[1mwandb\u001b[0m: \tlearning_rate: 0.001\n",
      "\u001b[34m\u001b[1mwandb\u001b[0m: \toptimizer: sgd\n",
      "\u001b[34m\u001b[1mwandb\u001b[0m: \tstep_size: 5\n"
     ]
    },
    {
     "data": {
      "text/html": [
       "Tracking run with wandb version 0.13.11"
      ],
      "text/plain": [
       "<IPython.core.display.HTML object>"
      ]
     },
     "metadata": {},
     "output_type": "display_data"
    },
    {
     "data": {
      "text/html": [
       "Run data is saved locally in <code>/home/zenon/Documents/master-thesis/classification/classifier/wandb/run-20230313_221511-4dx2f0j8</code>"
      ],
      "text/plain": [
       "<IPython.core.display.HTML object>"
      ]
     },
     "metadata": {},
     "output_type": "display_data"
    },
    {
     "data": {
      "text/html": [
       "Syncing run <strong><a href='https://wandb.ai/flower-classification/pytorch-sweeps-demo/runs/4dx2f0j8' target=\"_blank\">fallen-sweep-10</a></strong> to <a href='https://wandb.ai/flower-classification/pytorch-sweeps-demo' target=\"_blank\">Weights & Biases</a> (<a href='https://wandb.me/run' target=\"_blank\">docs</a>)<br/>Sweep page: <a href='https://wandb.ai/flower-classification/pytorch-sweeps-demo/sweeps/eqwnoagh' target=\"_blank\">https://wandb.ai/flower-classification/pytorch-sweeps-demo/sweeps/eqwnoagh</a>"
      ],
      "text/plain": [
       "<IPython.core.display.HTML object>"
      ]
     },
     "metadata": {},
     "output_type": "display_data"
    },
    {
     "data": {
      "text/html": [
       " View project at <a href='https://wandb.ai/flower-classification/pytorch-sweeps-demo' target=\"_blank\">https://wandb.ai/flower-classification/pytorch-sweeps-demo</a>"
      ],
      "text/plain": [
       "<IPython.core.display.HTML object>"
      ]
     },
     "metadata": {},
     "output_type": "display_data"
    },
    {
     "data": {
      "text/html": [
       " View sweep at <a href='https://wandb.ai/flower-classification/pytorch-sweeps-demo/sweeps/eqwnoagh' target=\"_blank\">https://wandb.ai/flower-classification/pytorch-sweeps-demo/sweeps/eqwnoagh</a>"
      ],
      "text/plain": [
       "<IPython.core.display.HTML object>"
      ]
     },
     "metadata": {},
     "output_type": "display_data"
    },
    {
     "data": {
      "text/html": [
       " View run at <a href='https://wandb.ai/flower-classification/pytorch-sweeps-demo/runs/4dx2f0j8' target=\"_blank\">https://wandb.ai/flower-classification/pytorch-sweeps-demo/runs/4dx2f0j8</a>"
      ],
      "text/plain": [
       "<IPython.core.display.HTML object>"
      ]
     },
     "metadata": {},
     "output_type": "display_data"
    },
    {
     "data": {
      "text/html": [
       "Waiting for W&B process to finish... <strong style=\"color:green\">(success).</strong>"
      ],
      "text/plain": [
       "<IPython.core.display.HTML object>"
      ]
     },
     "metadata": {},
     "output_type": "display_data"
    },
    {
     "data": {
      "application/vnd.jupyter.widget-view+json": {
       "model_id": "93aeee346a4849d88f08125cde60a1ef",
       "version_major": 2,
       "version_minor": 0
      },
      "text/plain": [
       "VBox(children=(Label(value='0.003 MB of 0.027 MB uploaded (0.000 MB deduped)\\r'), FloatProgress(value=0.129230…"
      ]
     },
     "metadata": {},
     "output_type": "display_data"
    },
    {
     "data": {
      "text/html": [
       "<style>\n",
       "    table.wandb td:nth-child(1) { padding: 0 10px; text-align: left ; width: auto;} td:nth-child(2) {text-align: left ; width: 100%}\n",
       "    .wandb-row { display: flex; flex-direction: row; flex-wrap: wrap; justify-content: flex-start; width: 100% }\n",
       "    .wandb-col { display: flex; flex-direction: column; flex-basis: 100%; flex: 1; padding: 10px; }\n",
       "    </style>\n",
       "<div class=\"wandb-row\"><div class=\"wandb-col\"><h3>Run history:</h3><br/><table class=\"wandb\"><tr><td>epoch</td><td>▁▂▃▃▄▅▆▆▇█</td></tr><tr><td>test/epoch_acc</td><td>▁█▅▇▇▇▇▇▇█</td></tr><tr><td>test/epoch_loss</td><td>█▁▄▃▆▅▆▅▅▄</td></tr><tr><td>test/f1-score</td><td>▁█▅▇▇▇▇▇▇█</td></tr><tr><td>test/precision</td><td>▆▅▇▄█▄█▄▁▅</td></tr><tr><td>test/recall</td><td>▁█▅▇▇▇▇▇▇█</td></tr><tr><td>train/batch_loss</td><td>▅▅▆▃▄▃▃▂▂▂▂▂▁▃█▁▅▁▂▂▂▁▁▂▃▁▁▁▁▃▁▁▁▁▁▂▁▁▄▁</td></tr><tr><td>train/epoch_acc</td><td>▁▄▆▆▇█████</td></tr><tr><td>train/epoch_loss</td><td>█▆▄▃▂▂▂▁▁▁</td></tr></table><br/></div><div class=\"wandb-col\"><h3>Run summary:</h3><br/><table class=\"wandb\"><tr><td>epoch</td><td>9</td></tr><tr><td>test/epoch_acc</td><td>0.86667</td></tr><tr><td>test/epoch_loss</td><td>0.37958</td></tr><tr><td>test/f1-score</td><td>0.875</td></tr><tr><td>test/precision</td><td>0.95455</td></tr><tr><td>test/recall</td><td>0.80769</td></tr><tr><td>train/batch_loss</td><td>0.077</td></tr><tr><td>train/epoch_acc</td><td>0.9656</td></tr><tr><td>train/epoch_loss</td><td>0.09797</td></tr></table><br/></div></div>"
      ],
      "text/plain": [
       "<IPython.core.display.HTML object>"
      ]
     },
     "metadata": {},
     "output_type": "display_data"
    },
    {
     "data": {
      "text/html": [
       " View run <strong style=\"color:#cdcd00\">fallen-sweep-10</strong> at: <a href='https://wandb.ai/flower-classification/pytorch-sweeps-demo/runs/4dx2f0j8' target=\"_blank\">https://wandb.ai/flower-classification/pytorch-sweeps-demo/runs/4dx2f0j8</a><br/>Synced 5 W&B file(s), 0 media file(s), 0 artifact file(s) and 0 other file(s)"
      ],
      "text/plain": [
       "<IPython.core.display.HTML object>"
      ]
     },
     "metadata": {},
     "output_type": "display_data"
    },
    {
     "data": {
      "text/html": [
       "Find logs at: <code>./wandb/run-20230313_221511-4dx2f0j8/logs</code>"
      ],
      "text/plain": [
       "<IPython.core.display.HTML object>"
      ]
     },
     "metadata": {},
     "output_type": "display_data"
    },
    {
     "name": "stderr",
     "output_type": "stream",
     "text": [
      "\u001b[34m\u001b[1mwandb\u001b[0m: Sweep Agent: Waiting for job.\n",
      "\u001b[34m\u001b[1mwandb\u001b[0m: Job received.\n",
      "\u001b[34m\u001b[1mwandb\u001b[0m: Agent Starting Run: j93p9uxm with config:\n",
      "\u001b[34m\u001b[1mwandb\u001b[0m: \tbatch_size: 8\n",
      "\u001b[34m\u001b[1mwandb\u001b[0m: \tbeta_one: 0.9\n",
      "\u001b[34m\u001b[1mwandb\u001b[0m: \tbeta_two: 0.5\n",
      "\u001b[34m\u001b[1mwandb\u001b[0m: \tepochs: 10\n",
      "\u001b[34m\u001b[1mwandb\u001b[0m: \teps: 1e-08\n",
      "\u001b[34m\u001b[1mwandb\u001b[0m: \tgamma: 0.1\n",
      "\u001b[34m\u001b[1mwandb\u001b[0m: \tlearning_rate: 0.001\n",
      "\u001b[34m\u001b[1mwandb\u001b[0m: \toptimizer: adam\n",
      "\u001b[34m\u001b[1mwandb\u001b[0m: \tstep_size: 7\n"
     ]
    },
    {
     "data": {
      "text/html": [
       "Tracking run with wandb version 0.13.11"
      ],
      "text/plain": [
       "<IPython.core.display.HTML object>"
      ]
     },
     "metadata": {},
     "output_type": "display_data"
    },
    {
     "data": {
      "text/html": [
       "Run data is saved locally in <code>/home/zenon/Documents/master-thesis/classification/classifier/wandb/run-20230313_222419-j93p9uxm</code>"
      ],
      "text/plain": [
       "<IPython.core.display.HTML object>"
      ]
     },
     "metadata": {},
     "output_type": "display_data"
    },
    {
     "data": {
      "text/html": [
       "Syncing run <strong><a href='https://wandb.ai/flower-classification/pytorch-sweeps-demo/runs/j93p9uxm' target=\"_blank\">revived-sweep-11</a></strong> to <a href='https://wandb.ai/flower-classification/pytorch-sweeps-demo' target=\"_blank\">Weights & Biases</a> (<a href='https://wandb.me/run' target=\"_blank\">docs</a>)<br/>Sweep page: <a href='https://wandb.ai/flower-classification/pytorch-sweeps-demo/sweeps/eqwnoagh' target=\"_blank\">https://wandb.ai/flower-classification/pytorch-sweeps-demo/sweeps/eqwnoagh</a>"
      ],
      "text/plain": [
       "<IPython.core.display.HTML object>"
      ]
     },
     "metadata": {},
     "output_type": "display_data"
    },
    {
     "data": {
      "text/html": [
       " View project at <a href='https://wandb.ai/flower-classification/pytorch-sweeps-demo' target=\"_blank\">https://wandb.ai/flower-classification/pytorch-sweeps-demo</a>"
      ],
      "text/plain": [
       "<IPython.core.display.HTML object>"
      ]
     },
     "metadata": {},
     "output_type": "display_data"
    },
    {
     "data": {
      "text/html": [
       " View sweep at <a href='https://wandb.ai/flower-classification/pytorch-sweeps-demo/sweeps/eqwnoagh' target=\"_blank\">https://wandb.ai/flower-classification/pytorch-sweeps-demo/sweeps/eqwnoagh</a>"
      ],
      "text/plain": [
       "<IPython.core.display.HTML object>"
      ]
     },
     "metadata": {},
     "output_type": "display_data"
    },
    {
     "data": {
      "text/html": [
       " View run at <a href='https://wandb.ai/flower-classification/pytorch-sweeps-demo/runs/j93p9uxm' target=\"_blank\">https://wandb.ai/flower-classification/pytorch-sweeps-demo/runs/j93p9uxm</a>"
      ],
      "text/plain": [
       "<IPython.core.display.HTML object>"
      ]
     },
     "metadata": {},
     "output_type": "display_data"
    },
    {
     "data": {
      "text/html": [
       "Waiting for W&B process to finish... <strong style=\"color:red\">(failed 1).</strong> Press Control-C to abort syncing."
      ],
      "text/plain": [
       "<IPython.core.display.HTML object>"
      ]
     },
     "metadata": {},
     "output_type": "display_data"
    },
    {
     "data": {
      "application/vnd.jupyter.widget-view+json": {
       "model_id": "46df1ce0b91447d0a2e0d047a3864afd",
       "version_major": 2,
       "version_minor": 0
      },
      "text/plain": [
       "VBox(children=(Label(value='0.010 MB of 0.027 MB uploaded (0.000 MB deduped)\\r'), FloatProgress(value=0.369874…"
      ]
     },
     "metadata": {},
     "output_type": "display_data"
    },
    {
     "data": {
      "text/html": [
       "<style>\n",
       "    table.wandb td:nth-child(1) { padding: 0 10px; text-align: left ; width: auto;} td:nth-child(2) {text-align: left ; width: 100%}\n",
       "    .wandb-row { display: flex; flex-direction: row; flex-wrap: wrap; justify-content: flex-start; width: 100% }\n",
       "    .wandb-col { display: flex; flex-direction: column; flex-basis: 100%; flex: 1; padding: 10px; }\n",
       "    </style>\n",
       "<div class=\"wandb-row\"><div class=\"wandb-col\"><h3>Run history:</h3><br/><table class=\"wandb\"><tr><td>epoch</td><td>▁▅█</td></tr><tr><td>test/epoch_acc</td><td>▁█</td></tr><tr><td>test/epoch_loss</td><td>█▁</td></tr><tr><td>test/f1-score</td><td>▁█</td></tr><tr><td>test/precision</td><td>▁█</td></tr><tr><td>test/recall</td><td>█▁</td></tr><tr><td>train/batch_loss</td><td>▁▁▁▁▁▁▁▁▁▁▁▁▁▁▁▁▁▁▁▁▁▁▁▁▁▁▁▁▁▁▁▂▁█▁▁▆▅▁▁</td></tr><tr><td>train/epoch_acc</td><td>█▃▁</td></tr><tr><td>train/epoch_loss</td><td>▁▁█</td></tr></table><br/></div><div class=\"wandb-col\"><h3>Run summary:</h3><br/><table class=\"wandb\"><tr><td>epoch</td><td>2</td></tr><tr><td>test/epoch_acc</td><td>0.56667</td></tr><tr><td>test/epoch_loss</td><td>92431672.3021</td></tr><tr><td>test/f1-score</td><td>0.62136</td></tr><tr><td>test/precision</td><td>0.47761</td></tr><tr><td>test/recall</td><td>0.88889</td></tr><tr><td>train/batch_loss</td><td>7666.14648</td></tr><tr><td>train/epoch_acc</td><td>0.46929</td></tr><tr><td>train/epoch_loss</td><td>4618.08651</td></tr></table><br/></div></div>"
      ],
      "text/plain": [
       "<IPython.core.display.HTML object>"
      ]
     },
     "metadata": {},
     "output_type": "display_data"
    },
    {
     "data": {
      "text/html": [
       " View run <strong style=\"color:#cdcd00\">revived-sweep-11</strong> at: <a href='https://wandb.ai/flower-classification/pytorch-sweeps-demo/runs/j93p9uxm' target=\"_blank\">https://wandb.ai/flower-classification/pytorch-sweeps-demo/runs/j93p9uxm</a><br/>Synced 5 W&B file(s), 0 media file(s), 0 artifact file(s) and 0 other file(s)"
      ],
      "text/plain": [
       "<IPython.core.display.HTML object>"
      ]
     },
     "metadata": {},
     "output_type": "display_data"
    },
    {
     "data": {
      "text/html": [
       "Find logs at: <code>./wandb/run-20230313_222419-j93p9uxm/logs</code>"
      ],
      "text/plain": [
       "<IPython.core.display.HTML object>"
      ]
     },
     "metadata": {},
     "output_type": "display_data"
    },
    {
     "name": "stderr",
     "output_type": "stream",
     "text": [
      "Run j93p9uxm errored: ZeroDivisionError('division by zero')\n",
      "\u001b[34m\u001b[1mwandb\u001b[0m: \u001b[32m\u001b[41mERROR\u001b[0m Run j93p9uxm errored: ZeroDivisionError('division by zero')\n",
      "\u001b[34m\u001b[1mwandb\u001b[0m: Agent Starting Run: pb5m44k2 with config:\n",
      "\u001b[34m\u001b[1mwandb\u001b[0m: \tbatch_size: 4\n",
      "\u001b[34m\u001b[1mwandb\u001b[0m: \tbeta_one: 0.9\n",
      "\u001b[34m\u001b[1mwandb\u001b[0m: \tbeta_two: 0.999\n",
      "\u001b[34m\u001b[1mwandb\u001b[0m: \tepochs: 10\n",
      "\u001b[34m\u001b[1mwandb\u001b[0m: \teps: 1e-08\n",
      "\u001b[34m\u001b[1mwandb\u001b[0m: \tgamma: 0.1\n",
      "\u001b[34m\u001b[1mwandb\u001b[0m: \tlearning_rate: 0.001\n",
      "\u001b[34m\u001b[1mwandb\u001b[0m: \toptimizer: adam\n",
      "\u001b[34m\u001b[1mwandb\u001b[0m: \tstep_size: 5\n"
     ]
    },
    {
     "data": {
      "text/html": [
       "Tracking run with wandb version 0.13.11"
      ],
      "text/plain": [
       "<IPython.core.display.HTML object>"
      ]
     },
     "metadata": {},
     "output_type": "display_data"
    },
    {
     "data": {
      "text/html": [
       "Run data is saved locally in <code>/home/zenon/Documents/master-thesis/classification/classifier/wandb/run-20230313_222656-pb5m44k2</code>"
      ],
      "text/plain": [
       "<IPython.core.display.HTML object>"
      ]
     },
     "metadata": {},
     "output_type": "display_data"
    },
    {
     "data": {
      "text/html": [
       "Syncing run <strong><a href='https://wandb.ai/flower-classification/pytorch-sweeps-demo/runs/pb5m44k2' target=\"_blank\">faithful-sweep-12</a></strong> to <a href='https://wandb.ai/flower-classification/pytorch-sweeps-demo' target=\"_blank\">Weights & Biases</a> (<a href='https://wandb.me/run' target=\"_blank\">docs</a>)<br/>Sweep page: <a href='https://wandb.ai/flower-classification/pytorch-sweeps-demo/sweeps/eqwnoagh' target=\"_blank\">https://wandb.ai/flower-classification/pytorch-sweeps-demo/sweeps/eqwnoagh</a>"
      ],
      "text/plain": [
       "<IPython.core.display.HTML object>"
      ]
     },
     "metadata": {},
     "output_type": "display_data"
    },
    {
     "data": {
      "text/html": [
       " View project at <a href='https://wandb.ai/flower-classification/pytorch-sweeps-demo' target=\"_blank\">https://wandb.ai/flower-classification/pytorch-sweeps-demo</a>"
      ],
      "text/plain": [
       "<IPython.core.display.HTML object>"
      ]
     },
     "metadata": {},
     "output_type": "display_data"
    },
    {
     "data": {
      "text/html": [
       " View sweep at <a href='https://wandb.ai/flower-classification/pytorch-sweeps-demo/sweeps/eqwnoagh' target=\"_blank\">https://wandb.ai/flower-classification/pytorch-sweeps-demo/sweeps/eqwnoagh</a>"
      ],
      "text/plain": [
       "<IPython.core.display.HTML object>"
      ]
     },
     "metadata": {},
     "output_type": "display_data"
    },
    {
     "data": {
      "text/html": [
       " View run at <a href='https://wandb.ai/flower-classification/pytorch-sweeps-demo/runs/pb5m44k2' target=\"_blank\">https://wandb.ai/flower-classification/pytorch-sweeps-demo/runs/pb5m44k2</a>"
      ],
      "text/plain": [
       "<IPython.core.display.HTML object>"
      ]
     },
     "metadata": {},
     "output_type": "display_data"
    },
    {
     "data": {
      "text/html": [
       "Waiting for W&B process to finish... <strong style=\"color:green\">(success).</strong>"
      ],
      "text/plain": [
       "<IPython.core.display.HTML object>"
      ]
     },
     "metadata": {},
     "output_type": "display_data"
    },
    {
     "data": {
      "application/vnd.jupyter.widget-view+json": {
       "model_id": "b54a0c709df84839b6a094fd08e2696d",
       "version_major": 2,
       "version_minor": 0
      },
      "text/plain": [
       "VBox(children=(Label(value='0.003 MB of 0.003 MB uploaded (0.000 MB deduped)\\r'), FloatProgress(value=1.0, max…"
      ]
     },
     "metadata": {},
     "output_type": "display_data"
    },
    {
     "data": {
      "text/html": [
       "<style>\n",
       "    table.wandb td:nth-child(1) { padding: 0 10px; text-align: left ; width: auto;} td:nth-child(2) {text-align: left ; width: 100%}\n",
       "    .wandb-row { display: flex; flex-direction: row; flex-wrap: wrap; justify-content: flex-start; width: 100% }\n",
       "    .wandb-col { display: flex; flex-direction: column; flex-basis: 100%; flex: 1; padding: 10px; }\n",
       "    </style>\n",
       "<div class=\"wandb-row\"><div class=\"wandb-col\"><h3>Run history:</h3><br/><table class=\"wandb\"><tr><td>epoch</td><td>▁▂▃▃▄▅▆▆▇█</td></tr><tr><td>test/epoch_acc</td><td>▅▁▆▃▆▆▇▇▇█</td></tr><tr><td>test/epoch_loss</td><td>▅█▄▅▃▃▂▁▁▁</td></tr><tr><td>test/f1-score</td><td>▄▄▄▁▅▆▇▇▇█</td></tr><tr><td>test/precision</td><td>▆▁█▃▆▆█▇██</td></tr><tr><td>test/recall</td><td>▃█▂▁▄▆▅▆▅▇</td></tr><tr><td>train/batch_loss</td><td>▆▄▂▅▅▄▃▆█▃▂▄▂▁▃▂▄▁▂▂▄▃▅▂▂▅▂▂▃▄▁▄▃▁▂▄▂▂▃▄</td></tr><tr><td>train/epoch_acc</td><td>▁▁▃▃▄▄▆▆▇█</td></tr><tr><td>train/epoch_loss</td><td>█▇▇▆▅▅▃▃▂▁</td></tr></table><br/></div><div class=\"wandb-col\"><h3>Run summary:</h3><br/><table class=\"wandb\"><tr><td>epoch</td><td>9</td></tr><tr><td>test/epoch_acc</td><td>0.78889</td></tr><tr><td>test/epoch_loss</td><td>0.51027</td></tr><tr><td>test/f1-score</td><td>0.78161</td></tr><tr><td>test/precision</td><td>0.7234</td></tr><tr><td>test/recall</td><td>0.85</td></tr><tr><td>train/batch_loss</td><td>0.42048</td></tr><tr><td>train/epoch_acc</td><td>0.82555</td></tr><tr><td>train/epoch_loss</td><td>0.40512</td></tr></table><br/></div></div>"
      ],
      "text/plain": [
       "<IPython.core.display.HTML object>"
      ]
     },
     "metadata": {},
     "output_type": "display_data"
    },
    {
     "data": {
      "text/html": [
       " View run <strong style=\"color:#cdcd00\">faithful-sweep-12</strong> at: <a href='https://wandb.ai/flower-classification/pytorch-sweeps-demo/runs/pb5m44k2' target=\"_blank\">https://wandb.ai/flower-classification/pytorch-sweeps-demo/runs/pb5m44k2</a><br/>Synced 5 W&B file(s), 0 media file(s), 0 artifact file(s) and 0 other file(s)"
      ],
      "text/plain": [
       "<IPython.core.display.HTML object>"
      ]
     },
     "metadata": {},
     "output_type": "display_data"
    },
    {
     "data": {
      "text/html": [
       "Find logs at: <code>./wandb/run-20230313_222656-pb5m44k2/logs</code>"
      ],
      "text/plain": [
       "<IPython.core.display.HTML object>"
      ]
     },
     "metadata": {},
     "output_type": "display_data"
    },
    {
     "name": "stderr",
     "output_type": "stream",
     "text": [
      "\u001b[34m\u001b[1mwandb\u001b[0m: Agent Starting Run: q8m1yt6d with config:\n",
      "\u001b[34m\u001b[1mwandb\u001b[0m: \tbatch_size: 8\n",
      "\u001b[34m\u001b[1mwandb\u001b[0m: \tbeta_one: 0.9\n",
      "\u001b[34m\u001b[1mwandb\u001b[0m: \tbeta_two: 0.5\n",
      "\u001b[34m\u001b[1mwandb\u001b[0m: \tepochs: 10\n",
      "\u001b[34m\u001b[1mwandb\u001b[0m: \teps: 0.1\n",
      "\u001b[34m\u001b[1mwandb\u001b[0m: \tgamma: 0.1\n",
      "\u001b[34m\u001b[1mwandb\u001b[0m: \tlearning_rate: 0.0003\n",
      "\u001b[34m\u001b[1mwandb\u001b[0m: \toptimizer: adam\n",
      "\u001b[34m\u001b[1mwandb\u001b[0m: \tstep_size: 7\n"
     ]
    },
    {
     "data": {
      "text/html": [
       "Tracking run with wandb version 0.13.11"
      ],
      "text/plain": [
       "<IPython.core.display.HTML object>"
      ]
     },
     "metadata": {},
     "output_type": "display_data"
    },
    {
     "data": {
      "text/html": [
       "Run data is saved locally in <code>/home/zenon/Documents/master-thesis/classification/classifier/wandb/run-20230313_223624-q8m1yt6d</code>"
      ],
      "text/plain": [
       "<IPython.core.display.HTML object>"
      ]
     },
     "metadata": {},
     "output_type": "display_data"
    },
    {
     "data": {
      "text/html": [
       "Syncing run <strong><a href='https://wandb.ai/flower-classification/pytorch-sweeps-demo/runs/q8m1yt6d' target=\"_blank\">fine-sweep-13</a></strong> to <a href='https://wandb.ai/flower-classification/pytorch-sweeps-demo' target=\"_blank\">Weights & Biases</a> (<a href='https://wandb.me/run' target=\"_blank\">docs</a>)<br/>Sweep page: <a href='https://wandb.ai/flower-classification/pytorch-sweeps-demo/sweeps/eqwnoagh' target=\"_blank\">https://wandb.ai/flower-classification/pytorch-sweeps-demo/sweeps/eqwnoagh</a>"
      ],
      "text/plain": [
       "<IPython.core.display.HTML object>"
      ]
     },
     "metadata": {},
     "output_type": "display_data"
    },
    {
     "data": {
      "text/html": [
       " View project at <a href='https://wandb.ai/flower-classification/pytorch-sweeps-demo' target=\"_blank\">https://wandb.ai/flower-classification/pytorch-sweeps-demo</a>"
      ],
      "text/plain": [
       "<IPython.core.display.HTML object>"
      ]
     },
     "metadata": {},
     "output_type": "display_data"
    },
    {
     "data": {
      "text/html": [
       " View sweep at <a href='https://wandb.ai/flower-classification/pytorch-sweeps-demo/sweeps/eqwnoagh' target=\"_blank\">https://wandb.ai/flower-classification/pytorch-sweeps-demo/sweeps/eqwnoagh</a>"
      ],
      "text/plain": [
       "<IPython.core.display.HTML object>"
      ]
     },
     "metadata": {},
     "output_type": "display_data"
    },
    {
     "data": {
      "text/html": [
       " View run at <a href='https://wandb.ai/flower-classification/pytorch-sweeps-demo/runs/q8m1yt6d' target=\"_blank\">https://wandb.ai/flower-classification/pytorch-sweeps-demo/runs/q8m1yt6d</a>"
      ],
      "text/plain": [
       "<IPython.core.display.HTML object>"
      ]
     },
     "metadata": {},
     "output_type": "display_data"
    },
    {
     "data": {
      "text/html": [
       "Waiting for W&B process to finish... <strong style=\"color:red\">(failed 1).</strong> Press Control-C to abort syncing."
      ],
      "text/plain": [
       "<IPython.core.display.HTML object>"
      ]
     },
     "metadata": {},
     "output_type": "display_data"
    },
    {
     "data": {
      "text/html": [
       "<style>\n",
       "    table.wandb td:nth-child(1) { padding: 0 10px; text-align: left ; width: auto;} td:nth-child(2) {text-align: left ; width: 100%}\n",
       "    .wandb-row { display: flex; flex-direction: row; flex-wrap: wrap; justify-content: flex-start; width: 100% }\n",
       "    .wandb-col { display: flex; flex-direction: column; flex-basis: 100%; flex: 1; padding: 10px; }\n",
       "    </style>\n",
       "<div class=\"wandb-row\"><div class=\"wandb-col\"><h3>Run history:</h3><br/><table class=\"wandb\"><tr><td>train/batch_loss</td><td>▁</td></tr></table><br/></div><div class=\"wandb-col\"><h3>Run summary:</h3><br/><table class=\"wandb\"><tr><td>train/batch_loss</td><td>0.67379</td></tr></table><br/></div></div>"
      ],
      "text/plain": [
       "<IPython.core.display.HTML object>"
      ]
     },
     "metadata": {},
     "output_type": "display_data"
    },
    {
     "data": {
      "text/html": [
       " View run <strong style=\"color:#cdcd00\">fine-sweep-13</strong> at: <a href='https://wandb.ai/flower-classification/pytorch-sweeps-demo/runs/q8m1yt6d' target=\"_blank\">https://wandb.ai/flower-classification/pytorch-sweeps-demo/runs/q8m1yt6d</a><br/>Synced 5 W&B file(s), 0 media file(s), 0 artifact file(s) and 0 other file(s)"
      ],
      "text/plain": [
       "<IPython.core.display.HTML object>"
      ]
     },
     "metadata": {},
     "output_type": "display_data"
    },
    {
     "data": {
      "text/html": [
       "Find logs at: <code>./wandb/run-20230313_223624-q8m1yt6d/logs</code>"
      ],
      "text/plain": [
       "<IPython.core.display.HTML object>"
      ]
     },
     "metadata": {},
     "output_type": "display_data"
    },
    {
     "name": "stderr",
     "output_type": "stream",
     "text": [
      "Run q8m1yt6d errored: OutOfMemoryError('CUDA out of memory. Tried to allocate 20.00 MiB (GPU 0; 1.95 GiB total capacity; 1.30 GiB already allocated; 11.31 MiB free; 1.32 GiB reserved in total by PyTorch) If reserved memory is >> allocated memory try setting max_split_size_mb to avoid fragmentation.  See documentation for Memory Management and PYTORCH_CUDA_ALLOC_CONF')\n",
      "\u001b[34m\u001b[1mwandb\u001b[0m: \u001b[32m\u001b[41mERROR\u001b[0m Run q8m1yt6d errored: OutOfMemoryError('CUDA out of memory. Tried to allocate 20.00 MiB (GPU 0; 1.95 GiB total capacity; 1.30 GiB already allocated; 11.31 MiB free; 1.32 GiB reserved in total by PyTorch) If reserved memory is >> allocated memory try setting max_split_size_mb to avoid fragmentation.  See documentation for Memory Management and PYTORCH_CUDA_ALLOC_CONF')\n",
      "\u001b[34m\u001b[1mwandb\u001b[0m: Sweep Agent: Waiting for job.\n",
      "\u001b[34m\u001b[1mwandb\u001b[0m: Job received.\n",
      "\u001b[34m\u001b[1mwandb\u001b[0m: Agent Starting Run: f3kiw40d with config:\n",
      "\u001b[34m\u001b[1mwandb\u001b[0m: \tbatch_size: 8\n",
      "\u001b[34m\u001b[1mwandb\u001b[0m: \tbeta_one: 0.99\n",
      "\u001b[34m\u001b[1mwandb\u001b[0m: \tbeta_two: 0.5\n",
      "\u001b[34m\u001b[1mwandb\u001b[0m: \tepochs: 10\n",
      "\u001b[34m\u001b[1mwandb\u001b[0m: \teps: 1\n",
      "\u001b[34m\u001b[1mwandb\u001b[0m: \tgamma: 0.1\n",
      "\u001b[34m\u001b[1mwandb\u001b[0m: \tlearning_rate: 0.001\n",
      "\u001b[34m\u001b[1mwandb\u001b[0m: \toptimizer: sgd\n",
      "\u001b[34m\u001b[1mwandb\u001b[0m: \tstep_size: 5\n"
     ]
    },
    {
     "data": {
      "text/html": [
       "Tracking run with wandb version 0.13.11"
      ],
      "text/plain": [
       "<IPython.core.display.HTML object>"
      ]
     },
     "metadata": {},
     "output_type": "display_data"
    },
    {
     "data": {
      "text/html": [
       "Run data is saved locally in <code>/home/zenon/Documents/master-thesis/classification/classifier/wandb/run-20230313_223651-f3kiw40d</code>"
      ],
      "text/plain": [
       "<IPython.core.display.HTML object>"
      ]
     },
     "metadata": {},
     "output_type": "display_data"
    },
    {
     "data": {
      "text/html": [
       "Syncing run <strong><a href='https://wandb.ai/flower-classification/pytorch-sweeps-demo/runs/f3kiw40d' target=\"_blank\">devout-sweep-14</a></strong> to <a href='https://wandb.ai/flower-classification/pytorch-sweeps-demo' target=\"_blank\">Weights & Biases</a> (<a href='https://wandb.me/run' target=\"_blank\">docs</a>)<br/>Sweep page: <a href='https://wandb.ai/flower-classification/pytorch-sweeps-demo/sweeps/eqwnoagh' target=\"_blank\">https://wandb.ai/flower-classification/pytorch-sweeps-demo/sweeps/eqwnoagh</a>"
      ],
      "text/plain": [
       "<IPython.core.display.HTML object>"
      ]
     },
     "metadata": {},
     "output_type": "display_data"
    },
    {
     "data": {
      "text/html": [
       " View project at <a href='https://wandb.ai/flower-classification/pytorch-sweeps-demo' target=\"_blank\">https://wandb.ai/flower-classification/pytorch-sweeps-demo</a>"
      ],
      "text/plain": [
       "<IPython.core.display.HTML object>"
      ]
     },
     "metadata": {},
     "output_type": "display_data"
    },
    {
     "data": {
      "text/html": [
       " View sweep at <a href='https://wandb.ai/flower-classification/pytorch-sweeps-demo/sweeps/eqwnoagh' target=\"_blank\">https://wandb.ai/flower-classification/pytorch-sweeps-demo/sweeps/eqwnoagh</a>"
      ],
      "text/plain": [
       "<IPython.core.display.HTML object>"
      ]
     },
     "metadata": {},
     "output_type": "display_data"
    },
    {
     "data": {
      "text/html": [
       " View run at <a href='https://wandb.ai/flower-classification/pytorch-sweeps-demo/runs/f3kiw40d' target=\"_blank\">https://wandb.ai/flower-classification/pytorch-sweeps-demo/runs/f3kiw40d</a>"
      ],
      "text/plain": [
       "<IPython.core.display.HTML object>"
      ]
     },
     "metadata": {},
     "output_type": "display_data"
    },
    {
     "data": {
      "text/html": [
       "Waiting for W&B process to finish... <strong style=\"color:red\">(failed 1).</strong> Press Control-C to abort syncing."
      ],
      "text/plain": [
       "<IPython.core.display.HTML object>"
      ]
     },
     "metadata": {},
     "output_type": "display_data"
    },
    {
     "data": {
      "application/vnd.jupyter.widget-view+json": {
       "model_id": "5b4942d4dbd04d5baa953dbdfe4608de",
       "version_major": 2,
       "version_minor": 0
      },
      "text/plain": [
       "VBox(children=(Label(value='0.027 MB of 0.027 MB uploaded (0.000 MB deduped)\\r'), FloatProgress(value=1.0, max…"
      ]
     },
     "metadata": {},
     "output_type": "display_data"
    },
    {
     "data": {
      "text/html": [
       " View run <strong style=\"color:#cdcd00\">devout-sweep-14</strong> at: <a href='https://wandb.ai/flower-classification/pytorch-sweeps-demo/runs/f3kiw40d' target=\"_blank\">https://wandb.ai/flower-classification/pytorch-sweeps-demo/runs/f3kiw40d</a><br/>Synced 5 W&B file(s), 0 media file(s), 0 artifact file(s) and 0 other file(s)"
      ],
      "text/plain": [
       "<IPython.core.display.HTML object>"
      ]
     },
     "metadata": {},
     "output_type": "display_data"
    },
    {
     "data": {
      "text/html": [
       "Find logs at: <code>./wandb/run-20230313_223651-f3kiw40d/logs</code>"
      ],
      "text/plain": [
       "<IPython.core.display.HTML object>"
      ]
     },
     "metadata": {},
     "output_type": "display_data"
    },
    {
     "name": "stderr",
     "output_type": "stream",
     "text": [
      "Run f3kiw40d errored: OutOfMemoryError('CUDA out of memory. Tried to allocate 20.00 MiB (GPU 0; 1.95 GiB total capacity; 1.32 GiB already allocated; 3.31 MiB free; 1.33 GiB reserved in total by PyTorch) If reserved memory is >> allocated memory try setting max_split_size_mb to avoid fragmentation.  See documentation for Memory Management and PYTORCH_CUDA_ALLOC_CONF')\n",
      "\u001b[34m\u001b[1mwandb\u001b[0m: \u001b[32m\u001b[41mERROR\u001b[0m Run f3kiw40d errored: OutOfMemoryError('CUDA out of memory. Tried to allocate 20.00 MiB (GPU 0; 1.95 GiB total capacity; 1.32 GiB already allocated; 3.31 MiB free; 1.33 GiB reserved in total by PyTorch) If reserved memory is >> allocated memory try setting max_split_size_mb to avoid fragmentation.  See documentation for Memory Management and PYTORCH_CUDA_ALLOC_CONF')\n",
      "\u001b[34m\u001b[1mwandb\u001b[0m: Agent Starting Run: i0xsie8j with config:\n",
      "\u001b[34m\u001b[1mwandb\u001b[0m: \tbatch_size: 8\n",
      "\u001b[34m\u001b[1mwandb\u001b[0m: \tbeta_one: 0.9\n",
      "\u001b[34m\u001b[1mwandb\u001b[0m: \tbeta_two: 0.99\n",
      "\u001b[34m\u001b[1mwandb\u001b[0m: \tepochs: 10\n",
      "\u001b[34m\u001b[1mwandb\u001b[0m: \teps: 0.1\n",
      "\u001b[34m\u001b[1mwandb\u001b[0m: \tgamma: 0.5\n",
      "\u001b[34m\u001b[1mwandb\u001b[0m: \tlearning_rate: 0.001\n",
      "\u001b[34m\u001b[1mwandb\u001b[0m: \toptimizer: sgd\n",
      "\u001b[34m\u001b[1mwandb\u001b[0m: \tstep_size: 7\n"
     ]
    },
    {
     "data": {
      "text/html": [
       "Tracking run with wandb version 0.13.11"
      ],
      "text/plain": [
       "<IPython.core.display.HTML object>"
      ]
     },
     "metadata": {},
     "output_type": "display_data"
    },
    {
     "data": {
      "text/html": [
       "Run data is saved locally in <code>/home/zenon/Documents/master-thesis/classification/classifier/wandb/run-20230313_223710-i0xsie8j</code>"
      ],
      "text/plain": [
       "<IPython.core.display.HTML object>"
      ]
     },
     "metadata": {},
     "output_type": "display_data"
    },
    {
     "data": {
      "text/html": [
       "Syncing run <strong><a href='https://wandb.ai/flower-classification/pytorch-sweeps-demo/runs/i0xsie8j' target=\"_blank\">restful-sweep-15</a></strong> to <a href='https://wandb.ai/flower-classification/pytorch-sweeps-demo' target=\"_blank\">Weights & Biases</a> (<a href='https://wandb.me/run' target=\"_blank\">docs</a>)<br/>Sweep page: <a href='https://wandb.ai/flower-classification/pytorch-sweeps-demo/sweeps/eqwnoagh' target=\"_blank\">https://wandb.ai/flower-classification/pytorch-sweeps-demo/sweeps/eqwnoagh</a>"
      ],
      "text/plain": [
       "<IPython.core.display.HTML object>"
      ]
     },
     "metadata": {},
     "output_type": "display_data"
    },
    {
     "data": {
      "text/html": [
       " View project at <a href='https://wandb.ai/flower-classification/pytorch-sweeps-demo' target=\"_blank\">https://wandb.ai/flower-classification/pytorch-sweeps-demo</a>"
      ],
      "text/plain": [
       "<IPython.core.display.HTML object>"
      ]
     },
     "metadata": {},
     "output_type": "display_data"
    },
    {
     "data": {
      "text/html": [
       " View sweep at <a href='https://wandb.ai/flower-classification/pytorch-sweeps-demo/sweeps/eqwnoagh' target=\"_blank\">https://wandb.ai/flower-classification/pytorch-sweeps-demo/sweeps/eqwnoagh</a>"
      ],
      "text/plain": [
       "<IPython.core.display.HTML object>"
      ]
     },
     "metadata": {},
     "output_type": "display_data"
    },
    {
     "data": {
      "text/html": [
       " View run at <a href='https://wandb.ai/flower-classification/pytorch-sweeps-demo/runs/i0xsie8j' target=\"_blank\">https://wandb.ai/flower-classification/pytorch-sweeps-demo/runs/i0xsie8j</a>"
      ],
      "text/plain": [
       "<IPython.core.display.HTML object>"
      ]
     },
     "metadata": {},
     "output_type": "display_data"
    },
    {
     "data": {
      "text/html": [
       "Waiting for W&B process to finish... <strong style=\"color:red\">(failed 1).</strong> Press Control-C to abort syncing."
      ],
      "text/plain": [
       "<IPython.core.display.HTML object>"
      ]
     },
     "metadata": {},
     "output_type": "display_data"
    },
    {
     "data": {
      "text/html": [
       " View run <strong style=\"color:#cdcd00\">restful-sweep-15</strong> at: <a href='https://wandb.ai/flower-classification/pytorch-sweeps-demo/runs/i0xsie8j' target=\"_blank\">https://wandb.ai/flower-classification/pytorch-sweeps-demo/runs/i0xsie8j</a><br/>Synced 5 W&B file(s), 0 media file(s), 0 artifact file(s) and 0 other file(s)"
      ],
      "text/plain": [
       "<IPython.core.display.HTML object>"
      ]
     },
     "metadata": {},
     "output_type": "display_data"
    },
    {
     "data": {
      "text/html": [
       "Find logs at: <code>./wandb/run-20230313_223710-i0xsie8j/logs</code>"
      ],
      "text/plain": [
       "<IPython.core.display.HTML object>"
      ]
     },
     "metadata": {},
     "output_type": "display_data"
    },
    {
     "name": "stderr",
     "output_type": "stream",
     "text": [
      "Run i0xsie8j errored: OutOfMemoryError('CUDA out of memory. Tried to allocate 2.00 MiB (GPU 0; 1.95 GiB total capacity; 1.32 GiB already allocated; 1.31 MiB free; 1.33 GiB reserved in total by PyTorch) If reserved memory is >> allocated memory try setting max_split_size_mb to avoid fragmentation.  See documentation for Memory Management and PYTORCH_CUDA_ALLOC_CONF')\n",
      "\u001b[34m\u001b[1mwandb\u001b[0m: \u001b[32m\u001b[41mERROR\u001b[0m Run i0xsie8j errored: OutOfMemoryError('CUDA out of memory. Tried to allocate 2.00 MiB (GPU 0; 1.95 GiB total capacity; 1.32 GiB already allocated; 1.31 MiB free; 1.33 GiB reserved in total by PyTorch) If reserved memory is >> allocated memory try setting max_split_size_mb to avoid fragmentation.  See documentation for Memory Management and PYTORCH_CUDA_ALLOC_CONF')\n",
      "\u001b[34m\u001b[1mwandb\u001b[0m: Sweep Agent: Waiting for job.\n",
      "\u001b[34m\u001b[1mwandb\u001b[0m: Job received.\n",
      "\u001b[34m\u001b[1mwandb\u001b[0m: Agent Starting Run: bi477kch with config:\n",
      "\u001b[34m\u001b[1mwandb\u001b[0m: \tbatch_size: 8\n",
      "\u001b[34m\u001b[1mwandb\u001b[0m: \tbeta_one: 0.99\n",
      "\u001b[34m\u001b[1mwandb\u001b[0m: \tbeta_two: 0.99\n",
      "\u001b[34m\u001b[1mwandb\u001b[0m: \tepochs: 10\n",
      "\u001b[34m\u001b[1mwandb\u001b[0m: \teps: 1e-08\n",
      "\u001b[34m\u001b[1mwandb\u001b[0m: \tgamma: 0.5\n",
      "\u001b[34m\u001b[1mwandb\u001b[0m: \tlearning_rate: 0.0001\n",
      "\u001b[34m\u001b[1mwandb\u001b[0m: \toptimizer: sgd\n",
      "\u001b[34m\u001b[1mwandb\u001b[0m: \tstep_size: 5\n"
     ]
    },
    {
     "data": {
      "text/html": [
       "Tracking run with wandb version 0.13.11"
      ],
      "text/plain": [
       "<IPython.core.display.HTML object>"
      ]
     },
     "metadata": {},
     "output_type": "display_data"
    },
    {
     "data": {
      "text/html": [
       "Run data is saved locally in <code>/home/zenon/Documents/master-thesis/classification/classifier/wandb/run-20230313_223736-bi477kch</code>"
      ],
      "text/plain": [
       "<IPython.core.display.HTML object>"
      ]
     },
     "metadata": {},
     "output_type": "display_data"
    },
    {
     "data": {
      "text/html": [
       "Syncing run <strong><a href='https://wandb.ai/flower-classification/pytorch-sweeps-demo/runs/bi477kch' target=\"_blank\">pretty-sweep-16</a></strong> to <a href='https://wandb.ai/flower-classification/pytorch-sweeps-demo' target=\"_blank\">Weights & Biases</a> (<a href='https://wandb.me/run' target=\"_blank\">docs</a>)<br/>Sweep page: <a href='https://wandb.ai/flower-classification/pytorch-sweeps-demo/sweeps/eqwnoagh' target=\"_blank\">https://wandb.ai/flower-classification/pytorch-sweeps-demo/sweeps/eqwnoagh</a>"
      ],
      "text/plain": [
       "<IPython.core.display.HTML object>"
      ]
     },
     "metadata": {},
     "output_type": "display_data"
    },
    {
     "data": {
      "text/html": [
       " View project at <a href='https://wandb.ai/flower-classification/pytorch-sweeps-demo' target=\"_blank\">https://wandb.ai/flower-classification/pytorch-sweeps-demo</a>"
      ],
      "text/plain": [
       "<IPython.core.display.HTML object>"
      ]
     },
     "metadata": {},
     "output_type": "display_data"
    },
    {
     "data": {
      "text/html": [
       " View sweep at <a href='https://wandb.ai/flower-classification/pytorch-sweeps-demo/sweeps/eqwnoagh' target=\"_blank\">https://wandb.ai/flower-classification/pytorch-sweeps-demo/sweeps/eqwnoagh</a>"
      ],
      "text/plain": [
       "<IPython.core.display.HTML object>"
      ]
     },
     "metadata": {},
     "output_type": "display_data"
    },
    {
     "data": {
      "text/html": [
       " View run at <a href='https://wandb.ai/flower-classification/pytorch-sweeps-demo/runs/bi477kch' target=\"_blank\">https://wandb.ai/flower-classification/pytorch-sweeps-demo/runs/bi477kch</a>"
      ],
      "text/plain": [
       "<IPython.core.display.HTML object>"
      ]
     },
     "metadata": {},
     "output_type": "display_data"
    },
    {
     "data": {
      "text/html": [
       "Waiting for W&B process to finish... <strong style=\"color:red\">(failed 1).</strong> Press Control-C to abort syncing."
      ],
      "text/plain": [
       "<IPython.core.display.HTML object>"
      ]
     },
     "metadata": {},
     "output_type": "display_data"
    },
    {
     "data": {
      "text/html": [
       " View run <strong style=\"color:#cdcd00\">pretty-sweep-16</strong> at: <a href='https://wandb.ai/flower-classification/pytorch-sweeps-demo/runs/bi477kch' target=\"_blank\">https://wandb.ai/flower-classification/pytorch-sweeps-demo/runs/bi477kch</a><br/>Synced 5 W&B file(s), 0 media file(s), 0 artifact file(s) and 0 other file(s)"
      ],
      "text/plain": [
       "<IPython.core.display.HTML object>"
      ]
     },
     "metadata": {},
     "output_type": "display_data"
    },
    {
     "data": {
      "text/html": [
       "Find logs at: <code>./wandb/run-20230313_223736-bi477kch/logs</code>"
      ],
      "text/plain": [
       "<IPython.core.display.HTML object>"
      ]
     },
     "metadata": {},
     "output_type": "display_data"
    },
    {
     "name": "stderr",
     "output_type": "stream",
     "text": [
      "Run bi477kch errored: OutOfMemoryError('CUDA out of memory. Tried to allocate 2.00 MiB (GPU 0; 1.95 GiB total capacity; 1.32 GiB already allocated; 1.31 MiB free; 1.33 GiB reserved in total by PyTorch) If reserved memory is >> allocated memory try setting max_split_size_mb to avoid fragmentation.  See documentation for Memory Management and PYTORCH_CUDA_ALLOC_CONF')\n",
      "\u001b[34m\u001b[1mwandb\u001b[0m: \u001b[32m\u001b[41mERROR\u001b[0m Run bi477kch errored: OutOfMemoryError('CUDA out of memory. Tried to allocate 2.00 MiB (GPU 0; 1.95 GiB total capacity; 1.32 GiB already allocated; 1.31 MiB free; 1.33 GiB reserved in total by PyTorch) If reserved memory is >> allocated memory try setting max_split_size_mb to avoid fragmentation.  See documentation for Memory Management and PYTORCH_CUDA_ALLOC_CONF')\n",
      "\u001b[34m\u001b[1mwandb\u001b[0m: Agent Starting Run: 7jmkpkmh with config:\n",
      "\u001b[34m\u001b[1mwandb\u001b[0m: \tbatch_size: 8\n",
      "\u001b[34m\u001b[1mwandb\u001b[0m: \tbeta_one: 0.99\n",
      "\u001b[34m\u001b[1mwandb\u001b[0m: \tbeta_two: 0.99\n",
      "\u001b[34m\u001b[1mwandb\u001b[0m: \tepochs: 10\n",
      "\u001b[34m\u001b[1mwandb\u001b[0m: \teps: 0.1\n",
      "\u001b[34m\u001b[1mwandb\u001b[0m: \tgamma: 0.1\n",
      "\u001b[34m\u001b[1mwandb\u001b[0m: \tlearning_rate: 0.0001\n",
      "\u001b[34m\u001b[1mwandb\u001b[0m: \toptimizer: adam\n",
      "\u001b[34m\u001b[1mwandb\u001b[0m: \tstep_size: 7\n"
     ]
    },
    {
     "data": {
      "text/html": [
       "Tracking run with wandb version 0.13.11"
      ],
      "text/plain": [
       "<IPython.core.display.HTML object>"
      ]
     },
     "metadata": {},
     "output_type": "display_data"
    },
    {
     "data": {
      "text/html": [
       "Run data is saved locally in <code>/home/zenon/Documents/master-thesis/classification/classifier/wandb/run-20230313_223752-7jmkpkmh</code>"
      ],
      "text/plain": [
       "<IPython.core.display.HTML object>"
      ]
     },
     "metadata": {},
     "output_type": "display_data"
    },
    {
     "data": {
      "text/html": [
       "Syncing run <strong><a href='https://wandb.ai/flower-classification/pytorch-sweeps-demo/runs/7jmkpkmh' target=\"_blank\">daily-sweep-17</a></strong> to <a href='https://wandb.ai/flower-classification/pytorch-sweeps-demo' target=\"_blank\">Weights & Biases</a> (<a href='https://wandb.me/run' target=\"_blank\">docs</a>)<br/>Sweep page: <a href='https://wandb.ai/flower-classification/pytorch-sweeps-demo/sweeps/eqwnoagh' target=\"_blank\">https://wandb.ai/flower-classification/pytorch-sweeps-demo/sweeps/eqwnoagh</a>"
      ],
      "text/plain": [
       "<IPython.core.display.HTML object>"
      ]
     },
     "metadata": {},
     "output_type": "display_data"
    },
    {
     "data": {
      "text/html": [
       " View project at <a href='https://wandb.ai/flower-classification/pytorch-sweeps-demo' target=\"_blank\">https://wandb.ai/flower-classification/pytorch-sweeps-demo</a>"
      ],
      "text/plain": [
       "<IPython.core.display.HTML object>"
      ]
     },
     "metadata": {},
     "output_type": "display_data"
    },
    {
     "data": {
      "text/html": [
       " View sweep at <a href='https://wandb.ai/flower-classification/pytorch-sweeps-demo/sweeps/eqwnoagh' target=\"_blank\">https://wandb.ai/flower-classification/pytorch-sweeps-demo/sweeps/eqwnoagh</a>"
      ],
      "text/plain": [
       "<IPython.core.display.HTML object>"
      ]
     },
     "metadata": {},
     "output_type": "display_data"
    },
    {
     "data": {
      "text/html": [
       " View run at <a href='https://wandb.ai/flower-classification/pytorch-sweeps-demo/runs/7jmkpkmh' target=\"_blank\">https://wandb.ai/flower-classification/pytorch-sweeps-demo/runs/7jmkpkmh</a>"
      ],
      "text/plain": [
       "<IPython.core.display.HTML object>"
      ]
     },
     "metadata": {},
     "output_type": "display_data"
    },
    {
     "data": {
      "text/html": [
       "Waiting for W&B process to finish... <strong style=\"color:red\">(failed 1).</strong> Press Control-C to abort syncing."
      ],
      "text/plain": [
       "<IPython.core.display.HTML object>"
      ]
     },
     "metadata": {},
     "output_type": "display_data"
    },
    {
     "data": {
      "text/html": [
       " View run <strong style=\"color:#cdcd00\">daily-sweep-17</strong> at: <a href='https://wandb.ai/flower-classification/pytorch-sweeps-demo/runs/7jmkpkmh' target=\"_blank\">https://wandb.ai/flower-classification/pytorch-sweeps-demo/runs/7jmkpkmh</a><br/>Synced 5 W&B file(s), 0 media file(s), 0 artifact file(s) and 0 other file(s)"
      ],
      "text/plain": [
       "<IPython.core.display.HTML object>"
      ]
     },
     "metadata": {},
     "output_type": "display_data"
    },
    {
     "data": {
      "text/html": [
       "Find logs at: <code>./wandb/run-20230313_223752-7jmkpkmh/logs</code>"
      ],
      "text/plain": [
       "<IPython.core.display.HTML object>"
      ]
     },
     "metadata": {},
     "output_type": "display_data"
    },
    {
     "name": "stderr",
     "output_type": "stream",
     "text": [
      "Run 7jmkpkmh errored: OutOfMemoryError('CUDA out of memory. Tried to allocate 2.00 MiB (GPU 0; 1.95 GiB total capacity; 1.32 GiB already allocated; 1.31 MiB free; 1.33 GiB reserved in total by PyTorch) If reserved memory is >> allocated memory try setting max_split_size_mb to avoid fragmentation.  See documentation for Memory Management and PYTORCH_CUDA_ALLOC_CONF')\n",
      "\u001b[34m\u001b[1mwandb\u001b[0m: \u001b[32m\u001b[41mERROR\u001b[0m Run 7jmkpkmh errored: OutOfMemoryError('CUDA out of memory. Tried to allocate 2.00 MiB (GPU 0; 1.95 GiB total capacity; 1.32 GiB already allocated; 1.31 MiB free; 1.33 GiB reserved in total by PyTorch) If reserved memory is >> allocated memory try setting max_split_size_mb to avoid fragmentation.  See documentation for Memory Management and PYTORCH_CUDA_ALLOC_CONF')\n",
      "\u001b[34m\u001b[1mwandb\u001b[0m: Agent Starting Run: pc0kaw45 with config:\n",
      "\u001b[34m\u001b[1mwandb\u001b[0m: \tbatch_size: 4\n",
      "\u001b[34m\u001b[1mwandb\u001b[0m: \tbeta_one: 0.9\n",
      "\u001b[34m\u001b[1mwandb\u001b[0m: \tbeta_two: 0.99\n",
      "\u001b[34m\u001b[1mwandb\u001b[0m: \tepochs: 10\n",
      "\u001b[34m\u001b[1mwandb\u001b[0m: \teps: 0.1\n",
      "\u001b[34m\u001b[1mwandb\u001b[0m: \tgamma: 0.1\n",
      "\u001b[34m\u001b[1mwandb\u001b[0m: \tlearning_rate: 0.0003\n",
      "\u001b[34m\u001b[1mwandb\u001b[0m: \toptimizer: adam\n",
      "\u001b[34m\u001b[1mwandb\u001b[0m: \tstep_size: 5\n"
     ]
    },
    {
     "data": {
      "text/html": [
       "Tracking run with wandb version 0.13.11"
      ],
      "text/plain": [
       "<IPython.core.display.HTML object>"
      ]
     },
     "metadata": {},
     "output_type": "display_data"
    },
    {
     "data": {
      "text/html": [
       "Run data is saved locally in <code>/home/zenon/Documents/master-thesis/classification/classifier/wandb/run-20230313_223812-pc0kaw45</code>"
      ],
      "text/plain": [
       "<IPython.core.display.HTML object>"
      ]
     },
     "metadata": {},
     "output_type": "display_data"
    },
    {
     "data": {
      "text/html": [
       "Syncing run <strong><a href='https://wandb.ai/flower-classification/pytorch-sweeps-demo/runs/pc0kaw45' target=\"_blank\">dutiful-sweep-18</a></strong> to <a href='https://wandb.ai/flower-classification/pytorch-sweeps-demo' target=\"_blank\">Weights & Biases</a> (<a href='https://wandb.me/run' target=\"_blank\">docs</a>)<br/>Sweep page: <a href='https://wandb.ai/flower-classification/pytorch-sweeps-demo/sweeps/eqwnoagh' target=\"_blank\">https://wandb.ai/flower-classification/pytorch-sweeps-demo/sweeps/eqwnoagh</a>"
      ],
      "text/plain": [
       "<IPython.core.display.HTML object>"
      ]
     },
     "metadata": {},
     "output_type": "display_data"
    },
    {
     "data": {
      "text/html": [
       " View project at <a href='https://wandb.ai/flower-classification/pytorch-sweeps-demo' target=\"_blank\">https://wandb.ai/flower-classification/pytorch-sweeps-demo</a>"
      ],
      "text/plain": [
       "<IPython.core.display.HTML object>"
      ]
     },
     "metadata": {},
     "output_type": "display_data"
    },
    {
     "data": {
      "text/html": [
       " View sweep at <a href='https://wandb.ai/flower-classification/pytorch-sweeps-demo/sweeps/eqwnoagh' target=\"_blank\">https://wandb.ai/flower-classification/pytorch-sweeps-demo/sweeps/eqwnoagh</a>"
      ],
      "text/plain": [
       "<IPython.core.display.HTML object>"
      ]
     },
     "metadata": {},
     "output_type": "display_data"
    },
    {
     "data": {
      "text/html": [
       " View run at <a href='https://wandb.ai/flower-classification/pytorch-sweeps-demo/runs/pc0kaw45' target=\"_blank\">https://wandb.ai/flower-classification/pytorch-sweeps-demo/runs/pc0kaw45</a>"
      ],
      "text/plain": [
       "<IPython.core.display.HTML object>"
      ]
     },
     "metadata": {},
     "output_type": "display_data"
    },
    {
     "data": {
      "text/html": [
       "Waiting for W&B process to finish... <strong style=\"color:red\">(failed 1).</strong> Press Control-C to abort syncing."
      ],
      "text/plain": [
       "<IPython.core.display.HTML object>"
      ]
     },
     "metadata": {},
     "output_type": "display_data"
    },
    {
     "data": {
      "application/vnd.jupyter.widget-view+json": {
       "model_id": "202c31bd32e34897b89b9f828ad6301e",
       "version_major": 2,
       "version_minor": 0
      },
      "text/plain": [
       "VBox(children=(Label(value='0.027 MB of 0.027 MB uploaded (0.000 MB deduped)\\r'), FloatProgress(value=1.0, max…"
      ]
     },
     "metadata": {},
     "output_type": "display_data"
    },
    {
     "data": {
      "text/html": [
       " View run <strong style=\"color:#cdcd00\">dutiful-sweep-18</strong> at: <a href='https://wandb.ai/flower-classification/pytorch-sweeps-demo/runs/pc0kaw45' target=\"_blank\">https://wandb.ai/flower-classification/pytorch-sweeps-demo/runs/pc0kaw45</a><br/>Synced 5 W&B file(s), 0 media file(s), 0 artifact file(s) and 0 other file(s)"
      ],
      "text/plain": [
       "<IPython.core.display.HTML object>"
      ]
     },
     "metadata": {},
     "output_type": "display_data"
    },
    {
     "data": {
      "text/html": [
       "Find logs at: <code>./wandb/run-20230313_223812-pc0kaw45/logs</code>"
      ],
      "text/plain": [
       "<IPython.core.display.HTML object>"
      ]
     },
     "metadata": {},
     "output_type": "display_data"
    },
    {
     "name": "stderr",
     "output_type": "stream",
     "text": [
      "Run pc0kaw45 errored: OutOfMemoryError('CUDA out of memory. Tried to allocate 2.00 MiB (GPU 0; 1.95 GiB total capacity; 1.32 GiB already allocated; 1.31 MiB free; 1.33 GiB reserved in total by PyTorch) If reserved memory is >> allocated memory try setting max_split_size_mb to avoid fragmentation.  See documentation for Memory Management and PYTORCH_CUDA_ALLOC_CONF')\n",
      "\u001b[34m\u001b[1mwandb\u001b[0m: \u001b[32m\u001b[41mERROR\u001b[0m Run pc0kaw45 errored: OutOfMemoryError('CUDA out of memory. Tried to allocate 2.00 MiB (GPU 0; 1.95 GiB total capacity; 1.32 GiB already allocated; 1.31 MiB free; 1.33 GiB reserved in total by PyTorch) If reserved memory is >> allocated memory try setting max_split_size_mb to avoid fragmentation.  See documentation for Memory Management and PYTORCH_CUDA_ALLOC_CONF')\n",
      "\u001b[34m\u001b[1mwandb\u001b[0m: Agent Starting Run: o04kggii with config:\n",
      "\u001b[34m\u001b[1mwandb\u001b[0m: \tbatch_size: 4\n",
      "\u001b[34m\u001b[1mwandb\u001b[0m: \tbeta_one: 0.99\n",
      "\u001b[34m\u001b[1mwandb\u001b[0m: \tbeta_two: 0.999\n",
      "\u001b[34m\u001b[1mwandb\u001b[0m: \tepochs: 10\n",
      "\u001b[34m\u001b[1mwandb\u001b[0m: \teps: 1\n",
      "\u001b[34m\u001b[1mwandb\u001b[0m: \tgamma: 0.1\n",
      "\u001b[34m\u001b[1mwandb\u001b[0m: \tlearning_rate: 0.001\n",
      "\u001b[34m\u001b[1mwandb\u001b[0m: \toptimizer: adam\n",
      "\u001b[34m\u001b[1mwandb\u001b[0m: \tstep_size: 7\n"
     ]
    },
    {
     "data": {
      "text/html": [
       "Tracking run with wandb version 0.13.11"
      ],
      "text/plain": [
       "<IPython.core.display.HTML object>"
      ]
     },
     "metadata": {},
     "output_type": "display_data"
    },
    {
     "data": {
      "text/html": [
       "Run data is saved locally in <code>/home/zenon/Documents/master-thesis/classification/classifier/wandb/run-20230313_223833-o04kggii</code>"
      ],
      "text/plain": [
       "<IPython.core.display.HTML object>"
      ]
     },
     "metadata": {},
     "output_type": "display_data"
    },
    {
     "data": {
      "text/html": [
       "Syncing run <strong><a href='https://wandb.ai/flower-classification/pytorch-sweeps-demo/runs/o04kggii' target=\"_blank\">glad-sweep-19</a></strong> to <a href='https://wandb.ai/flower-classification/pytorch-sweeps-demo' target=\"_blank\">Weights & Biases</a> (<a href='https://wandb.me/run' target=\"_blank\">docs</a>)<br/>Sweep page: <a href='https://wandb.ai/flower-classification/pytorch-sweeps-demo/sweeps/eqwnoagh' target=\"_blank\">https://wandb.ai/flower-classification/pytorch-sweeps-demo/sweeps/eqwnoagh</a>"
      ],
      "text/plain": [
       "<IPython.core.display.HTML object>"
      ]
     },
     "metadata": {},
     "output_type": "display_data"
    },
    {
     "data": {
      "text/html": [
       " View project at <a href='https://wandb.ai/flower-classification/pytorch-sweeps-demo' target=\"_blank\">https://wandb.ai/flower-classification/pytorch-sweeps-demo</a>"
      ],
      "text/plain": [
       "<IPython.core.display.HTML object>"
      ]
     },
     "metadata": {},
     "output_type": "display_data"
    },
    {
     "data": {
      "text/html": [
       " View sweep at <a href='https://wandb.ai/flower-classification/pytorch-sweeps-demo/sweeps/eqwnoagh' target=\"_blank\">https://wandb.ai/flower-classification/pytorch-sweeps-demo/sweeps/eqwnoagh</a>"
      ],
      "text/plain": [
       "<IPython.core.display.HTML object>"
      ]
     },
     "metadata": {},
     "output_type": "display_data"
    },
    {
     "data": {
      "text/html": [
       " View run at <a href='https://wandb.ai/flower-classification/pytorch-sweeps-demo/runs/o04kggii' target=\"_blank\">https://wandb.ai/flower-classification/pytorch-sweeps-demo/runs/o04kggii</a>"
      ],
      "text/plain": [
       "<IPython.core.display.HTML object>"
      ]
     },
     "metadata": {},
     "output_type": "display_data"
    },
    {
     "data": {
      "text/html": [
       "Waiting for W&B process to finish... <strong style=\"color:red\">(failed 1).</strong> Press Control-C to abort syncing."
      ],
      "text/plain": [
       "<IPython.core.display.HTML object>"
      ]
     },
     "metadata": {},
     "output_type": "display_data"
    },
    {
     "data": {
      "application/vnd.jupyter.widget-view+json": {
       "model_id": "ebfa8b7ad18e48efb4c7a99963364387",
       "version_major": 2,
       "version_minor": 0
      },
      "text/plain": [
       "VBox(children=(Label(value='0.003 MB of 0.027 MB uploaded (0.000 MB deduped)\\r'), FloatProgress(value=0.129182…"
      ]
     },
     "metadata": {},
     "output_type": "display_data"
    },
    {
     "data": {
      "text/html": [
       " View run <strong style=\"color:#cdcd00\">glad-sweep-19</strong> at: <a href='https://wandb.ai/flower-classification/pytorch-sweeps-demo/runs/o04kggii' target=\"_blank\">https://wandb.ai/flower-classification/pytorch-sweeps-demo/runs/o04kggii</a><br/>Synced 5 W&B file(s), 0 media file(s), 0 artifact file(s) and 0 other file(s)"
      ],
      "text/plain": [
       "<IPython.core.display.HTML object>"
      ]
     },
     "metadata": {},
     "output_type": "display_data"
    },
    {
     "data": {
      "text/html": [
       "Find logs at: <code>./wandb/run-20230313_223833-o04kggii/logs</code>"
      ],
      "text/plain": [
       "<IPython.core.display.HTML object>"
      ]
     },
     "metadata": {},
     "output_type": "display_data"
    },
    {
     "name": "stderr",
     "output_type": "stream",
     "text": [
      "Run o04kggii errored: OutOfMemoryError('CUDA out of memory. Tried to allocate 2.00 MiB (GPU 0; 1.95 GiB total capacity; 1.32 GiB already allocated; 1.31 MiB free; 1.33 GiB reserved in total by PyTorch) If reserved memory is >> allocated memory try setting max_split_size_mb to avoid fragmentation.  See documentation for Memory Management and PYTORCH_CUDA_ALLOC_CONF')\n",
      "\u001b[34m\u001b[1mwandb\u001b[0m: \u001b[32m\u001b[41mERROR\u001b[0m Run o04kggii errored: OutOfMemoryError('CUDA out of memory. Tried to allocate 2.00 MiB (GPU 0; 1.95 GiB total capacity; 1.32 GiB already allocated; 1.31 MiB free; 1.33 GiB reserved in total by PyTorch) If reserved memory is >> allocated memory try setting max_split_size_mb to avoid fragmentation.  See documentation for Memory Management and PYTORCH_CUDA_ALLOC_CONF')\n",
      "\u001b[34m\u001b[1mwandb\u001b[0m: Agent Starting Run: mr7zxx8m with config:\n",
      "\u001b[34m\u001b[1mwandb\u001b[0m: \tbatch_size: 4\n",
      "\u001b[34m\u001b[1mwandb\u001b[0m: \tbeta_one: 0.99\n",
      "\u001b[34m\u001b[1mwandb\u001b[0m: \tbeta_two: 0.9\n",
      "\u001b[34m\u001b[1mwandb\u001b[0m: \tepochs: 10\n",
      "\u001b[34m\u001b[1mwandb\u001b[0m: \teps: 0.1\n",
      "\u001b[34m\u001b[1mwandb\u001b[0m: \tgamma: 0.1\n",
      "\u001b[34m\u001b[1mwandb\u001b[0m: \tlearning_rate: 0.0003\n",
      "\u001b[34m\u001b[1mwandb\u001b[0m: \toptimizer: adam\n",
      "\u001b[34m\u001b[1mwandb\u001b[0m: \tstep_size: 2\n"
     ]
    },
    {
     "data": {
      "text/html": [
       "Tracking run with wandb version 0.13.11"
      ],
      "text/plain": [
       "<IPython.core.display.HTML object>"
      ]
     },
     "metadata": {},
     "output_type": "display_data"
    },
    {
     "data": {
      "text/html": [
       "Run data is saved locally in <code>/home/zenon/Documents/master-thesis/classification/classifier/wandb/run-20230313_223854-mr7zxx8m</code>"
      ],
      "text/plain": [
       "<IPython.core.display.HTML object>"
      ]
     },
     "metadata": {},
     "output_type": "display_data"
    },
    {
     "data": {
      "text/html": [
       "Syncing run <strong><a href='https://wandb.ai/flower-classification/pytorch-sweeps-demo/runs/mr7zxx8m' target=\"_blank\">dazzling-sweep-20</a></strong> to <a href='https://wandb.ai/flower-classification/pytorch-sweeps-demo' target=\"_blank\">Weights & Biases</a> (<a href='https://wandb.me/run' target=\"_blank\">docs</a>)<br/>Sweep page: <a href='https://wandb.ai/flower-classification/pytorch-sweeps-demo/sweeps/eqwnoagh' target=\"_blank\">https://wandb.ai/flower-classification/pytorch-sweeps-demo/sweeps/eqwnoagh</a>"
      ],
      "text/plain": [
       "<IPython.core.display.HTML object>"
      ]
     },
     "metadata": {},
     "output_type": "display_data"
    },
    {
     "data": {
      "text/html": [
       " View project at <a href='https://wandb.ai/flower-classification/pytorch-sweeps-demo' target=\"_blank\">https://wandb.ai/flower-classification/pytorch-sweeps-demo</a>"
      ],
      "text/plain": [
       "<IPython.core.display.HTML object>"
      ]
     },
     "metadata": {},
     "output_type": "display_data"
    },
    {
     "data": {
      "text/html": [
       " View sweep at <a href='https://wandb.ai/flower-classification/pytorch-sweeps-demo/sweeps/eqwnoagh' target=\"_blank\">https://wandb.ai/flower-classification/pytorch-sweeps-demo/sweeps/eqwnoagh</a>"
      ],
      "text/plain": [
       "<IPython.core.display.HTML object>"
      ]
     },
     "metadata": {},
     "output_type": "display_data"
    },
    {
     "data": {
      "text/html": [
       " View run at <a href='https://wandb.ai/flower-classification/pytorch-sweeps-demo/runs/mr7zxx8m' target=\"_blank\">https://wandb.ai/flower-classification/pytorch-sweeps-demo/runs/mr7zxx8m</a>"
      ],
      "text/plain": [
       "<IPython.core.display.HTML object>"
      ]
     },
     "metadata": {},
     "output_type": "display_data"
    },
    {
     "data": {
      "text/html": [
       "Waiting for W&B process to finish... <strong style=\"color:red\">(failed 1).</strong> Press Control-C to abort syncing."
      ],
      "text/plain": [
       "<IPython.core.display.HTML object>"
      ]
     },
     "metadata": {},
     "output_type": "display_data"
    },
    {
     "data": {
      "application/vnd.jupyter.widget-view+json": {
       "model_id": "b1e66d66721840b391339ee3201e55fb",
       "version_major": 2,
       "version_minor": 0
      },
      "text/plain": [
       "VBox(children=(Label(value='0.003 MB of 0.027 MB uploaded (0.000 MB deduped)\\r'), FloatProgress(value=0.129362…"
      ]
     },
     "metadata": {},
     "output_type": "display_data"
    },
    {
     "data": {
      "text/html": [
       " View run <strong style=\"color:#cdcd00\">dazzling-sweep-20</strong> at: <a href='https://wandb.ai/flower-classification/pytorch-sweeps-demo/runs/mr7zxx8m' target=\"_blank\">https://wandb.ai/flower-classification/pytorch-sweeps-demo/runs/mr7zxx8m</a><br/>Synced 5 W&B file(s), 0 media file(s), 0 artifact file(s) and 0 other file(s)"
      ],
      "text/plain": [
       "<IPython.core.display.HTML object>"
      ]
     },
     "metadata": {},
     "output_type": "display_data"
    },
    {
     "data": {
      "text/html": [
       "Find logs at: <code>./wandb/run-20230313_223854-mr7zxx8m/logs</code>"
      ],
      "text/plain": [
       "<IPython.core.display.HTML object>"
      ]
     },
     "metadata": {},
     "output_type": "display_data"
    },
    {
     "name": "stderr",
     "output_type": "stream",
     "text": [
      "Run mr7zxx8m errored: OutOfMemoryError('CUDA out of memory. Tried to allocate 2.00 MiB (GPU 0; 1.95 GiB total capacity; 1.32 GiB already allocated; 1.31 MiB free; 1.33 GiB reserved in total by PyTorch) If reserved memory is >> allocated memory try setting max_split_size_mb to avoid fragmentation.  See documentation for Memory Management and PYTORCH_CUDA_ALLOC_CONF')\n",
      "\u001b[34m\u001b[1mwandb\u001b[0m: \u001b[32m\u001b[41mERROR\u001b[0m Run mr7zxx8m errored: OutOfMemoryError('CUDA out of memory. Tried to allocate 2.00 MiB (GPU 0; 1.95 GiB total capacity; 1.32 GiB already allocated; 1.31 MiB free; 1.33 GiB reserved in total by PyTorch) If reserved memory is >> allocated memory try setting max_split_size_mb to avoid fragmentation.  See documentation for Memory Management and PYTORCH_CUDA_ALLOC_CONF')\n",
      "\u001b[34m\u001b[1mwandb\u001b[0m: Agent Starting Run: 292ds63r with config:\n",
      "\u001b[34m\u001b[1mwandb\u001b[0m: \tbatch_size: 8\n",
      "\u001b[34m\u001b[1mwandb\u001b[0m: \tbeta_one: 0.99\n",
      "\u001b[34m\u001b[1mwandb\u001b[0m: \tbeta_two: 0.5\n",
      "\u001b[34m\u001b[1mwandb\u001b[0m: \tepochs: 10\n",
      "\u001b[34m\u001b[1mwandb\u001b[0m: \teps: 0.1\n",
      "\u001b[34m\u001b[1mwandb\u001b[0m: \tgamma: 0.5\n",
      "\u001b[34m\u001b[1mwandb\u001b[0m: \tlearning_rate: 0.1\n",
      "\u001b[34m\u001b[1mwandb\u001b[0m: \toptimizer: adam\n",
      "\u001b[34m\u001b[1mwandb\u001b[0m: \tstep_size: 5\n"
     ]
    },
    {
     "data": {
      "text/html": [
       "Tracking run with wandb version 0.13.11"
      ],
      "text/plain": [
       "<IPython.core.display.HTML object>"
      ]
     },
     "metadata": {},
     "output_type": "display_data"
    },
    {
     "data": {
      "text/html": [
       "Run data is saved locally in <code>/home/zenon/Documents/master-thesis/classification/classifier/wandb/run-20230313_223916-292ds63r</code>"
      ],
      "text/plain": [
       "<IPython.core.display.HTML object>"
      ]
     },
     "metadata": {},
     "output_type": "display_data"
    },
    {
     "data": {
      "text/html": [
       "Syncing run <strong><a href='https://wandb.ai/flower-classification/pytorch-sweeps-demo/runs/292ds63r' target=\"_blank\">misunderstood-sweep-21</a></strong> to <a href='https://wandb.ai/flower-classification/pytorch-sweeps-demo' target=\"_blank\">Weights & Biases</a> (<a href='https://wandb.me/run' target=\"_blank\">docs</a>)<br/>Sweep page: <a href='https://wandb.ai/flower-classification/pytorch-sweeps-demo/sweeps/eqwnoagh' target=\"_blank\">https://wandb.ai/flower-classification/pytorch-sweeps-demo/sweeps/eqwnoagh</a>"
      ],
      "text/plain": [
       "<IPython.core.display.HTML object>"
      ]
     },
     "metadata": {},
     "output_type": "display_data"
    },
    {
     "data": {
      "text/html": [
       " View project at <a href='https://wandb.ai/flower-classification/pytorch-sweeps-demo' target=\"_blank\">https://wandb.ai/flower-classification/pytorch-sweeps-demo</a>"
      ],
      "text/plain": [
       "<IPython.core.display.HTML object>"
      ]
     },
     "metadata": {},
     "output_type": "display_data"
    },
    {
     "data": {
      "text/html": [
       " View sweep at <a href='https://wandb.ai/flower-classification/pytorch-sweeps-demo/sweeps/eqwnoagh' target=\"_blank\">https://wandb.ai/flower-classification/pytorch-sweeps-demo/sweeps/eqwnoagh</a>"
      ],
      "text/plain": [
       "<IPython.core.display.HTML object>"
      ]
     },
     "metadata": {},
     "output_type": "display_data"
    },
    {
     "data": {
      "text/html": [
       " View run at <a href='https://wandb.ai/flower-classification/pytorch-sweeps-demo/runs/292ds63r' target=\"_blank\">https://wandb.ai/flower-classification/pytorch-sweeps-demo/runs/292ds63r</a>"
      ],
      "text/plain": [
       "<IPython.core.display.HTML object>"
      ]
     },
     "metadata": {},
     "output_type": "display_data"
    },
    {
     "data": {
      "text/html": [
       "Waiting for W&B process to finish... <strong style=\"color:red\">(failed 1).</strong> Press Control-C to abort syncing."
      ],
      "text/plain": [
       "<IPython.core.display.HTML object>"
      ]
     },
     "metadata": {},
     "output_type": "display_data"
    },
    {
     "data": {
      "application/vnd.jupyter.widget-view+json": {
       "model_id": "2bd23ebb420c420f8f23ed3bc12e993f",
       "version_major": 2,
       "version_minor": 0
      },
      "text/plain": [
       "VBox(children=(Label(value='0.003 MB of 0.027 MB uploaded (0.000 MB deduped)\\r'), FloatProgress(value=0.129560…"
      ]
     },
     "metadata": {},
     "output_type": "display_data"
    },
    {
     "data": {
      "text/html": [
       " View run <strong style=\"color:#cdcd00\">misunderstood-sweep-21</strong> at: <a href='https://wandb.ai/flower-classification/pytorch-sweeps-demo/runs/292ds63r' target=\"_blank\">https://wandb.ai/flower-classification/pytorch-sweeps-demo/runs/292ds63r</a><br/>Synced 5 W&B file(s), 0 media file(s), 0 artifact file(s) and 0 other file(s)"
      ],
      "text/plain": [
       "<IPython.core.display.HTML object>"
      ]
     },
     "metadata": {},
     "output_type": "display_data"
    },
    {
     "data": {
      "text/html": [
       "Find logs at: <code>./wandb/run-20230313_223916-292ds63r/logs</code>"
      ],
      "text/plain": [
       "<IPython.core.display.HTML object>"
      ]
     },
     "metadata": {},
     "output_type": "display_data"
    },
    {
     "name": "stderr",
     "output_type": "stream",
     "text": [
      "Run 292ds63r errored: OutOfMemoryError('CUDA out of memory. Tried to allocate 2.00 MiB (GPU 0; 1.95 GiB total capacity; 1.32 GiB already allocated; 1.31 MiB free; 1.33 GiB reserved in total by PyTorch) If reserved memory is >> allocated memory try setting max_split_size_mb to avoid fragmentation.  See documentation for Memory Management and PYTORCH_CUDA_ALLOC_CONF')\n",
      "\u001b[34m\u001b[1mwandb\u001b[0m: \u001b[32m\u001b[41mERROR\u001b[0m Run 292ds63r errored: OutOfMemoryError('CUDA out of memory. Tried to allocate 2.00 MiB (GPU 0; 1.95 GiB total capacity; 1.32 GiB already allocated; 1.31 MiB free; 1.33 GiB reserved in total by PyTorch) If reserved memory is >> allocated memory try setting max_split_size_mb to avoid fragmentation.  See documentation for Memory Management and PYTORCH_CUDA_ALLOC_CONF')\n",
      "\u001b[34m\u001b[1mwandb\u001b[0m: Agent Starting Run: fdlwffsj with config:\n",
      "\u001b[34m\u001b[1mwandb\u001b[0m: \tbatch_size: 4\n",
      "\u001b[34m\u001b[1mwandb\u001b[0m: \tbeta_one: 0.9\n",
      "\u001b[34m\u001b[1mwandb\u001b[0m: \tbeta_two: 0.99\n",
      "\u001b[34m\u001b[1mwandb\u001b[0m: \tepochs: 10\n",
      "\u001b[34m\u001b[1mwandb\u001b[0m: \teps: 0.1\n",
      "\u001b[34m\u001b[1mwandb\u001b[0m: \tgamma: 0.5\n",
      "\u001b[34m\u001b[1mwandb\u001b[0m: \tlearning_rate: 0.01\n",
      "\u001b[34m\u001b[1mwandb\u001b[0m: \toptimizer: sgd\n",
      "\u001b[34m\u001b[1mwandb\u001b[0m: \tstep_size: 7\n"
     ]
    },
    {
     "data": {
      "text/html": [
       "Tracking run with wandb version 0.13.11"
      ],
      "text/plain": [
       "<IPython.core.display.HTML object>"
      ]
     },
     "metadata": {},
     "output_type": "display_data"
    },
    {
     "data": {
      "text/html": [
       "Run data is saved locally in <code>/home/zenon/Documents/master-thesis/classification/classifier/wandb/run-20230313_223937-fdlwffsj</code>"
      ],
      "text/plain": [
       "<IPython.core.display.HTML object>"
      ]
     },
     "metadata": {},
     "output_type": "display_data"
    },
    {
     "data": {
      "text/html": [
       "Syncing run <strong><a href='https://wandb.ai/flower-classification/pytorch-sweeps-demo/runs/fdlwffsj' target=\"_blank\">glorious-sweep-22</a></strong> to <a href='https://wandb.ai/flower-classification/pytorch-sweeps-demo' target=\"_blank\">Weights & Biases</a> (<a href='https://wandb.me/run' target=\"_blank\">docs</a>)<br/>Sweep page: <a href='https://wandb.ai/flower-classification/pytorch-sweeps-demo/sweeps/eqwnoagh' target=\"_blank\">https://wandb.ai/flower-classification/pytorch-sweeps-demo/sweeps/eqwnoagh</a>"
      ],
      "text/plain": [
       "<IPython.core.display.HTML object>"
      ]
     },
     "metadata": {},
     "output_type": "display_data"
    },
    {
     "data": {
      "text/html": [
       " View project at <a href='https://wandb.ai/flower-classification/pytorch-sweeps-demo' target=\"_blank\">https://wandb.ai/flower-classification/pytorch-sweeps-demo</a>"
      ],
      "text/plain": [
       "<IPython.core.display.HTML object>"
      ]
     },
     "metadata": {},
     "output_type": "display_data"
    },
    {
     "data": {
      "text/html": [
       " View sweep at <a href='https://wandb.ai/flower-classification/pytorch-sweeps-demo/sweeps/eqwnoagh' target=\"_blank\">https://wandb.ai/flower-classification/pytorch-sweeps-demo/sweeps/eqwnoagh</a>"
      ],
      "text/plain": [
       "<IPython.core.display.HTML object>"
      ]
     },
     "metadata": {},
     "output_type": "display_data"
    },
    {
     "data": {
      "text/html": [
       " View run at <a href='https://wandb.ai/flower-classification/pytorch-sweeps-demo/runs/fdlwffsj' target=\"_blank\">https://wandb.ai/flower-classification/pytorch-sweeps-demo/runs/fdlwffsj</a>"
      ],
      "text/plain": [
       "<IPython.core.display.HTML object>"
      ]
     },
     "metadata": {},
     "output_type": "display_data"
    },
    {
     "data": {
      "text/html": [
       "Waiting for W&B process to finish... <strong style=\"color:red\">(failed 1).</strong> Press Control-C to abort syncing."
      ],
      "text/plain": [
       "<IPython.core.display.HTML object>"
      ]
     },
     "metadata": {},
     "output_type": "display_data"
    },
    {
     "data": {
      "application/vnd.jupyter.widget-view+json": {
       "model_id": "ff7c63d38a9a470b92b70583ec7dfbe2",
       "version_major": 2,
       "version_minor": 0
      },
      "text/plain": [
       "VBox(children=(Label(value='0.003 MB of 0.026 MB uploaded (0.000 MB deduped)\\r'), FloatProgress(value=0.132928…"
      ]
     },
     "metadata": {},
     "output_type": "display_data"
    },
    {
     "data": {
      "text/html": [
       " View run <strong style=\"color:#cdcd00\">glorious-sweep-22</strong> at: <a href='https://wandb.ai/flower-classification/pytorch-sweeps-demo/runs/fdlwffsj' target=\"_blank\">https://wandb.ai/flower-classification/pytorch-sweeps-demo/runs/fdlwffsj</a><br/>Synced 5 W&B file(s), 0 media file(s), 0 artifact file(s) and 0 other file(s)"
      ],
      "text/plain": [
       "<IPython.core.display.HTML object>"
      ]
     },
     "metadata": {},
     "output_type": "display_data"
    },
    {
     "data": {
      "text/html": [
       "Find logs at: <code>./wandb/run-20230313_223937-fdlwffsj/logs</code>"
      ],
      "text/plain": [
       "<IPython.core.display.HTML object>"
      ]
     },
     "metadata": {},
     "output_type": "display_data"
    },
    {
     "name": "stderr",
     "output_type": "stream",
     "text": [
      "Run fdlwffsj errored: OutOfMemoryError('CUDA out of memory. Tried to allocate 2.00 MiB (GPU 0; 1.95 GiB total capacity; 1.32 GiB already allocated; 1.31 MiB free; 1.33 GiB reserved in total by PyTorch) If reserved memory is >> allocated memory try setting max_split_size_mb to avoid fragmentation.  See documentation for Memory Management and PYTORCH_CUDA_ALLOC_CONF')\n",
      "\u001b[34m\u001b[1mwandb\u001b[0m: \u001b[32m\u001b[41mERROR\u001b[0m Run fdlwffsj errored: OutOfMemoryError('CUDA out of memory. Tried to allocate 2.00 MiB (GPU 0; 1.95 GiB total capacity; 1.32 GiB already allocated; 1.31 MiB free; 1.33 GiB reserved in total by PyTorch) If reserved memory is >> allocated memory try setting max_split_size_mb to avoid fragmentation.  See documentation for Memory Management and PYTORCH_CUDA_ALLOC_CONF')\n",
      "\u001b[34m\u001b[1mwandb\u001b[0m: Agent Starting Run: 3s4wltdw with config:\n",
      "\u001b[34m\u001b[1mwandb\u001b[0m: \tbatch_size: 8\n",
      "\u001b[34m\u001b[1mwandb\u001b[0m: \tbeta_one: 0.99\n",
      "\u001b[34m\u001b[1mwandb\u001b[0m: \tbeta_two: 0.9\n",
      "\u001b[34m\u001b[1mwandb\u001b[0m: \tepochs: 10\n",
      "\u001b[34m\u001b[1mwandb\u001b[0m: \teps: 1e-08\n",
      "\u001b[34m\u001b[1mwandb\u001b[0m: \tgamma: 0.1\n",
      "\u001b[34m\u001b[1mwandb\u001b[0m: \tlearning_rate: 0.0003\n",
      "\u001b[34m\u001b[1mwandb\u001b[0m: \toptimizer: adam\n",
      "\u001b[34m\u001b[1mwandb\u001b[0m: \tstep_size: 2\n"
     ]
    },
    {
     "data": {
      "text/html": [
       "Tracking run with wandb version 0.13.11"
      ],
      "text/plain": [
       "<IPython.core.display.HTML object>"
      ]
     },
     "metadata": {},
     "output_type": "display_data"
    },
    {
     "data": {
      "text/html": [
       "Run data is saved locally in <code>/home/zenon/Documents/master-thesis/classification/classifier/wandb/run-20230313_224003-3s4wltdw</code>"
      ],
      "text/plain": [
       "<IPython.core.display.HTML object>"
      ]
     },
     "metadata": {},
     "output_type": "display_data"
    },
    {
     "data": {
      "text/html": [
       "Syncing run <strong><a href='https://wandb.ai/flower-classification/pytorch-sweeps-demo/runs/3s4wltdw' target=\"_blank\">absurd-sweep-23</a></strong> to <a href='https://wandb.ai/flower-classification/pytorch-sweeps-demo' target=\"_blank\">Weights & Biases</a> (<a href='https://wandb.me/run' target=\"_blank\">docs</a>)<br/>Sweep page: <a href='https://wandb.ai/flower-classification/pytorch-sweeps-demo/sweeps/eqwnoagh' target=\"_blank\">https://wandb.ai/flower-classification/pytorch-sweeps-demo/sweeps/eqwnoagh</a>"
      ],
      "text/plain": [
       "<IPython.core.display.HTML object>"
      ]
     },
     "metadata": {},
     "output_type": "display_data"
    },
    {
     "data": {
      "text/html": [
       " View project at <a href='https://wandb.ai/flower-classification/pytorch-sweeps-demo' target=\"_blank\">https://wandb.ai/flower-classification/pytorch-sweeps-demo</a>"
      ],
      "text/plain": [
       "<IPython.core.display.HTML object>"
      ]
     },
     "metadata": {},
     "output_type": "display_data"
    },
    {
     "data": {
      "text/html": [
       " View sweep at <a href='https://wandb.ai/flower-classification/pytorch-sweeps-demo/sweeps/eqwnoagh' target=\"_blank\">https://wandb.ai/flower-classification/pytorch-sweeps-demo/sweeps/eqwnoagh</a>"
      ],
      "text/plain": [
       "<IPython.core.display.HTML object>"
      ]
     },
     "metadata": {},
     "output_type": "display_data"
    },
    {
     "data": {
      "text/html": [
       " View run at <a href='https://wandb.ai/flower-classification/pytorch-sweeps-demo/runs/3s4wltdw' target=\"_blank\">https://wandb.ai/flower-classification/pytorch-sweeps-demo/runs/3s4wltdw</a>"
      ],
      "text/plain": [
       "<IPython.core.display.HTML object>"
      ]
     },
     "metadata": {},
     "output_type": "display_data"
    },
    {
     "data": {
      "text/html": [
       "Waiting for W&B process to finish... <strong style=\"color:red\">(failed 1).</strong> Press Control-C to abort syncing."
      ],
      "text/plain": [
       "<IPython.core.display.HTML object>"
      ]
     },
     "metadata": {},
     "output_type": "display_data"
    },
    {
     "data": {
      "text/html": [
       " View run <strong style=\"color:#cdcd00\">absurd-sweep-23</strong> at: <a href='https://wandb.ai/flower-classification/pytorch-sweeps-demo/runs/3s4wltdw' target=\"_blank\">https://wandb.ai/flower-classification/pytorch-sweeps-demo/runs/3s4wltdw</a><br/>Synced 5 W&B file(s), 0 media file(s), 0 artifact file(s) and 0 other file(s)"
      ],
      "text/plain": [
       "<IPython.core.display.HTML object>"
      ]
     },
     "metadata": {},
     "output_type": "display_data"
    },
    {
     "data": {
      "text/html": [
       "Find logs at: <code>./wandb/run-20230313_224003-3s4wltdw/logs</code>"
      ],
      "text/plain": [
       "<IPython.core.display.HTML object>"
      ]
     },
     "metadata": {},
     "output_type": "display_data"
    },
    {
     "name": "stderr",
     "output_type": "stream",
     "text": [
      "Run 3s4wltdw errored: OutOfMemoryError('CUDA out of memory. Tried to allocate 2.00 MiB (GPU 0; 1.95 GiB total capacity; 1.32 GiB already allocated; 1.31 MiB free; 1.33 GiB reserved in total by PyTorch) If reserved memory is >> allocated memory try setting max_split_size_mb to avoid fragmentation.  See documentation for Memory Management and PYTORCH_CUDA_ALLOC_CONF')\n",
      "\u001b[34m\u001b[1mwandb\u001b[0m: \u001b[32m\u001b[41mERROR\u001b[0m Run 3s4wltdw errored: OutOfMemoryError('CUDA out of memory. Tried to allocate 2.00 MiB (GPU 0; 1.95 GiB total capacity; 1.32 GiB already allocated; 1.31 MiB free; 1.33 GiB reserved in total by PyTorch) If reserved memory is >> allocated memory try setting max_split_size_mb to avoid fragmentation.  See documentation for Memory Management and PYTORCH_CUDA_ALLOC_CONF')\n",
      "\u001b[34m\u001b[1mwandb\u001b[0m: Agent Starting Run: kv0nxhmk with config:\n",
      "\u001b[34m\u001b[1mwandb\u001b[0m: \tbatch_size: 8\n",
      "\u001b[34m\u001b[1mwandb\u001b[0m: \tbeta_one: 0.9\n",
      "\u001b[34m\u001b[1mwandb\u001b[0m: \tbeta_two: 0.9\n",
      "\u001b[34m\u001b[1mwandb\u001b[0m: \tepochs: 10\n",
      "\u001b[34m\u001b[1mwandb\u001b[0m: \teps: 0.1\n",
      "\u001b[34m\u001b[1mwandb\u001b[0m: \tgamma: 0.1\n",
      "\u001b[34m\u001b[1mwandb\u001b[0m: \tlearning_rate: 0.0001\n",
      "\u001b[34m\u001b[1mwandb\u001b[0m: \toptimizer: sgd\n",
      "\u001b[34m\u001b[1mwandb\u001b[0m: \tstep_size: 7\n"
     ]
    },
    {
     "data": {
      "text/html": [
       "Tracking run with wandb version 0.13.11"
      ],
      "text/plain": [
       "<IPython.core.display.HTML object>"
      ]
     },
     "metadata": {},
     "output_type": "display_data"
    },
    {
     "data": {
      "text/html": [
       "Run data is saved locally in <code>/home/zenon/Documents/master-thesis/classification/classifier/wandb/run-20230313_224028-kv0nxhmk</code>"
      ],
      "text/plain": [
       "<IPython.core.display.HTML object>"
      ]
     },
     "metadata": {},
     "output_type": "display_data"
    },
    {
     "data": {
      "text/html": [
       "Syncing run <strong><a href='https://wandb.ai/flower-classification/pytorch-sweeps-demo/runs/kv0nxhmk' target=\"_blank\">devout-sweep-24</a></strong> to <a href='https://wandb.ai/flower-classification/pytorch-sweeps-demo' target=\"_blank\">Weights & Biases</a> (<a href='https://wandb.me/run' target=\"_blank\">docs</a>)<br/>Sweep page: <a href='https://wandb.ai/flower-classification/pytorch-sweeps-demo/sweeps/eqwnoagh' target=\"_blank\">https://wandb.ai/flower-classification/pytorch-sweeps-demo/sweeps/eqwnoagh</a>"
      ],
      "text/plain": [
       "<IPython.core.display.HTML object>"
      ]
     },
     "metadata": {},
     "output_type": "display_data"
    },
    {
     "data": {
      "text/html": [
       " View project at <a href='https://wandb.ai/flower-classification/pytorch-sweeps-demo' target=\"_blank\">https://wandb.ai/flower-classification/pytorch-sweeps-demo</a>"
      ],
      "text/plain": [
       "<IPython.core.display.HTML object>"
      ]
     },
     "metadata": {},
     "output_type": "display_data"
    },
    {
     "data": {
      "text/html": [
       " View sweep at <a href='https://wandb.ai/flower-classification/pytorch-sweeps-demo/sweeps/eqwnoagh' target=\"_blank\">https://wandb.ai/flower-classification/pytorch-sweeps-demo/sweeps/eqwnoagh</a>"
      ],
      "text/plain": [
       "<IPython.core.display.HTML object>"
      ]
     },
     "metadata": {},
     "output_type": "display_data"
    },
    {
     "data": {
      "text/html": [
       " View run at <a href='https://wandb.ai/flower-classification/pytorch-sweeps-demo/runs/kv0nxhmk' target=\"_blank\">https://wandb.ai/flower-classification/pytorch-sweeps-demo/runs/kv0nxhmk</a>"
      ],
      "text/plain": [
       "<IPython.core.display.HTML object>"
      ]
     },
     "metadata": {},
     "output_type": "display_data"
    },
    {
     "data": {
      "text/html": [
       "Waiting for W&B process to finish... <strong style=\"color:red\">(failed 1).</strong> Press Control-C to abort syncing."
      ],
      "text/plain": [
       "<IPython.core.display.HTML object>"
      ]
     },
     "metadata": {},
     "output_type": "display_data"
    },
    {
     "data": {
      "application/vnd.jupyter.widget-view+json": {
       "model_id": "f47be2ec47854346b5d3306559f94b91",
       "version_major": 2,
       "version_minor": 0
      },
      "text/plain": [
       "VBox(children=(Label(value='0.010 MB of 0.027 MB uploaded (0.000 MB deduped)\\r'), FloatProgress(value=0.375132…"
      ]
     },
     "metadata": {},
     "output_type": "display_data"
    },
    {
     "data": {
      "text/html": [
       " View run <strong style=\"color:#cdcd00\">devout-sweep-24</strong> at: <a href='https://wandb.ai/flower-classification/pytorch-sweeps-demo/runs/kv0nxhmk' target=\"_blank\">https://wandb.ai/flower-classification/pytorch-sweeps-demo/runs/kv0nxhmk</a><br/>Synced 5 W&B file(s), 0 media file(s), 0 artifact file(s) and 0 other file(s)"
      ],
      "text/plain": [
       "<IPython.core.display.HTML object>"
      ]
     },
     "metadata": {},
     "output_type": "display_data"
    },
    {
     "data": {
      "text/html": [
       "Find logs at: <code>./wandb/run-20230313_224028-kv0nxhmk/logs</code>"
      ],
      "text/plain": [
       "<IPython.core.display.HTML object>"
      ]
     },
     "metadata": {},
     "output_type": "display_data"
    },
    {
     "name": "stderr",
     "output_type": "stream",
     "text": [
      "Run kv0nxhmk errored: OutOfMemoryError('CUDA out of memory. Tried to allocate 2.00 MiB (GPU 0; 1.95 GiB total capacity; 1.32 GiB already allocated; 1.31 MiB free; 1.33 GiB reserved in total by PyTorch) If reserved memory is >> allocated memory try setting max_split_size_mb to avoid fragmentation.  See documentation for Memory Management and PYTORCH_CUDA_ALLOC_CONF')\n",
      "\u001b[34m\u001b[1mwandb\u001b[0m: \u001b[32m\u001b[41mERROR\u001b[0m Run kv0nxhmk errored: OutOfMemoryError('CUDA out of memory. Tried to allocate 2.00 MiB (GPU 0; 1.95 GiB total capacity; 1.32 GiB already allocated; 1.31 MiB free; 1.33 GiB reserved in total by PyTorch) If reserved memory is >> allocated memory try setting max_split_size_mb to avoid fragmentation.  See documentation for Memory Management and PYTORCH_CUDA_ALLOC_CONF')\n",
      "\u001b[34m\u001b[1mwandb\u001b[0m: Agent Starting Run: ixbulpc8 with config:\n",
      "\u001b[34m\u001b[1mwandb\u001b[0m: \tbatch_size: 8\n",
      "\u001b[34m\u001b[1mwandb\u001b[0m: \tbeta_one: 0.9\n",
      "\u001b[34m\u001b[1mwandb\u001b[0m: \tbeta_two: 0.5\n",
      "\u001b[34m\u001b[1mwandb\u001b[0m: \tepochs: 10\n",
      "\u001b[34m\u001b[1mwandb\u001b[0m: \teps: 1e-08\n",
      "\u001b[34m\u001b[1mwandb\u001b[0m: \tgamma: 0.1\n",
      "\u001b[34m\u001b[1mwandb\u001b[0m: \tlearning_rate: 0.01\n",
      "\u001b[34m\u001b[1mwandb\u001b[0m: \toptimizer: sgd\n",
      "\u001b[34m\u001b[1mwandb\u001b[0m: \tstep_size: 5\n"
     ]
    },
    {
     "data": {
      "text/html": [
       "Tracking run with wandb version 0.13.11"
      ],
      "text/plain": [
       "<IPython.core.display.HTML object>"
      ]
     },
     "metadata": {},
     "output_type": "display_data"
    },
    {
     "data": {
      "text/html": [
       "Run data is saved locally in <code>/home/zenon/Documents/master-thesis/classification/classifier/wandb/run-20230313_224049-ixbulpc8</code>"
      ],
      "text/plain": [
       "<IPython.core.display.HTML object>"
      ]
     },
     "metadata": {},
     "output_type": "display_data"
    },
    {
     "data": {
      "text/html": [
       "Syncing run <strong><a href='https://wandb.ai/flower-classification/pytorch-sweeps-demo/runs/ixbulpc8' target=\"_blank\">silver-sweep-25</a></strong> to <a href='https://wandb.ai/flower-classification/pytorch-sweeps-demo' target=\"_blank\">Weights & Biases</a> (<a href='https://wandb.me/run' target=\"_blank\">docs</a>)<br/>Sweep page: <a href='https://wandb.ai/flower-classification/pytorch-sweeps-demo/sweeps/eqwnoagh' target=\"_blank\">https://wandb.ai/flower-classification/pytorch-sweeps-demo/sweeps/eqwnoagh</a>"
      ],
      "text/plain": [
       "<IPython.core.display.HTML object>"
      ]
     },
     "metadata": {},
     "output_type": "display_data"
    },
    {
     "data": {
      "text/html": [
       " View project at <a href='https://wandb.ai/flower-classification/pytorch-sweeps-demo' target=\"_blank\">https://wandb.ai/flower-classification/pytorch-sweeps-demo</a>"
      ],
      "text/plain": [
       "<IPython.core.display.HTML object>"
      ]
     },
     "metadata": {},
     "output_type": "display_data"
    },
    {
     "data": {
      "text/html": [
       " View sweep at <a href='https://wandb.ai/flower-classification/pytorch-sweeps-demo/sweeps/eqwnoagh' target=\"_blank\">https://wandb.ai/flower-classification/pytorch-sweeps-demo/sweeps/eqwnoagh</a>"
      ],
      "text/plain": [
       "<IPython.core.display.HTML object>"
      ]
     },
     "metadata": {},
     "output_type": "display_data"
    },
    {
     "data": {
      "text/html": [
       " View run at <a href='https://wandb.ai/flower-classification/pytorch-sweeps-demo/runs/ixbulpc8' target=\"_blank\">https://wandb.ai/flower-classification/pytorch-sweeps-demo/runs/ixbulpc8</a>"
      ],
      "text/plain": [
       "<IPython.core.display.HTML object>"
      ]
     },
     "metadata": {},
     "output_type": "display_data"
    },
    {
     "data": {
      "text/html": [
       "Waiting for W&B process to finish... <strong style=\"color:red\">(failed 1).</strong> Press Control-C to abort syncing."
      ],
      "text/plain": [
       "<IPython.core.display.HTML object>"
      ]
     },
     "metadata": {},
     "output_type": "display_data"
    },
    {
     "data": {
      "application/vnd.jupyter.widget-view+json": {
       "model_id": "bfd33251a13841f7a8b32b6145a2fdfe",
       "version_major": 2,
       "version_minor": 0
      },
      "text/plain": [
       "VBox(children=(Label(value='0.003 MB of 0.027 MB uploaded (0.000 MB deduped)\\r'), FloatProgress(value=0.129490…"
      ]
     },
     "metadata": {},
     "output_type": "display_data"
    },
    {
     "data": {
      "text/html": [
       " View run <strong style=\"color:#cdcd00\">silver-sweep-25</strong> at: <a href='https://wandb.ai/flower-classification/pytorch-sweeps-demo/runs/ixbulpc8' target=\"_blank\">https://wandb.ai/flower-classification/pytorch-sweeps-demo/runs/ixbulpc8</a><br/>Synced 5 W&B file(s), 0 media file(s), 0 artifact file(s) and 0 other file(s)"
      ],
      "text/plain": [
       "<IPython.core.display.HTML object>"
      ]
     },
     "metadata": {},
     "output_type": "display_data"
    },
    {
     "data": {
      "text/html": [
       "Find logs at: <code>./wandb/run-20230313_224049-ixbulpc8/logs</code>"
      ],
      "text/plain": [
       "<IPython.core.display.HTML object>"
      ]
     },
     "metadata": {},
     "output_type": "display_data"
    },
    {
     "name": "stderr",
     "output_type": "stream",
     "text": [
      "Run ixbulpc8 errored: OutOfMemoryError('CUDA out of memory. Tried to allocate 2.00 MiB (GPU 0; 1.95 GiB total capacity; 1.32 GiB already allocated; 1.31 MiB free; 1.33 GiB reserved in total by PyTorch) If reserved memory is >> allocated memory try setting max_split_size_mb to avoid fragmentation.  See documentation for Memory Management and PYTORCH_CUDA_ALLOC_CONF')\n",
      "\u001b[34m\u001b[1mwandb\u001b[0m: \u001b[32m\u001b[41mERROR\u001b[0m Run ixbulpc8 errored: OutOfMemoryError('CUDA out of memory. Tried to allocate 2.00 MiB (GPU 0; 1.95 GiB total capacity; 1.32 GiB already allocated; 1.31 MiB free; 1.33 GiB reserved in total by PyTorch) If reserved memory is >> allocated memory try setting max_split_size_mb to avoid fragmentation.  See documentation for Memory Management and PYTORCH_CUDA_ALLOC_CONF')\n",
      "\u001b[34m\u001b[1mwandb\u001b[0m: Agent Starting Run: lfi2onyo with config:\n",
      "\u001b[34m\u001b[1mwandb\u001b[0m: \tbatch_size: 8\n",
      "\u001b[34m\u001b[1mwandb\u001b[0m: \tbeta_one: 0.9\n",
      "\u001b[34m\u001b[1mwandb\u001b[0m: \tbeta_two: 0.9\n",
      "\u001b[34m\u001b[1mwandb\u001b[0m: \tepochs: 10\n",
      "\u001b[34m\u001b[1mwandb\u001b[0m: \teps: 1e-08\n",
      "\u001b[34m\u001b[1mwandb\u001b[0m: \tgamma: 0.5\n",
      "\u001b[34m\u001b[1mwandb\u001b[0m: \tlearning_rate: 0.0003\n",
      "\u001b[34m\u001b[1mwandb\u001b[0m: \toptimizer: sgd\n",
      "\u001b[34m\u001b[1mwandb\u001b[0m: \tstep_size: 3\n"
     ]
    },
    {
     "data": {
      "text/html": [
       "Tracking run with wandb version 0.13.11"
      ],
      "text/plain": [
       "<IPython.core.display.HTML object>"
      ]
     },
     "metadata": {},
     "output_type": "display_data"
    },
    {
     "data": {
      "text/html": [
       "Run data is saved locally in <code>/home/zenon/Documents/master-thesis/classification/classifier/wandb/run-20230313_224110-lfi2onyo</code>"
      ],
      "text/plain": [
       "<IPython.core.display.HTML object>"
      ]
     },
     "metadata": {},
     "output_type": "display_data"
    },
    {
     "data": {
      "text/html": [
       "Syncing run <strong><a href='https://wandb.ai/flower-classification/pytorch-sweeps-demo/runs/lfi2onyo' target=\"_blank\">winter-sweep-26</a></strong> to <a href='https://wandb.ai/flower-classification/pytorch-sweeps-demo' target=\"_blank\">Weights & Biases</a> (<a href='https://wandb.me/run' target=\"_blank\">docs</a>)<br/>Sweep page: <a href='https://wandb.ai/flower-classification/pytorch-sweeps-demo/sweeps/eqwnoagh' target=\"_blank\">https://wandb.ai/flower-classification/pytorch-sweeps-demo/sweeps/eqwnoagh</a>"
      ],
      "text/plain": [
       "<IPython.core.display.HTML object>"
      ]
     },
     "metadata": {},
     "output_type": "display_data"
    },
    {
     "data": {
      "text/html": [
       " View project at <a href='https://wandb.ai/flower-classification/pytorch-sweeps-demo' target=\"_blank\">https://wandb.ai/flower-classification/pytorch-sweeps-demo</a>"
      ],
      "text/plain": [
       "<IPython.core.display.HTML object>"
      ]
     },
     "metadata": {},
     "output_type": "display_data"
    },
    {
     "data": {
      "text/html": [
       " View sweep at <a href='https://wandb.ai/flower-classification/pytorch-sweeps-demo/sweeps/eqwnoagh' target=\"_blank\">https://wandb.ai/flower-classification/pytorch-sweeps-demo/sweeps/eqwnoagh</a>"
      ],
      "text/plain": [
       "<IPython.core.display.HTML object>"
      ]
     },
     "metadata": {},
     "output_type": "display_data"
    },
    {
     "data": {
      "text/html": [
       " View run at <a href='https://wandb.ai/flower-classification/pytorch-sweeps-demo/runs/lfi2onyo' target=\"_blank\">https://wandb.ai/flower-classification/pytorch-sweeps-demo/runs/lfi2onyo</a>"
      ],
      "text/plain": [
       "<IPython.core.display.HTML object>"
      ]
     },
     "metadata": {},
     "output_type": "display_data"
    },
    {
     "data": {
      "text/html": [
       "Waiting for W&B process to finish... <strong style=\"color:red\">(failed 1).</strong> Press Control-C to abort syncing."
      ],
      "text/plain": [
       "<IPython.core.display.HTML object>"
      ]
     },
     "metadata": {},
     "output_type": "display_data"
    },
    {
     "data": {
      "text/html": [
       " View run <strong style=\"color:#cdcd00\">winter-sweep-26</strong> at: <a href='https://wandb.ai/flower-classification/pytorch-sweeps-demo/runs/lfi2onyo' target=\"_blank\">https://wandb.ai/flower-classification/pytorch-sweeps-demo/runs/lfi2onyo</a><br/>Synced 5 W&B file(s), 0 media file(s), 0 artifact file(s) and 0 other file(s)"
      ],
      "text/plain": [
       "<IPython.core.display.HTML object>"
      ]
     },
     "metadata": {},
     "output_type": "display_data"
    },
    {
     "data": {
      "text/html": [
       "Find logs at: <code>./wandb/run-20230313_224110-lfi2onyo/logs</code>"
      ],
      "text/plain": [
       "<IPython.core.display.HTML object>"
      ]
     },
     "metadata": {},
     "output_type": "display_data"
    },
    {
     "name": "stderr",
     "output_type": "stream",
     "text": [
      "Run lfi2onyo errored: OutOfMemoryError('CUDA out of memory. Tried to allocate 2.00 MiB (GPU 0; 1.95 GiB total capacity; 1.32 GiB already allocated; 1.31 MiB free; 1.33 GiB reserved in total by PyTorch) If reserved memory is >> allocated memory try setting max_split_size_mb to avoid fragmentation.  See documentation for Memory Management and PYTORCH_CUDA_ALLOC_CONF')\n",
      "\u001b[34m\u001b[1mwandb\u001b[0m: \u001b[32m\u001b[41mERROR\u001b[0m Run lfi2onyo errored: OutOfMemoryError('CUDA out of memory. Tried to allocate 2.00 MiB (GPU 0; 1.95 GiB total capacity; 1.32 GiB already allocated; 1.31 MiB free; 1.33 GiB reserved in total by PyTorch) If reserved memory is >> allocated memory try setting max_split_size_mb to avoid fragmentation.  See documentation for Memory Management and PYTORCH_CUDA_ALLOC_CONF')\n",
      "\u001b[34m\u001b[1mwandb\u001b[0m: Agent Starting Run: 4uvn2tnq with config:\n",
      "\u001b[34m\u001b[1mwandb\u001b[0m: \tbatch_size: 4\n",
      "\u001b[34m\u001b[1mwandb\u001b[0m: \tbeta_one: 0.9\n",
      "\u001b[34m\u001b[1mwandb\u001b[0m: \tbeta_two: 0.5\n",
      "\u001b[34m\u001b[1mwandb\u001b[0m: \tepochs: 10\n",
      "\u001b[34m\u001b[1mwandb\u001b[0m: \teps: 0.1\n",
      "\u001b[34m\u001b[1mwandb\u001b[0m: \tgamma: 0.5\n",
      "\u001b[34m\u001b[1mwandb\u001b[0m: \tlearning_rate: 0.001\n",
      "\u001b[34m\u001b[1mwandb\u001b[0m: \toptimizer: adam\n",
      "\u001b[34m\u001b[1mwandb\u001b[0m: \tstep_size: 3\n"
     ]
    },
    {
     "data": {
      "text/html": [
       "Tracking run with wandb version 0.13.11"
      ],
      "text/plain": [
       "<IPython.core.display.HTML object>"
      ]
     },
     "metadata": {},
     "output_type": "display_data"
    },
    {
     "data": {
      "text/html": [
       "Run data is saved locally in <code>/home/zenon/Documents/master-thesis/classification/classifier/wandb/run-20230313_224131-4uvn2tnq</code>"
      ],
      "text/plain": [
       "<IPython.core.display.HTML object>"
      ]
     },
     "metadata": {},
     "output_type": "display_data"
    },
    {
     "data": {
      "text/html": [
       "Syncing run <strong><a href='https://wandb.ai/flower-classification/pytorch-sweeps-demo/runs/4uvn2tnq' target=\"_blank\">expert-sweep-27</a></strong> to <a href='https://wandb.ai/flower-classification/pytorch-sweeps-demo' target=\"_blank\">Weights & Biases</a> (<a href='https://wandb.me/run' target=\"_blank\">docs</a>)<br/>Sweep page: <a href='https://wandb.ai/flower-classification/pytorch-sweeps-demo/sweeps/eqwnoagh' target=\"_blank\">https://wandb.ai/flower-classification/pytorch-sweeps-demo/sweeps/eqwnoagh</a>"
      ],
      "text/plain": [
       "<IPython.core.display.HTML object>"
      ]
     },
     "metadata": {},
     "output_type": "display_data"
    },
    {
     "data": {
      "text/html": [
       " View project at <a href='https://wandb.ai/flower-classification/pytorch-sweeps-demo' target=\"_blank\">https://wandb.ai/flower-classification/pytorch-sweeps-demo</a>"
      ],
      "text/plain": [
       "<IPython.core.display.HTML object>"
      ]
     },
     "metadata": {},
     "output_type": "display_data"
    },
    {
     "data": {
      "text/html": [
       " View sweep at <a href='https://wandb.ai/flower-classification/pytorch-sweeps-demo/sweeps/eqwnoagh' target=\"_blank\">https://wandb.ai/flower-classification/pytorch-sweeps-demo/sweeps/eqwnoagh</a>"
      ],
      "text/plain": [
       "<IPython.core.display.HTML object>"
      ]
     },
     "metadata": {},
     "output_type": "display_data"
    },
    {
     "data": {
      "text/html": [
       " View run at <a href='https://wandb.ai/flower-classification/pytorch-sweeps-demo/runs/4uvn2tnq' target=\"_blank\">https://wandb.ai/flower-classification/pytorch-sweeps-demo/runs/4uvn2tnq</a>"
      ],
      "text/plain": [
       "<IPython.core.display.HTML object>"
      ]
     },
     "metadata": {},
     "output_type": "display_data"
    },
    {
     "data": {
      "text/html": [
       "Waiting for W&B process to finish... <strong style=\"color:red\">(failed 1).</strong> Press Control-C to abort syncing."
      ],
      "text/plain": [
       "<IPython.core.display.HTML object>"
      ]
     },
     "metadata": {},
     "output_type": "display_data"
    },
    {
     "data": {
      "application/vnd.jupyter.widget-view+json": {
       "model_id": "224e6063b56942e8bad3124fe35c96a6",
       "version_major": 2,
       "version_minor": 0
      },
      "text/plain": [
       "VBox(children=(Label(value='0.027 MB of 0.027 MB uploaded (0.000 MB deduped)\\r'), FloatProgress(value=1.0, max…"
      ]
     },
     "metadata": {},
     "output_type": "display_data"
    },
    {
     "data": {
      "text/html": [
       " View run <strong style=\"color:#cdcd00\">expert-sweep-27</strong> at: <a href='https://wandb.ai/flower-classification/pytorch-sweeps-demo/runs/4uvn2tnq' target=\"_blank\">https://wandb.ai/flower-classification/pytorch-sweeps-demo/runs/4uvn2tnq</a><br/>Synced 5 W&B file(s), 0 media file(s), 0 artifact file(s) and 0 other file(s)"
      ],
      "text/plain": [
       "<IPython.core.display.HTML object>"
      ]
     },
     "metadata": {},
     "output_type": "display_data"
    },
    {
     "data": {
      "text/html": [
       "Find logs at: <code>./wandb/run-20230313_224131-4uvn2tnq/logs</code>"
      ],
      "text/plain": [
       "<IPython.core.display.HTML object>"
      ]
     },
     "metadata": {},
     "output_type": "display_data"
    },
    {
     "name": "stderr",
     "output_type": "stream",
     "text": [
      "Run 4uvn2tnq errored: OutOfMemoryError('CUDA out of memory. Tried to allocate 2.00 MiB (GPU 0; 1.95 GiB total capacity; 1.32 GiB already allocated; 1.31 MiB free; 1.33 GiB reserved in total by PyTorch) If reserved memory is >> allocated memory try setting max_split_size_mb to avoid fragmentation.  See documentation for Memory Management and PYTORCH_CUDA_ALLOC_CONF')\n",
      "\u001b[34m\u001b[1mwandb\u001b[0m: \u001b[32m\u001b[41mERROR\u001b[0m Run 4uvn2tnq errored: OutOfMemoryError('CUDA out of memory. Tried to allocate 2.00 MiB (GPU 0; 1.95 GiB total capacity; 1.32 GiB already allocated; 1.31 MiB free; 1.33 GiB reserved in total by PyTorch) If reserved memory is >> allocated memory try setting max_split_size_mb to avoid fragmentation.  See documentation for Memory Management and PYTORCH_CUDA_ALLOC_CONF')\n",
      "\u001b[34m\u001b[1mwandb\u001b[0m: Agent Starting Run: y4niwbym with config:\n",
      "\u001b[34m\u001b[1mwandb\u001b[0m: \tbatch_size: 4\n",
      "\u001b[34m\u001b[1mwandb\u001b[0m: \tbeta_one: 0.9\n",
      "\u001b[34m\u001b[1mwandb\u001b[0m: \tbeta_two: 0.5\n",
      "\u001b[34m\u001b[1mwandb\u001b[0m: \tepochs: 10\n",
      "\u001b[34m\u001b[1mwandb\u001b[0m: \teps: 1\n",
      "\u001b[34m\u001b[1mwandb\u001b[0m: \tgamma: 0.5\n",
      "\u001b[34m\u001b[1mwandb\u001b[0m: \tlearning_rate: 0.01\n",
      "\u001b[34m\u001b[1mwandb\u001b[0m: \toptimizer: sgd\n",
      "\u001b[34m\u001b[1mwandb\u001b[0m: \tstep_size: 2\n"
     ]
    },
    {
     "data": {
      "text/html": [
       "Tracking run with wandb version 0.13.11"
      ],
      "text/plain": [
       "<IPython.core.display.HTML object>"
      ]
     },
     "metadata": {},
     "output_type": "display_data"
    },
    {
     "data": {
      "text/html": [
       "Run data is saved locally in <code>/home/zenon/Documents/master-thesis/classification/classifier/wandb/run-20230313_224154-y4niwbym</code>"
      ],
      "text/plain": [
       "<IPython.core.display.HTML object>"
      ]
     },
     "metadata": {},
     "output_type": "display_data"
    },
    {
     "data": {
      "text/html": [
       "Syncing run <strong><a href='https://wandb.ai/flower-classification/pytorch-sweeps-demo/runs/y4niwbym' target=\"_blank\">tough-sweep-28</a></strong> to <a href='https://wandb.ai/flower-classification/pytorch-sweeps-demo' target=\"_blank\">Weights & Biases</a> (<a href='https://wandb.me/run' target=\"_blank\">docs</a>)<br/>Sweep page: <a href='https://wandb.ai/flower-classification/pytorch-sweeps-demo/sweeps/eqwnoagh' target=\"_blank\">https://wandb.ai/flower-classification/pytorch-sweeps-demo/sweeps/eqwnoagh</a>"
      ],
      "text/plain": [
       "<IPython.core.display.HTML object>"
      ]
     },
     "metadata": {},
     "output_type": "display_data"
    },
    {
     "data": {
      "text/html": [
       " View project at <a href='https://wandb.ai/flower-classification/pytorch-sweeps-demo' target=\"_blank\">https://wandb.ai/flower-classification/pytorch-sweeps-demo</a>"
      ],
      "text/plain": [
       "<IPython.core.display.HTML object>"
      ]
     },
     "metadata": {},
     "output_type": "display_data"
    },
    {
     "data": {
      "text/html": [
       " View sweep at <a href='https://wandb.ai/flower-classification/pytorch-sweeps-demo/sweeps/eqwnoagh' target=\"_blank\">https://wandb.ai/flower-classification/pytorch-sweeps-demo/sweeps/eqwnoagh</a>"
      ],
      "text/plain": [
       "<IPython.core.display.HTML object>"
      ]
     },
     "metadata": {},
     "output_type": "display_data"
    },
    {
     "data": {
      "text/html": [
       " View run at <a href='https://wandb.ai/flower-classification/pytorch-sweeps-demo/runs/y4niwbym' target=\"_blank\">https://wandb.ai/flower-classification/pytorch-sweeps-demo/runs/y4niwbym</a>"
      ],
      "text/plain": [
       "<IPython.core.display.HTML object>"
      ]
     },
     "metadata": {},
     "output_type": "display_data"
    },
    {
     "data": {
      "text/html": [
       "Waiting for W&B process to finish... <strong style=\"color:red\">(failed 1).</strong> Press Control-C to abort syncing."
      ],
      "text/plain": [
       "<IPython.core.display.HTML object>"
      ]
     },
     "metadata": {},
     "output_type": "display_data"
    },
    {
     "data": {
      "application/vnd.jupyter.widget-view+json": {
       "model_id": "cc40ab25a9354028bd95ee1802eb53d0",
       "version_major": 2,
       "version_minor": 0
      },
      "text/plain": [
       "VBox(children=(Label(value='0.027 MB of 0.027 MB uploaded (0.000 MB deduped)\\r'), FloatProgress(value=1.0, max…"
      ]
     },
     "metadata": {},
     "output_type": "display_data"
    },
    {
     "data": {
      "text/html": [
       " View run <strong style=\"color:#cdcd00\">tough-sweep-28</strong> at: <a href='https://wandb.ai/flower-classification/pytorch-sweeps-demo/runs/y4niwbym' target=\"_blank\">https://wandb.ai/flower-classification/pytorch-sweeps-demo/runs/y4niwbym</a><br/>Synced 5 W&B file(s), 0 media file(s), 0 artifact file(s) and 0 other file(s)"
      ],
      "text/plain": [
       "<IPython.core.display.HTML object>"
      ]
     },
     "metadata": {},
     "output_type": "display_data"
    },
    {
     "data": {
      "text/html": [
       "Find logs at: <code>./wandb/run-20230313_224154-y4niwbym/logs</code>"
      ],
      "text/plain": [
       "<IPython.core.display.HTML object>"
      ]
     },
     "metadata": {},
     "output_type": "display_data"
    },
    {
     "name": "stderr",
     "output_type": "stream",
     "text": [
      "Run y4niwbym errored: OutOfMemoryError('CUDA out of memory. Tried to allocate 2.00 MiB (GPU 0; 1.95 GiB total capacity; 1.32 GiB already allocated; 1.31 MiB free; 1.33 GiB reserved in total by PyTorch) If reserved memory is >> allocated memory try setting max_split_size_mb to avoid fragmentation.  See documentation for Memory Management and PYTORCH_CUDA_ALLOC_CONF')\n",
      "\u001b[34m\u001b[1mwandb\u001b[0m: \u001b[32m\u001b[41mERROR\u001b[0m Run y4niwbym errored: OutOfMemoryError('CUDA out of memory. Tried to allocate 2.00 MiB (GPU 0; 1.95 GiB total capacity; 1.32 GiB already allocated; 1.31 MiB free; 1.33 GiB reserved in total by PyTorch) If reserved memory is >> allocated memory try setting max_split_size_mb to avoid fragmentation.  See documentation for Memory Management and PYTORCH_CUDA_ALLOC_CONF')\n",
      "\u001b[34m\u001b[1mwandb\u001b[0m: Agent Starting Run: hxampiva with config:\n",
      "\u001b[34m\u001b[1mwandb\u001b[0m: \tbatch_size: 8\n",
      "\u001b[34m\u001b[1mwandb\u001b[0m: \tbeta_one: 0.9\n",
      "\u001b[34m\u001b[1mwandb\u001b[0m: \tbeta_two: 0.5\n",
      "\u001b[34m\u001b[1mwandb\u001b[0m: \tepochs: 10\n",
      "\u001b[34m\u001b[1mwandb\u001b[0m: \teps: 0.1\n",
      "\u001b[34m\u001b[1mwandb\u001b[0m: \tgamma: 0.5\n",
      "\u001b[34m\u001b[1mwandb\u001b[0m: \tlearning_rate: 0.0003\n",
      "\u001b[34m\u001b[1mwandb\u001b[0m: \toptimizer: sgd\n",
      "\u001b[34m\u001b[1mwandb\u001b[0m: \tstep_size: 3\n"
     ]
    },
    {
     "data": {
      "text/html": [
       "Tracking run with wandb version 0.13.11"
      ],
      "text/plain": [
       "<IPython.core.display.HTML object>"
      ]
     },
     "metadata": {},
     "output_type": "display_data"
    },
    {
     "data": {
      "text/html": [
       "Run data is saved locally in <code>/home/zenon/Documents/master-thesis/classification/classifier/wandb/run-20230313_224215-hxampiva</code>"
      ],
      "text/plain": [
       "<IPython.core.display.HTML object>"
      ]
     },
     "metadata": {},
     "output_type": "display_data"
    },
    {
     "data": {
      "text/html": [
       "Syncing run <strong><a href='https://wandb.ai/flower-classification/pytorch-sweeps-demo/runs/hxampiva' target=\"_blank\">misunderstood-sweep-29</a></strong> to <a href='https://wandb.ai/flower-classification/pytorch-sweeps-demo' target=\"_blank\">Weights & Biases</a> (<a href='https://wandb.me/run' target=\"_blank\">docs</a>)<br/>Sweep page: <a href='https://wandb.ai/flower-classification/pytorch-sweeps-demo/sweeps/eqwnoagh' target=\"_blank\">https://wandb.ai/flower-classification/pytorch-sweeps-demo/sweeps/eqwnoagh</a>"
      ],
      "text/plain": [
       "<IPython.core.display.HTML object>"
      ]
     },
     "metadata": {},
     "output_type": "display_data"
    },
    {
     "data": {
      "text/html": [
       " View project at <a href='https://wandb.ai/flower-classification/pytorch-sweeps-demo' target=\"_blank\">https://wandb.ai/flower-classification/pytorch-sweeps-demo</a>"
      ],
      "text/plain": [
       "<IPython.core.display.HTML object>"
      ]
     },
     "metadata": {},
     "output_type": "display_data"
    },
    {
     "data": {
      "text/html": [
       " View sweep at <a href='https://wandb.ai/flower-classification/pytorch-sweeps-demo/sweeps/eqwnoagh' target=\"_blank\">https://wandb.ai/flower-classification/pytorch-sweeps-demo/sweeps/eqwnoagh</a>"
      ],
      "text/plain": [
       "<IPython.core.display.HTML object>"
      ]
     },
     "metadata": {},
     "output_type": "display_data"
    },
    {
     "data": {
      "text/html": [
       " View run at <a href='https://wandb.ai/flower-classification/pytorch-sweeps-demo/runs/hxampiva' target=\"_blank\">https://wandb.ai/flower-classification/pytorch-sweeps-demo/runs/hxampiva</a>"
      ],
      "text/plain": [
       "<IPython.core.display.HTML object>"
      ]
     },
     "metadata": {},
     "output_type": "display_data"
    },
    {
     "data": {
      "text/html": [
       "Waiting for W&B process to finish... <strong style=\"color:red\">(failed 1).</strong> Press Control-C to abort syncing."
      ],
      "text/plain": [
       "<IPython.core.display.HTML object>"
      ]
     },
     "metadata": {},
     "output_type": "display_data"
    },
    {
     "data": {
      "application/vnd.jupyter.widget-view+json": {
       "model_id": "18a4b9d577dc4678bc02fc829b527858",
       "version_major": 2,
       "version_minor": 0
      },
      "text/plain": [
       "VBox(children=(Label(value='0.027 MB of 0.027 MB uploaded (0.000 MB deduped)\\r'), FloatProgress(value=1.0, max…"
      ]
     },
     "metadata": {},
     "output_type": "display_data"
    },
    {
     "data": {
      "text/html": [
       " View run <strong style=\"color:#cdcd00\">misunderstood-sweep-29</strong> at: <a href='https://wandb.ai/flower-classification/pytorch-sweeps-demo/runs/hxampiva' target=\"_blank\">https://wandb.ai/flower-classification/pytorch-sweeps-demo/runs/hxampiva</a><br/>Synced 5 W&B file(s), 0 media file(s), 0 artifact file(s) and 0 other file(s)"
      ],
      "text/plain": [
       "<IPython.core.display.HTML object>"
      ]
     },
     "metadata": {},
     "output_type": "display_data"
    },
    {
     "data": {
      "text/html": [
       "Find logs at: <code>./wandb/run-20230313_224215-hxampiva/logs</code>"
      ],
      "text/plain": [
       "<IPython.core.display.HTML object>"
      ]
     },
     "metadata": {},
     "output_type": "display_data"
    },
    {
     "name": "stderr",
     "output_type": "stream",
     "text": [
      "Run hxampiva errored: OutOfMemoryError('CUDA out of memory. Tried to allocate 2.00 MiB (GPU 0; 1.95 GiB total capacity; 1.32 GiB already allocated; 1.31 MiB free; 1.33 GiB reserved in total by PyTorch) If reserved memory is >> allocated memory try setting max_split_size_mb to avoid fragmentation.  See documentation for Memory Management and PYTORCH_CUDA_ALLOC_CONF')\n",
      "\u001b[34m\u001b[1mwandb\u001b[0m: \u001b[32m\u001b[41mERROR\u001b[0m Run hxampiva errored: OutOfMemoryError('CUDA out of memory. Tried to allocate 2.00 MiB (GPU 0; 1.95 GiB total capacity; 1.32 GiB already allocated; 1.31 MiB free; 1.33 GiB reserved in total by PyTorch) If reserved memory is >> allocated memory try setting max_split_size_mb to avoid fragmentation.  See documentation for Memory Management and PYTORCH_CUDA_ALLOC_CONF')\n",
      "\u001b[34m\u001b[1mwandb\u001b[0m: Sweep Agent: Waiting for job.\n",
      "\u001b[34m\u001b[1mwandb\u001b[0m: Job received.\n",
      "\u001b[34m\u001b[1mwandb\u001b[0m: Agent Starting Run: q1v8qruc with config:\n",
      "\u001b[34m\u001b[1mwandb\u001b[0m: \tbatch_size: 8\n",
      "\u001b[34m\u001b[1mwandb\u001b[0m: \tbeta_one: 0.99\n",
      "\u001b[34m\u001b[1mwandb\u001b[0m: \tbeta_two: 0.9\n",
      "\u001b[34m\u001b[1mwandb\u001b[0m: \tepochs: 10\n",
      "\u001b[34m\u001b[1mwandb\u001b[0m: \teps: 1e-08\n",
      "\u001b[34m\u001b[1mwandb\u001b[0m: \tgamma: 0.1\n",
      "\u001b[34m\u001b[1mwandb\u001b[0m: \tlearning_rate: 0.1\n",
      "\u001b[34m\u001b[1mwandb\u001b[0m: \toptimizer: sgd\n",
      "\u001b[34m\u001b[1mwandb\u001b[0m: \tstep_size: 7\n"
     ]
    },
    {
     "data": {
      "text/html": [
       "Tracking run with wandb version 0.13.11"
      ],
      "text/plain": [
       "<IPython.core.display.HTML object>"
      ]
     },
     "metadata": {},
     "output_type": "display_data"
    },
    {
     "data": {
      "text/html": [
       "Run data is saved locally in <code>/home/zenon/Documents/master-thesis/classification/classifier/wandb/run-20230313_224241-q1v8qruc</code>"
      ],
      "text/plain": [
       "<IPython.core.display.HTML object>"
      ]
     },
     "metadata": {},
     "output_type": "display_data"
    },
    {
     "data": {
      "text/html": [
       "Syncing run <strong><a href='https://wandb.ai/flower-classification/pytorch-sweeps-demo/runs/q1v8qruc' target=\"_blank\">cosmic-sweep-30</a></strong> to <a href='https://wandb.ai/flower-classification/pytorch-sweeps-demo' target=\"_blank\">Weights & Biases</a> (<a href='https://wandb.me/run' target=\"_blank\">docs</a>)<br/>Sweep page: <a href='https://wandb.ai/flower-classification/pytorch-sweeps-demo/sweeps/eqwnoagh' target=\"_blank\">https://wandb.ai/flower-classification/pytorch-sweeps-demo/sweeps/eqwnoagh</a>"
      ],
      "text/plain": [
       "<IPython.core.display.HTML object>"
      ]
     },
     "metadata": {},
     "output_type": "display_data"
    },
    {
     "data": {
      "text/html": [
       " View project at <a href='https://wandb.ai/flower-classification/pytorch-sweeps-demo' target=\"_blank\">https://wandb.ai/flower-classification/pytorch-sweeps-demo</a>"
      ],
      "text/plain": [
       "<IPython.core.display.HTML object>"
      ]
     },
     "metadata": {},
     "output_type": "display_data"
    },
    {
     "data": {
      "text/html": [
       " View sweep at <a href='https://wandb.ai/flower-classification/pytorch-sweeps-demo/sweeps/eqwnoagh' target=\"_blank\">https://wandb.ai/flower-classification/pytorch-sweeps-demo/sweeps/eqwnoagh</a>"
      ],
      "text/plain": [
       "<IPython.core.display.HTML object>"
      ]
     },
     "metadata": {},
     "output_type": "display_data"
    },
    {
     "data": {
      "text/html": [
       " View run at <a href='https://wandb.ai/flower-classification/pytorch-sweeps-demo/runs/q1v8qruc' target=\"_blank\">https://wandb.ai/flower-classification/pytorch-sweeps-demo/runs/q1v8qruc</a>"
      ],
      "text/plain": [
       "<IPython.core.display.HTML object>"
      ]
     },
     "metadata": {},
     "output_type": "display_data"
    },
    {
     "data": {
      "text/html": [
       "Waiting for W&B process to finish... <strong style=\"color:red\">(failed 1).</strong> Press Control-C to abort syncing."
      ],
      "text/plain": [
       "<IPython.core.display.HTML object>"
      ]
     },
     "metadata": {},
     "output_type": "display_data"
    },
    {
     "data": {
      "application/vnd.jupyter.widget-view+json": {
       "model_id": "5504f3fc68844494809c30c364a93525",
       "version_major": 2,
       "version_minor": 0
      },
      "text/plain": [
       "VBox(children=(Label(value='0.027 MB of 0.027 MB uploaded (0.000 MB deduped)\\r'), FloatProgress(value=1.0, max…"
      ]
     },
     "metadata": {},
     "output_type": "display_data"
    },
    {
     "data": {
      "text/html": [
       " View run <strong style=\"color:#cdcd00\">cosmic-sweep-30</strong> at: <a href='https://wandb.ai/flower-classification/pytorch-sweeps-demo/runs/q1v8qruc' target=\"_blank\">https://wandb.ai/flower-classification/pytorch-sweeps-demo/runs/q1v8qruc</a><br/>Synced 5 W&B file(s), 0 media file(s), 0 artifact file(s) and 0 other file(s)"
      ],
      "text/plain": [
       "<IPython.core.display.HTML object>"
      ]
     },
     "metadata": {},
     "output_type": "display_data"
    },
    {
     "data": {
      "text/html": [
       "Find logs at: <code>./wandb/run-20230313_224241-q1v8qruc/logs</code>"
      ],
      "text/plain": [
       "<IPython.core.display.HTML object>"
      ]
     },
     "metadata": {},
     "output_type": "display_data"
    },
    {
     "name": "stderr",
     "output_type": "stream",
     "text": [
      "Run q1v8qruc errored: OutOfMemoryError('CUDA out of memory. Tried to allocate 2.00 MiB (GPU 0; 1.95 GiB total capacity; 1.32 GiB already allocated; 1.31 MiB free; 1.33 GiB reserved in total by PyTorch) If reserved memory is >> allocated memory try setting max_split_size_mb to avoid fragmentation.  See documentation for Memory Management and PYTORCH_CUDA_ALLOC_CONF')\n",
      "\u001b[34m\u001b[1mwandb\u001b[0m: \u001b[32m\u001b[41mERROR\u001b[0m Run q1v8qruc errored: OutOfMemoryError('CUDA out of memory. Tried to allocate 2.00 MiB (GPU 0; 1.95 GiB total capacity; 1.32 GiB already allocated; 1.31 MiB free; 1.33 GiB reserved in total by PyTorch) If reserved memory is >> allocated memory try setting max_split_size_mb to avoid fragmentation.  See documentation for Memory Management and PYTORCH_CUDA_ALLOC_CONF')\n"
     ]
    }
   ],
   "source": [
    "wandb.agent(sweep_id, train, count=30)"
   ]
  }
 ],
 "metadata": {
  "kernelspec": {
   "display_name": "Python 3 (ipykernel)",
   "language": "python",
   "name": "python3"
  },
  "language_info": {
   "codemirror_mode": {
    "name": "ipython",
    "version": 3
   },
   "file_extension": ".py",
   "mimetype": "text/x-python",
   "name": "python",
   "nbconvert_exporter": "python",
   "pygments_lexer": "ipython3",
   "version": "3.10.13"
  }
 },
 "nbformat": 4,
 "nbformat_minor": 5
}
