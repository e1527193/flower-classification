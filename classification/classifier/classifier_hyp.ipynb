{
 "cells": [
  {
   "cell_type": "markdown",
   "id": "2ee2704f-4d86-41b3-b511-c21f4f6cdbb8",
   "metadata": {},
   "source": [
    "# Hyperparameter Optimization for Classifier\n",
    "\n",
    "This notebook is used in Google Colab to run the hyperparameter search for the classifier. The results of each run are uploaded to W&B where the metrics can be aggregated properly."
   ]
  },
  {
   "cell_type": "code",
   "execution_count": 1,
   "id": "CkZsS-w4atkF",
   "metadata": {
    "colab": {
     "base_uri": "https://localhost:8080/"
    },
    "id": "CkZsS-w4atkF",
    "outputId": "f3a78987-dbd2-4771-92ca-69cdf97d0571"
   },
   "outputs": [
    {
     "name": "stdout",
     "output_type": "stream",
     "text": [
      "Mounted at /content/drive\n"
     ]
    }
   ],
   "source": [
    "from google.colab import drive\n",
    "drive.mount('/content/drive')"
   ]
  },
  {
   "cell_type": "code",
   "execution_count": 2,
   "id": "zzWoPgRpd1xn",
   "metadata": {
    "colab": {
     "base_uri": "https://localhost:8080/"
    },
    "id": "zzWoPgRpd1xn",
    "outputId": "daa8edca-5ddf-4ac8-cb91-b4e77f9cc858"
   },
   "outputs": [
    {
     "name": "stdout",
     "output_type": "stream",
     "text": [
      "Looking in indexes: https://pypi.org/simple, https://us-python.pkg.dev/colab-wheels/public/simple/\n",
      "Collecting wandb\n",
      "  Downloading wandb-0.14.0-py3-none-any.whl (2.0 MB)\n",
      "\u001b[2K     \u001b[90m━━━━━━━━━━━━━━━━━━━━━━━━━━━━━━━━━━━━━━━━\u001b[0m \u001b[32m2.0/2.0 MB\u001b[0m \u001b[31m27.6 MB/s\u001b[0m eta \u001b[36m0:00:00\u001b[0m\n",
      "\u001b[?25hCollecting sentry-sdk>=1.0.0\n",
      "  Downloading sentry_sdk-1.19.0-py2.py3-none-any.whl (199 kB)\n",
      "\u001b[2K     \u001b[90m━━━━━━━━━━━━━━━━━━━━━━━━━━━━━━━━━━━━━━\u001b[0m \u001b[32m199.2/199.2 KB\u001b[0m \u001b[31m25.9 MB/s\u001b[0m eta \u001b[36m0:00:00\u001b[0m\n",
      "\u001b[?25hRequirement already satisfied: setuptools in /usr/local/lib/python3.9/dist-packages (from wandb) (67.6.1)\n",
      "Requirement already satisfied: protobuf!=4.21.0,<5,>=3.15.0 in /usr/local/lib/python3.9/dist-packages (from wandb) (3.20.3)\n",
      "Requirement already satisfied: psutil>=5.0.0 in /usr/local/lib/python3.9/dist-packages (from wandb) (5.9.4)\n",
      "Requirement already satisfied: requests<3,>=2.0.0 in /usr/local/lib/python3.9/dist-packages (from wandb) (2.27.1)\n",
      "Collecting GitPython!=3.1.29,>=1.0.0\n",
      "  Downloading GitPython-3.1.31-py3-none-any.whl (184 kB)\n",
      "\u001b[2K     \u001b[90m━━━━━━━━━━━━━━━━━━━━━━━━━━━━━━━━━━━━━━\u001b[0m \u001b[32m184.3/184.3 KB\u001b[0m \u001b[31m22.5 MB/s\u001b[0m eta \u001b[36m0:00:00\u001b[0m\n",
      "\u001b[?25hRequirement already satisfied: appdirs>=1.4.3 in /usr/local/lib/python3.9/dist-packages (from wandb) (1.4.4)\n",
      "Collecting docker-pycreds>=0.4.0\n",
      "  Downloading docker_pycreds-0.4.0-py2.py3-none-any.whl (9.0 kB)\n",
      "Collecting setproctitle\n",
      "  Downloading setproctitle-1.3.2-cp39-cp39-manylinux_2_5_x86_64.manylinux1_x86_64.manylinux_2_17_x86_64.manylinux2014_x86_64.whl (30 kB)\n",
      "Requirement already satisfied: Click!=8.0.0,>=7.0 in /usr/local/lib/python3.9/dist-packages (from wandb) (8.1.3)\n",
      "Requirement already satisfied: PyYAML in /usr/local/lib/python3.9/dist-packages (from wandb) (6.0)\n",
      "Requirement already satisfied: typing-extensions in /usr/local/lib/python3.9/dist-packages (from wandb) (4.5.0)\n",
      "Collecting pathtools\n",
      "  Downloading pathtools-0.1.2.tar.gz (11 kB)\n",
      "  Preparing metadata (setup.py) ... \u001b[?25l\u001b[?25hdone\n",
      "Requirement already satisfied: six>=1.4.0 in /usr/local/lib/python3.9/dist-packages (from docker-pycreds>=0.4.0->wandb) (1.16.0)\n",
      "Collecting gitdb<5,>=4.0.1\n",
      "  Downloading gitdb-4.0.10-py3-none-any.whl (62 kB)\n",
      "\u001b[2K     \u001b[90m━━━━━━━━━━━━━━━━━━━━━━━━━━━━━━━━━━━━━━━━\u001b[0m \u001b[32m62.7/62.7 KB\u001b[0m \u001b[31m8.4 MB/s\u001b[0m eta \u001b[36m0:00:00\u001b[0m\n",
      "\u001b[?25hRequirement already satisfied: idna<4,>=2.5 in /usr/local/lib/python3.9/dist-packages (from requests<3,>=2.0.0->wandb) (3.4)\n",
      "Requirement already satisfied: charset-normalizer~=2.0.0 in /usr/local/lib/python3.9/dist-packages (from requests<3,>=2.0.0->wandb) (2.0.12)\n",
      "Requirement already satisfied: certifi>=2017.4.17 in /usr/local/lib/python3.9/dist-packages (from requests<3,>=2.0.0->wandb) (2022.12.7)\n",
      "Requirement already satisfied: urllib3<1.27,>=1.21.1 in /usr/local/lib/python3.9/dist-packages (from requests<3,>=2.0.0->wandb) (1.26.15)\n",
      "Collecting smmap<6,>=3.0.1\n",
      "  Downloading smmap-5.0.0-py3-none-any.whl (24 kB)\n",
      "Building wheels for collected packages: pathtools\n",
      "  Building wheel for pathtools (setup.py) ... \u001b[?25l\u001b[?25hdone\n",
      "  Created wheel for pathtools: filename=pathtools-0.1.2-py3-none-any.whl size=8807 sha256=e0132d67db355152a3925f1b0367a996c977716084c67122838eac002d321662\n",
      "  Stored in directory: /root/.cache/pip/wheels/b7/0a/67/ada2a22079218c75a88361c0782855cc72aebc4d18d0289d05\n",
      "Successfully built pathtools\n",
      "Installing collected packages: pathtools, smmap, setproctitle, sentry-sdk, docker-pycreds, gitdb, GitPython, wandb\n",
      "Successfully installed GitPython-3.1.31 docker-pycreds-0.4.0 gitdb-4.0.10 pathtools-0.1.2 sentry-sdk-1.19.0 setproctitle-1.3.2 smmap-5.0.0 wandb-0.14.0\n"
     ]
    }
   ],
   "source": [
    "!pip install wandb"
   ]
  },
  {
   "cell_type": "code",
   "execution_count": 3,
   "id": "747ddcf2",
   "metadata": {
    "colab": {
     "base_uri": "https://localhost:8080/",
     "height": 121
    },
    "id": "747ddcf2",
    "outputId": "ebf3b723-ac7b-41ba-a9a6-e2e82e907879"
   },
   "outputs": [
    {
     "data": {
      "application/javascript": [
       "\n",
       "        window._wandbApiKey = new Promise((resolve, reject) => {\n",
       "            function loadScript(url) {\n",
       "            return new Promise(function(resolve, reject) {\n",
       "                let newScript = document.createElement(\"script\");\n",
       "                newScript.onerror = reject;\n",
       "                newScript.onload = resolve;\n",
       "                document.body.appendChild(newScript);\n",
       "                newScript.src = url;\n",
       "            });\n",
       "            }\n",
       "            loadScript(\"https://cdn.jsdelivr.net/npm/postmate/build/postmate.min.js\").then(() => {\n",
       "            const iframe = document.createElement('iframe')\n",
       "            iframe.style.cssText = \"width:0;height:0;border:none\"\n",
       "            document.body.appendChild(iframe)\n",
       "            const handshake = new Postmate({\n",
       "                container: iframe,\n",
       "                url: 'https://wandb.ai/authorize'\n",
       "            });\n",
       "            const timeout = setTimeout(() => reject(\"Couldn't auto authenticate\"), 5000)\n",
       "            handshake.then(function(child) {\n",
       "                child.on('authorize', data => {\n",
       "                    clearTimeout(timeout)\n",
       "                    resolve(data)\n",
       "                });\n",
       "            });\n",
       "            })\n",
       "        });\n",
       "    "
      ],
      "text/plain": [
       "<IPython.core.display.Javascript object>"
      ]
     },
     "metadata": {},
     "output_type": "display_data"
    },
    {
     "name": "stderr",
     "output_type": "stream",
     "text": [
      "\u001b[34m\u001b[1mwandb\u001b[0m: Logging into wandb.ai. (Learn how to deploy a W&B server locally: https://wandb.me/wandb-server)\n",
      "\u001b[34m\u001b[1mwandb\u001b[0m: You can find your API key in your browser here: https://wandb.ai/authorize\n",
      "wandb: Paste an API key from your profile and hit enter, or press ctrl+c to quit:"
     ]
    },
    {
     "name": "stdout",
     "output_type": "stream",
     "text": [
      " ··········\n"
     ]
    },
    {
     "name": "stderr",
     "output_type": "stream",
     "text": [
      "\u001b[34m\u001b[1mwandb\u001b[0m: Appending key for api.wandb.ai to your netrc file: /root/.netrc\n"
     ]
    },
    {
     "data": {
      "text/plain": [
       "True"
      ]
     },
     "execution_count": 3,
     "metadata": {},
     "output_type": "execute_result"
    }
   ],
   "source": [
    "import wandb\n",
    "\n",
    "wandb.login()"
   ]
  },
  {
   "cell_type": "code",
   "execution_count": 4,
   "id": "c37343d6",
   "metadata": {
    "id": "c37343d6"
   },
   "outputs": [],
   "source": [
    "import torch\n",
    "import torch.optim as optim\n",
    "import torch.nn.functional as F\n",
    "import torch.nn as nn\n",
    "from torchvision import datasets, transforms\n",
    "from torchvision.models import resnet50, ResNet50_Weights\n",
    "from torch.utils.data import Dataset, DataLoader, random_split, SubsetRandomSampler\n",
    "import numpy as np\n",
    "import os\n",
    "import time\n",
    "import copy\n",
    "import random\n",
    "from sklearn import metrics\n",
    "\n",
    "torch.manual_seed(42)\n",
    "np.random.seed(42)\n",
    "\n",
    "device = torch.device(\"cuda\" if torch.cuda.is_available() else \"cpu\")"
   ]
  },
  {
   "cell_type": "markdown",
   "id": "d7dd71bd-7d96-46e1-be2a-b384f405e108",
   "metadata": {},
   "source": [
    "## Create the Dataset\n",
    "\n",
    "The dataset (in folder `plantsdata`) is split into 90/10 train/test splits. During each epoch the metrics are reported to W&B where it is easier to see them all in aggregate over time."
   ]
  },
  {
   "cell_type": "code",
   "execution_count": 5,
   "id": "17b25dc7",
   "metadata": {
    "id": "17b25dc7"
   },
   "outputs": [],
   "source": [
    "def build_dataset(batch_size):    \n",
    "    data_transforms = {\n",
    "        'train': transforms.Compose([\n",
    "            transforms.RandomResizedCrop(224),\n",
    "            transforms.RandomHorizontalFlip(),\n",
    "            transforms.ToTensor(),\n",
    "            transforms.Normalize([0.485, 0.456, 0.406], [0.229, 0.224, 0.225])\n",
    "        ]),\n",
    "        'test': transforms.Compose([\n",
    "            transforms.Resize(256),\n",
    "            transforms.CenterCrop(224),\n",
    "            transforms.ToTensor(),\n",
    "            transforms.Normalize([0.485, 0.456, 0.406], [0.229, 0.224, 0.225])\n",
    "        ]),\n",
    "    }\n",
    "\n",
    "    data_dir = '/content/drive/MyDrive/plantsdata'\n",
    "    dataset = datasets.ImageFolder(os.path.join(data_dir))\n",
    "\n",
    "    # 90/10 split\n",
    "    train_dataset, test_dataset = random_split(dataset, [0.9, 0.1])\n",
    "\n",
    "    train_dataset.dataset.transform = data_transforms['train']\n",
    "    test_dataset.dataset.transform = data_transforms['test']\n",
    "\n",
    "    train_loader = torch.utils.data.DataLoader(train_dataset, batch_size=batch_size,\n",
    "                                               shuffle=True, num_workers=4)\n",
    "    test_loader = torch.utils.data.DataLoader(test_dataset, batch_size=batch_size,\n",
    "                                             shuffle=True, num_workers=4)\n",
    "\n",
    "    dataloaders = {'train': train_loader, 'test': test_loader}\n",
    "    dataset_size = len(dataset)\n",
    "    dataset_sizes = {'train': len(train_dataset), 'test': len(test_dataset)}\n",
    "    class_names = dataset.classes\n",
    "\n",
    "    return (dataloaders, dataset_sizes)\n",
    "\n",
    "def build_network():\n",
    "    network = resnet50(weights=ResNet50_Weights.DEFAULT)\n",
    "    num_ftrs = network.fc.in_features\n",
    "\n",
    "    # Add linear layer with number of classes\n",
    "    network.fc = nn.Linear(num_ftrs, 2)\n",
    "\n",
    "    return network.to(device)\n",
    "\n",
    "def build_optimizer(network, optimizer, learning_rate, beta_one, beta_two, eps):\n",
    "    if optimizer == \"sgd\":\n",
    "        optimizer = optim.SGD(network.parameters(),\n",
    "                              lr=learning_rate, momentum=0.9)\n",
    "    elif optimizer == \"adam\":\n",
    "        optimizer = optim.Adam(network.parameters(),\n",
    "                               lr=learning_rate,\n",
    "                               betas=(beta_one, beta_two),\n",
    "                               eps=eps)\n",
    "    return optimizer\n",
    "\n",
    "def train_epoch(network, loader, optimizer, criterion, scheduler, dataset_sizes):\n",
    "    network.train()\n",
    "    running_loss = 0.0\n",
    "    running_corrects = 0\n",
    "    for _, (data, target) in enumerate(loader):\n",
    "        data, target = data.to(device), target.to(device)\n",
    "        optimizer.zero_grad()\n",
    "\n",
    "        # ➡ Forward pass\n",
    "        #loss = F.nll_loss(network(data), target)\n",
    "        with torch.set_grad_enabled(True):\n",
    "            outputs = network(data)\n",
    "            _, preds = torch.max(outputs, 1)\n",
    "            loss = criterion(outputs, target)\n",
    "        \n",
    "        #cumu_loss += loss.item()\n",
    "        \n",
    "        running_loss += loss.item() * data.size(0)\n",
    "        running_corrects += torch.sum(preds == target.data)\n",
    "\n",
    "        # ⬅ Backward pass + weight update\n",
    "        loss.backward()\n",
    "        optimizer.step()\n",
    "\n",
    "        wandb.log({'train/batch_loss': loss.item()})\n",
    "\n",
    "    scheduler.step()\n",
    "\n",
    "    epoch_loss = running_loss / dataset_sizes['train']\n",
    "    epoch_acc = running_corrects.double() / dataset_sizes['train']\n",
    "    \n",
    "    return (epoch_loss, epoch_acc)\n",
    "\n",
    "def test(network, loader, optimizer, criterion, dataset_sizes):\n",
    "    network.eval()\n",
    "    confusion = torch.empty([0, 1])\n",
    "    confusion = confusion.to(device)\n",
    "    running_loss = 0.0\n",
    "    test_corrects = 0\n",
    "    for _, (data, target) in enumerate(loader):\n",
    "        data, target = data.to(device), target.to(device)\n",
    "        optimizer.zero_grad()\n",
    "\n",
    "        # ➡ Forward pass\n",
    "        with torch.set_grad_enabled(False):\n",
    "            outputs = network(data)\n",
    "            _, preds = torch.max(outputs, 1)\n",
    "            loss = criterion(outputs, target)\n",
    "\n",
    "        running_loss += loss.item() * data.size(0)\n",
    "        test_corrects += torch.sum(preds == target.data)\n",
    "        \n",
    "        confusion = torch.cat((confusion, preds[:, None] / target.data[:, None]))\n",
    "\n",
    "    tp = torch.sum(confusion == 1).item()\n",
    "    fp = torch.sum(confusion == float('inf')).item()\n",
    "    tn = torch.sum(torch.isnan(confusion)).item()\n",
    "    fn = torch.sum(confusion == 0).item()\n",
    "    \n",
    "    precision = tp / (tp + fp)\n",
    "    recall = tp / (tp + fn)\n",
    "    f = 2 * ((precision * recall) / (precision + recall))\n",
    "    \n",
    "    epoch_loss = running_loss / dataset_sizes['test']\n",
    "    epoch_acc = test_corrects.double() / dataset_sizes['test']\n",
    "    \n",
    "    return (epoch_loss, epoch_acc, precision, recall, f)"
   ]
  },
  {
   "cell_type": "code",
   "execution_count": 6,
   "id": "5eff68bf",
   "metadata": {
    "id": "5eff68bf"
   },
   "outputs": [],
   "source": [
    "def train(config=None):\n",
    "    # Initialize a new wandb run\n",
    "    with wandb.init(config=config):\n",
    "        # If called by wandb.agent, as below,\n",
    "        # this config will be set by Sweep Controller\n",
    "        config = wandb.config\n",
    "\n",
    "        (dataloaders, dataset_sizes) = build_dataset(config.batch_size)\n",
    "        network = build_network()\n",
    "        optimizer = build_optimizer(network, config.optimizer, config.learning_rate, config.beta_one,\n",
    "                                    config.beta_two, config.eps)\n",
    "        criterion = nn.CrossEntropyLoss()\n",
    "        # Decay LR by a factor of 0.1 every 7 epochs\n",
    "        exp_lr_scheduler = optim.lr_scheduler.StepLR(optimizer, config.step_size, config.gamma)\n",
    "\n",
    "        for epoch in range(config.epochs):            \n",
    "            (epoch_loss, epoch_acc) = train_epoch(network, dataloaders['train'], optimizer,\n",
    "                                                  criterion, exp_lr_scheduler,\n",
    "                                                  dataset_sizes)\n",
    "            wandb.log({\"epoch\": epoch, 'train/epoch_loss': epoch_loss, 'train/epoch_acc': epoch_acc})\n",
    "            \n",
    "            (test_loss, test_acc, test_precision, test_recall, test_f) = test(network, dataloaders['test'],\n",
    "                                                                              optimizer, criterion,\n",
    "                                                                              dataset_sizes)\n",
    "            wandb.log({'test/epoch_loss': test_loss, 'test/epoch_acc': test_acc,\n",
    "                       'test/precision': test_precision, 'test/recall': test_recall,\n",
    "                       'test/f1-score': test_f})"
   ]
  },
  {
   "cell_type": "markdown",
   "id": "caf3c858-c57a-4fe1-bc3e-b709223f1652",
   "metadata": {},
   "source": [
    "## W&B config\n",
    "\n",
    "These dictionaries specify the parameters which should be optimized as well as how the optimization should be done (`grid`, `random`,…)."
   ]
  },
  {
   "cell_type": "code",
   "execution_count": 7,
   "id": "732a83df",
   "metadata": {
    "id": "732a83df"
   },
   "outputs": [],
   "source": [
    "sweep_config = {\n",
    "    'method': 'random'\n",
    "}\n",
    "\n",
    "metric = {\n",
    "    'name': 'test/epoch_acc',\n",
    "    'goal': 'maximize'   \n",
    "}\n",
    "\n",
    "sweep_config['metric'] = metric\n",
    "\n",
    "parameters_dict = {\n",
    "    'optimizer': {\n",
    "        'values': ['adam', 'sgd']\n",
    "    },\n",
    "}\n",
    "\n",
    "sweep_config['parameters'] = parameters_dict\n",
    "\n",
    "parameters_dict.update({\n",
    "    'epochs': {\n",
    "        'value': 10},\n",
    "    'batch_size': {\n",
    "        'values': [4, 8, 16, 32, 64]},\n",
    "    'learning_rate': {\n",
    "        'values': [0.1, 0.01, 0.003, 0.001, 0.0003, 0.0001]},\n",
    "    'step_size': {\n",
    "        'values': [2, 3, 5, 7]},\n",
    "    'gamma': {\n",
    "        'values': [0.1, 0.5]},\n",
    "    'beta_one': {\n",
    "        'values': [0.9, 0.99]},\n",
    "    'beta_two': {\n",
    "        'values': [0.5, 0.9, 0.99, 0.999]},\n",
    "    'eps': {\n",
    "        'values': [1e-08, 0.1, 1]}\n",
    "})"
   ]
  },
  {
   "cell_type": "code",
   "execution_count": 8,
   "id": "9a01fef6",
   "metadata": {
    "colab": {
     "base_uri": "https://localhost:8080/"
    },
    "id": "9a01fef6",
    "outputId": "dd802f5b-fd67-4e16-c042-f7fdbe65d568"
   },
   "outputs": [
    {
     "name": "stdout",
     "output_type": "stream",
     "text": [
      "Create sweep with ID: 9681wnh0\n",
      "Sweep URL: https://wandb.ai/flower-classification/pytorch-sweeps-demo/sweeps/9681wnh0\n"
     ]
    }
   ],
   "source": [
    "sweep_id = wandb.sweep(sweep_config, project=\"pytorch-sweeps-demo\")"
   ]
  },
  {
   "cell_type": "code",
   "execution_count": null,
   "id": "e80d1730",
   "metadata": {
    "colab": {
     "base_uri": "https://localhost:8080/",
     "height": 1000,
     "referenced_widgets": [
      "e840ed026b3342718c0aa068f81d93f3",
      "d510d413136c4231bc720200145a5d77",
      "a6a0d4738d434aa1b734c8407dde4e74",
      "9e4d93cf62094092809fee70ba7885f5",
      "32a491d3031c476da2d8687861ccbf7d",
      "ff00a24840224f8d9cce9ade4e77ac0c",
      "d8ec9c75b1f14686a6734b86eea24bb7",
      "220d541b7b4347b08a7fc9b8feb09f98"
     ]
    },
    "id": "e80d1730",
    "outputId": "fb105ba8-6c50-4e19-9d02-88a9e8357bc0"
   },
   "outputs": [
    {
     "name": "stderr",
     "output_type": "stream",
     "text": [
      "\u001b[34m\u001b[1mwandb\u001b[0m: Agent Starting Run: pw52k3j3 with config:\n",
      "\u001b[34m\u001b[1mwandb\u001b[0m: \tbatch_size: 8\n",
      "\u001b[34m\u001b[1mwandb\u001b[0m: \tbeta_one: 0.9\n",
      "\u001b[34m\u001b[1mwandb\u001b[0m: \tbeta_two: 0.99\n",
      "\u001b[34m\u001b[1mwandb\u001b[0m: \tepochs: 10\n",
      "\u001b[34m\u001b[1mwandb\u001b[0m: \teps: 1\n",
      "\u001b[34m\u001b[1mwandb\u001b[0m: \tgamma: 0.1\n",
      "\u001b[34m\u001b[1mwandb\u001b[0m: \tlearning_rate: 0.0001\n",
      "\u001b[34m\u001b[1mwandb\u001b[0m: \toptimizer: sgd\n",
      "\u001b[34m\u001b[1mwandb\u001b[0m: \tstep_size: 3\n",
      "\u001b[34m\u001b[1mwandb\u001b[0m: Currently logged in as: \u001b[33me1527193\u001b[0m (\u001b[33mflower-classification\u001b[0m). Use \u001b[1m`wandb login --relogin`\u001b[0m to force relogin\n"
     ]
    },
    {
     "data": {
      "text/html": [
       "Tracking run with wandb version 0.14.0"
      ],
      "text/plain": [
       "<IPython.core.display.HTML object>"
      ]
     },
     "metadata": {},
     "output_type": "display_data"
    },
    {
     "data": {
      "text/html": [
       "Run data is saved locally in <code>/content/wandb/run-20230404_135456-pw52k3j3</code>"
      ],
      "text/plain": [
       "<IPython.core.display.HTML object>"
      ]
     },
     "metadata": {},
     "output_type": "display_data"
    },
    {
     "data": {
      "text/html": [
       "Syncing run <strong><a href='https://wandb.ai/flower-classification/pytorch-sweeps-demo/runs/pw52k3j3' target=\"_blank\">snowy-sweep-1</a></strong> to <a href='https://wandb.ai/flower-classification/pytorch-sweeps-demo' target=\"_blank\">Weights & Biases</a> (<a href='https://wandb.me/run' target=\"_blank\">docs</a>)<br/>Sweep page: <a href='https://wandb.ai/flower-classification/pytorch-sweeps-demo/sweeps/9681wnh0' target=\"_blank\">https://wandb.ai/flower-classification/pytorch-sweeps-demo/sweeps/9681wnh0</a>"
      ],
      "text/plain": [
       "<IPython.core.display.HTML object>"
      ]
     },
     "metadata": {},
     "output_type": "display_data"
    },
    {
     "data": {
      "text/html": [
       " View project at <a href='https://wandb.ai/flower-classification/pytorch-sweeps-demo' target=\"_blank\">https://wandb.ai/flower-classification/pytorch-sweeps-demo</a>"
      ],
      "text/plain": [
       "<IPython.core.display.HTML object>"
      ]
     },
     "metadata": {},
     "output_type": "display_data"
    },
    {
     "data": {
      "text/html": [
       " View sweep at <a href='https://wandb.ai/flower-classification/pytorch-sweeps-demo/sweeps/9681wnh0' target=\"_blank\">https://wandb.ai/flower-classification/pytorch-sweeps-demo/sweeps/9681wnh0</a>"
      ],
      "text/plain": [
       "<IPython.core.display.HTML object>"
      ]
     },
     "metadata": {},
     "output_type": "display_data"
    },
    {
     "data": {
      "text/html": [
       " View run at <a href='https://wandb.ai/flower-classification/pytorch-sweeps-demo/runs/pw52k3j3' target=\"_blank\">https://wandb.ai/flower-classification/pytorch-sweeps-demo/runs/pw52k3j3</a>"
      ],
      "text/plain": [
       "<IPython.core.display.HTML object>"
      ]
     },
     "metadata": {},
     "output_type": "display_data"
    },
    {
     "name": "stderr",
     "output_type": "stream",
     "text": [
      "/usr/local/lib/python3.9/dist-packages/torch/utils/data/dataloader.py:561: UserWarning: This DataLoader will create 4 worker processes in total. Our suggested max number of worker in current system is 2, which is smaller than what this DataLoader is going to create. Please be aware that excessive worker creation might get DataLoader running slow or even freeze, lower the worker number to avoid potential slowness/freeze if necessary.\n",
      "  warnings.warn(_create_warning_msg(\n",
      "Downloading: \"https://download.pytorch.org/models/resnet50-11ad3fa6.pth\" to /root/.cache/torch/hub/checkpoints/resnet50-11ad3fa6.pth\n",
      "100%|██████████| 97.8M/97.8M [00:00<00:00, 236MB/s]\n"
     ]
    },
    {
     "data": {
      "text/html": [
       "Waiting for W&B process to finish... <strong style=\"color:green\">(success).</strong>"
      ],
      "text/plain": [
       "<IPython.core.display.HTML object>"
      ]
     },
     "metadata": {},
     "output_type": "display_data"
    },
    {
     "data": {
      "application/vnd.jupyter.widget-view+json": {
       "model_id": "e840ed026b3342718c0aa068f81d93f3",
       "version_major": 2,
       "version_minor": 0
      },
      "text/plain": [
       "VBox(children=(Label(value='0.001 MB of 0.001 MB uploaded (0.000 MB deduped)\\r'), FloatProgress(value=1.0, max…"
      ]
     },
     "metadata": {},
     "output_type": "display_data"
    },
    {
     "data": {
      "text/html": [
       "<style>\n",
       "    table.wandb td:nth-child(1) { padding: 0 10px; text-align: left ; width: auto;} td:nth-child(2) {text-align: left ; width: 100%}\n",
       "    .wandb-row { display: flex; flex-direction: row; flex-wrap: wrap; justify-content: flex-start; width: 100% }\n",
       "    .wandb-col { display: flex; flex-direction: column; flex-basis: 100%; flex: 1; padding: 10px; }\n",
       "    </style>\n",
       "<div class=\"wandb-row\"><div class=\"wandb-col\"><h3>Run history:</h3><br/><table class=\"wandb\"><tr><td>epoch</td><td>▁▂▃▃▄▅▆▆▇█</td></tr><tr><td>test/epoch_acc</td><td>▁▅▆▆██▇▇▇█</td></tr><tr><td>test/epoch_loss</td><td>█▅▂▂▂▂▁▁▂▂</td></tr><tr><td>test/f1-score</td><td>▁▆▇▇███▇▇█</td></tr><tr><td>test/precision</td><td>▁▄▅▅█▇▆▇▅▇</td></tr><tr><td>test/recall</td><td>▁▇▇▇▆▇█▆█▇</td></tr><tr><td>train/batch_loss</td><td>▇▆█▅▅▆▆▆▅▃▄▅▄▄▄▅▃█▄█▃▄▂▁▄▃▁▆▅▁▄▆▂▄▂▂▃▄▆▄</td></tr><tr><td>train/epoch_acc</td><td>▁▆▆▇█▇██▇█</td></tr><tr><td>train/epoch_loss</td><td>█▅▃▂▁▂▁▁▁▁</td></tr></table><br/></div><div class=\"wandb-col\"><h3>Run summary:</h3><br/><table class=\"wandb\"><tr><td>epoch</td><td>9</td></tr><tr><td>test/epoch_acc</td><td>0.81111</td></tr><tr><td>test/epoch_loss</td><td>0.60187</td></tr><tr><td>test/f1-score</td><td>0.8172</td></tr><tr><td>test/precision</td><td>0.77551</td></tr><tr><td>test/recall</td><td>0.86364</td></tr><tr><td>train/batch_loss</td><td>0.5635</td></tr><tr><td>train/epoch_acc</td><td>0.77273</td></tr><tr><td>train/epoch_loss</td><td>0.59496</td></tr></table><br/></div></div>"
      ],
      "text/plain": [
       "<IPython.core.display.HTML object>"
      ]
     },
     "metadata": {},
     "output_type": "display_data"
    },
    {
     "data": {
      "text/html": [
       " View run <strong style=\"color:#cdcd00\">snowy-sweep-1</strong> at: <a href='https://wandb.ai/flower-classification/pytorch-sweeps-demo/runs/pw52k3j3' target=\"_blank\">https://wandb.ai/flower-classification/pytorch-sweeps-demo/runs/pw52k3j3</a><br/>Synced 5 W&B file(s), 0 media file(s), 0 artifact file(s) and 0 other file(s)"
      ],
      "text/plain": [
       "<IPython.core.display.HTML object>"
      ]
     },
     "metadata": {},
     "output_type": "display_data"
    },
    {
     "data": {
      "text/html": [
       "Find logs at: <code>./wandb/run-20230404_135456-pw52k3j3/logs</code>"
      ],
      "text/plain": [
       "<IPython.core.display.HTML object>"
      ]
     },
     "metadata": {},
     "output_type": "display_data"
    },
    {
     "name": "stderr",
     "output_type": "stream",
     "text": [
      "\u001b[34m\u001b[1mwandb\u001b[0m: Agent Starting Run: ea718wsd with config:\n",
      "\u001b[34m\u001b[1mwandb\u001b[0m: \tbatch_size: 32\n",
      "\u001b[34m\u001b[1mwandb\u001b[0m: \tbeta_one: 0.99\n",
      "\u001b[34m\u001b[1mwandb\u001b[0m: \tbeta_two: 0.99\n",
      "\u001b[34m\u001b[1mwandb\u001b[0m: \tepochs: 10\n",
      "\u001b[34m\u001b[1mwandb\u001b[0m: \teps: 1e-08\n",
      "\u001b[34m\u001b[1mwandb\u001b[0m: \tgamma: 0.1\n",
      "\u001b[34m\u001b[1mwandb\u001b[0m: \tlearning_rate: 0.1\n",
      "\u001b[34m\u001b[1mwandb\u001b[0m: \toptimizer: adam\n",
      "\u001b[34m\u001b[1mwandb\u001b[0m: \tstep_size: 2\n"
     ]
    },
    {
     "data": {
      "text/html": [
       "Tracking run with wandb version 0.14.0"
      ],
      "text/plain": [
       "<IPython.core.display.HTML object>"
      ]
     },
     "metadata": {},
     "output_type": "display_data"
    },
    {
     "data": {
      "text/html": [
       "Run data is saved locally in <code>/content/wandb/run-20230404_140117-ea718wsd</code>"
      ],
      "text/plain": [
       "<IPython.core.display.HTML object>"
      ]
     },
     "metadata": {},
     "output_type": "display_data"
    },
    {
     "data": {
      "text/html": [
       "Syncing run <strong><a href='https://wandb.ai/flower-classification/pytorch-sweeps-demo/runs/ea718wsd' target=\"_blank\">splendid-sweep-2</a></strong> to <a href='https://wandb.ai/flower-classification/pytorch-sweeps-demo' target=\"_blank\">Weights & Biases</a> (<a href='https://wandb.me/run' target=\"_blank\">docs</a>)<br/>Sweep page: <a href='https://wandb.ai/flower-classification/pytorch-sweeps-demo/sweeps/9681wnh0' target=\"_blank\">https://wandb.ai/flower-classification/pytorch-sweeps-demo/sweeps/9681wnh0</a>"
      ],
      "text/plain": [
       "<IPython.core.display.HTML object>"
      ]
     },
     "metadata": {},
     "output_type": "display_data"
    },
    {
     "data": {
      "text/html": [
       " View project at <a href='https://wandb.ai/flower-classification/pytorch-sweeps-demo' target=\"_blank\">https://wandb.ai/flower-classification/pytorch-sweeps-demo</a>"
      ],
      "text/plain": [
       "<IPython.core.display.HTML object>"
      ]
     },
     "metadata": {},
     "output_type": "display_data"
    },
    {
     "data": {
      "text/html": [
       " View sweep at <a href='https://wandb.ai/flower-classification/pytorch-sweeps-demo/sweeps/9681wnh0' target=\"_blank\">https://wandb.ai/flower-classification/pytorch-sweeps-demo/sweeps/9681wnh0</a>"
      ],
      "text/plain": [
       "<IPython.core.display.HTML object>"
      ]
     },
     "metadata": {},
     "output_type": "display_data"
    },
    {
     "data": {
      "text/html": [
       " View run at <a href='https://wandb.ai/flower-classification/pytorch-sweeps-demo/runs/ea718wsd' target=\"_blank\">https://wandb.ai/flower-classification/pytorch-sweeps-demo/runs/ea718wsd</a>"
      ],
      "text/plain": [
       "<IPython.core.display.HTML object>"
      ]
     },
     "metadata": {},
     "output_type": "display_data"
    },
    {
     "data": {
      "text/html": [
       "Waiting for W&B process to finish... <strong style=\"color:red\">(failed 1).</strong> Press Control-C to abort syncing."
      ],
      "text/plain": [
       "<IPython.core.display.HTML object>"
      ]
     },
     "metadata": {},
     "output_type": "display_data"
    },
    {
     "data": {
      "text/html": [
       "<style>\n",
       "    table.wandb td:nth-child(1) { padding: 0 10px; text-align: left ; width: auto;} td:nth-child(2) {text-align: left ; width: 100%}\n",
       "    .wandb-row { display: flex; flex-direction: row; flex-wrap: wrap; justify-content: flex-start; width: 100% }\n",
       "    .wandb-col { display: flex; flex-direction: column; flex-basis: 100%; flex: 1; padding: 10px; }\n",
       "    </style>\n",
       "<div class=\"wandb-row\"><div class=\"wandb-col\"><h3>Run history:</h3><br/><table class=\"wandb\"><tr><td>epoch</td><td>▁▃▆█</td></tr><tr><td>test/epoch_acc</td><td>▁▁▁</td></tr><tr><td>test/epoch_loss</td><td>█▁▁</td></tr><tr><td>test/f1-score</td><td>▁▁▁</td></tr><tr><td>test/precision</td><td>▁▁▁</td></tr><tr><td>test/recall</td><td>▁▁▁</td></tr><tr><td>train/batch_loss</td><td>▁▁█▁▁▂▁▁▁▁▂▂▁▁▃▁▁▂▁▁▁▁▂▂▁▁▁▂▁▁▂▁▁▁▁▁▁▁▁▁</td></tr><tr><td>train/epoch_acc</td><td>▃▁▇█</td></tr><tr><td>train/epoch_loss</td><td>█▆▃▁</td></tr></table><br/></div><div class=\"wandb-col\"><h3>Run summary:</h3><br/><table class=\"wandb\"><tr><td>epoch</td><td>3</td></tr><tr><td>test/epoch_acc</td><td>0.42222</td></tr><tr><td>test/epoch_loss</td><td>109.2288</td></tr><tr><td>test/f1-score</td><td>0.59375</td></tr><tr><td>test/precision</td><td>0.42222</td></tr><tr><td>test/recall</td><td>1.0</td></tr><tr><td>train/batch_loss</td><td>1.26954</td></tr><tr><td>train/epoch_acc</td><td>0.51474</td></tr><tr><td>train/epoch_loss</td><td>3.22592</td></tr></table><br/></div></div>"
      ],
      "text/plain": [
       "<IPython.core.display.HTML object>"
      ]
     },
     "metadata": {},
     "output_type": "display_data"
    },
    {
     "data": {
      "text/html": [
       " View run <strong style=\"color:#cdcd00\">splendid-sweep-2</strong> at: <a href='https://wandb.ai/flower-classification/pytorch-sweeps-demo/runs/ea718wsd' target=\"_blank\">https://wandb.ai/flower-classification/pytorch-sweeps-demo/runs/ea718wsd</a><br/>Synced 4 W&B file(s), 0 media file(s), 0 artifact file(s) and 0 other file(s)"
      ],
      "text/plain": [
       "<IPython.core.display.HTML object>"
      ]
     },
     "metadata": {},
     "output_type": "display_data"
    },
    {
     "data": {
      "text/html": [
       "Find logs at: <code>./wandb/run-20230404_140117-ea718wsd/logs</code>"
      ],
      "text/plain": [
       "<IPython.core.display.HTML object>"
      ]
     },
     "metadata": {},
     "output_type": "display_data"
    },
    {
     "name": "stderr",
     "output_type": "stream",
     "text": [
      "Run ea718wsd errored: ZeroDivisionError('float division by zero')\n",
      "\u001b[34m\u001b[1mwandb\u001b[0m: \u001b[32m\u001b[41mERROR\u001b[0m Run ea718wsd errored: ZeroDivisionError('float division by zero')\n",
      "\u001b[34m\u001b[1mwandb\u001b[0m: Sweep Agent: Waiting for job.\n",
      "\u001b[34m\u001b[1mwandb\u001b[0m: Job received.\n",
      "\u001b[34m\u001b[1mwandb\u001b[0m: Agent Starting Run: 2igypsdg with config:\n",
      "\u001b[34m\u001b[1mwandb\u001b[0m: \tbatch_size: 64\n",
      "\u001b[34m\u001b[1mwandb\u001b[0m: \tbeta_one: 0.9\n",
      "\u001b[34m\u001b[1mwandb\u001b[0m: \tbeta_two: 0.5\n",
      "\u001b[34m\u001b[1mwandb\u001b[0m: \tepochs: 10\n",
      "\u001b[34m\u001b[1mwandb\u001b[0m: \teps: 1\n",
      "\u001b[34m\u001b[1mwandb\u001b[0m: \tgamma: 0.1\n",
      "\u001b[34m\u001b[1mwandb\u001b[0m: \tlearning_rate: 0.0001\n",
      "\u001b[34m\u001b[1mwandb\u001b[0m: \toptimizer: sgd\n",
      "\u001b[34m\u001b[1mwandb\u001b[0m: \tstep_size: 2\n"
     ]
    },
    {
     "data": {
      "text/html": [
       "Tracking run with wandb version 0.14.0"
      ],
      "text/plain": [
       "<IPython.core.display.HTML object>"
      ]
     },
     "metadata": {},
     "output_type": "display_data"
    },
    {
     "data": {
      "text/html": [
       "Run data is saved locally in <code>/content/wandb/run-20230404_140346-2igypsdg</code>"
      ],
      "text/plain": [
       "<IPython.core.display.HTML object>"
      ]
     },
     "metadata": {},
     "output_type": "display_data"
    },
    {
     "data": {
      "text/html": [
       "Syncing run <strong><a href='https://wandb.ai/flower-classification/pytorch-sweeps-demo/runs/2igypsdg' target=\"_blank\">visionary-sweep-3</a></strong> to <a href='https://wandb.ai/flower-classification/pytorch-sweeps-demo' target=\"_blank\">Weights & Biases</a> (<a href='https://wandb.me/run' target=\"_blank\">docs</a>)<br/>Sweep page: <a href='https://wandb.ai/flower-classification/pytorch-sweeps-demo/sweeps/9681wnh0' target=\"_blank\">https://wandb.ai/flower-classification/pytorch-sweeps-demo/sweeps/9681wnh0</a>"
      ],
      "text/plain": [
       "<IPython.core.display.HTML object>"
      ]
     },
     "metadata": {},
     "output_type": "display_data"
    },
    {
     "data": {
      "text/html": [
       " View project at <a href='https://wandb.ai/flower-classification/pytorch-sweeps-demo' target=\"_blank\">https://wandb.ai/flower-classification/pytorch-sweeps-demo</a>"
      ],
      "text/plain": [
       "<IPython.core.display.HTML object>"
      ]
     },
     "metadata": {},
     "output_type": "display_data"
    },
    {
     "data": {
      "text/html": [
       " View sweep at <a href='https://wandb.ai/flower-classification/pytorch-sweeps-demo/sweeps/9681wnh0' target=\"_blank\">https://wandb.ai/flower-classification/pytorch-sweeps-demo/sweeps/9681wnh0</a>"
      ],
      "text/plain": [
       "<IPython.core.display.HTML object>"
      ]
     },
     "metadata": {},
     "output_type": "display_data"
    },
    {
     "data": {
      "text/html": [
       " View run at <a href='https://wandb.ai/flower-classification/pytorch-sweeps-demo/runs/2igypsdg' target=\"_blank\">https://wandb.ai/flower-classification/pytorch-sweeps-demo/runs/2igypsdg</a>"
      ],
      "text/plain": [
       "<IPython.core.display.HTML object>"
      ]
     },
     "metadata": {},
     "output_type": "display_data"
    },
    {
     "data": {
      "text/html": [
       "Waiting for W&B process to finish... <strong style=\"color:green\">(success).</strong>"
      ],
      "text/plain": [
       "<IPython.core.display.HTML object>"
      ]
     },
     "metadata": {},
     "output_type": "display_data"
    },
    {
     "data": {
      "text/html": [
       "<style>\n",
       "    table.wandb td:nth-child(1) { padding: 0 10px; text-align: left ; width: auto;} td:nth-child(2) {text-align: left ; width: 100%}\n",
       "    .wandb-row { display: flex; flex-direction: row; flex-wrap: wrap; justify-content: flex-start; width: 100% }\n",
       "    .wandb-col { display: flex; flex-direction: column; flex-basis: 100%; flex: 1; padding: 10px; }\n",
       "    </style>\n",
       "<div class=\"wandb-row\"><div class=\"wandb-col\"><h3>Run history:</h3><br/><table class=\"wandb\"><tr><td>epoch</td><td>▁▂▃▃▄▅▆▆▇█</td></tr><tr><td>test/epoch_acc</td><td>█▅▁▁▁▁▃▁▃▃</td></tr><tr><td>test/epoch_loss</td><td>▁▆█▄▄▄▆▅▃▅</td></tr><tr><td>test/f1-score</td><td>▁█▅▅▅▅▆▅▆▆</td></tr><tr><td>test/precision</td><td>▂█▁▁▁▁▃▁▃▃</td></tr><tr><td>test/recall</td><td>▁█▇▇▇▇▇▇▇▇</td></tr><tr><td>train/batch_loss</td><td>█▇██▄█▆▆▁▂▂▁▃▅▆▄▅▂▇▃▄▁▆▆▁▆▆▄▄▃▃▆▇▂▇█▅▅▁▄</td></tr><tr><td>train/epoch_acc</td><td>▁▄▇█▇█▇▇▆▇</td></tr><tr><td>train/epoch_loss</td><td>█▅▂▂▂▁▁▂▂▁</td></tr></table><br/></div><div class=\"wandb-col\"><h3>Run summary:</h3><br/><table class=\"wandb\"><tr><td>epoch</td><td>9</td></tr><tr><td>test/epoch_acc</td><td>0.34444</td></tr><tr><td>test/epoch_loss</td><td>0.72334</td></tr><tr><td>test/f1-score</td><td>0.47788</td></tr><tr><td>test/precision</td><td>0.35065</td></tr><tr><td>test/recall</td><td>0.75</td></tr><tr><td>train/batch_loss</td><td>0.67509</td></tr><tr><td>train/epoch_acc</td><td>0.56265</td></tr><tr><td>train/epoch_loss</td><td>0.67967</td></tr></table><br/></div></div>"
      ],
      "text/plain": [
       "<IPython.core.display.HTML object>"
      ]
     },
     "metadata": {},
     "output_type": "display_data"
    },
    {
     "data": {
      "text/html": [
       " View run <strong style=\"color:#cdcd00\">visionary-sweep-3</strong> at: <a href='https://wandb.ai/flower-classification/pytorch-sweeps-demo/runs/2igypsdg' target=\"_blank\">https://wandb.ai/flower-classification/pytorch-sweeps-demo/runs/2igypsdg</a><br/>Synced 4 W&B file(s), 0 media file(s), 0 artifact file(s) and 0 other file(s)"
      ],
      "text/plain": [
       "<IPython.core.display.HTML object>"
      ]
     },
     "metadata": {},
     "output_type": "display_data"
    },
    {
     "data": {
      "text/html": [
       "Find logs at: <code>./wandb/run-20230404_140346-2igypsdg/logs</code>"
      ],
      "text/plain": [
       "<IPython.core.display.HTML object>"
      ]
     },
     "metadata": {},
     "output_type": "display_data"
    },
    {
     "name": "stderr",
     "output_type": "stream",
     "text": [
      "\u001b[34m\u001b[1mwandb\u001b[0m: Agent Starting Run: 37tqne1y with config:\n",
      "\u001b[34m\u001b[1mwandb\u001b[0m: \tbatch_size: 64\n",
      "\u001b[34m\u001b[1mwandb\u001b[0m: \tbeta_one: 0.9\n",
      "\u001b[34m\u001b[1mwandb\u001b[0m: \tbeta_two: 0.5\n",
      "\u001b[34m\u001b[1mwandb\u001b[0m: \tepochs: 10\n",
      "\u001b[34m\u001b[1mwandb\u001b[0m: \teps: 1e-08\n",
      "\u001b[34m\u001b[1mwandb\u001b[0m: \tgamma: 0.1\n",
      "\u001b[34m\u001b[1mwandb\u001b[0m: \tlearning_rate: 0.1\n",
      "\u001b[34m\u001b[1mwandb\u001b[0m: \toptimizer: sgd\n",
      "\u001b[34m\u001b[1mwandb\u001b[0m: \tstep_size: 5\n"
     ]
    },
    {
     "data": {
      "text/html": [
       "Tracking run with wandb version 0.14.0"
      ],
      "text/plain": [
       "<IPython.core.display.HTML object>"
      ]
     },
     "metadata": {},
     "output_type": "display_data"
    },
    {
     "data": {
      "text/html": [
       "Run data is saved locally in <code>/content/wandb/run-20230404_140933-37tqne1y</code>"
      ],
      "text/plain": [
       "<IPython.core.display.HTML object>"
      ]
     },
     "metadata": {},
     "output_type": "display_data"
    },
    {
     "data": {
      "text/html": [
       "Syncing run <strong><a href='https://wandb.ai/flower-classification/pytorch-sweeps-demo/runs/37tqne1y' target=\"_blank\">proud-sweep-4</a></strong> to <a href='https://wandb.ai/flower-classification/pytorch-sweeps-demo' target=\"_blank\">Weights & Biases</a> (<a href='https://wandb.me/run' target=\"_blank\">docs</a>)<br/>Sweep page: <a href='https://wandb.ai/flower-classification/pytorch-sweeps-demo/sweeps/9681wnh0' target=\"_blank\">https://wandb.ai/flower-classification/pytorch-sweeps-demo/sweeps/9681wnh0</a>"
      ],
      "text/plain": [
       "<IPython.core.display.HTML object>"
      ]
     },
     "metadata": {},
     "output_type": "display_data"
    },
    {
     "data": {
      "text/html": [
       " View project at <a href='https://wandb.ai/flower-classification/pytorch-sweeps-demo' target=\"_blank\">https://wandb.ai/flower-classification/pytorch-sweeps-demo</a>"
      ],
      "text/plain": [
       "<IPython.core.display.HTML object>"
      ]
     },
     "metadata": {},
     "output_type": "display_data"
    },
    {
     "data": {
      "text/html": [
       " View sweep at <a href='https://wandb.ai/flower-classification/pytorch-sweeps-demo/sweeps/9681wnh0' target=\"_blank\">https://wandb.ai/flower-classification/pytorch-sweeps-demo/sweeps/9681wnh0</a>"
      ],
      "text/plain": [
       "<IPython.core.display.HTML object>"
      ]
     },
     "metadata": {},
     "output_type": "display_data"
    },
    {
     "data": {
      "text/html": [
       " View run at <a href='https://wandb.ai/flower-classification/pytorch-sweeps-demo/runs/37tqne1y' target=\"_blank\">https://wandb.ai/flower-classification/pytorch-sweeps-demo/runs/37tqne1y</a>"
      ],
      "text/plain": [
       "<IPython.core.display.HTML object>"
      ]
     },
     "metadata": {},
     "output_type": "display_data"
    },
    {
     "data": {
      "text/html": [
       "Waiting for W&B process to finish... <strong style=\"color:green\">(success).</strong>"
      ],
      "text/plain": [
       "<IPython.core.display.HTML object>"
      ]
     },
     "metadata": {},
     "output_type": "display_data"
    },
    {
     "data": {
      "text/html": [
       "<style>\n",
       "    table.wandb td:nth-child(1) { padding: 0 10px; text-align: left ; width: auto;} td:nth-child(2) {text-align: left ; width: 100%}\n",
       "    .wandb-row { display: flex; flex-direction: row; flex-wrap: wrap; justify-content: flex-start; width: 100% }\n",
       "    .wandb-col { display: flex; flex-direction: column; flex-basis: 100%; flex: 1; padding: 10px; }\n",
       "    </style>\n",
       "<div class=\"wandb-row\"><div class=\"wandb-col\"><h3>Run history:</h3><br/><table class=\"wandb\"><tr><td>epoch</td><td>▁▂▃▃▄▅▆▆▇█</td></tr><tr><td>test/epoch_acc</td><td>▆▅▁▅▃▇▇███</td></tr><tr><td>test/epoch_loss</td><td>▂▁█▁▅▁▁▁▁▁</td></tr><tr><td>test/f1-score</td><td>▅▆▄▄▁▇▇███</td></tr><tr><td>test/precision</td><td>█▅▁█▆▅▅▆▇▇</td></tr><tr><td>test/recall</td><td>▃▆▇▃▁▇█▇▇▇</td></tr><tr><td>train/batch_loss</td><td>█▆▅▄▃▂▁▃▇▃▄▄▂▂▅▃▂▄▂▄▂▄▃▁▁▁▁▁▁▁▁▁▁▁▁▁▁▁▁▁</td></tr><tr><td>train/epoch_acc</td><td>▁▆▅▆▆▆████</td></tr><tr><td>train/epoch_loss</td><td>█▄▆▄▄▃▁▁▁▁</td></tr></table><br/></div><div class=\"wandb-col\"><h3>Run summary:</h3><br/><table class=\"wandb\"><tr><td>epoch</td><td>9</td></tr><tr><td>test/epoch_acc</td><td>0.84444</td></tr><tr><td>test/epoch_loss</td><td>0.62389</td></tr><tr><td>test/f1-score</td><td>0.84091</td></tr><tr><td>test/precision</td><td>0.84091</td></tr><tr><td>test/recall</td><td>0.84091</td></tr><tr><td>train/batch_loss</td><td>0.00493</td></tr><tr><td>train/epoch_acc</td><td>1.0</td></tr><tr><td>train/epoch_loss</td><td>0.00446</td></tr></table><br/></div></div>"
      ],
      "text/plain": [
       "<IPython.core.display.HTML object>"
      ]
     },
     "metadata": {},
     "output_type": "display_data"
    },
    {
     "data": {
      "text/html": [
       " View run <strong style=\"color:#cdcd00\">proud-sweep-4</strong> at: <a href='https://wandb.ai/flower-classification/pytorch-sweeps-demo/runs/37tqne1y' target=\"_blank\">https://wandb.ai/flower-classification/pytorch-sweeps-demo/runs/37tqne1y</a><br/>Synced 4 W&B file(s), 0 media file(s), 0 artifact file(s) and 0 other file(s)"
      ],
      "text/plain": [
       "<IPython.core.display.HTML object>"
      ]
     },
     "metadata": {},
     "output_type": "display_data"
    },
    {
     "data": {
      "text/html": [
       "Find logs at: <code>./wandb/run-20230404_140933-37tqne1y/logs</code>"
      ],
      "text/plain": [
       "<IPython.core.display.HTML object>"
      ]
     },
     "metadata": {},
     "output_type": "display_data"
    },
    {
     "name": "stderr",
     "output_type": "stream",
     "text": [
      "\u001b[34m\u001b[1mwandb\u001b[0m: Agent Starting Run: 3co2jpxp with config:\n",
      "\u001b[34m\u001b[1mwandb\u001b[0m: \tbatch_size: 8\n",
      "\u001b[34m\u001b[1mwandb\u001b[0m: \tbeta_one: 0.9\n",
      "\u001b[34m\u001b[1mwandb\u001b[0m: \tbeta_two: 0.9\n",
      "\u001b[34m\u001b[1mwandb\u001b[0m: \tepochs: 10\n",
      "\u001b[34m\u001b[1mwandb\u001b[0m: \teps: 1e-08\n",
      "\u001b[34m\u001b[1mwandb\u001b[0m: \tgamma: 0.1\n",
      "\u001b[34m\u001b[1mwandb\u001b[0m: \tlearning_rate: 0.0003\n",
      "\u001b[34m\u001b[1mwandb\u001b[0m: \toptimizer: adam\n",
      "\u001b[34m\u001b[1mwandb\u001b[0m: \tstep_size: 7\n"
     ]
    },
    {
     "data": {
      "text/html": [
       "Tracking run with wandb version 0.14.0"
      ],
      "text/plain": [
       "<IPython.core.display.HTML object>"
      ]
     },
     "metadata": {},
     "output_type": "display_data"
    },
    {
     "data": {
      "text/html": [
       "Run data is saved locally in <code>/content/wandb/run-20230404_141514-3co2jpxp</code>"
      ],
      "text/plain": [
       "<IPython.core.display.HTML object>"
      ]
     },
     "metadata": {},
     "output_type": "display_data"
    },
    {
     "data": {
      "text/html": [
       "Syncing run <strong><a href='https://wandb.ai/flower-classification/pytorch-sweeps-demo/runs/3co2jpxp' target=\"_blank\">restful-sweep-5</a></strong> to <a href='https://wandb.ai/flower-classification/pytorch-sweeps-demo' target=\"_blank\">Weights & Biases</a> (<a href='https://wandb.me/run' target=\"_blank\">docs</a>)<br/>Sweep page: <a href='https://wandb.ai/flower-classification/pytorch-sweeps-demo/sweeps/9681wnh0' target=\"_blank\">https://wandb.ai/flower-classification/pytorch-sweeps-demo/sweeps/9681wnh0</a>"
      ],
      "text/plain": [
       "<IPython.core.display.HTML object>"
      ]
     },
     "metadata": {},
     "output_type": "display_data"
    },
    {
     "data": {
      "text/html": [
       " View project at <a href='https://wandb.ai/flower-classification/pytorch-sweeps-demo' target=\"_blank\">https://wandb.ai/flower-classification/pytorch-sweeps-demo</a>"
      ],
      "text/plain": [
       "<IPython.core.display.HTML object>"
      ]
     },
     "metadata": {},
     "output_type": "display_data"
    },
    {
     "data": {
      "text/html": [
       " View sweep at <a href='https://wandb.ai/flower-classification/pytorch-sweeps-demo/sweeps/9681wnh0' target=\"_blank\">https://wandb.ai/flower-classification/pytorch-sweeps-demo/sweeps/9681wnh0</a>"
      ],
      "text/plain": [
       "<IPython.core.display.HTML object>"
      ]
     },
     "metadata": {},
     "output_type": "display_data"
    },
    {
     "data": {
      "text/html": [
       " View run at <a href='https://wandb.ai/flower-classification/pytorch-sweeps-demo/runs/3co2jpxp' target=\"_blank\">https://wandb.ai/flower-classification/pytorch-sweeps-demo/runs/3co2jpxp</a>"
      ],
      "text/plain": [
       "<IPython.core.display.HTML object>"
      ]
     },
     "metadata": {},
     "output_type": "display_data"
    },
    {
     "data": {
      "text/html": [
       "Waiting for W&B process to finish... <strong style=\"color:green\">(success).</strong>"
      ],
      "text/plain": [
       "<IPython.core.display.HTML object>"
      ]
     },
     "metadata": {},
     "output_type": "display_data"
    },
    {
     "data": {
      "text/html": [
       "<style>\n",
       "    table.wandb td:nth-child(1) { padding: 0 10px; text-align: left ; width: auto;} td:nth-child(2) {text-align: left ; width: 100%}\n",
       "    .wandb-row { display: flex; flex-direction: row; flex-wrap: wrap; justify-content: flex-start; width: 100% }\n",
       "    .wandb-col { display: flex; flex-direction: column; flex-basis: 100%; flex: 1; padding: 10px; }\n",
       "    </style>\n",
       "<div class=\"wandb-row\"><div class=\"wandb-col\"><h3>Run history:</h3><br/><table class=\"wandb\"><tr><td>epoch</td><td>▁▂▃▃▄▅▆▆▇█</td></tr><tr><td>test/epoch_acc</td><td>▄█▁▃▃▅▆▇▇█</td></tr><tr><td>test/epoch_loss</td><td>▃▁▆▄█▃▄▂▃▃</td></tr><tr><td>test/f1-score</td><td>▂▇▁▂▃▆▅▆▆█</td></tr><tr><td>test/precision</td><td>▅█▁▃▂▄▆▆▆▇</td></tr><tr><td>test/recall</td><td>▁▂█▄██▂▃▄▄</td></tr><tr><td>train/batch_loss</td><td>▄▂▃▄▂▂▃█▂▁▃▁▂▂▁▁▃▁▁▂▁▁▁▂▁▁▁▃▁▁▁▁▁▁▅▁▁▁▁▁</td></tr><tr><td>train/epoch_acc</td><td>▁▄▅▆▆▆▇███</td></tr><tr><td>train/epoch_loss</td><td>█▆▄▄▃▃▂▂▁▁</td></tr></table><br/></div><div class=\"wandb-col\"><h3>Run summary:</h3><br/><table class=\"wandb\"><tr><td>epoch</td><td>9</td></tr><tr><td>test/epoch_acc</td><td>0.87778</td></tr><tr><td>test/epoch_loss</td><td>0.53854</td></tr><tr><td>test/f1-score</td><td>0.86747</td></tr><tr><td>test/precision</td><td>0.85714</td></tr><tr><td>test/recall</td><td>0.87805</td></tr><tr><td>train/batch_loss</td><td>0.00185</td></tr><tr><td>train/epoch_acc</td><td>0.99631</td></tr><tr><td>train/epoch_loss</td><td>0.01069</td></tr></table><br/></div></div>"
      ],
      "text/plain": [
       "<IPython.core.display.HTML object>"
      ]
     },
     "metadata": {},
     "output_type": "display_data"
    },
    {
     "data": {
      "text/html": [
       " View run <strong style=\"color:#cdcd00\">restful-sweep-5</strong> at: <a href='https://wandb.ai/flower-classification/pytorch-sweeps-demo/runs/3co2jpxp' target=\"_blank\">https://wandb.ai/flower-classification/pytorch-sweeps-demo/runs/3co2jpxp</a><br/>Synced 4 W&B file(s), 0 media file(s), 0 artifact file(s) and 0 other file(s)"
      ],
      "text/plain": [
       "<IPython.core.display.HTML object>"
      ]
     },
     "metadata": {},
     "output_type": "display_data"
    },
    {
     "data": {
      "text/html": [
       "Find logs at: <code>./wandb/run-20230404_141514-3co2jpxp/logs</code>"
      ],
      "text/plain": [
       "<IPython.core.display.HTML object>"
      ]
     },
     "metadata": {},
     "output_type": "display_data"
    },
    {
     "name": "stderr",
     "output_type": "stream",
     "text": [
      "\u001b[34m\u001b[1mwandb\u001b[0m: Agent Starting Run: ppthue5q with config:\n",
      "\u001b[34m\u001b[1mwandb\u001b[0m: \tbatch_size: 8\n",
      "\u001b[34m\u001b[1mwandb\u001b[0m: \tbeta_one: 0.9\n",
      "\u001b[34m\u001b[1mwandb\u001b[0m: \tbeta_two: 0.999\n",
      "\u001b[34m\u001b[1mwandb\u001b[0m: \tepochs: 10\n",
      "\u001b[34m\u001b[1mwandb\u001b[0m: \teps: 1e-08\n",
      "\u001b[34m\u001b[1mwandb\u001b[0m: \tgamma: 0.1\n",
      "\u001b[34m\u001b[1mwandb\u001b[0m: \tlearning_rate: 0.01\n",
      "\u001b[34m\u001b[1mwandb\u001b[0m: \toptimizer: sgd\n",
      "\u001b[34m\u001b[1mwandb\u001b[0m: \tstep_size: 5\n"
     ]
    },
    {
     "data": {
      "text/html": [
       "Tracking run with wandb version 0.14.0"
      ],
      "text/plain": [
       "<IPython.core.display.HTML object>"
      ]
     },
     "metadata": {},
     "output_type": "display_data"
    },
    {
     "data": {
      "text/html": [
       "Run data is saved locally in <code>/content/wandb/run-20230404_142101-ppthue5q</code>"
      ],
      "text/plain": [
       "<IPython.core.display.HTML object>"
      ]
     },
     "metadata": {},
     "output_type": "display_data"
    },
    {
     "data": {
      "text/html": [
       "Syncing run <strong><a href='https://wandb.ai/flower-classification/pytorch-sweeps-demo/runs/ppthue5q' target=\"_blank\">charmed-sweep-6</a></strong> to <a href='https://wandb.ai/flower-classification/pytorch-sweeps-demo' target=\"_blank\">Weights & Biases</a> (<a href='https://wandb.me/run' target=\"_blank\">docs</a>)<br/>Sweep page: <a href='https://wandb.ai/flower-classification/pytorch-sweeps-demo/sweeps/9681wnh0' target=\"_blank\">https://wandb.ai/flower-classification/pytorch-sweeps-demo/sweeps/9681wnh0</a>"
      ],
      "text/plain": [
       "<IPython.core.display.HTML object>"
      ]
     },
     "metadata": {},
     "output_type": "display_data"
    },
    {
     "data": {
      "text/html": [
       " View project at <a href='https://wandb.ai/flower-classification/pytorch-sweeps-demo' target=\"_blank\">https://wandb.ai/flower-classification/pytorch-sweeps-demo</a>"
      ],
      "text/plain": [
       "<IPython.core.display.HTML object>"
      ]
     },
     "metadata": {},
     "output_type": "display_data"
    },
    {
     "data": {
      "text/html": [
       " View sweep at <a href='https://wandb.ai/flower-classification/pytorch-sweeps-demo/sweeps/9681wnh0' target=\"_blank\">https://wandb.ai/flower-classification/pytorch-sweeps-demo/sweeps/9681wnh0</a>"
      ],
      "text/plain": [
       "<IPython.core.display.HTML object>"
      ]
     },
     "metadata": {},
     "output_type": "display_data"
    },
    {
     "data": {
      "text/html": [
       " View run at <a href='https://wandb.ai/flower-classification/pytorch-sweeps-demo/runs/ppthue5q' target=\"_blank\">https://wandb.ai/flower-classification/pytorch-sweeps-demo/runs/ppthue5q</a>"
      ],
      "text/plain": [
       "<IPython.core.display.HTML object>"
      ]
     },
     "metadata": {},
     "output_type": "display_data"
    },
    {
     "data": {
      "text/html": [
       "Waiting for W&B process to finish... <strong style=\"color:green\">(success).</strong>"
      ],
      "text/plain": [
       "<IPython.core.display.HTML object>"
      ]
     },
     "metadata": {},
     "output_type": "display_data"
    },
    {
     "data": {
      "text/html": [
       "<style>\n",
       "    table.wandb td:nth-child(1) { padding: 0 10px; text-align: left ; width: auto;} td:nth-child(2) {text-align: left ; width: 100%}\n",
       "    .wandb-row { display: flex; flex-direction: row; flex-wrap: wrap; justify-content: flex-start; width: 100% }\n",
       "    .wandb-col { display: flex; flex-direction: column; flex-basis: 100%; flex: 1; padding: 10px; }\n",
       "    </style>\n",
       "<div class=\"wandb-row\"><div class=\"wandb-col\"><h3>Run history:</h3><br/><table class=\"wandb\"><tr><td>epoch</td><td>▁▂▃▃▄▅▆▆▇█</td></tr><tr><td>test/epoch_acc</td><td>▁▄▃▇▆▇███▇</td></tr><tr><td>test/epoch_loss</td><td>█▄▃▅▃▁▁▁▂▂</td></tr><tr><td>test/f1-score</td><td>▁▄▃▆▆▇███▆</td></tr><tr><td>test/precision</td><td>▁▂▂▆▅▅▆▇█▆</td></tr><tr><td>test/recall</td><td>▁█▃▅▃▆▆▅▃▅</td></tr><tr><td>train/batch_loss</td><td>█▃▆▅▇▆▄▃▄▁▄▃▁▁▂▂▁▁▁▁▃▁▁▃▁▁▁▁▁▁▂▁▁▁▂▂▁▃▁▁</td></tr><tr><td>train/epoch_acc</td><td>▁▃▆▆▇▇████</td></tr><tr><td>train/epoch_loss</td><td>█▆▄▄▂▂▁▁▁▁</td></tr></table><br/></div><div class=\"wandb-col\"><h3>Run summary:</h3><br/><table class=\"wandb\"><tr><td>epoch</td><td>9</td></tr><tr><td>test/epoch_acc</td><td>0.87778</td></tr><tr><td>test/epoch_loss</td><td>0.24035</td></tr><tr><td>test/f1-score</td><td>0.86076</td></tr><tr><td>test/precision</td><td>0.85</td></tr><tr><td>test/recall</td><td>0.87179</td></tr><tr><td>train/batch_loss</td><td>0.03008</td></tr><tr><td>train/epoch_acc</td><td>0.99386</td></tr><tr><td>train/epoch_loss</td><td>0.02099</td></tr></table><br/></div></div>"
      ],
      "text/plain": [
       "<IPython.core.display.HTML object>"
      ]
     },
     "metadata": {},
     "output_type": "display_data"
    },
    {
     "data": {
      "text/html": [
       " View run <strong style=\"color:#cdcd00\">charmed-sweep-6</strong> at: <a href='https://wandb.ai/flower-classification/pytorch-sweeps-demo/runs/ppthue5q' target=\"_blank\">https://wandb.ai/flower-classification/pytorch-sweeps-demo/runs/ppthue5q</a><br/>Synced 4 W&B file(s), 0 media file(s), 0 artifact file(s) and 0 other file(s)"
      ],
      "text/plain": [
       "<IPython.core.display.HTML object>"
      ]
     },
     "metadata": {},
     "output_type": "display_data"
    },
    {
     "data": {
      "text/html": [
       "Find logs at: <code>./wandb/run-20230404_142101-ppthue5q/logs</code>"
      ],
      "text/plain": [
       "<IPython.core.display.HTML object>"
      ]
     },
     "metadata": {},
     "output_type": "display_data"
    },
    {
     "name": "stderr",
     "output_type": "stream",
     "text": [
      "\u001b[34m\u001b[1mwandb\u001b[0m: Agent Starting Run: eakg0nsy with config:\n",
      "\u001b[34m\u001b[1mwandb\u001b[0m: \tbatch_size: 4\n",
      "\u001b[34m\u001b[1mwandb\u001b[0m: \tbeta_one: 0.9\n",
      "\u001b[34m\u001b[1mwandb\u001b[0m: \tbeta_two: 0.99\n",
      "\u001b[34m\u001b[1mwandb\u001b[0m: \tepochs: 10\n",
      "\u001b[34m\u001b[1mwandb\u001b[0m: \teps: 0.1\n",
      "\u001b[34m\u001b[1mwandb\u001b[0m: \tgamma: 0.5\n",
      "\u001b[34m\u001b[1mwandb\u001b[0m: \tlearning_rate: 0.003\n",
      "\u001b[34m\u001b[1mwandb\u001b[0m: \toptimizer: sgd\n",
      "\u001b[34m\u001b[1mwandb\u001b[0m: \tstep_size: 7\n"
     ]
    },
    {
     "data": {
      "text/html": [
       "Tracking run with wandb version 0.14.0"
      ],
      "text/plain": [
       "<IPython.core.display.HTML object>"
      ]
     },
     "metadata": {},
     "output_type": "display_data"
    },
    {
     "data": {
      "text/html": [
       "Run data is saved locally in <code>/content/wandb/run-20230404_142642-eakg0nsy</code>"
      ],
      "text/plain": [
       "<IPython.core.display.HTML object>"
      ]
     },
     "metadata": {},
     "output_type": "display_data"
    },
    {
     "data": {
      "text/html": [
       "Syncing run <strong><a href='https://wandb.ai/flower-classification/pytorch-sweeps-demo/runs/eakg0nsy' target=\"_blank\">still-sweep-7</a></strong> to <a href='https://wandb.ai/flower-classification/pytorch-sweeps-demo' target=\"_blank\">Weights & Biases</a> (<a href='https://wandb.me/run' target=\"_blank\">docs</a>)<br/>Sweep page: <a href='https://wandb.ai/flower-classification/pytorch-sweeps-demo/sweeps/9681wnh0' target=\"_blank\">https://wandb.ai/flower-classification/pytorch-sweeps-demo/sweeps/9681wnh0</a>"
      ],
      "text/plain": [
       "<IPython.core.display.HTML object>"
      ]
     },
     "metadata": {},
     "output_type": "display_data"
    },
    {
     "data": {
      "text/html": [
       " View project at <a href='https://wandb.ai/flower-classification/pytorch-sweeps-demo' target=\"_blank\">https://wandb.ai/flower-classification/pytorch-sweeps-demo</a>"
      ],
      "text/plain": [
       "<IPython.core.display.HTML object>"
      ]
     },
     "metadata": {},
     "output_type": "display_data"
    },
    {
     "data": {
      "text/html": [
       " View sweep at <a href='https://wandb.ai/flower-classification/pytorch-sweeps-demo/sweeps/9681wnh0' target=\"_blank\">https://wandb.ai/flower-classification/pytorch-sweeps-demo/sweeps/9681wnh0</a>"
      ],
      "text/plain": [
       "<IPython.core.display.HTML object>"
      ]
     },
     "metadata": {},
     "output_type": "display_data"
    },
    {
     "data": {
      "text/html": [
       " View run at <a href='https://wandb.ai/flower-classification/pytorch-sweeps-demo/runs/eakg0nsy' target=\"_blank\">https://wandb.ai/flower-classification/pytorch-sweeps-demo/runs/eakg0nsy</a>"
      ],
      "text/plain": [
       "<IPython.core.display.HTML object>"
      ]
     },
     "metadata": {},
     "output_type": "display_data"
    },
    {
     "data": {
      "text/html": [
       "Waiting for W&B process to finish... <strong style=\"color:green\">(success).</strong>"
      ],
      "text/plain": [
       "<IPython.core.display.HTML object>"
      ]
     },
     "metadata": {},
     "output_type": "display_data"
    },
    {
     "data": {
      "text/html": [
       "<style>\n",
       "    table.wandb td:nth-child(1) { padding: 0 10px; text-align: left ; width: auto;} td:nth-child(2) {text-align: left ; width: 100%}\n",
       "    .wandb-row { display: flex; flex-direction: row; flex-wrap: wrap; justify-content: flex-start; width: 100% }\n",
       "    .wandb-col { display: flex; flex-direction: column; flex-basis: 100%; flex: 1; padding: 10px; }\n",
       "    </style>\n",
       "<div class=\"wandb-row\"><div class=\"wandb-col\"><h3>Run history:</h3><br/><table class=\"wandb\"><tr><td>epoch</td><td>▁▂▃▃▄▅▆▆▇█</td></tr><tr><td>test/epoch_acc</td><td>▁▆▅▃█▆▅▆▆▆</td></tr><tr><td>test/epoch_loss</td><td>▆▄▃▆▁▇█▇██</td></tr><tr><td>test/f1-score</td><td>▁▆▅▃█▅▄▆▆▅</td></tr><tr><td>test/precision</td><td>▁▆▁▆▇█▅▇▇▆</td></tr><tr><td>test/recall</td><td>▃▅█▁▆▃▃▄▄▄</td></tr><tr><td>train/batch_loss</td><td>▄▅▃▄▅▆▆█▄▂▂▃▂▁▁▂▁▁▂▁▃▁▁▁▁▁▂▃▁▁▁▁▁▁▁▁▁▁▁▁</td></tr><tr><td>train/epoch_acc</td><td>▁▄▅▆▇▇▇███</td></tr><tr><td>train/epoch_loss</td><td>█▆▅▃▂▂▂▁▁▁</td></tr></table><br/></div><div class=\"wandb-col\"><h3>Run summary:</h3><br/><table class=\"wandb\"><tr><td>epoch</td><td>9</td></tr><tr><td>test/epoch_acc</td><td>0.85556</td></tr><tr><td>test/epoch_loss</td><td>0.44089</td></tr><tr><td>test/f1-score</td><td>0.87379</td></tr><tr><td>test/precision</td><td>0.9375</td></tr><tr><td>test/recall</td><td>0.81818</td></tr><tr><td>train/batch_loss</td><td>0.01161</td></tr><tr><td>train/epoch_acc</td><td>0.99386</td></tr><tr><td>train/epoch_loss</td><td>0.02177</td></tr></table><br/></div></div>"
      ],
      "text/plain": [
       "<IPython.core.display.HTML object>"
      ]
     },
     "metadata": {},
     "output_type": "display_data"
    },
    {
     "data": {
      "text/html": [
       " View run <strong style=\"color:#cdcd00\">still-sweep-7</strong> at: <a href='https://wandb.ai/flower-classification/pytorch-sweeps-demo/runs/eakg0nsy' target=\"_blank\">https://wandb.ai/flower-classification/pytorch-sweeps-demo/runs/eakg0nsy</a><br/>Synced 4 W&B file(s), 0 media file(s), 0 artifact file(s) and 0 other file(s)"
      ],
      "text/plain": [
       "<IPython.core.display.HTML object>"
      ]
     },
     "metadata": {},
     "output_type": "display_data"
    },
    {
     "data": {
      "text/html": [
       "Find logs at: <code>./wandb/run-20230404_142642-eakg0nsy/logs</code>"
      ],
      "text/plain": [
       "<IPython.core.display.HTML object>"
      ]
     },
     "metadata": {},
     "output_type": "display_data"
    },
    {
     "name": "stderr",
     "output_type": "stream",
     "text": [
      "\u001b[34m\u001b[1mwandb\u001b[0m: Agent Starting Run: jucrzfat with config:\n",
      "\u001b[34m\u001b[1mwandb\u001b[0m: \tbatch_size: 16\n",
      "\u001b[34m\u001b[1mwandb\u001b[0m: \tbeta_one: 0.9\n",
      "\u001b[34m\u001b[1mwandb\u001b[0m: \tbeta_two: 0.99\n",
      "\u001b[34m\u001b[1mwandb\u001b[0m: \tepochs: 10\n",
      "\u001b[34m\u001b[1mwandb\u001b[0m: \teps: 0.1\n",
      "\u001b[34m\u001b[1mwandb\u001b[0m: \tgamma: 0.1\n",
      "\u001b[34m\u001b[1mwandb\u001b[0m: \tlearning_rate: 0.1\n",
      "\u001b[34m\u001b[1mwandb\u001b[0m: \toptimizer: sgd\n",
      "\u001b[34m\u001b[1mwandb\u001b[0m: \tstep_size: 3\n"
     ]
    },
    {
     "data": {
      "text/html": [
       "Tracking run with wandb version 0.14.0"
      ],
      "text/plain": [
       "<IPython.core.display.HTML object>"
      ]
     },
     "metadata": {},
     "output_type": "display_data"
    },
    {
     "data": {
      "text/html": [
       "Run data is saved locally in <code>/content/wandb/run-20230404_143240-jucrzfat</code>"
      ],
      "text/plain": [
       "<IPython.core.display.HTML object>"
      ]
     },
     "metadata": {},
     "output_type": "display_data"
    },
    {
     "data": {
      "text/html": [
       "Syncing run <strong><a href='https://wandb.ai/flower-classification/pytorch-sweeps-demo/runs/jucrzfat' target=\"_blank\">crimson-sweep-8</a></strong> to <a href='https://wandb.ai/flower-classification/pytorch-sweeps-demo' target=\"_blank\">Weights & Biases</a> (<a href='https://wandb.me/run' target=\"_blank\">docs</a>)<br/>Sweep page: <a href='https://wandb.ai/flower-classification/pytorch-sweeps-demo/sweeps/9681wnh0' target=\"_blank\">https://wandb.ai/flower-classification/pytorch-sweeps-demo/sweeps/9681wnh0</a>"
      ],
      "text/plain": [
       "<IPython.core.display.HTML object>"
      ]
     },
     "metadata": {},
     "output_type": "display_data"
    },
    {
     "data": {
      "text/html": [
       " View project at <a href='https://wandb.ai/flower-classification/pytorch-sweeps-demo' target=\"_blank\">https://wandb.ai/flower-classification/pytorch-sweeps-demo</a>"
      ],
      "text/plain": [
       "<IPython.core.display.HTML object>"
      ]
     },
     "metadata": {},
     "output_type": "display_data"
    },
    {
     "data": {
      "text/html": [
       " View sweep at <a href='https://wandb.ai/flower-classification/pytorch-sweeps-demo/sweeps/9681wnh0' target=\"_blank\">https://wandb.ai/flower-classification/pytorch-sweeps-demo/sweeps/9681wnh0</a>"
      ],
      "text/plain": [
       "<IPython.core.display.HTML object>"
      ]
     },
     "metadata": {},
     "output_type": "display_data"
    },
    {
     "data": {
      "text/html": [
       " View run at <a href='https://wandb.ai/flower-classification/pytorch-sweeps-demo/runs/jucrzfat' target=\"_blank\">https://wandb.ai/flower-classification/pytorch-sweeps-demo/runs/jucrzfat</a>"
      ],
      "text/plain": [
       "<IPython.core.display.HTML object>"
      ]
     },
     "metadata": {},
     "output_type": "display_data"
    },
    {
     "data": {
      "text/html": [
       "Waiting for W&B process to finish... <strong style=\"color:green\">(success).</strong>"
      ],
      "text/plain": [
       "<IPython.core.display.HTML object>"
      ]
     },
     "metadata": {},
     "output_type": "display_data"
    },
    {
     "data": {
      "text/html": [
       "<style>\n",
       "    table.wandb td:nth-child(1) { padding: 0 10px; text-align: left ; width: auto;} td:nth-child(2) {text-align: left ; width: 100%}\n",
       "    .wandb-row { display: flex; flex-direction: row; flex-wrap: wrap; justify-content: flex-start; width: 100% }\n",
       "    .wandb-col { display: flex; flex-direction: column; flex-basis: 100%; flex: 1; padding: 10px; }\n",
       "    </style>\n",
       "<div class=\"wandb-row\"><div class=\"wandb-col\"><h3>Run history:</h3><br/><table class=\"wandb\"><tr><td>epoch</td><td>▁▂▃▃▄▅▆▆▇█</td></tr><tr><td>test/epoch_acc</td><td>▁▆▅▆▇█████</td></tr><tr><td>test/epoch_loss</td><td>█▂▁▁▁▁▁▁▁▁</td></tr><tr><td>test/f1-score</td><td>▁▂▄▅▆▇▇███</td></tr><tr><td>test/precision</td><td>▁▇▅▆▆█████</td></tr><tr><td>test/recall</td><td>█▁▄▅▅▅▅▅▅▅</td></tr><tr><td>train/batch_loss</td><td>▆▅▄▇▄▄▅█▆▄▃▅▄▃▅▂▄▄▄▃▃▃▄▂▄▃▄▅▁▃▃▂▂▂▂▃▃▂▁▃</td></tr><tr><td>train/epoch_acc</td><td>▁▄▅▅▇▇▇▇██</td></tr><tr><td>train/epoch_loss</td><td>█▅▄▃▂▂▂▂▁▁</td></tr></table><br/></div><div class=\"wandb-col\"><h3>Run summary:</h3><br/><table class=\"wandb\"><tr><td>epoch</td><td>9</td></tr><tr><td>test/epoch_acc</td><td>0.78889</td></tr><tr><td>test/epoch_loss</td><td>0.46169</td></tr><tr><td>test/f1-score</td><td>0.7957</td></tr><tr><td>test/precision</td><td>0.84091</td></tr><tr><td>test/recall</td><td>0.7551</td></tr><tr><td>train/batch_loss</td><td>0.63008</td></tr><tr><td>train/epoch_acc</td><td>0.77396</td></tr><tr><td>train/epoch_loss</td><td>0.4697</td></tr></table><br/></div></div>"
      ],
      "text/plain": [
       "<IPython.core.display.HTML object>"
      ]
     },
     "metadata": {},
     "output_type": "display_data"
    },
    {
     "data": {
      "text/html": [
       " View run <strong style=\"color:#cdcd00\">crimson-sweep-8</strong> at: <a href='https://wandb.ai/flower-classification/pytorch-sweeps-demo/runs/jucrzfat' target=\"_blank\">https://wandb.ai/flower-classification/pytorch-sweeps-demo/runs/jucrzfat</a><br/>Synced 4 W&B file(s), 0 media file(s), 0 artifact file(s) and 0 other file(s)"
      ],
      "text/plain": [
       "<IPython.core.display.HTML object>"
      ]
     },
     "metadata": {},
     "output_type": "display_data"
    },
    {
     "data": {
      "text/html": [
       "Find logs at: <code>./wandb/run-20230404_143240-jucrzfat/logs</code>"
      ],
      "text/plain": [
       "<IPython.core.display.HTML object>"
      ]
     },
     "metadata": {},
     "output_type": "display_data"
    },
    {
     "name": "stderr",
     "output_type": "stream",
     "text": [
      "\u001b[34m\u001b[1mwandb\u001b[0m: Agent Starting Run: bhks7msu with config:\n",
      "\u001b[34m\u001b[1mwandb\u001b[0m: \tbatch_size: 32\n",
      "\u001b[34m\u001b[1mwandb\u001b[0m: \tbeta_one: 0.99\n",
      "\u001b[34m\u001b[1mwandb\u001b[0m: \tbeta_two: 0.999\n",
      "\u001b[34m\u001b[1mwandb\u001b[0m: \tepochs: 10\n",
      "\u001b[34m\u001b[1mwandb\u001b[0m: \teps: 1\n",
      "\u001b[34m\u001b[1mwandb\u001b[0m: \tgamma: 0.1\n",
      "\u001b[34m\u001b[1mwandb\u001b[0m: \tlearning_rate: 0.003\n",
      "\u001b[34m\u001b[1mwandb\u001b[0m: \toptimizer: adam\n",
      "\u001b[34m\u001b[1mwandb\u001b[0m: \tstep_size: 3\n"
     ]
    },
    {
     "data": {
      "text/html": [
       "Tracking run with wandb version 0.14.0"
      ],
      "text/plain": [
       "<IPython.core.display.HTML object>"
      ]
     },
     "metadata": {},
     "output_type": "display_data"
    },
    {
     "data": {
      "text/html": [
       "Run data is saved locally in <code>/content/wandb/run-20230404_143816-bhks7msu</code>"
      ],
      "text/plain": [
       "<IPython.core.display.HTML object>"
      ]
     },
     "metadata": {},
     "output_type": "display_data"
    },
    {
     "data": {
      "text/html": [
       "Syncing run <strong><a href='https://wandb.ai/flower-classification/pytorch-sweeps-demo/runs/bhks7msu' target=\"_blank\">lilac-sweep-9</a></strong> to <a href='https://wandb.ai/flower-classification/pytorch-sweeps-demo' target=\"_blank\">Weights & Biases</a> (<a href='https://wandb.me/run' target=\"_blank\">docs</a>)<br/>Sweep page: <a href='https://wandb.ai/flower-classification/pytorch-sweeps-demo/sweeps/9681wnh0' target=\"_blank\">https://wandb.ai/flower-classification/pytorch-sweeps-demo/sweeps/9681wnh0</a>"
      ],
      "text/plain": [
       "<IPython.core.display.HTML object>"
      ]
     },
     "metadata": {},
     "output_type": "display_data"
    },
    {
     "data": {
      "text/html": [
       " View project at <a href='https://wandb.ai/flower-classification/pytorch-sweeps-demo' target=\"_blank\">https://wandb.ai/flower-classification/pytorch-sweeps-demo</a>"
      ],
      "text/plain": [
       "<IPython.core.display.HTML object>"
      ]
     },
     "metadata": {},
     "output_type": "display_data"
    },
    {
     "data": {
      "text/html": [
       " View sweep at <a href='https://wandb.ai/flower-classification/pytorch-sweeps-demo/sweeps/9681wnh0' target=\"_blank\">https://wandb.ai/flower-classification/pytorch-sweeps-demo/sweeps/9681wnh0</a>"
      ],
      "text/plain": [
       "<IPython.core.display.HTML object>"
      ]
     },
     "metadata": {},
     "output_type": "display_data"
    },
    {
     "data": {
      "text/html": [
       " View run at <a href='https://wandb.ai/flower-classification/pytorch-sweeps-demo/runs/bhks7msu' target=\"_blank\">https://wandb.ai/flower-classification/pytorch-sweeps-demo/runs/bhks7msu</a>"
      ],
      "text/plain": [
       "<IPython.core.display.HTML object>"
      ]
     },
     "metadata": {},
     "output_type": "display_data"
    },
    {
     "data": {
      "text/html": [
       "Waiting for W&B process to finish... <strong style=\"color:green\">(success).</strong>"
      ],
      "text/plain": [
       "<IPython.core.display.HTML object>"
      ]
     },
     "metadata": {},
     "output_type": "display_data"
    },
    {
     "data": {
      "text/html": [
       "<style>\n",
       "    table.wandb td:nth-child(1) { padding: 0 10px; text-align: left ; width: auto;} td:nth-child(2) {text-align: left ; width: 100%}\n",
       "    .wandb-row { display: flex; flex-direction: row; flex-wrap: wrap; justify-content: flex-start; width: 100% }\n",
       "    .wandb-col { display: flex; flex-direction: column; flex-basis: 100%; flex: 1; padding: 10px; }\n",
       "    </style>\n",
       "<div class=\"wandb-row\"><div class=\"wandb-col\"><h3>Run history:</h3><br/><table class=\"wandb\"><tr><td>epoch</td><td>▁▂▃▃▄▅▆▆▇█</td></tr><tr><td>test/epoch_acc</td><td>▁▃▃█▁▆▆▃▃█</td></tr><tr><td>test/epoch_loss</td><td>█▅▂▂▁▁▁▁▁▁</td></tr><tr><td>test/f1-score</td><td>▁▄▄█▂▆▆▄▄█</td></tr><tr><td>test/precision</td><td>▂▃▃█▁▆▆▃▃█</td></tr><tr><td>test/recall</td><td>▁█████████</td></tr><tr><td>train/batch_loss</td><td>██▇▅▅▄▄▅▅▂▅▂▃▄▃▅▂▃▃▆▂▃▂▃▃▂▂▅▃▂▁▂▂▅▄▄▃▃▁▅</td></tr><tr><td>train/epoch_acc</td><td>▁▅▇███▇███</td></tr><tr><td>train/epoch_loss</td><td>█▅▃▂▁▁▁▁▁▁</td></tr></table><br/></div><div class=\"wandb-col\"><h3>Run summary:</h3><br/><table class=\"wandb\"><tr><td>epoch</td><td>9</td></tr><tr><td>test/epoch_acc</td><td>0.85556</td></tr><tr><td>test/epoch_loss</td><td>0.54705</td></tr><tr><td>test/f1-score</td><td>0.86022</td></tr><tr><td>test/precision</td><td>0.78431</td></tr><tr><td>test/recall</td><td>0.95238</td></tr><tr><td>train/batch_loss</td><td>0.61833</td></tr><tr><td>train/epoch_acc</td><td>0.8059</td></tr><tr><td>train/epoch_loss</td><td>0.558</td></tr></table><br/></div></div>"
      ],
      "text/plain": [
       "<IPython.core.display.HTML object>"
      ]
     },
     "metadata": {},
     "output_type": "display_data"
    },
    {
     "data": {
      "text/html": [
       " View run <strong style=\"color:#cdcd00\">lilac-sweep-9</strong> at: <a href='https://wandb.ai/flower-classification/pytorch-sweeps-demo/runs/bhks7msu' target=\"_blank\">https://wandb.ai/flower-classification/pytorch-sweeps-demo/runs/bhks7msu</a><br/>Synced 4 W&B file(s), 0 media file(s), 0 artifact file(s) and 0 other file(s)"
      ],
      "text/plain": [
       "<IPython.core.display.HTML object>"
      ]
     },
     "metadata": {},
     "output_type": "display_data"
    },
    {
     "data": {
      "text/html": [
       "Find logs at: <code>./wandb/run-20230404_143816-bhks7msu/logs</code>"
      ],
      "text/plain": [
       "<IPython.core.display.HTML object>"
      ]
     },
     "metadata": {},
     "output_type": "display_data"
    },
    {
     "name": "stderr",
     "output_type": "stream",
     "text": [
      "\u001b[34m\u001b[1mwandb\u001b[0m: Agent Starting Run: ezctslju with config:\n",
      "\u001b[34m\u001b[1mwandb\u001b[0m: \tbatch_size: 32\n",
      "\u001b[34m\u001b[1mwandb\u001b[0m: \tbeta_one: 0.9\n",
      "\u001b[34m\u001b[1mwandb\u001b[0m: \tbeta_two: 0.5\n",
      "\u001b[34m\u001b[1mwandb\u001b[0m: \tepochs: 10\n",
      "\u001b[34m\u001b[1mwandb\u001b[0m: \teps: 1\n",
      "\u001b[34m\u001b[1mwandb\u001b[0m: \tgamma: 0.1\n",
      "\u001b[34m\u001b[1mwandb\u001b[0m: \tlearning_rate: 0.003\n",
      "\u001b[34m\u001b[1mwandb\u001b[0m: \toptimizer: adam\n",
      "\u001b[34m\u001b[1mwandb\u001b[0m: \tstep_size: 5\n"
     ]
    },
    {
     "data": {
      "text/html": [
       "Tracking run with wandb version 0.14.0"
      ],
      "text/plain": [
       "<IPython.core.display.HTML object>"
      ]
     },
     "metadata": {},
     "output_type": "display_data"
    },
    {
     "data": {
      "text/html": [
       "Run data is saved locally in <code>/content/wandb/run-20230404_144350-ezctslju</code>"
      ],
      "text/plain": [
       "<IPython.core.display.HTML object>"
      ]
     },
     "metadata": {},
     "output_type": "display_data"
    },
    {
     "data": {
      "text/html": [
       "Syncing run <strong><a href='https://wandb.ai/flower-classification/pytorch-sweeps-demo/runs/ezctslju' target=\"_blank\">different-sweep-10</a></strong> to <a href='https://wandb.ai/flower-classification/pytorch-sweeps-demo' target=\"_blank\">Weights & Biases</a> (<a href='https://wandb.me/run' target=\"_blank\">docs</a>)<br/>Sweep page: <a href='https://wandb.ai/flower-classification/pytorch-sweeps-demo/sweeps/9681wnh0' target=\"_blank\">https://wandb.ai/flower-classification/pytorch-sweeps-demo/sweeps/9681wnh0</a>"
      ],
      "text/plain": [
       "<IPython.core.display.HTML object>"
      ]
     },
     "metadata": {},
     "output_type": "display_data"
    },
    {
     "data": {
      "text/html": [
       " View project at <a href='https://wandb.ai/flower-classification/pytorch-sweeps-demo' target=\"_blank\">https://wandb.ai/flower-classification/pytorch-sweeps-demo</a>"
      ],
      "text/plain": [
       "<IPython.core.display.HTML object>"
      ]
     },
     "metadata": {},
     "output_type": "display_data"
    },
    {
     "data": {
      "text/html": [
       " View sweep at <a href='https://wandb.ai/flower-classification/pytorch-sweeps-demo/sweeps/9681wnh0' target=\"_blank\">https://wandb.ai/flower-classification/pytorch-sweeps-demo/sweeps/9681wnh0</a>"
      ],
      "text/plain": [
       "<IPython.core.display.HTML object>"
      ]
     },
     "metadata": {},
     "output_type": "display_data"
    },
    {
     "data": {
      "text/html": [
       " View run at <a href='https://wandb.ai/flower-classification/pytorch-sweeps-demo/runs/ezctslju' target=\"_blank\">https://wandb.ai/flower-classification/pytorch-sweeps-demo/runs/ezctslju</a>"
      ],
      "text/plain": [
       "<IPython.core.display.HTML object>"
      ]
     },
     "metadata": {},
     "output_type": "display_data"
    },
    {
     "data": {
      "text/html": [
       "Waiting for W&B process to finish... <strong style=\"color:green\">(success).</strong>"
      ],
      "text/plain": [
       "<IPython.core.display.HTML object>"
      ]
     },
     "metadata": {},
     "output_type": "display_data"
    },
    {
     "data": {
      "text/html": [
       "<style>\n",
       "    table.wandb td:nth-child(1) { padding: 0 10px; text-align: left ; width: auto;} td:nth-child(2) {text-align: left ; width: 100%}\n",
       "    .wandb-row { display: flex; flex-direction: row; flex-wrap: wrap; justify-content: flex-start; width: 100% }\n",
       "    .wandb-col { display: flex; flex-direction: column; flex-basis: 100%; flex: 1; padding: 10px; }\n",
       "    </style>\n",
       "<div class=\"wandb-row\"><div class=\"wandb-col\"><h3>Run history:</h3><br/><table class=\"wandb\"><tr><td>epoch</td><td>▁▂▃▃▄▅▆▆▇█</td></tr><tr><td>test/epoch_acc</td><td>▁▂▇███▇▇▄▇</td></tr><tr><td>test/epoch_loss</td><td>█▆▅▃▂▂▁▁▁▁</td></tr><tr><td>test/f1-score</td><td>▁▅▆███▆▆▁▆</td></tr><tr><td>test/precision</td><td>▂▁██████▇█</td></tr><tr><td>test/recall</td><td>▅█▃▅▅▅▃▃▁▃</td></tr><tr><td>train/batch_loss</td><td>███▇▇▆▆▇▆▆▆▆▅▅▅▅▃▅▃▅▃▃▂▄▃▂▄▂▂▁▂▃▃▃▄▄▃▅▃▄</td></tr><tr><td>train/epoch_acc</td><td>▁▅▇▇▇█▇███</td></tr><tr><td>train/epoch_loss</td><td>█▆▅▄▂▂▁▁▁▁</td></tr></table><br/></div><div class=\"wandb-col\"><h3>Run summary:</h3><br/><table class=\"wandb\"><tr><td>epoch</td><td>9</td></tr><tr><td>test/epoch_acc</td><td>0.75556</td></tr><tr><td>test/epoch_loss</td><td>0.53376</td></tr><tr><td>test/f1-score</td><td>0.76596</td></tr><tr><td>test/precision</td><td>0.76596</td></tr><tr><td>test/recall</td><td>0.76596</td></tr><tr><td>train/batch_loss</td><td>0.52814</td></tr><tr><td>train/epoch_acc</td><td>0.86118</td></tr><tr><td>train/epoch_loss</td><td>0.46213</td></tr></table><br/></div></div>"
      ],
      "text/plain": [
       "<IPython.core.display.HTML object>"
      ]
     },
     "metadata": {},
     "output_type": "display_data"
    },
    {
     "data": {
      "text/html": [
       " View run <strong style=\"color:#cdcd00\">different-sweep-10</strong> at: <a href='https://wandb.ai/flower-classification/pytorch-sweeps-demo/runs/ezctslju' target=\"_blank\">https://wandb.ai/flower-classification/pytorch-sweeps-demo/runs/ezctslju</a><br/>Synced 4 W&B file(s), 0 media file(s), 0 artifact file(s) and 0 other file(s)"
      ],
      "text/plain": [
       "<IPython.core.display.HTML object>"
      ]
     },
     "metadata": {},
     "output_type": "display_data"
    },
    {
     "data": {
      "text/html": [
       "Find logs at: <code>./wandb/run-20230404_144350-ezctslju/logs</code>"
      ],
      "text/plain": [
       "<IPython.core.display.HTML object>"
      ]
     },
     "metadata": {},
     "output_type": "display_data"
    },
    {
     "name": "stderr",
     "output_type": "stream",
     "text": [
      "\u001b[34m\u001b[1mwandb\u001b[0m: Agent Starting Run: gxvcwlwu with config:\n",
      "\u001b[34m\u001b[1mwandb\u001b[0m: \tbatch_size: 64\n",
      "\u001b[34m\u001b[1mwandb\u001b[0m: \tbeta_one: 0.99\n",
      "\u001b[34m\u001b[1mwandb\u001b[0m: \tbeta_two: 0.99\n",
      "\u001b[34m\u001b[1mwandb\u001b[0m: \tepochs: 10\n",
      "\u001b[34m\u001b[1mwandb\u001b[0m: \teps: 0.1\n",
      "\u001b[34m\u001b[1mwandb\u001b[0m: \tgamma: 0.5\n",
      "\u001b[34m\u001b[1mwandb\u001b[0m: \tlearning_rate: 0.0003\n",
      "\u001b[34m\u001b[1mwandb\u001b[0m: \toptimizer: adam\n",
      "\u001b[34m\u001b[1mwandb\u001b[0m: \tstep_size: 5\n"
     ]
    },
    {
     "data": {
      "text/html": [
       "Tracking run with wandb version 0.14.0"
      ],
      "text/plain": [
       "<IPython.core.display.HTML object>"
      ]
     },
     "metadata": {},
     "output_type": "display_data"
    },
    {
     "data": {
      "text/html": [
       "Run data is saved locally in <code>/content/wandb/run-20230404_144922-gxvcwlwu</code>"
      ],
      "text/plain": [
       "<IPython.core.display.HTML object>"
      ]
     },
     "metadata": {},
     "output_type": "display_data"
    },
    {
     "data": {
      "text/html": [
       "Syncing run <strong><a href='https://wandb.ai/flower-classification/pytorch-sweeps-demo/runs/gxvcwlwu' target=\"_blank\">glowing-sweep-11</a></strong> to <a href='https://wandb.ai/flower-classification/pytorch-sweeps-demo' target=\"_blank\">Weights & Biases</a> (<a href='https://wandb.me/run' target=\"_blank\">docs</a>)<br/>Sweep page: <a href='https://wandb.ai/flower-classification/pytorch-sweeps-demo/sweeps/9681wnh0' target=\"_blank\">https://wandb.ai/flower-classification/pytorch-sweeps-demo/sweeps/9681wnh0</a>"
      ],
      "text/plain": [
       "<IPython.core.display.HTML object>"
      ]
     },
     "metadata": {},
     "output_type": "display_data"
    },
    {
     "data": {
      "text/html": [
       " View project at <a href='https://wandb.ai/flower-classification/pytorch-sweeps-demo' target=\"_blank\">https://wandb.ai/flower-classification/pytorch-sweeps-demo</a>"
      ],
      "text/plain": [
       "<IPython.core.display.HTML object>"
      ]
     },
     "metadata": {},
     "output_type": "display_data"
    },
    {
     "data": {
      "text/html": [
       " View sweep at <a href='https://wandb.ai/flower-classification/pytorch-sweeps-demo/sweeps/9681wnh0' target=\"_blank\">https://wandb.ai/flower-classification/pytorch-sweeps-demo/sweeps/9681wnh0</a>"
      ],
      "text/plain": [
       "<IPython.core.display.HTML object>"
      ]
     },
     "metadata": {},
     "output_type": "display_data"
    },
    {
     "data": {
      "text/html": [
       " View run at <a href='https://wandb.ai/flower-classification/pytorch-sweeps-demo/runs/gxvcwlwu' target=\"_blank\">https://wandb.ai/flower-classification/pytorch-sweeps-demo/runs/gxvcwlwu</a>"
      ],
      "text/plain": [
       "<IPython.core.display.HTML object>"
      ]
     },
     "metadata": {},
     "output_type": "display_data"
    },
    {
     "data": {
      "text/html": [
       "Waiting for W&B process to finish... <strong style=\"color:green\">(success).</strong>"
      ],
      "text/plain": [
       "<IPython.core.display.HTML object>"
      ]
     },
     "metadata": {},
     "output_type": "display_data"
    },
    {
     "data": {
      "text/html": [
       "<style>\n",
       "    table.wandb td:nth-child(1) { padding: 0 10px; text-align: left ; width: auto;} td:nth-child(2) {text-align: left ; width: 100%}\n",
       "    .wandb-row { display: flex; flex-direction: row; flex-wrap: wrap; justify-content: flex-start; width: 100% }\n",
       "    .wandb-col { display: flex; flex-direction: column; flex-basis: 100%; flex: 1; padding: 10px; }\n",
       "    </style>\n",
       "<div class=\"wandb-row\"><div class=\"wandb-col\"><h3>Run history:</h3><br/><table class=\"wandb\"><tr><td>epoch</td><td>▁▂▃▃▄▅▆▆▇█</td></tr><tr><td>test/epoch_acc</td><td>▁▂▅▆▆▆▇███</td></tr><tr><td>test/epoch_loss</td><td>█▇▅▄▄▃▂▂▂▁</td></tr><tr><td>test/f1-score</td><td>▁▂▅▆▇▇▇███</td></tr><tr><td>test/precision</td><td>▁▂▄▅▆▆▇███</td></tr><tr><td>test/recall</td><td>▁▄▇███████</td></tr><tr><td>train/batch_loss</td><td>▇█▆▇▇▆▆▆▆▅▅▆▅▅▃▅▅▄▅▅▃▄▄▂▃▃▃▃▃▃▃▂▁▃▃▃▂▃▁▁</td></tr><tr><td>train/epoch_acc</td><td>▁▄▅▆▇▇▇███</td></tr><tr><td>train/epoch_loss</td><td>█▇▆▄▄▃▂▂▁▁</td></tr></table><br/></div><div class=\"wandb-col\"><h3>Run summary:</h3><br/><table class=\"wandb\"><tr><td>epoch</td><td>9</td></tr><tr><td>test/epoch_acc</td><td>0.86667</td></tr><tr><td>test/epoch_loss</td><td>0.53756</td></tr><tr><td>test/f1-score</td><td>0.86364</td></tr><tr><td>test/precision</td><td>0.80851</td></tr><tr><td>test/recall</td><td>0.92683</td></tr><tr><td>train/batch_loss</td><td>0.52993</td></tr><tr><td>train/epoch_acc</td><td>0.80098</td></tr><tr><td>train/epoch_loss</td><td>0.55775</td></tr></table><br/></div></div>"
      ],
      "text/plain": [
       "<IPython.core.display.HTML object>"
      ]
     },
     "metadata": {},
     "output_type": "display_data"
    },
    {
     "data": {
      "text/html": [
       " View run <strong style=\"color:#cdcd00\">glowing-sweep-11</strong> at: <a href='https://wandb.ai/flower-classification/pytorch-sweeps-demo/runs/gxvcwlwu' target=\"_blank\">https://wandb.ai/flower-classification/pytorch-sweeps-demo/runs/gxvcwlwu</a><br/>Synced 4 W&B file(s), 0 media file(s), 0 artifact file(s) and 0 other file(s)"
      ],
      "text/plain": [
       "<IPython.core.display.HTML object>"
      ]
     },
     "metadata": {},
     "output_type": "display_data"
    },
    {
     "data": {
      "text/html": [
       "Find logs at: <code>./wandb/run-20230404_144922-gxvcwlwu/logs</code>"
      ],
      "text/plain": [
       "<IPython.core.display.HTML object>"
      ]
     },
     "metadata": {},
     "output_type": "display_data"
    },
    {
     "name": "stderr",
     "output_type": "stream",
     "text": [
      "\u001b[34m\u001b[1mwandb\u001b[0m: Agent Starting Run: o4ceynjw with config:\n",
      "\u001b[34m\u001b[1mwandb\u001b[0m: \tbatch_size: 64\n",
      "\u001b[34m\u001b[1mwandb\u001b[0m: \tbeta_one: 0.9\n",
      "\u001b[34m\u001b[1mwandb\u001b[0m: \tbeta_two: 0.999\n",
      "\u001b[34m\u001b[1mwandb\u001b[0m: \tepochs: 10\n",
      "\u001b[34m\u001b[1mwandb\u001b[0m: \teps: 1e-08\n",
      "\u001b[34m\u001b[1mwandb\u001b[0m: \tgamma: 0.1\n",
      "\u001b[34m\u001b[1mwandb\u001b[0m: \tlearning_rate: 0.01\n",
      "\u001b[34m\u001b[1mwandb\u001b[0m: \toptimizer: sgd\n",
      "\u001b[34m\u001b[1mwandb\u001b[0m: \tstep_size: 5\n"
     ]
    },
    {
     "data": {
      "text/html": [
       "Tracking run with wandb version 0.14.0"
      ],
      "text/plain": [
       "<IPython.core.display.HTML object>"
      ]
     },
     "metadata": {},
     "output_type": "display_data"
    },
    {
     "data": {
      "text/html": [
       "Run data is saved locally in <code>/content/wandb/run-20230404_145500-o4ceynjw</code>"
      ],
      "text/plain": [
       "<IPython.core.display.HTML object>"
      ]
     },
     "metadata": {},
     "output_type": "display_data"
    },
    {
     "data": {
      "text/html": [
       "Syncing run <strong><a href='https://wandb.ai/flower-classification/pytorch-sweeps-demo/runs/o4ceynjw' target=\"_blank\">chocolate-sweep-12</a></strong> to <a href='https://wandb.ai/flower-classification/pytorch-sweeps-demo' target=\"_blank\">Weights & Biases</a> (<a href='https://wandb.me/run' target=\"_blank\">docs</a>)<br/>Sweep page: <a href='https://wandb.ai/flower-classification/pytorch-sweeps-demo/sweeps/9681wnh0' target=\"_blank\">https://wandb.ai/flower-classification/pytorch-sweeps-demo/sweeps/9681wnh0</a>"
      ],
      "text/plain": [
       "<IPython.core.display.HTML object>"
      ]
     },
     "metadata": {},
     "output_type": "display_data"
    },
    {
     "data": {
      "text/html": [
       " View project at <a href='https://wandb.ai/flower-classification/pytorch-sweeps-demo' target=\"_blank\">https://wandb.ai/flower-classification/pytorch-sweeps-demo</a>"
      ],
      "text/plain": [
       "<IPython.core.display.HTML object>"
      ]
     },
     "metadata": {},
     "output_type": "display_data"
    },
    {
     "data": {
      "text/html": [
       " View sweep at <a href='https://wandb.ai/flower-classification/pytorch-sweeps-demo/sweeps/9681wnh0' target=\"_blank\">https://wandb.ai/flower-classification/pytorch-sweeps-demo/sweeps/9681wnh0</a>"
      ],
      "text/plain": [
       "<IPython.core.display.HTML object>"
      ]
     },
     "metadata": {},
     "output_type": "display_data"
    },
    {
     "data": {
      "text/html": [
       " View run at <a href='https://wandb.ai/flower-classification/pytorch-sweeps-demo/runs/o4ceynjw' target=\"_blank\">https://wandb.ai/flower-classification/pytorch-sweeps-demo/runs/o4ceynjw</a>"
      ],
      "text/plain": [
       "<IPython.core.display.HTML object>"
      ]
     },
     "metadata": {},
     "output_type": "display_data"
    },
    {
     "data": {
      "text/html": [
       "Waiting for W&B process to finish... <strong style=\"color:green\">(success).</strong>"
      ],
      "text/plain": [
       "<IPython.core.display.HTML object>"
      ]
     },
     "metadata": {},
     "output_type": "display_data"
    },
    {
     "data": {
      "text/html": [
       "<style>\n",
       "    table.wandb td:nth-child(1) { padding: 0 10px; text-align: left ; width: auto;} td:nth-child(2) {text-align: left ; width: 100%}\n",
       "    .wandb-row { display: flex; flex-direction: row; flex-wrap: wrap; justify-content: flex-start; width: 100% }\n",
       "    .wandb-col { display: flex; flex-direction: column; flex-basis: 100%; flex: 1; padding: 10px; }\n",
       "    </style>\n",
       "<div class=\"wandb-row\"><div class=\"wandb-col\"><h3>Run history:</h3><br/><table class=\"wandb\"><tr><td>epoch</td><td>▁▂▃▃▄▅▆▆▇█</td></tr><tr><td>test/epoch_acc</td><td>▁▆▄▇▇█████</td></tr><tr><td>test/epoch_loss</td><td>█▄▄▁▁▁▁▁▁▁</td></tr><tr><td>test/f1-score</td><td>▁▆▄▇▇█████</td></tr><tr><td>test/precision</td><td>▂▁█▆██████</td></tr><tr><td>test/recall</td><td>▁█▃█▇█████</td></tr><tr><td>train/batch_loss</td><td>██▇▆▅▅▄▄▃▃▂▂▂▂▁▁▁▁▁▁▁▁▁▁▁▁▁▁▁▁▁▁▁▁▁▁▁▁▁▁</td></tr><tr><td>train/epoch_acc</td><td>▁▅▇███████</td></tr><tr><td>train/epoch_loss</td><td>█▅▃▁▁▁▁▁▁▁</td></tr></table><br/></div><div class=\"wandb-col\"><h3>Run summary:</h3><br/><table class=\"wandb\"><tr><td>epoch</td><td>9</td></tr><tr><td>test/epoch_acc</td><td>0.97778</td></tr><tr><td>test/epoch_loss</td><td>0.13521</td></tr><tr><td>test/f1-score</td><td>0.97826</td></tr><tr><td>test/precision</td><td>1.0</td></tr><tr><td>test/recall</td><td>0.95745</td></tr><tr><td>train/batch_loss</td><td>0.00408</td></tr><tr><td>train/epoch_acc</td><td>1.0</td></tr><tr><td>train/epoch_loss</td><td>0.00712</td></tr></table><br/></div></div>"
      ],
      "text/plain": [
       "<IPython.core.display.HTML object>"
      ]
     },
     "metadata": {},
     "output_type": "display_data"
    },
    {
     "data": {
      "text/html": [
       " View run <strong style=\"color:#cdcd00\">chocolate-sweep-12</strong> at: <a href='https://wandb.ai/flower-classification/pytorch-sweeps-demo/runs/o4ceynjw' target=\"_blank\">https://wandb.ai/flower-classification/pytorch-sweeps-demo/runs/o4ceynjw</a><br/>Synced 4 W&B file(s), 0 media file(s), 0 artifact file(s) and 0 other file(s)"
      ],
      "text/plain": [
       "<IPython.core.display.HTML object>"
      ]
     },
     "metadata": {},
     "output_type": "display_data"
    },
    {
     "data": {
      "text/html": [
       "Find logs at: <code>./wandb/run-20230404_145500-o4ceynjw/logs</code>"
      ],
      "text/plain": [
       "<IPython.core.display.HTML object>"
      ]
     },
     "metadata": {},
     "output_type": "display_data"
    },
    {
     "name": "stderr",
     "output_type": "stream",
     "text": [
      "\u001b[34m\u001b[1mwandb\u001b[0m: Agent Starting Run: w0els6yx with config:\n",
      "\u001b[34m\u001b[1mwandb\u001b[0m: \tbatch_size: 4\n",
      "\u001b[34m\u001b[1mwandb\u001b[0m: \tbeta_one: 0.9\n",
      "\u001b[34m\u001b[1mwandb\u001b[0m: \tbeta_two: 0.999\n",
      "\u001b[34m\u001b[1mwandb\u001b[0m: \tepochs: 10\n",
      "\u001b[34m\u001b[1mwandb\u001b[0m: \teps: 1\n",
      "\u001b[34m\u001b[1mwandb\u001b[0m: \tgamma: 0.5\n",
      "\u001b[34m\u001b[1mwandb\u001b[0m: \tlearning_rate: 0.0001\n",
      "\u001b[34m\u001b[1mwandb\u001b[0m: \toptimizer: adam\n",
      "\u001b[34m\u001b[1mwandb\u001b[0m: \tstep_size: 5\n"
     ]
    },
    {
     "data": {
      "text/html": [
       "Tracking run with wandb version 0.14.0"
      ],
      "text/plain": [
       "<IPython.core.display.HTML object>"
      ]
     },
     "metadata": {},
     "output_type": "display_data"
    },
    {
     "data": {
      "text/html": [
       "Run data is saved locally in <code>/content/wandb/run-20230404_150038-w0els6yx</code>"
      ],
      "text/plain": [
       "<IPython.core.display.HTML object>"
      ]
     },
     "metadata": {},
     "output_type": "display_data"
    },
    {
     "data": {
      "text/html": [
       "Syncing run <strong><a href='https://wandb.ai/flower-classification/pytorch-sweeps-demo/runs/w0els6yx' target=\"_blank\">glorious-sweep-13</a></strong> to <a href='https://wandb.ai/flower-classification/pytorch-sweeps-demo' target=\"_blank\">Weights & Biases</a> (<a href='https://wandb.me/run' target=\"_blank\">docs</a>)<br/>Sweep page: <a href='https://wandb.ai/flower-classification/pytorch-sweeps-demo/sweeps/9681wnh0' target=\"_blank\">https://wandb.ai/flower-classification/pytorch-sweeps-demo/sweeps/9681wnh0</a>"
      ],
      "text/plain": [
       "<IPython.core.display.HTML object>"
      ]
     },
     "metadata": {},
     "output_type": "display_data"
    },
    {
     "data": {
      "text/html": [
       " View project at <a href='https://wandb.ai/flower-classification/pytorch-sweeps-demo' target=\"_blank\">https://wandb.ai/flower-classification/pytorch-sweeps-demo</a>"
      ],
      "text/plain": [
       "<IPython.core.display.HTML object>"
      ]
     },
     "metadata": {},
     "output_type": "display_data"
    },
    {
     "data": {
      "text/html": [
       " View sweep at <a href='https://wandb.ai/flower-classification/pytorch-sweeps-demo/sweeps/9681wnh0' target=\"_blank\">https://wandb.ai/flower-classification/pytorch-sweeps-demo/sweeps/9681wnh0</a>"
      ],
      "text/plain": [
       "<IPython.core.display.HTML object>"
      ]
     },
     "metadata": {},
     "output_type": "display_data"
    },
    {
     "data": {
      "text/html": [
       " View run at <a href='https://wandb.ai/flower-classification/pytorch-sweeps-demo/runs/w0els6yx' target=\"_blank\">https://wandb.ai/flower-classification/pytorch-sweeps-demo/runs/w0els6yx</a>"
      ],
      "text/plain": [
       "<IPython.core.display.HTML object>"
      ]
     },
     "metadata": {},
     "output_type": "display_data"
    },
    {
     "data": {
      "text/html": [
       "Waiting for W&B process to finish... <strong style=\"color:green\">(success).</strong>"
      ],
      "text/plain": [
       "<IPython.core.display.HTML object>"
      ]
     },
     "metadata": {},
     "output_type": "display_data"
    },
    {
     "data": {
      "text/html": [
       "<style>\n",
       "    table.wandb td:nth-child(1) { padding: 0 10px; text-align: left ; width: auto;} td:nth-child(2) {text-align: left ; width: 100%}\n",
       "    .wandb-row { display: flex; flex-direction: row; flex-wrap: wrap; justify-content: flex-start; width: 100% }\n",
       "    .wandb-col { display: flex; flex-direction: column; flex-basis: 100%; flex: 1; padding: 10px; }\n",
       "    </style>\n",
       "<div class=\"wandb-row\"><div class=\"wandb-col\"><h3>Run history:</h3><br/><table class=\"wandb\"><tr><td>epoch</td><td>▁▂▃▃▄▅▆▆▇█</td></tr><tr><td>test/epoch_acc</td><td>▂▁▄▄▇▆▆▇█▇</td></tr><tr><td>test/epoch_loss</td><td>█▆▅▆▃▂▂▂▂▁</td></tr><tr><td>test/f1-score</td><td>▁▁▅▄▇▇▇███</td></tr><tr><td>test/precision</td><td>▂▁▄▃▆▆▆▆█▇</td></tr><tr><td>test/recall</td><td>▁▂▅▄▆▆▇█▆█</td></tr><tr><td>train/batch_loss</td><td>█▆▆▆▆▆▆▃▇█▄▄▇█▆▅▄▇▇▃▄▄▅▂▃▄▆▆▁▆▂▄▄▅▅▅▄▆▄▄</td></tr><tr><td>train/epoch_acc</td><td>▁▃▄▄▆▆▇▇▇█</td></tr><tr><td>train/epoch_loss</td><td>█▇▆▅▃▃▂▂▂▁</td></tr></table><br/></div><div class=\"wandb-col\"><h3>Run summary:</h3><br/><table class=\"wandb\"><tr><td>epoch</td><td>9</td></tr><tr><td>test/epoch_acc</td><td>0.68889</td></tr><tr><td>test/epoch_loss</td><td>0.66123</td></tr><tr><td>test/f1-score</td><td>0.65854</td></tr><tr><td>test/precision</td><td>0.64286</td></tr><tr><td>test/recall</td><td>0.675</td></tr><tr><td>train/batch_loss</td><td>0.60239</td></tr><tr><td>train/epoch_acc</td><td>0.65233</td></tr><tr><td>train/epoch_loss</td><td>0.66732</td></tr></table><br/></div></div>"
      ],
      "text/plain": [
       "<IPython.core.display.HTML object>"
      ]
     },
     "metadata": {},
     "output_type": "display_data"
    },
    {
     "data": {
      "text/html": [
       " View run <strong style=\"color:#cdcd00\">glorious-sweep-13</strong> at: <a href='https://wandb.ai/flower-classification/pytorch-sweeps-demo/runs/w0els6yx' target=\"_blank\">https://wandb.ai/flower-classification/pytorch-sweeps-demo/runs/w0els6yx</a><br/>Synced 4 W&B file(s), 0 media file(s), 0 artifact file(s) and 0 other file(s)"
      ],
      "text/plain": [
       "<IPython.core.display.HTML object>"
      ]
     },
     "metadata": {},
     "output_type": "display_data"
    },
    {
     "data": {
      "text/html": [
       "Find logs at: <code>./wandb/run-20230404_150038-w0els6yx/logs</code>"
      ],
      "text/plain": [
       "<IPython.core.display.HTML object>"
      ]
     },
     "metadata": {},
     "output_type": "display_data"
    },
    {
     "name": "stderr",
     "output_type": "stream",
     "text": [
      "\u001b[34m\u001b[1mwandb\u001b[0m: Agent Starting Run: sn7rpzsv with config:\n",
      "\u001b[34m\u001b[1mwandb\u001b[0m: \tbatch_size: 4\n",
      "\u001b[34m\u001b[1mwandb\u001b[0m: \tbeta_one: 0.9\n",
      "\u001b[34m\u001b[1mwandb\u001b[0m: \tbeta_two: 0.99\n",
      "\u001b[34m\u001b[1mwandb\u001b[0m: \tepochs: 10\n",
      "\u001b[34m\u001b[1mwandb\u001b[0m: \teps: 1\n",
      "\u001b[34m\u001b[1mwandb\u001b[0m: \tgamma: 0.5\n",
      "\u001b[34m\u001b[1mwandb\u001b[0m: \tlearning_rate: 0.001\n",
      "\u001b[34m\u001b[1mwandb\u001b[0m: \toptimizer: sgd\n",
      "\u001b[34m\u001b[1mwandb\u001b[0m: \tstep_size: 7\n"
     ]
    },
    {
     "data": {
      "text/html": [
       "Tracking run with wandb version 0.14.0"
      ],
      "text/plain": [
       "<IPython.core.display.HTML object>"
      ]
     },
     "metadata": {},
     "output_type": "display_data"
    },
    {
     "data": {
      "text/html": [
       "Run data is saved locally in <code>/content/wandb/run-20230404_150639-sn7rpzsv</code>"
      ],
      "text/plain": [
       "<IPython.core.display.HTML object>"
      ]
     },
     "metadata": {},
     "output_type": "display_data"
    },
    {
     "data": {
      "text/html": [
       "Syncing run <strong><a href='https://wandb.ai/flower-classification/pytorch-sweeps-demo/runs/sn7rpzsv' target=\"_blank\">stoic-sweep-14</a></strong> to <a href='https://wandb.ai/flower-classification/pytorch-sweeps-demo' target=\"_blank\">Weights & Biases</a> (<a href='https://wandb.me/run' target=\"_blank\">docs</a>)<br/>Sweep page: <a href='https://wandb.ai/flower-classification/pytorch-sweeps-demo/sweeps/9681wnh0' target=\"_blank\">https://wandb.ai/flower-classification/pytorch-sweeps-demo/sweeps/9681wnh0</a>"
      ],
      "text/plain": [
       "<IPython.core.display.HTML object>"
      ]
     },
     "metadata": {},
     "output_type": "display_data"
    },
    {
     "data": {
      "text/html": [
       " View project at <a href='https://wandb.ai/flower-classification/pytorch-sweeps-demo' target=\"_blank\">https://wandb.ai/flower-classification/pytorch-sweeps-demo</a>"
      ],
      "text/plain": [
       "<IPython.core.display.HTML object>"
      ]
     },
     "metadata": {},
     "output_type": "display_data"
    },
    {
     "data": {
      "text/html": [
       " View sweep at <a href='https://wandb.ai/flower-classification/pytorch-sweeps-demo/sweeps/9681wnh0' target=\"_blank\">https://wandb.ai/flower-classification/pytorch-sweeps-demo/sweeps/9681wnh0</a>"
      ],
      "text/plain": [
       "<IPython.core.display.HTML object>"
      ]
     },
     "metadata": {},
     "output_type": "display_data"
    },
    {
     "data": {
      "text/html": [
       " View run at <a href='https://wandb.ai/flower-classification/pytorch-sweeps-demo/runs/sn7rpzsv' target=\"_blank\">https://wandb.ai/flower-classification/pytorch-sweeps-demo/runs/sn7rpzsv</a>"
      ],
      "text/plain": [
       "<IPython.core.display.HTML object>"
      ]
     },
     "metadata": {},
     "output_type": "display_data"
    },
    {
     "data": {
      "text/html": [
       "Waiting for W&B process to finish... <strong style=\"color:green\">(success).</strong>"
      ],
      "text/plain": [
       "<IPython.core.display.HTML object>"
      ]
     },
     "metadata": {},
     "output_type": "display_data"
    },
    {
     "data": {
      "text/html": [
       "<style>\n",
       "    table.wandb td:nth-child(1) { padding: 0 10px; text-align: left ; width: auto;} td:nth-child(2) {text-align: left ; width: 100%}\n",
       "    .wandb-row { display: flex; flex-direction: row; flex-wrap: wrap; justify-content: flex-start; width: 100% }\n",
       "    .wandb-col { display: flex; flex-direction: column; flex-basis: 100%; flex: 1; padding: 10px; }\n",
       "    </style>\n",
       "<div class=\"wandb-row\"><div class=\"wandb-col\"><h3>Run history:</h3><br/><table class=\"wandb\"><tr><td>epoch</td><td>▁▂▃▃▄▅▆▆▇█</td></tr><tr><td>test/epoch_acc</td><td>▃▁▃▆▆▃▆▆▄█</td></tr><tr><td>test/epoch_loss</td><td>█▆▄▁▃▆▃▃▄▁</td></tr><tr><td>test/f1-score</td><td>▄▁▃▇▆▃▆▆▅█</td></tr><tr><td>test/precision</td><td>▃▆▁▂██▂▁▃▇</td></tr><tr><td>test/recall</td><td>▄▁▄█▄▂▇█▅▇</td></tr><tr><td>train/batch_loss</td><td>█▆▇▆▇█▂▆▂▄▃▁▁▁▄▃▄▂▁▁▁▁▁▃▁▁▁▁▁▁▁▁▁▁▁▂▁▁▁▁</td></tr><tr><td>train/epoch_acc</td><td>▁▄▆▇▇▇▇███</td></tr><tr><td>train/epoch_loss</td><td>█▆▄▃▂▂▂▁▁▁</td></tr></table><br/></div><div class=\"wandb-col\"><h3>Run summary:</h3><br/><table class=\"wandb\"><tr><td>epoch</td><td>9</td></tr><tr><td>test/epoch_acc</td><td>0.92222</td></tr><tr><td>test/epoch_loss</td><td>0.22225</td></tr><tr><td>test/f1-score</td><td>0.91358</td></tr><tr><td>test/precision</td><td>0.94872</td></tr><tr><td>test/recall</td><td>0.88095</td></tr><tr><td>train/batch_loss</td><td>0.01037</td></tr><tr><td>train/epoch_acc</td><td>0.98649</td></tr><tr><td>train/epoch_loss</td><td>0.04606</td></tr></table><br/></div></div>"
      ],
      "text/plain": [
       "<IPython.core.display.HTML object>"
      ]
     },
     "metadata": {},
     "output_type": "display_data"
    },
    {
     "data": {
      "text/html": [
       " View run <strong style=\"color:#cdcd00\">stoic-sweep-14</strong> at: <a href='https://wandb.ai/flower-classification/pytorch-sweeps-demo/runs/sn7rpzsv' target=\"_blank\">https://wandb.ai/flower-classification/pytorch-sweeps-demo/runs/sn7rpzsv</a><br/>Synced 4 W&B file(s), 0 media file(s), 0 artifact file(s) and 0 other file(s)"
      ],
      "text/plain": [
       "<IPython.core.display.HTML object>"
      ]
     },
     "metadata": {},
     "output_type": "display_data"
    },
    {
     "data": {
      "text/html": [
       "Find logs at: <code>./wandb/run-20230404_150639-sn7rpzsv/logs</code>"
      ],
      "text/plain": [
       "<IPython.core.display.HTML object>"
      ]
     },
     "metadata": {},
     "output_type": "display_data"
    },
    {
     "name": "stderr",
     "output_type": "stream",
     "text": [
      "\u001b[34m\u001b[1mwandb\u001b[0m: Sweep Agent: Waiting for job.\n",
      "\u001b[34m\u001b[1mwandb\u001b[0m: Job received.\n",
      "\u001b[34m\u001b[1mwandb\u001b[0m: Agent Starting Run: m64aehal with config:\n",
      "\u001b[34m\u001b[1mwandb\u001b[0m: \tbatch_size: 4\n",
      "\u001b[34m\u001b[1mwandb\u001b[0m: \tbeta_one: 0.9\n",
      "\u001b[34m\u001b[1mwandb\u001b[0m: \tbeta_two: 0.999\n",
      "\u001b[34m\u001b[1mwandb\u001b[0m: \tepochs: 10\n",
      "\u001b[34m\u001b[1mwandb\u001b[0m: \teps: 1\n",
      "\u001b[34m\u001b[1mwandb\u001b[0m: \tgamma: 0.1\n",
      "\u001b[34m\u001b[1mwandb\u001b[0m: \tlearning_rate: 0.1\n",
      "\u001b[34m\u001b[1mwandb\u001b[0m: \toptimizer: adam\n",
      "\u001b[34m\u001b[1mwandb\u001b[0m: \tstep_size: 7\n"
     ]
    },
    {
     "data": {
      "text/html": [
       "Tracking run with wandb version 0.14.0"
      ],
      "text/plain": [
       "<IPython.core.display.HTML object>"
      ]
     },
     "metadata": {},
     "output_type": "display_data"
    },
    {
     "data": {
      "text/html": [
       "Run data is saved locally in <code>/content/wandb/run-20230404_151243-m64aehal</code>"
      ],
      "text/plain": [
       "<IPython.core.display.HTML object>"
      ]
     },
     "metadata": {},
     "output_type": "display_data"
    },
    {
     "data": {
      "text/html": [
       "Syncing run <strong><a href='https://wandb.ai/flower-classification/pytorch-sweeps-demo/runs/m64aehal' target=\"_blank\">rare-sweep-15</a></strong> to <a href='https://wandb.ai/flower-classification/pytorch-sweeps-demo' target=\"_blank\">Weights & Biases</a> (<a href='https://wandb.me/run' target=\"_blank\">docs</a>)<br/>Sweep page: <a href='https://wandb.ai/flower-classification/pytorch-sweeps-demo/sweeps/9681wnh0' target=\"_blank\">https://wandb.ai/flower-classification/pytorch-sweeps-demo/sweeps/9681wnh0</a>"
      ],
      "text/plain": [
       "<IPython.core.display.HTML object>"
      ]
     },
     "metadata": {},
     "output_type": "display_data"
    },
    {
     "data": {
      "text/html": [
       " View project at <a href='https://wandb.ai/flower-classification/pytorch-sweeps-demo' target=\"_blank\">https://wandb.ai/flower-classification/pytorch-sweeps-demo</a>"
      ],
      "text/plain": [
       "<IPython.core.display.HTML object>"
      ]
     },
     "metadata": {},
     "output_type": "display_data"
    },
    {
     "data": {
      "text/html": [
       " View sweep at <a href='https://wandb.ai/flower-classification/pytorch-sweeps-demo/sweeps/9681wnh0' target=\"_blank\">https://wandb.ai/flower-classification/pytorch-sweeps-demo/sweeps/9681wnh0</a>"
      ],
      "text/plain": [
       "<IPython.core.display.HTML object>"
      ]
     },
     "metadata": {},
     "output_type": "display_data"
    },
    {
     "data": {
      "text/html": [
       " View run at <a href='https://wandb.ai/flower-classification/pytorch-sweeps-demo/runs/m64aehal' target=\"_blank\">https://wandb.ai/flower-classification/pytorch-sweeps-demo/runs/m64aehal</a>"
      ],
      "text/plain": [
       "<IPython.core.display.HTML object>"
      ]
     },
     "metadata": {},
     "output_type": "display_data"
    },
    {
     "data": {
      "text/html": [
       "Waiting for W&B process to finish... <strong style=\"color:green\">(success).</strong>"
      ],
      "text/plain": [
       "<IPython.core.display.HTML object>"
      ]
     },
     "metadata": {},
     "output_type": "display_data"
    },
    {
     "data": {
      "text/html": [
       "<style>\n",
       "    table.wandb td:nth-child(1) { padding: 0 10px; text-align: left ; width: auto;} td:nth-child(2) {text-align: left ; width: 100%}\n",
       "    .wandb-row { display: flex; flex-direction: row; flex-wrap: wrap; justify-content: flex-start; width: 100% }\n",
       "    .wandb-col { display: flex; flex-direction: column; flex-basis: 100%; flex: 1; padding: 10px; }\n",
       "    </style>\n",
       "<div class=\"wandb-row\"><div class=\"wandb-col\"><h3>Run history:</h3><br/><table class=\"wandb\"><tr><td>epoch</td><td>▁▂▃▃▄▅▆▆▇█</td></tr><tr><td>test/epoch_acc</td><td>▁█▃▅█▇▄▇██</td></tr><tr><td>test/epoch_loss</td><td>█▁▆▃▂▄█▄▃▃</td></tr><tr><td>test/f1-score</td><td>▃█▁▃██▃▇██</td></tr><tr><td>test/precision</td><td>▁▅██▆▄▅▆▆▆</td></tr><tr><td>test/recall</td><td>▅█▁▂▇█▃▆▆▇</td></tr><tr><td>train/batch_loss</td><td>▄▅▃▅▂▇▂▄▂▃█▄▂▃▁▃▄▁▂▁▁▁▃▁▂▁▁▂▁▂▁▁▁▁▁▁▁▅▁▂</td></tr><tr><td>train/epoch_acc</td><td>▁▃▄▆▆▇▇▇██</td></tr><tr><td>train/epoch_loss</td><td>█▆▅▄▃▂▂▂▁▁</td></tr></table><br/></div><div class=\"wandb-col\"><h3>Run summary:</h3><br/><table class=\"wandb\"><tr><td>epoch</td><td>9</td></tr><tr><td>test/epoch_acc</td><td>0.86667</td></tr><tr><td>test/epoch_loss</td><td>0.52816</td></tr><tr><td>test/f1-score</td><td>0.85</td></tr><tr><td>test/precision</td><td>0.85</td></tr><tr><td>test/recall</td><td>0.85</td></tr><tr><td>train/batch_loss</td><td>0.0016</td></tr><tr><td>train/epoch_acc</td><td>0.99509</td></tr><tr><td>train/epoch_loss</td><td>0.02902</td></tr></table><br/></div></div>"
      ],
      "text/plain": [
       "<IPython.core.display.HTML object>"
      ]
     },
     "metadata": {},
     "output_type": "display_data"
    },
    {
     "data": {
      "text/html": [
       " View run <strong style=\"color:#cdcd00\">rare-sweep-15</strong> at: <a href='https://wandb.ai/flower-classification/pytorch-sweeps-demo/runs/m64aehal' target=\"_blank\">https://wandb.ai/flower-classification/pytorch-sweeps-demo/runs/m64aehal</a><br/>Synced 4 W&B file(s), 0 media file(s), 0 artifact file(s) and 0 other file(s)"
      ],
      "text/plain": [
       "<IPython.core.display.HTML object>"
      ]
     },
     "metadata": {},
     "output_type": "display_data"
    },
    {
     "data": {
      "text/html": [
       "Find logs at: <code>./wandb/run-20230404_151243-m64aehal/logs</code>"
      ],
      "text/plain": [
       "<IPython.core.display.HTML object>"
      ]
     },
     "metadata": {},
     "output_type": "display_data"
    },
    {
     "name": "stderr",
     "output_type": "stream",
     "text": [
      "\u001b[34m\u001b[1mwandb\u001b[0m: Sweep Agent: Waiting for job.\n",
      "\u001b[34m\u001b[1mwandb\u001b[0m: Job received.\n",
      "\u001b[34m\u001b[1mwandb\u001b[0m: Agent Starting Run: 71er7icc with config:\n",
      "\u001b[34m\u001b[1mwandb\u001b[0m: \tbatch_size: 32\n",
      "\u001b[34m\u001b[1mwandb\u001b[0m: \tbeta_one: 0.99\n",
      "\u001b[34m\u001b[1mwandb\u001b[0m: \tbeta_two: 0.5\n",
      "\u001b[34m\u001b[1mwandb\u001b[0m: \tepochs: 10\n",
      "\u001b[34m\u001b[1mwandb\u001b[0m: \teps: 1\n",
      "\u001b[34m\u001b[1mwandb\u001b[0m: \tgamma: 0.5\n",
      "\u001b[34m\u001b[1mwandb\u001b[0m: \tlearning_rate: 0.0001\n",
      "\u001b[34m\u001b[1mwandb\u001b[0m: \toptimizer: sgd\n",
      "\u001b[34m\u001b[1mwandb\u001b[0m: \tstep_size: 5\n"
     ]
    },
    {
     "data": {
      "text/html": [
       "Tracking run with wandb version 0.14.0"
      ],
      "text/plain": [
       "<IPython.core.display.HTML object>"
      ]
     },
     "metadata": {},
     "output_type": "display_data"
    },
    {
     "data": {
      "text/html": [
       "Run data is saved locally in <code>/content/wandb/run-20230404_151846-71er7icc</code>"
      ],
      "text/plain": [
       "<IPython.core.display.HTML object>"
      ]
     },
     "metadata": {},
     "output_type": "display_data"
    },
    {
     "data": {
      "text/html": [
       "Syncing run <strong><a href='https://wandb.ai/flower-classification/pytorch-sweeps-demo/runs/71er7icc' target=\"_blank\">winter-sweep-16</a></strong> to <a href='https://wandb.ai/flower-classification/pytorch-sweeps-demo' target=\"_blank\">Weights & Biases</a> (<a href='https://wandb.me/run' target=\"_blank\">docs</a>)<br/>Sweep page: <a href='https://wandb.ai/flower-classification/pytorch-sweeps-demo/sweeps/9681wnh0' target=\"_blank\">https://wandb.ai/flower-classification/pytorch-sweeps-demo/sweeps/9681wnh0</a>"
      ],
      "text/plain": [
       "<IPython.core.display.HTML object>"
      ]
     },
     "metadata": {},
     "output_type": "display_data"
    },
    {
     "data": {
      "text/html": [
       " View project at <a href='https://wandb.ai/flower-classification/pytorch-sweeps-demo' target=\"_blank\">https://wandb.ai/flower-classification/pytorch-sweeps-demo</a>"
      ],
      "text/plain": [
       "<IPython.core.display.HTML object>"
      ]
     },
     "metadata": {},
     "output_type": "display_data"
    },
    {
     "data": {
      "text/html": [
       " View sweep at <a href='https://wandb.ai/flower-classification/pytorch-sweeps-demo/sweeps/9681wnh0' target=\"_blank\">https://wandb.ai/flower-classification/pytorch-sweeps-demo/sweeps/9681wnh0</a>"
      ],
      "text/plain": [
       "<IPython.core.display.HTML object>"
      ]
     },
     "metadata": {},
     "output_type": "display_data"
    },
    {
     "data": {
      "text/html": [
       " View run at <a href='https://wandb.ai/flower-classification/pytorch-sweeps-demo/runs/71er7icc' target=\"_blank\">https://wandb.ai/flower-classification/pytorch-sweeps-demo/runs/71er7icc</a>"
      ],
      "text/plain": [
       "<IPython.core.display.HTML object>"
      ]
     },
     "metadata": {},
     "output_type": "display_data"
    },
    {
     "data": {
      "text/html": [
       "Waiting for W&B process to finish... <strong style=\"color:green\">(success).</strong>"
      ],
      "text/plain": [
       "<IPython.core.display.HTML object>"
      ]
     },
     "metadata": {},
     "output_type": "display_data"
    },
    {
     "data": {
      "text/html": [
       "<style>\n",
       "    table.wandb td:nth-child(1) { padding: 0 10px; text-align: left ; width: auto;} td:nth-child(2) {text-align: left ; width: 100%}\n",
       "    .wandb-row { display: flex; flex-direction: row; flex-wrap: wrap; justify-content: flex-start; width: 100% }\n",
       "    .wandb-col { display: flex; flex-direction: column; flex-basis: 100%; flex: 1; padding: 10px; }\n",
       "    </style>\n",
       "<div class=\"wandb-row\"><div class=\"wandb-col\"><h3>Run history:</h3><br/><table class=\"wandb\"><tr><td>epoch</td><td>▁▂▃▃▄▅▆▆▇█</td></tr><tr><td>test/epoch_acc</td><td>▁▃▅▆▇▇▇███</td></tr><tr><td>test/epoch_loss</td><td>█▇▅▄▄▃▃▂▂▁</td></tr><tr><td>test/f1-score</td><td>▁▃▆▆▇▇▇███</td></tr><tr><td>test/precision</td><td>▁▃▆▅▆▇▇███</td></tr><tr><td>test/recall</td><td>▁▃▆▇▇▇▇███</td></tr><tr><td>train/batch_loss</td><td>▇█▆▆▆▆▅▇▅▇▅▅▅▅▅▄▄▅▅▄▃▃▄▃▂▃▄▃▂▄▂▃▁▁▃▄▃▂▂▃</td></tr><tr><td>train/epoch_acc</td><td>▁▃▄▆▇▇▇█▇█</td></tr><tr><td>train/epoch_loss</td><td>█▇▆▅▄▃▃▂▂▁</td></tr></table><br/></div><div class=\"wandb-col\"><h3>Run summary:</h3><br/><table class=\"wandb\"><tr><td>epoch</td><td>9</td></tr><tr><td>test/epoch_acc</td><td>0.83333</td></tr><tr><td>test/epoch_loss</td><td>0.5844</td></tr><tr><td>test/f1-score</td><td>0.85437</td></tr><tr><td>test/precision</td><td>0.88</td></tr><tr><td>test/recall</td><td>0.83019</td></tr><tr><td>train/batch_loss</td><td>0.60478</td></tr><tr><td>train/epoch_acc</td><td>0.82801</td></tr><tr><td>train/epoch_loss</td><td>0.58084</td></tr></table><br/></div></div>"
      ],
      "text/plain": [
       "<IPython.core.display.HTML object>"
      ]
     },
     "metadata": {},
     "output_type": "display_data"
    },
    {
     "data": {
      "text/html": [
       " View run <strong style=\"color:#cdcd00\">winter-sweep-16</strong> at: <a href='https://wandb.ai/flower-classification/pytorch-sweeps-demo/runs/71er7icc' target=\"_blank\">https://wandb.ai/flower-classification/pytorch-sweeps-demo/runs/71er7icc</a><br/>Synced 4 W&B file(s), 0 media file(s), 0 artifact file(s) and 0 other file(s)"
      ],
      "text/plain": [
       "<IPython.core.display.HTML object>"
      ]
     },
     "metadata": {},
     "output_type": "display_data"
    },
    {
     "data": {
      "text/html": [
       "Find logs at: <code>./wandb/run-20230404_151846-71er7icc/logs</code>"
      ],
      "text/plain": [
       "<IPython.core.display.HTML object>"
      ]
     },
     "metadata": {},
     "output_type": "display_data"
    },
    {
     "name": "stderr",
     "output_type": "stream",
     "text": [
      "\u001b[34m\u001b[1mwandb\u001b[0m: Agent Starting Run: k0hwgfjk with config:\n",
      "\u001b[34m\u001b[1mwandb\u001b[0m: \tbatch_size: 8\n",
      "\u001b[34m\u001b[1mwandb\u001b[0m: \tbeta_one: 0.9\n",
      "\u001b[34m\u001b[1mwandb\u001b[0m: \tbeta_two: 0.9\n",
      "\u001b[34m\u001b[1mwandb\u001b[0m: \tepochs: 10\n",
      "\u001b[34m\u001b[1mwandb\u001b[0m: \teps: 1e-08\n",
      "\u001b[34m\u001b[1mwandb\u001b[0m: \tgamma: 0.1\n",
      "\u001b[34m\u001b[1mwandb\u001b[0m: \tlearning_rate: 0.003\n",
      "\u001b[34m\u001b[1mwandb\u001b[0m: \toptimizer: sgd\n",
      "\u001b[34m\u001b[1mwandb\u001b[0m: \tstep_size: 2\n"
     ]
    },
    {
     "data": {
      "text/html": [
       "Tracking run with wandb version 0.14.0"
      ],
      "text/plain": [
       "<IPython.core.display.HTML object>"
      ]
     },
     "metadata": {},
     "output_type": "display_data"
    },
    {
     "data": {
      "text/html": [
       "Run data is saved locally in <code>/content/wandb/run-20230404_152419-k0hwgfjk</code>"
      ],
      "text/plain": [
       "<IPython.core.display.HTML object>"
      ]
     },
     "metadata": {},
     "output_type": "display_data"
    },
    {
     "data": {
      "text/html": [
       "Syncing run <strong><a href='https://wandb.ai/flower-classification/pytorch-sweeps-demo/runs/k0hwgfjk' target=\"_blank\">sleek-sweep-17</a></strong> to <a href='https://wandb.ai/flower-classification/pytorch-sweeps-demo' target=\"_blank\">Weights & Biases</a> (<a href='https://wandb.me/run' target=\"_blank\">docs</a>)<br/>Sweep page: <a href='https://wandb.ai/flower-classification/pytorch-sweeps-demo/sweeps/9681wnh0' target=\"_blank\">https://wandb.ai/flower-classification/pytorch-sweeps-demo/sweeps/9681wnh0</a>"
      ],
      "text/plain": [
       "<IPython.core.display.HTML object>"
      ]
     },
     "metadata": {},
     "output_type": "display_data"
    },
    {
     "data": {
      "text/html": [
       " View project at <a href='https://wandb.ai/flower-classification/pytorch-sweeps-demo' target=\"_blank\">https://wandb.ai/flower-classification/pytorch-sweeps-demo</a>"
      ],
      "text/plain": [
       "<IPython.core.display.HTML object>"
      ]
     },
     "metadata": {},
     "output_type": "display_data"
    },
    {
     "data": {
      "text/html": [
       " View sweep at <a href='https://wandb.ai/flower-classification/pytorch-sweeps-demo/sweeps/9681wnh0' target=\"_blank\">https://wandb.ai/flower-classification/pytorch-sweeps-demo/sweeps/9681wnh0</a>"
      ],
      "text/plain": [
       "<IPython.core.display.HTML object>"
      ]
     },
     "metadata": {},
     "output_type": "display_data"
    },
    {
     "data": {
      "text/html": [
       " View run at <a href='https://wandb.ai/flower-classification/pytorch-sweeps-demo/runs/k0hwgfjk' target=\"_blank\">https://wandb.ai/flower-classification/pytorch-sweeps-demo/runs/k0hwgfjk</a>"
      ],
      "text/plain": [
       "<IPython.core.display.HTML object>"
      ]
     },
     "metadata": {},
     "output_type": "display_data"
    },
    {
     "data": {
      "text/html": [
       "Waiting for W&B process to finish... <strong style=\"color:green\">(success).</strong>"
      ],
      "text/plain": [
       "<IPython.core.display.HTML object>"
      ]
     },
     "metadata": {},
     "output_type": "display_data"
    },
    {
     "data": {
      "text/html": [
       "<style>\n",
       "    table.wandb td:nth-child(1) { padding: 0 10px; text-align: left ; width: auto;} td:nth-child(2) {text-align: left ; width: 100%}\n",
       "    .wandb-row { display: flex; flex-direction: row; flex-wrap: wrap; justify-content: flex-start; width: 100% }\n",
       "    .wandb-col { display: flex; flex-direction: column; flex-basis: 100%; flex: 1; padding: 10px; }\n",
       "    </style>\n",
       "<div class=\"wandb-row\"><div class=\"wandb-col\"><h3>Run history:</h3><br/><table class=\"wandb\"><tr><td>epoch</td><td>▁▂▃▃▄▅▆▆▇█</td></tr><tr><td>test/epoch_acc</td><td>▃▁█▆▆▆█▅▅█</td></tr><tr><td>test/epoch_loss</td><td>▅█▂▂▁▁▁▁▁▁</td></tr><tr><td>test/f1-score</td><td>▂▁█▇▇▇█▅▅█</td></tr><tr><td>test/precision</td><td>▇▃█▄▁▁█▁▁█</td></tr><tr><td>test/recall</td><td>▁▁▆▆██▆▆▆▆</td></tr><tr><td>train/batch_loss</td><td>▆█▄▅▃▃▇▁▁▁▁▁▁▁▂▁▂▂▁▁▁▁▁▂▁▄▃▁▁▂▂▁▁▃▁▁▁▁▁▁</td></tr><tr><td>train/epoch_acc</td><td>▁▅██████▇█</td></tr><tr><td>train/epoch_loss</td><td>█▄▁▁▁▁▁▁▁▁</td></tr></table><br/></div><div class=\"wandb-col\"><h3>Run summary:</h3><br/><table class=\"wandb\"><tr><td>epoch</td><td>9</td></tr><tr><td>test/epoch_acc</td><td>0.91111</td></tr><tr><td>test/epoch_loss</td><td>0.2015</td></tr><tr><td>test/f1-score</td><td>0.89744</td></tr><tr><td>test/precision</td><td>0.94595</td></tr><tr><td>test/recall</td><td>0.85366</td></tr><tr><td>train/batch_loss</td><td>0.00723</td></tr><tr><td>train/epoch_acc</td><td>0.98157</td></tr><tr><td>train/epoch_loss</td><td>0.07856</td></tr></table><br/></div></div>"
      ],
      "text/plain": [
       "<IPython.core.display.HTML object>"
      ]
     },
     "metadata": {},
     "output_type": "display_data"
    },
    {
     "data": {
      "text/html": [
       " View run <strong style=\"color:#cdcd00\">sleek-sweep-17</strong> at: <a href='https://wandb.ai/flower-classification/pytorch-sweeps-demo/runs/k0hwgfjk' target=\"_blank\">https://wandb.ai/flower-classification/pytorch-sweeps-demo/runs/k0hwgfjk</a><br/>Synced 4 W&B file(s), 0 media file(s), 0 artifact file(s) and 0 other file(s)"
      ],
      "text/plain": [
       "<IPython.core.display.HTML object>"
      ]
     },
     "metadata": {},
     "output_type": "display_data"
    },
    {
     "data": {
      "text/html": [
       "Find logs at: <code>./wandb/run-20230404_152419-k0hwgfjk/logs</code>"
      ],
      "text/plain": [
       "<IPython.core.display.HTML object>"
      ]
     },
     "metadata": {},
     "output_type": "display_data"
    },
    {
     "name": "stderr",
     "output_type": "stream",
     "text": [
      "\u001b[34m\u001b[1mwandb\u001b[0m: Agent Starting Run: hb00vz7w with config:\n",
      "\u001b[34m\u001b[1mwandb\u001b[0m: \tbatch_size: 4\n",
      "\u001b[34m\u001b[1mwandb\u001b[0m: \tbeta_one: 0.99\n",
      "\u001b[34m\u001b[1mwandb\u001b[0m: \tbeta_two: 0.9\n",
      "\u001b[34m\u001b[1mwandb\u001b[0m: \tepochs: 10\n",
      "\u001b[34m\u001b[1mwandb\u001b[0m: \teps: 1\n",
      "\u001b[34m\u001b[1mwandb\u001b[0m: \tgamma: 0.5\n",
      "\u001b[34m\u001b[1mwandb\u001b[0m: \tlearning_rate: 0.01\n",
      "\u001b[34m\u001b[1mwandb\u001b[0m: \toptimizer: adam\n",
      "\u001b[34m\u001b[1mwandb\u001b[0m: \tstep_size: 5\n"
     ]
    },
    {
     "data": {
      "text/html": [
       "Tracking run with wandb version 0.14.0"
      ],
      "text/plain": [
       "<IPython.core.display.HTML object>"
      ]
     },
     "metadata": {},
     "output_type": "display_data"
    },
    {
     "data": {
      "text/html": [
       "Run data is saved locally in <code>/content/wandb/run-20230404_152956-hb00vz7w</code>"
      ],
      "text/plain": [
       "<IPython.core.display.HTML object>"
      ]
     },
     "metadata": {},
     "output_type": "display_data"
    },
    {
     "data": {
      "text/html": [
       "Syncing run <strong><a href='https://wandb.ai/flower-classification/pytorch-sweeps-demo/runs/hb00vz7w' target=\"_blank\">smart-sweep-18</a></strong> to <a href='https://wandb.ai/flower-classification/pytorch-sweeps-demo' target=\"_blank\">Weights & Biases</a> (<a href='https://wandb.me/run' target=\"_blank\">docs</a>)<br/>Sweep page: <a href='https://wandb.ai/flower-classification/pytorch-sweeps-demo/sweeps/9681wnh0' target=\"_blank\">https://wandb.ai/flower-classification/pytorch-sweeps-demo/sweeps/9681wnh0</a>"
      ],
      "text/plain": [
       "<IPython.core.display.HTML object>"
      ]
     },
     "metadata": {},
     "output_type": "display_data"
    },
    {
     "data": {
      "text/html": [
       " View project at <a href='https://wandb.ai/flower-classification/pytorch-sweeps-demo' target=\"_blank\">https://wandb.ai/flower-classification/pytorch-sweeps-demo</a>"
      ],
      "text/plain": [
       "<IPython.core.display.HTML object>"
      ]
     },
     "metadata": {},
     "output_type": "display_data"
    },
    {
     "data": {
      "text/html": [
       " View sweep at <a href='https://wandb.ai/flower-classification/pytorch-sweeps-demo/sweeps/9681wnh0' target=\"_blank\">https://wandb.ai/flower-classification/pytorch-sweeps-demo/sweeps/9681wnh0</a>"
      ],
      "text/plain": [
       "<IPython.core.display.HTML object>"
      ]
     },
     "metadata": {},
     "output_type": "display_data"
    },
    {
     "data": {
      "text/html": [
       " View run at <a href='https://wandb.ai/flower-classification/pytorch-sweeps-demo/runs/hb00vz7w' target=\"_blank\">https://wandb.ai/flower-classification/pytorch-sweeps-demo/runs/hb00vz7w</a>"
      ],
      "text/plain": [
       "<IPython.core.display.HTML object>"
      ]
     },
     "metadata": {},
     "output_type": "display_data"
    },
    {
     "data": {
      "text/html": [
       "Waiting for W&B process to finish... <strong style=\"color:green\">(success).</strong>"
      ],
      "text/plain": [
       "<IPython.core.display.HTML object>"
      ]
     },
     "metadata": {},
     "output_type": "display_data"
    },
    {
     "data": {
      "text/html": [
       "<style>\n",
       "    table.wandb td:nth-child(1) { padding: 0 10px; text-align: left ; width: auto;} td:nth-child(2) {text-align: left ; width: 100%}\n",
       "    .wandb-row { display: flex; flex-direction: row; flex-wrap: wrap; justify-content: flex-start; width: 100% }\n",
       "    .wandb-col { display: flex; flex-direction: column; flex-basis: 100%; flex: 1; padding: 10px; }\n",
       "    </style>\n",
       "<div class=\"wandb-row\"><div class=\"wandb-col\"><h3>Run history:</h3><br/><table class=\"wandb\"><tr><td>epoch</td><td>▁▂▃▃▄▅▆▆▇█</td></tr><tr><td>test/epoch_acc</td><td>▁▅▆▇▆▇▆▆▆█</td></tr><tr><td>test/epoch_loss</td><td>█▅▅▃▃▁▃▄▂▁</td></tr><tr><td>test/f1-score</td><td>▁▄▆▇▆▇▆▆▆█</td></tr><tr><td>test/precision</td><td>▁█▆▆▂▄▆█▆▄</td></tr><tr><td>test/recall</td><td>▁▂▅▆▇▇▅▄▅█</td></tr><tr><td>train/batch_loss</td><td>▅▅▄▆▅▅▂▂▂▃▂▅▃▂▂▁▂▃▂▁█▁▁▂▁▁▁▁▁▁▁▁▁▂▂▁▁▁▁▁</td></tr><tr><td>train/epoch_acc</td><td>▁▄▅▇▇▇▇▇██</td></tr><tr><td>train/epoch_loss</td><td>█▆▄▃▂▂▂▂▁▁</td></tr></table><br/></div><div class=\"wandb-col\"><h3>Run summary:</h3><br/><table class=\"wandb\"><tr><td>epoch</td><td>9</td></tr><tr><td>test/epoch_acc</td><td>0.9</td></tr><tr><td>test/epoch_loss</td><td>0.24883</td></tr><tr><td>test/f1-score</td><td>0.89888</td></tr><tr><td>test/precision</td><td>0.93023</td></tr><tr><td>test/recall</td><td>0.86957</td></tr><tr><td>train/batch_loss</td><td>0.01547</td></tr><tr><td>train/epoch_acc</td><td>0.98771</td></tr><tr><td>train/epoch_loss</td><td>0.04667</td></tr></table><br/></div></div>"
      ],
      "text/plain": [
       "<IPython.core.display.HTML object>"
      ]
     },
     "metadata": {},
     "output_type": "display_data"
    },
    {
     "data": {
      "text/html": [
       " View run <strong style=\"color:#cdcd00\">smart-sweep-18</strong> at: <a href='https://wandb.ai/flower-classification/pytorch-sweeps-demo/runs/hb00vz7w' target=\"_blank\">https://wandb.ai/flower-classification/pytorch-sweeps-demo/runs/hb00vz7w</a><br/>Synced 4 W&B file(s), 0 media file(s), 0 artifact file(s) and 0 other file(s)"
      ],
      "text/plain": [
       "<IPython.core.display.HTML object>"
      ]
     },
     "metadata": {},
     "output_type": "display_data"
    },
    {
     "data": {
      "text/html": [
       "Find logs at: <code>./wandb/run-20230404_152956-hb00vz7w/logs</code>"
      ],
      "text/plain": [
       "<IPython.core.display.HTML object>"
      ]
     },
     "metadata": {},
     "output_type": "display_data"
    },
    {
     "name": "stderr",
     "output_type": "stream",
     "text": [
      "\u001b[34m\u001b[1mwandb\u001b[0m: Agent Starting Run: 0bg49if5 with config:\n",
      "\u001b[34m\u001b[1mwandb\u001b[0m: \tbatch_size: 8\n",
      "\u001b[34m\u001b[1mwandb\u001b[0m: \tbeta_one: 0.9\n",
      "\u001b[34m\u001b[1mwandb\u001b[0m: \tbeta_two: 0.9\n",
      "\u001b[34m\u001b[1mwandb\u001b[0m: \tepochs: 10\n",
      "\u001b[34m\u001b[1mwandb\u001b[0m: \teps: 1\n",
      "\u001b[34m\u001b[1mwandb\u001b[0m: \tgamma: 0.1\n",
      "\u001b[34m\u001b[1mwandb\u001b[0m: \tlearning_rate: 0.0001\n",
      "\u001b[34m\u001b[1mwandb\u001b[0m: \toptimizer: adam\n",
      "\u001b[34m\u001b[1mwandb\u001b[0m: \tstep_size: 2\n"
     ]
    }
   ],
   "source": [
    "wandb.agent(sweep_id, train, count=60)"
   ]
  },
  {
   "cell_type": "code",
   "execution_count": null,
   "id": "0p3H2-jRjJIG",
   "metadata": {
    "id": "0p3H2-jRjJIG"
   },
   "outputs": [],
   "source": []
  }
 ],
 "metadata": {
  "accelerator": "GPU",
  "colab": {
   "provenance": []
  },
  "gpuClass": "standard",
  "kernelspec": {
   "display_name": "Python 3 (ipykernel)",
   "language": "python",
   "name": "python3"
  },
  "language_info": {
   "codemirror_mode": {
    "name": "ipython",
    "version": 3
   },
   "file_extension": ".py",
   "mimetype": "text/x-python",
   "name": "python",
   "nbconvert_exporter": "python",
   "pygments_lexer": "ipython3",
   "version": "3.10.13"
  },
  "widgets": {
   "application/vnd.jupyter.widget-state+json": {
    "220d541b7b4347b08a7fc9b8feb09f98": {
     "model_module": "@jupyter-widgets/controls",
     "model_module_version": "1.5.0",
     "model_name": "ProgressStyleModel",
     "state": {
      "_model_module": "@jupyter-widgets/controls",
      "_model_module_version": "1.5.0",
      "_model_name": "ProgressStyleModel",
      "_view_count": null,
      "_view_module": "@jupyter-widgets/base",
      "_view_module_version": "1.2.0",
      "_view_name": "StyleView",
      "bar_color": null,
      "description_width": ""
     }
    },
    "32a491d3031c476da2d8687861ccbf7d": {
     "model_module": "@jupyter-widgets/base",
     "model_module_version": "1.2.0",
     "model_name": "LayoutModel",
     "state": {
      "_model_module": "@jupyter-widgets/base",
      "_model_module_version": "1.2.0",
      "_model_name": "LayoutModel",
      "_view_count": null,
      "_view_module": "@jupyter-widgets/base",
      "_view_module_version": "1.2.0",
      "_view_name": "LayoutView",
      "align_content": null,
      "align_items": null,
      "align_self": null,
      "border": null,
      "bottom": null,
      "display": null,
      "flex": null,
      "flex_flow": null,
      "grid_area": null,
      "grid_auto_columns": null,
      "grid_auto_flow": null,
      "grid_auto_rows": null,
      "grid_column": null,
      "grid_gap": null,
      "grid_row": null,
      "grid_template_areas": null,
      "grid_template_columns": null,
      "grid_template_rows": null,
      "height": null,
      "justify_content": null,
      "justify_items": null,
      "left": null,
      "margin": null,
      "max_height": null,
      "max_width": null,
      "min_height": null,
      "min_width": null,
      "object_fit": null,
      "object_position": null,
      "order": null,
      "overflow": null,
      "overflow_x": null,
      "overflow_y": null,
      "padding": null,
      "right": null,
      "top": null,
      "visibility": null,
      "width": null
     }
    },
    "9e4d93cf62094092809fee70ba7885f5": {
     "model_module": "@jupyter-widgets/base",
     "model_module_version": "1.2.0",
     "model_name": "LayoutModel",
     "state": {
      "_model_module": "@jupyter-widgets/base",
      "_model_module_version": "1.2.0",
      "_model_name": "LayoutModel",
      "_view_count": null,
      "_view_module": "@jupyter-widgets/base",
      "_view_module_version": "1.2.0",
      "_view_name": "LayoutView",
      "align_content": null,
      "align_items": null,
      "align_self": null,
      "border": null,
      "bottom": null,
      "display": null,
      "flex": null,
      "flex_flow": null,
      "grid_area": null,
      "grid_auto_columns": null,
      "grid_auto_flow": null,
      "grid_auto_rows": null,
      "grid_column": null,
      "grid_gap": null,
      "grid_row": null,
      "grid_template_areas": null,
      "grid_template_columns": null,
      "grid_template_rows": null,
      "height": null,
      "justify_content": null,
      "justify_items": null,
      "left": null,
      "margin": null,
      "max_height": null,
      "max_width": null,
      "min_height": null,
      "min_width": null,
      "object_fit": null,
      "object_position": null,
      "order": null,
      "overflow": null,
      "overflow_x": null,
      "overflow_y": null,
      "padding": null,
      "right": null,
      "top": null,
      "visibility": null,
      "width": null
     }
    },
    "a6a0d4738d434aa1b734c8407dde4e74": {
     "model_module": "@jupyter-widgets/controls",
     "model_module_version": "1.5.0",
     "model_name": "FloatProgressModel",
     "state": {
      "_dom_classes": [],
      "_model_module": "@jupyter-widgets/controls",
      "_model_module_version": "1.5.0",
      "_model_name": "FloatProgressModel",
      "_view_count": null,
      "_view_module": "@jupyter-widgets/controls",
      "_view_module_version": "1.5.0",
      "_view_name": "ProgressView",
      "bar_style": "",
      "description": "",
      "description_tooltip": null,
      "layout": "IPY_MODEL_d8ec9c75b1f14686a6734b86eea24bb7",
      "max": 1,
      "min": 0,
      "orientation": "horizontal",
      "style": "IPY_MODEL_220d541b7b4347b08a7fc9b8feb09f98",
      "value": 1
     }
    },
    "d510d413136c4231bc720200145a5d77": {
     "model_module": "@jupyter-widgets/controls",
     "model_module_version": "1.5.0",
     "model_name": "LabelModel",
     "state": {
      "_dom_classes": [],
      "_model_module": "@jupyter-widgets/controls",
      "_model_module_version": "1.5.0",
      "_model_name": "LabelModel",
      "_view_count": null,
      "_view_module": "@jupyter-widgets/controls",
      "_view_module_version": "1.5.0",
      "_view_name": "LabelView",
      "description": "",
      "description_tooltip": null,
      "layout": "IPY_MODEL_32a491d3031c476da2d8687861ccbf7d",
      "placeholder": "​",
      "style": "IPY_MODEL_ff00a24840224f8d9cce9ade4e77ac0c",
      "value": "0.001 MB of 0.001 MB uploaded (0.000 MB deduped)\r"
     }
    },
    "d8ec9c75b1f14686a6734b86eea24bb7": {
     "model_module": "@jupyter-widgets/base",
     "model_module_version": "1.2.0",
     "model_name": "LayoutModel",
     "state": {
      "_model_module": "@jupyter-widgets/base",
      "_model_module_version": "1.2.0",
      "_model_name": "LayoutModel",
      "_view_count": null,
      "_view_module": "@jupyter-widgets/base",
      "_view_module_version": "1.2.0",
      "_view_name": "LayoutView",
      "align_content": null,
      "align_items": null,
      "align_self": null,
      "border": null,
      "bottom": null,
      "display": null,
      "flex": null,
      "flex_flow": null,
      "grid_area": null,
      "grid_auto_columns": null,
      "grid_auto_flow": null,
      "grid_auto_rows": null,
      "grid_column": null,
      "grid_gap": null,
      "grid_row": null,
      "grid_template_areas": null,
      "grid_template_columns": null,
      "grid_template_rows": null,
      "height": null,
      "justify_content": null,
      "justify_items": null,
      "left": null,
      "margin": null,
      "max_height": null,
      "max_width": null,
      "min_height": null,
      "min_width": null,
      "object_fit": null,
      "object_position": null,
      "order": null,
      "overflow": null,
      "overflow_x": null,
      "overflow_y": null,
      "padding": null,
      "right": null,
      "top": null,
      "visibility": null,
      "width": null
     }
    },
    "e840ed026b3342718c0aa068f81d93f3": {
     "model_module": "@jupyter-widgets/controls",
     "model_module_version": "1.5.0",
     "model_name": "VBoxModel",
     "state": {
      "_dom_classes": [],
      "_model_module": "@jupyter-widgets/controls",
      "_model_module_version": "1.5.0",
      "_model_name": "VBoxModel",
      "_view_count": null,
      "_view_module": "@jupyter-widgets/controls",
      "_view_module_version": "1.5.0",
      "_view_name": "VBoxView",
      "box_style": "",
      "children": [
       "IPY_MODEL_d510d413136c4231bc720200145a5d77",
       "IPY_MODEL_a6a0d4738d434aa1b734c8407dde4e74"
      ],
      "layout": "IPY_MODEL_9e4d93cf62094092809fee70ba7885f5"
     }
    },
    "ff00a24840224f8d9cce9ade4e77ac0c": {
     "model_module": "@jupyter-widgets/controls",
     "model_module_version": "1.5.0",
     "model_name": "DescriptionStyleModel",
     "state": {
      "_model_module": "@jupyter-widgets/controls",
      "_model_module_version": "1.5.0",
      "_model_name": "DescriptionStyleModel",
      "_view_count": null,
      "_view_module": "@jupyter-widgets/base",
      "_view_module_version": "1.2.0",
      "_view_name": "StyleView",
      "description_width": ""
     }
    }
   }
  }
 },
 "nbformat": 4,
 "nbformat_minor": 5
}
