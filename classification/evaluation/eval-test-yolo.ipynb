{
 "cells": [
  {
   "cell_type": "markdown",
   "id": "8afbd5e3",
   "metadata": {},
   "source": [
    "# Table of contents\n",
    "1. [Introduction](#introduction)\n",
    "2. [YOLO Evaluation](#yoloevaluation)\n",
    "    1. [Load OIDv6](#yololoadoid)\n",
    "    2. [Merge labels into one](#yolomergelabels)\n",
    "    3. [Load YOLOv5 dataset](#yololoadv5)\n",
    "    4. [Perform detections](#yoloperformdetections)\n",
    "    5. [Evaluate detections](#yolodetectionseval)\n",
    "    6. [Calculate results and plot them](#yoloshowresults)\n",
    "    7. [View dataset in fiftyone](#yolofiftyonesession)"
   ]
  },
  {
   "cell_type": "markdown",
   "id": "a6143564",
   "metadata": {},
   "source": [
    "## Introduction <a name=\"introduction\"></a>\n",
    "\n",
    "This notebook loads the test dataset in YOLOv5 format from disk and evaluates the object detection model's performance."
   ]
  },
  {
   "cell_type": "code",
   "execution_count": 1,
   "id": "3fe8177c",
   "metadata": {},
   "outputs": [],
   "source": [
    "import fiftyone as fo\n",
    "from PIL import Image\n",
    "from detection import detect\n",
    "from detection import detect_yolo_only"
   ]
  },
  {
   "cell_type": "markdown",
   "id": "22561d30",
   "metadata": {},
   "source": [
    "## YOLO Model Evaluation <a name=\"yoloevaluation\"></a>\n",
    "\n",
    "In this section we look at the object detection model in detail by evaluating it separately from the classification model. The object detection model was trained on the Open Images Dataset v6 on the two classes _Plant_ and _Houseplant_ which come with the dataset. "
   ]
  },
  {
   "cell_type": "markdown",
   "id": "6f389582",
   "metadata": {},
   "source": [
    "### Load OIDv6 <a name=\"yololoadoid\"></a>\n",
    "\n",
    "Since we are only interested in evaluating the model, we only load the _test_ split of the dataset. The only classes of interest to us are _Plant_ and _Houseplant_ and we do not want to load keypoint detections or segmentation masks, which is why we specify the `label_types` parameter. There are 9148 images in the test split."
   ]
  },
  {
   "cell_type": "code",
   "execution_count": null,
   "id": "19c5b271",
   "metadata": {},
   "outputs": [],
   "source": [
    "import fiftyone as fo\n",
    "import fiftyone.zoo as foz\n",
    "oid = foz.load_zoo_dataset(\n",
    "    \"open-images-v6\",\n",
    "    split=\"test\",\n",
    "    classes=[\"Plant\", \"Houseplant\"],\n",
    "    label_types=[\"detections\"],\n",
    "    shuffle=True,\n",
    ")\n"
   ]
  },
  {
   "cell_type": "markdown",
   "id": "1b509862",
   "metadata": {},
   "source": [
    "### Export dataset for conversion <a name=\"yoloexportoid\"></a>\n",
    "\n",
    "Unfortunately, the OID dataset does not adhere to the YOLOv5 label format understood by the object detection model. That is why we export the model as a YOLOv5Dataset using fiftyone's converter. The target directory will contain the proper folder structure as well as a `.yaml` file pointing to the images and labels. Take note that the exported files require around 4.2G of space."
   ]
  },
  {
   "cell_type": "code",
   "execution_count": null,
   "id": "ebdde519",
   "metadata": {},
   "outputs": [],
   "source": [
    "# The directory to which to write the exported dataset\n",
    "import os\n",
    "\n",
    "export_dir = \"/home/zenon/testdir\"\n",
    "\n",
    "# Only export if export_dir doesn't exist already\n",
    "if not os.path.isdir(export_dir):\n",
    "    # The name of the sample field containing the label that you wish to export\n",
    "    # Used when exporting labeled datasets (e.g., classification or detection)\n",
    "    label_field = \"detections\"  # for example\n",
    "\n",
    "    # The type of dataset to export\n",
    "    # Any subclass of `fiftyone.types.Dataset` is supported\n",
    "    dataset_type = fo.types.YOLOv5Dataset  # for example\n",
    "\n",
    "    # Export the dataset\n",
    "    oid.export(\n",
    "        export_dir=export_dir,\n",
    "        dataset_type=dataset_type,\n",
    "        label_field=label_field,\n",
    "        classes=['Plant', 'Houseplant']\n",
    "    )"
   ]
  },
  {
   "cell_type": "markdown",
   "id": "4cbee814",
   "metadata": {},
   "source": [
    "### Merge labels into one <a name=\"yolomergelabels\"></a>\n",
    "\n",
    "The label files contain a 0 at the beginning of each line if the ground truth specifies a plant and a 1 if it specifies a houseplant. We do not care about the distinction between the two and only want to detect plants in general. That means we have to change all 1s at the beginning of each line in each label file into 0s. The YOLOv5 format requires that the labels start at 0 and not at 1, which is why 1s are changed to 0s and not vice-versa. To accomplish this task, we use a simple bash script in the labels directory:\n",
    "```bash\n",
    "for file in `ls test`\n",
    "do\n",
    "    sed -i 's/^./0/g' test/$file\n",
    "done\n",
    "```\n",
    "This script calls sed to change the first character in each file to a 0. It performs the conversion in place (`-i` flag). For this script to work, the `val` directories inside `images` and `labels` must be renamed to `test` and the path to the directory changed in the `data.yaml` file. I believe `val` is the wrong name for a test dataset and it should be named accordingly."
   ]
  },
  {
   "cell_type": "markdown",
   "id": "7edb13a2",
   "metadata": {},
   "source": [
    "### Load YOLOv5 dataset <a name=\"yololoadv5\"></a>\n",
    "\n",
    "Now that the labels are in the correct format and we only have one class to deal with, we can import the dataset into the variable `yolo`."
   ]
  },
  {
   "cell_type": "code",
   "execution_count": null,
   "id": "002ae8fa",
   "metadata": {},
   "outputs": [],
   "source": [
    "yolo_dataset_dir = '/mnt/yolo-second-run/data'\n",
    "\n",
    "# The type of the dataset being imported\n",
    "dataset_type = fo.types.YOLOv5Dataset\n",
    "\n",
    "# Import the dataset\n",
    "yolo_test = fo.Dataset.from_dir(\n",
    "    dataset_dir=yolo_dataset_dir,\n",
    "    dataset_type=dataset_type,\n",
    "    split='test'\n",
    ")\n",
    "yolo_test.name = 'yolo_test'\n",
    "yolo_test.persistent = True"
   ]
  },
  {
   "cell_type": "markdown",
   "id": "3ab2c225",
   "metadata": {},
   "source": [
    "In case the yolo dataset already exists because it had been saved earlier, we can simply load the dataset from fiftyone's database."
   ]
  },
  {
   "cell_type": "code",
   "execution_count": 17,
   "id": "0b86639e",
   "metadata": {},
   "outputs": [
    {
     "data": {
      "text/plain": [
       "['dataset', 'dataset-small', 'yolo', 'yolo_test']"
      ]
     },
     "execution_count": 17,
     "metadata": {},
     "output_type": "execute_result"
    }
   ],
   "source": [
    "yolo_test = fo.load_dataset('yolo_test')\n",
    "fo.list_datasets()"
   ]
  },
  {
   "cell_type": "markdown",
   "id": "9eb7bb84",
   "metadata": {},
   "source": [
    "### Perform detections <a name=\"yoloperformdetections\"></a>\n",
    "\n",
    "We can proceed as before by calling the model and saving the detections to the `predictions` field of each sample. Note that line 7 does not call `detect()` but `detect_yolo_only()`. The detections on all 9148 images take around 1h on a GTX 750Ti."
   ]
  },
  {
   "cell_type": "code",
   "execution_count": 4,
   "id": "030e9c7c",
   "metadata": {},
   "outputs": [
    {
     "name": "stdout",
     "output_type": "stream",
     "text": [
      " 100% |███████████████| 9184/9184 [56.3m elapsed, 0s remaining, 2.7 samples/s]      \n"
     ]
    }
   ],
   "source": [
    "# Do detections with model and save bounding boxes\n",
    "yolo_view = yolo_test.view()\n",
    "with fo.ProgressBar() as pb:\n",
    "    for sample in pb(yolo_view):\n",
    "        image = Image.open(sample.filepath)\n",
    "        w, h = image.size\n",
    "        pred = detect_yolo_only(sample.filepath, '../weights/yolo.onnx')\n",
    "\n",
    "        detections = []\n",
    "        for _, row in pred.iterrows():\n",
    "            xmin, xmax = int(row['xmin']), int(row['xmax'])\n",
    "            ymin, ymax = int(row['ymin']), int(row['ymax'])\n",
    "            rel_box = [\n",
    "                xmin / w, ymin / h, (xmax - xmin) / w, (ymax - ymin) / h\n",
    "            ]\n",
    "            detections.append(\n",
    "                fo.Detection(label='Plant',\n",
    "                             bounding_box=rel_box,\n",
    "                             confidence=float(row['box_conf'])))\n",
    "\n",
    "        sample[\"predictions\"] = fo.Detections(detections=detections)\n",
    "        sample.save()"
   ]
  },
  {
   "cell_type": "markdown",
   "id": "24df56d9",
   "metadata": {},
   "source": [
    "### Evaluate detections against ground truth <a name=\"yolodetectionseval\"></a>\n",
    "\n",
    "Having saved the predictions, we can now evaluate them by cross-checking with the ground truth labels. If we specify an `eval_key`, true positives, false positives and false negatives will be saved under that key."
   ]
  },
  {
   "cell_type": "code",
   "execution_count": 3,
   "id": "4aaa4577",
   "metadata": {},
   "outputs": [
    {
     "name": "stdout",
     "output_type": "stream",
     "text": [
      "Evaluating detections...\n",
      " 100% |███████████████| 9184/9184 [24.5s elapsed, 0s remaining, 341.6 samples/s]      \n",
      "Performing IoU sweep...\n",
      " 100% |███████████████| 9184/9184 [26.9s elapsed, 0s remaining, 301.2 samples/s]      \n"
     ]
    }
   ],
   "source": [
    "results = yolo_test.evaluate_detections(\"predictions\", gt_field=\"ground_truth\", eval_key=\"eval\", compute_mAP=True)"
   ]
  },
  {
   "cell_type": "markdown",
   "id": "b0df052d",
   "metadata": {},
   "source": [
    "### Calculate results and plot them <a name=\"yoloshowresults\"></a>\n",
    "\n",
    "Now we have the performance of the model saved in the `results` variable and can extract various metrics from that. Here we print a simple report of all classes and their precision and recall values as well as the mAP with the metric employed by [COCO](https://cocodataset.org/#detection-eval). Next, a confusion matrix is plotted for each class (in our case only one). Finally, we can show the precision vs. recall curve for a specified threshold value."
   ]
  },
  {
   "cell_type": "code",
   "execution_count": 4,
   "id": "59355da5",
   "metadata": {},
   "outputs": [],
   "source": [
    "from helpers import set_size\n",
    "import matplotlib.pyplot as plt\n",
    "import seaborn as sns\n",
    "import pandas as pd"
   ]
  },
  {
   "cell_type": "code",
   "execution_count": 5,
   "id": "0c8a3151",
   "metadata": {},
   "outputs": [],
   "source": [
    "# Style the plots\n",
    "width = 418\n",
    "sns.set_theme(style='whitegrid',\n",
    "              rc={'text.usetex': True, 'font.family': 'serif', 'axes.labelsize': 10,\n",
    "                  'font.size': 10, 'legend.fontsize': 8,\n",
    "                  'xtick.labelsize': 8, 'ytick.labelsize': 8})"
   ]
  },
  {
   "cell_type": "markdown",
   "id": "5baf367a",
   "metadata": {},
   "source": [
    "The code for the LaTeX table of the classification report can be printed by first converting the results to a pandas DataFrame and then calling the `to_latex()` method of the DataFrame. This code can then be inserted into the LaTeX document."
   ]
  },
  {
   "cell_type": "code",
   "execution_count": 13,
   "id": "0c3c446e",
   "metadata": {},
   "outputs": [
    {
     "name": "stdout",
     "output_type": "stream",
     "text": [
      "              precision    recall  f1-score   support\n",
      "\n",
      "       Plant       0.55      0.74      0.63     12238\n",
      "\n",
      "   micro avg       0.55      0.74      0.63     12238\n",
      "   macro avg       0.55      0.74      0.63     12238\n",
      "weighted avg       0.55      0.74      0.63     12238\n",
      "\n"
     ]
    }
   ],
   "source": [
    "results_df = pd.DataFrame(results.report()).transpose()\n",
    "\n",
    "# Export DataFrame to LaTeX tabular environment\n",
    "# print(results_df.to_latex())\n",
    "\n",
    "# Print classification report\n",
    "results.print_report()"
   ]
  },
  {
   "cell_type": "code",
   "execution_count": 14,
   "id": "a6e0e146",
   "metadata": {},
   "outputs": [
    {
     "name": "stdout",
     "output_type": "stream",
     "text": [
      "0.5726538843333254\n"
     ]
    }
   ],
   "source": [
    "print(results.mAP())"
   ]
  },
  {
   "cell_type": "code",
   "execution_count": 12,
   "id": "98122829",
   "metadata": {},
   "outputs": [
    {
     "name": "stdout",
     "output_type": "stream",
     "text": [
      "Ignoring unsupported argument `thresholds` for the 'matplotlib' backend\n",
      "Ignoring unsupported argument `thresholds` for the 'matplotlib' backend\n"
     ]
    },
    {
     "data": {
      "image/png": "[encoded data removed]",
      "text/plain": [
       "<Figure size 578.387x178.731 with 2 Axes>"
      ]
     },
     "metadata": {},
     "output_type": "display_data"
    }
   ],
   "source": [
    "fig_save_dir = '../../thesis/graphics/'\n",
    "\n",
    "fig, ax = plt.subplots(1, 2, figsize=set_size(width, subplots=(1,2)))\n",
    "results.plot_pr_curves(iou_thresh=0.5, backend='matplotlib', ax=ax[0], color='black', linewidth=1)\n",
    "results.plot_pr_curves(iou_thresh=0.95, backend='matplotlib', ax=ax[1], color='black', linewidth=1)\n",
    "# Set the labels for the legends manually because\n",
    "# the default ones contain a line for the classes (irrelevant).\n",
    "ax[0].legend(['AP = 0.66'], frameon=False)\n",
    "ax[1].legend(['AP = 0.41'], frameon=False)\n",
    "fig.tight_layout()\n",
    "fig.savefig(fig_save_dir + 'APpt5-pt95.pdf', format='pdf', bbox_inches='tight')"
   ]
  },
  {
   "cell_type": "markdown",
   "id": "def95455",
   "metadata": {},
   "source": [
    "### View dataset in fiftyone <a name=\"yolofiftyonesession\"></a>\n",
    "\n",
    "We can launch a fiftyone session in a new tab to explore the dataset and the results."
   ]
  },
  {
   "cell_type": "code",
   "execution_count": null,
   "id": "75fd090c",
   "metadata": {},
   "outputs": [],
   "source": [
    "session = fo.launch_app(yolo_view, auto=False)\n",
    "session.plots.attach(matrix)\n",
    "session.open_tab()"
   ]
  },
  {
   "cell_type": "code",
   "execution_count": null,
   "id": "751f3d2b",
   "metadata": {},
   "outputs": [],
   "source": [
    "session.close()"
   ]
  }
 ],
 "metadata": {
  "kernelspec": {
   "display_name": "Python 3 (ipykernel)",
   "language": "python",
   "name": "python3"
  },
  "language_info": {
   "codemirror_mode": {
    "name": "ipython",
    "version": 3
   },
   "file_extension": ".py",
   "mimetype": "text/x-python",
   "name": "python",
   "nbconvert_exporter": "python",
   "pygments_lexer": "ipython3",
   "version": "3.7.15"
  }
 },
 "nbformat": 4,
 "nbformat_minor": 5
}
