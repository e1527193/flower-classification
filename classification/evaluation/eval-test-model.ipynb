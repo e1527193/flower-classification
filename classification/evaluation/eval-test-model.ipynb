{
 "cells": [
  {
   "cell_type": "code",
   "execution_count": null,
   "id": "bea1038e",
   "metadata": {},
   "outputs": [],
   "source": [
    "name = \"dataset-new\"\n",
    "dataset_dir = \"dataset\"\n",
    "\n",
    "# The splits to load\n",
    "splits = [\"val\"]\n",
    "\n",
    "# Load the dataset, using tags to mark the samples in each split\n",
    "dataset = fo.Dataset(name)\n",
    "for split in splits:\n",
    "    dataset.add_dir(\n",
    "        dataset_dir=dataset_dir,\n",
    "        dataset_type=fo.types.YOLOv5Dataset,\n",
    "        split=split,\n",
    "        tags=split,\n",
    "    )\n",
    "\n",
    "dataset.persistent = True\n",
    "classes = dataset.default_classes"
   ]
  },
  {
   "cell_type": "markdown",
   "id": "361eeecd",
   "metadata": {},
   "source": [
    "If the dataset already exists because it had been saved under the same name before, load the dataset from fiftyone's folder."
   ]
  },
  {
   "cell_type": "code",
   "execution_count": 2,
   "id": "2d479be8",
   "metadata": {},
   "outputs": [],
   "source": [
    "dataset = fo.load_dataset('dataset')\n",
    "classes = dataset.default_classes"
   ]
  },
  {
   "cell_type": "markdown",
   "id": "4485dce3",
   "metadata": {},
   "source": [
    "### Perform detections <a name=\"modeldetect\"></a>\n",
    "\n",
    "Now we can call the aggregate model to do detections on the images contained in the dataset. The actual detection happens at line 6 where `detect()` is called. This function currently does inference using the GPU via `onnxruntime-gpu`. All detections are saved to the `predictions` keyword of each sample. A sample is one image with potentially multiple detections.\n",
    "\n",
    "> **_NOTE:_** If the dataset already existed beforehand (you used `load_dataset()`), the detections are likely already saved in the dataset and you can skip the next step."
   ]
  },
  {
   "cell_type": "code",
   "execution_count": 33,
   "id": "63f675ab",
   "metadata": {},
   "outputs": [
    {
     "name": "stdout",
     "output_type": "stream",
     "text": [
      " 100% |█████████████████| 640/640 [8.9m elapsed, 0s remaining, 1.4 samples/s]      \n"
     ]
    }
   ],
   "source": [
    "# Do detections with model and save bounding boxes\n",
    "with fo.ProgressBar() as pb:\n",
    "    for sample in pb(dataset.view()):\n",
    "        image = Image.open(sample.filepath)\n",
    "        w, h = image.size\n",
    "        pred = detect(sample.filepath, '../weights/yolo-final.onnx', '../weights/resnet-fold-7.onnx')\n",
    "\n",
    "        detections = []\n",
    "        for _, row in pred.iterrows():\n",
    "            xmin, xmax = int(row['xmin']), int(row['xmax'])\n",
    "            ymin, ymax = int(row['ymin']), int(row['ymax'])\n",
    "            rel_box = [\n",
    "                xmin / w, ymin / h, (xmax - xmin) / w, (ymax - ymin) / h\n",
    "            ]\n",
    "            detections.append(\n",
    "                fo.Detection(label=classes[int(row['cls'])],\n",
    "                             bounding_box=rel_box,\n",
    "                             confidence=int(row['cls_conf'])))\n",
    "\n",
    "        sample[\"predictions_model_optimized_relabeled\"] = fo.Detections(detections=detections)\n",
    "        sample.save()"
   ]
  },
  {
   "cell_type": "markdown",
   "id": "10d94167",
   "metadata": {},
   "source": [
    "### Evaluate detections against ground truth <a name=\"modeldetectionseval\"></a>\n",
    "\n",
    "Having saved the predictions, we can now evaluate them by cross-checking with the ground truth labels. If we specify an `eval_key`, true positives, false positives and false negatives will be saved under that key."
   ]
  },
  {
   "cell_type": "code",
   "execution_count": 34,
   "id": "68cfdad2",
   "metadata": {},
   "outputs": [
    {
     "name": "stdout",
     "output_type": "stream",
     "text": [
      "Evaluating detections...\n",
      " 100% |█████████████████| 640/640 [2.9s elapsed, 0s remaining, 242.0 samples/s]      \n",
      "Performing IoU sweep...\n",
      " 100% |█████████████████| 640/640 [2.8s elapsed, 0s remaining, 235.9 samples/s]      \n"
     ]
    }
   ],
   "source": [
    "results = dataset.view().evaluate_detections(\n",
    "    \"predictions_model_optimized_relabeled\",\n",
    "    gt_field=\"ground_truth\",\n",
    "    eval_key=\"eval_model_optimized_relabeled\",\n",
    "    compute_mAP=True,\n",
    ")"
   ]
  },
  {
   "cell_type": "markdown",
   "id": "94b9751f",
   "metadata": {},
   "source": [
    "### Calculate results and plot them <a name=\"modelshowresults\"></a>\n",
    "\n",
    "Now we have the performance of the model saved in the `results` variable and can extract various metrics from that. Here we print a simple report of all classes and their precision and recall values as well as the mAP with the metric employed by [COCO](https://cocodataset.org/#detection-eval). Next, a confusion matrix is plotted for each class (in our case only one). Finally, we can show the precision vs. recall curve for a specified threshold value."
   ]
  },
  {
   "cell_type": "code",
   "execution_count": 5,
   "id": "86b90e80",
   "metadata": {},
   "outputs": [],
   "source": [
    "from helpers import set_size\n",
    "import matplotlib.pyplot as plt\n",
    "import seaborn as sns\n",
    "import pandas as pd"
   ]
  },
  {
   "cell_type": "code",
   "execution_count": 6,
   "id": "e34a18f4",
   "metadata": {},
   "outputs": [],
   "source": [
    "# Style the plots\n",
    "width = 418\n",
    "sns.set_theme(style='whitegrid',\n",
    "              rc={'text.usetex': True, 'font.family': 'serif', 'axes.labelsize': 10,\n",
    "                  'font.size': 10, 'legend.fontsize': 8,\n",
    "                  'xtick.labelsize': 8, 'ytick.labelsize': 8})"
   ]
  },
  {
   "cell_type": "markdown",
   "id": "8ee61fce",
   "metadata": {},
   "source": [
    "The code for the LaTeX table of the classification report can be printed by first converting the results to a pandas DataFrame and then calling the `to_latex()` method of the DataFrame. This code can then be inserted into the LaTeX document."
   ]
  },
  {
   "cell_type": "code",
   "execution_count": 14,
   "id": "7ba5cd14",
   "metadata": {},
   "outputs": [
    {
     "name": "stdout",
     "output_type": "stream",
     "text": [
      "\\begin{tabular}{lrrrr}\n",
      "\\toprule\n",
      "{} &  precision &  recall &  f1-score &  support \\\\\n",
      "\\midrule\n",
      "Healthy      &      0.665 &   0.554 &     0.604 &    766.0 \\\\\n",
      "Stressed     &      0.639 &   0.502 &     0.562 &    494.0 \\\\\n",
      "micro avg    &      0.655 &   0.533 &     0.588 &   1260.0 \\\\\n",
      "macro avg    &      0.652 &   0.528 &     0.583 &   1260.0 \\\\\n",
      "weighted avg &      0.655 &   0.533 &     0.588 &   1260.0 \\\\\n",
      "\\bottomrule\n",
      "\\end{tabular}\n",
      "\n",
      "0.35812991936475147\n"
     ]
    }
   ],
   "source": [
    "results_df = pd.DataFrame(results.report()).transpose().round(3)\n",
    "\n",
    "# Export DataFrame to LaTeX tabular environment\n",
    "print(results_df.to_latex())\n",
    "# YOLO original with Resnet original and relabeled dataset\n",
    "print(results.mAP())"
   ]
  },
  {
   "cell_type": "code",
   "execution_count": 8,
   "id": "f2b178e8",
   "metadata": {},
   "outputs": [
    {
     "name": "stdout",
     "output_type": "stream",
     "text": [
      "\\begin{tabular}{lrrrr}\n",
      "\\toprule\n",
      "{} &  precision &  recall &  f1-score &  support \\\\\n",
      "\\midrule\n",
      "Healthy      &      0.711 &   0.555 &     0.623 &    766.0 \\\\\n",
      "Stressed     &      0.570 &   0.623 &     0.596 &    494.0 \\\\\n",
      "micro avg    &      0.644 &   0.582 &     0.611 &   1260.0 \\\\\n",
      "macro avg    &      0.641 &   0.589 &     0.609 &   1260.0 \\\\\n",
      "weighted avg &      0.656 &   0.582 &     0.612 &   1260.0 \\\\\n",
      "\\bottomrule\n",
      "\\end{tabular}\n",
      "\n",
      "0.38379973332791195\n"
     ]
    }
   ],
   "source": [
    "results_df = pd.DataFrame(results.report()).transpose().round(3)\n",
    "\n",
    "# Export DataFrame to LaTeX tabular environment\n",
    "print(results_df.to_latex())\n",
    "# YOLO optimized with Resnet optimized and relabeled dataset\n",
    "print(results.mAP())"
   ]
  },
  {
   "cell_type": "code",
   "execution_count": 35,
   "id": "da05e2ba",
   "metadata": {},
   "outputs": [
    {
     "name": "stdout",
     "output_type": "stream",
     "text": [
      "Ignoring unsupported argument `thresholds` for the 'matplotlib' backend\n",
      "Ignoring unsupported argument `thresholds` for the 'matplotlib' backend\n"
     ]
    },
    {
     "data": {
      "image/png": "[encoded data removed]",
      "text/plain": [
       "<Figure size 578.387x178.731 with 2 Axes>"
      ]
     },
     "metadata": {},
     "output_type": "display_data"
    }
   ],
   "source": [
    "fig_save_dir = '../../thesis/graphics/'\n",
    "\n",
    "fig, ax = plt.subplots(1, 2, figsize=set_size(width, subplots=(1,2)))\n",
    "results.plot_pr_curves(classes=classes, iou_thresh=0.5, backend='matplotlib', ax=ax[0], color='black', linewidth=1)\n",
    "results.plot_pr_curves(classes=classes, iou_thresh=0.95, backend='matplotlib', ax=ax[1], color='black', linewidth=1)\n",
    "# Set the labels for the legends manually\n",
    "ax[0].get_lines()[0].set_linestyle('dashed')\n",
    "ax[1].get_lines()[0].set_linestyle('dashed')\n",
    "#ax[0].legend(['AP: 0.46, Healthy', 'AP: 0.48, Stressed'], frameon=False)\n",
    "#ax[1].legend(['AP: 0.16, Healthy', 'AP: 0.16, Stressed'], frameon=False)\n",
    "fig.tight_layout()\n",
    "fig.savefig(fig_save_dir + 'APmodel-model-optimized-relabeled.pdf', format='pdf', bbox_inches='tight')"
   ]
  },
  {
   "cell_type": "markdown",
   "id": "dc5941e4",
   "metadata": {},
   "source": [
    "The confusion matrix for the aggregate model seems to not show the cases where the object detection was successful but the class was wrong. For example, in the matrix below all classifications were correct or the detection failed. Under column _Stressed_ and row _Healthy_ not a single item is recorded. It seems that this evaluation metric does not have as much relevance when compared to the AP curves above or the mAP values."
   ]
  },
  {
   "cell_type": "code",
   "execution_count": 11,
   "id": "f1586bd5",
   "metadata": {},
   "outputs": [
    {
     "data": {
      "image/png": "[encoded data removed]",
      "text/plain": [
       "<Figure size 578.387x357.463 with 2 Axes>"
      ]
     },
     "metadata": {},
     "output_type": "display_data"
    }
   ],
   "source": [
    "import numpy as np\n",
    "fig, ax = plt.subplots(1, 1, figsize=set_size(width, subplots=(1,1)))\n",
    "# Manually set confusion matrix values obtained from results.plot_confusion_matrix()\n",
    "matrix = np.array([[493, 0, 169], [0, 382, 106], [105, 158, 0]])\n",
    "labels = ['Healthy', 'Stressed', '(none)']\n",
    "sns.heatmap(matrix, annot=True, xticklabels=labels, yticklabels=labels, fmt=\".0f\", cmap=sns.cubehelix_palette(as_cmap=True, start=.3, hue=1, light=.9))\n",
    "fig.tight_layout()\n",
    "fig.savefig(fig_save_dir + 'CMmodel-relabeled.pdf', format='pdf', bbox_inches='tight')"
   ]
  },
  {
   "cell_type": "markdown",
   "id": "3871c398",
   "metadata": {},
   "source": [
    "### View dataset in fiftyone <a name=\"modelfiftyonesession\"></a>\n",
    "\n",
    "We can launch a fiftyone session in a new tab to explore the dataset and the results."
   ]
  },
  {
   "cell_type": "code",
   "execution_count": 21,
   "id": "bfb39b5d",
   "metadata": {},
   "outputs": [
    {
     "name": "stdout",
     "output_type": "stream",
     "text": [
      "Connected to FiftyOne on port 5151 at localhost.\n",
      "If you are not connecting to a remote session, you may need to start a new session and specify a port\n",
      "Session launched. Run `session.show()` to open the App in a cell output.\n"
     ]
    },
    {
     "data": {
      "application/javascript": [
       "window.open('http://localhost:5151/');"
      ],
      "text/plain": [
       "<IPython.core.display.Javascript object>"
      ]
     },
     "metadata": {},
     "output_type": "display_data"
    }
   ],
   "source": [
    "session = fo.launch_app(dataset, auto=False)\n",
    "session.view = dataset.view()\n",
    "session.open_tab()"
   ]
  },
  {
   "cell_type": "code",
   "execution_count": 104,
   "id": "e1d00573",
   "metadata": {},
   "outputs": [],
   "source": [
    "session.close()"
   ]
  },
  {
   "cell_type": "code",
   "execution_count": null,
   "id": "53a67321",
   "metadata": {},
   "outputs": [],
   "source": []
  }
 ],
 "metadata": {
  "kernelspec": {
   "display_name": "Python 3 (ipykernel)",
   "language": "python",
   "name": "python3"
  },
  "language_info": {
   "codemirror_mode": {
    "name": "ipython",
    "version": 3
   },
   "file_extension": ".py",
   "mimetype": "text/x-python",
   "name": "python",
   "nbconvert_exporter": "python",
   "pygments_lexer": "ipython3",
   "version": "3.10.13"
  }
 },
 "nbformat": 4,
 "nbformat_minor": 5
}
